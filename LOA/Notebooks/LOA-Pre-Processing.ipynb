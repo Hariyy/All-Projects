{
 "cells": [
  {
   "cell_type": "markdown",
   "metadata": {},
   "source": [
    "* This file is to explore the dataset used and clean in terms of duplicates. Final Data is saved in S3. \n",
    "* The two files used are Hype_ML_demographics_2022_06_01_LOA_AC.csv and Hype_ML_demographics_2022_06_01_LOA_ACTV_AC.csv.\n",
    "* The difference in two files is just in one column- mapped_employment_status_code. Hype_ML_demographics_2022_06_01_LOA_AC includes LOA related data and Hype_ML_demographics_2022_06_01_LOA_ACTV_AC.csv includes Active employees data."
   ]
  },
  {
   "cell_type": "code",
   "execution_count": null,
   "metadata": {},
   "outputs": [],
   "source": [
    "!pip install --upgrade pip --index-url https://artifactory.alight.com/artifactory/api/pypi/python-pypi-remote/simple"
   ]
  },
  {
   "cell_type": "code",
   "execution_count": 3,
   "metadata": {},
   "outputs": [
    {
     "name": "stdout",
     "output_type": "stream",
     "text": [
      "Looking in indexes: https://artifactory.alight.com/artifactory/api/pypi/python-pypi-remote/simple\n",
      "Requirement already satisfied: pandas in /opt/conda/lib/python3.7/site-packages (1.3.5)\n",
      "Requirement already satisfied: numpy>=1.17.3 in /opt/conda/lib/python3.7/site-packages (from pandas) (1.21.6)\n",
      "Requirement already satisfied: python-dateutil>=2.7.3 in /opt/conda/lib/python3.7/site-packages (from pandas) (2.8.1)\n",
      "Requirement already satisfied: pytz>=2017.3 in /opt/conda/lib/python3.7/site-packages (from pandas) (2019.3)\n",
      "Requirement already satisfied: six>=1.5 in /opt/conda/lib/python3.7/site-packages (from python-dateutil>=2.7.3->pandas) (1.14.0)\n",
      "\u001b[33mWARNING: Running pip as the 'root' user can result in broken permissions and conflicting behaviour with the system package manager. It is recommended to use a virtual environment instead: https://pip.pypa.io/warnings/venv\u001b[0m\u001b[33m\n",
      "\u001b[0m"
     ]
    }
   ],
   "source": [
    "!pip install --upgrade pandas --index-url https://artifactory.alight.com/artifactory/api/pypi/python-pypi-remote/simple"
   ]
  },
  {
   "cell_type": "code",
   "execution_count": 4,
   "metadata": {},
   "outputs": [
    {
     "name": "stdout",
     "output_type": "stream",
     "text": [
      "Looking in indexes: https://artifactory.alight.com/artifactory/api/pypi/python-pypi-remote/simple\n",
      "Requirement already satisfied: numpy in /opt/conda/lib/python3.7/site-packages (1.21.6)\n",
      "\u001b[33mWARNING: Running pip as the 'root' user can result in broken permissions and conflicting behaviour with the system package manager. It is recommended to use a virtual environment instead: https://pip.pypa.io/warnings/venv\u001b[0m\u001b[33m\n",
      "\u001b[0m"
     ]
    }
   ],
   "source": [
    "!pip install --upgrade numpy --index-url https://artifactory.alight.com/artifactory/api/pypi/python-pypi-remote/simple"
   ]
  },
  {
   "cell_type": "code",
   "execution_count": 5,
   "metadata": {},
   "outputs": [],
   "source": [
    "# Mention all file names as string in the below list which are available at \"raw_data_path\" directory\n",
    "\n",
    "data_path = f'external/artichauhan/LOA/loa_script/Data'\n",
    "\n",
    "raw_data_path = f'{data_path}/raw_data'\n",
    "\n",
    "raw_data_fnames = ['Hype_ML_demographics_2022_06_01_LOA_AC.csv','Hype_ML_demographics_2022_06_01_LOA_ACTV_AC.csv']\n",
    "\n",
    "bucket='adl-core-sagemaker-studio'"
   ]
  },
  {
   "cell_type": "code",
   "execution_count": 6,
   "metadata": {},
   "outputs": [],
   "source": [
    "#importing librarires\n",
    "import pandas as pd\n",
    "import numpy as np\n",
    "import seaborn as sns\n",
    "import matplotlib.pyplot as plt\n",
    "import warnings\n",
    "import boto3\n",
    "import io\n",
    "import time\n",
    "\n",
    "from sklearn.metrics import precision_score, recall_score, confusion_matrix, classification_report, accuracy_score, f1_score,\\\n",
    "roc_auc_score, make_scorer, plot_precision_recall_curve, plot_roc_curve, plot_confusion_matrix, average_precision_score,\\\n",
    "ConfusionMatrixDisplay\n",
    "\n",
    "\n",
    "import tempfile\n",
    "import boto3\n",
    "import joblib\n",
    "\n",
    "%matplotlib inline\n",
    "pd.set_option('display.max_columns',None)\n",
    "warnings.filterwarnings('ignore')\n",
    "s3 = boto3.client('s3')"
   ]
  },
  {
   "cell_type": "code",
   "execution_count": 7,
   "metadata": {},
   "outputs": [],
   "source": [
    "def load_data_from_s3(bucket,raw_data_path,raw_data_fnames):\n",
    "    s3 = boto3.client('s3')\n",
    "    dataset_nrows = []\n",
    "    for i, fname in enumerate(raw_data_fnames):\n",
    "        if i==0:\n",
    "            print(f'Reading file: {fname}')\n",
    "            key = f'{raw_data_path}/{fname}'\n",
    "            obj = s3.get_object(Bucket=bucket, Key=key)\n",
    "            data = pd.read_csv(io.BytesIO(obj['Body'].read()))\n",
    "            dataset_nrows.append(data.shape[0])\n",
    "            print(f'\\tFile read successfully | Shape: {data.shape}')\n",
    "        else:\n",
    "            print(f'Reading file: {fname}')\n",
    "            key = f'{raw_data_path}/{fname}'\n",
    "            obj = s3.get_object(Bucket=bucket, Key=key)\n",
    "            data2 = pd.read_csv(io.BytesIO(obj['Body'].read()))\n",
    "            data = data.append(data2,ignore_index=True)\n",
    "            dataset_nrows.append(data2.shape[0])\n",
    "            print(f'\\tFile read successfully | Shape: {data2.shape}')\n",
    "\n",
    "    if sum(dataset_nrows) == data.shape[0]:\n",
    "        print(f'Data from all files loaded successfully | Final Shape: {data.shape}')\n",
    "        return data.copy()\n",
    "    else:\n",
    "        print('There is discrepency in numbers')\n",
    "        print(f'\\tTotal number of rows combined in all files: {sum(dataset_nrows)}')\n",
    "        print(f'\\tAfter combining all files total number of rows are: {data.shape[0]}')\n",
    "        return None"
   ]
  },
  {
   "cell_type": "code",
   "execution_count": 8,
   "metadata": {},
   "outputs": [
    {
     "name": "stdout",
     "output_type": "stream",
     "text": [
      "Reading file: Hype_ML_demographics_2022_06_01_LOA_AC.csv\n",
      "\tFile read successfully | Shape: (301406, 33)\n",
      "Reading file: Hype_ML_demographics_2022_06_01_LOA_ACTV_AC.csv\n",
      "\tFile read successfully | Shape: (1000000, 33)\n",
      "Data from all files loaded successfully | Final Shape: (1301406, 33)\n"
     ]
    }
   ],
   "source": [
    "DF = load_data_from_s3(bucket,raw_data_path,raw_data_fnames)"
   ]
  },
  {
   "cell_type": "code",
   "execution_count": 9,
   "metadata": {},
   "outputs": [
    {
     "data": {
      "text/plain": [
       "197"
      ]
     },
     "execution_count": 9,
     "metadata": {},
     "output_type": "execute_result"
    }
   ],
   "source": [
    "DF.duplicated().sum()"
   ]
  },
  {
   "cell_type": "code",
   "execution_count": 10,
   "metadata": {},
   "outputs": [],
   "source": [
    "DF['cpid']=DF['person_internal_id']+'/'+ DF['client_id'].astype(str)"
   ]
  },
  {
   "cell_type": "code",
   "execution_count": 11,
   "metadata": {},
   "outputs": [
    {
     "data": {
      "text/plain": [
       "533"
      ]
     },
     "execution_count": 11,
     "metadata": {},
     "output_type": "execute_result"
    }
   ],
   "source": [
    "DF['cpid'].duplicated().sum()3"
   ]
  },
  {
   "cell_type": "code",
   "execution_count": 12,
   "metadata": {},
   "outputs": [
    {
     "data": {
      "text/plain": [
       "505"
      ]
     },
     "execution_count": 12,
     "metadata": {},
     "output_type": "execute_result"
    }
   ],
   "source": [
    "DF.iloc[:,:2].duplicated().sum()"
   ]
  },
  {
   "cell_type": "code",
   "execution_count": 13,
   "metadata": {},
   "outputs": [],
   "source": [
    "value_loa=DF['cpid'].value_counts()"
   ]
  },
  {
   "cell_type": "code",
   "execution_count": 14,
   "metadata": {},
   "outputs": [
    {
     "data": {
      "text/plain": [
       "267747321/3979     6\n",
       "219351251/1362     4\n",
       "599477890/1362     3\n",
       "324334/1012        2\n",
       "353268/1012        2\n",
       "                  ..\n",
       "0D7259/3099        1\n",
       "593241747/14470    1\n",
       "606214205/936      1\n",
       "33829552/7538      1\n",
       "582636779/16878    1\n",
       "Name: cpid, Length: 1300872, dtype: int64"
      ]
     },
     "execution_count": 14,
     "metadata": {},
     "output_type": "execute_result"
    }
   ],
   "source": [
    "value_loa.sort_values(ascending=False)"
   ]
  },
  {
   "cell_type": "code",
   "execution_count": 15,
   "metadata": {},
   "outputs": [],
   "source": [
    "new_df_loa = pd.DataFrame(value_loa)"
   ]
  },
  {
   "cell_type": "code",
   "execution_count": 16,
   "metadata": {},
   "outputs": [],
   "source": [
    "new_df_loa = new_df_loa.reset_index()"
   ]
  },
  {
   "cell_type": "code",
   "execution_count": 17,
   "metadata": {},
   "outputs": [],
   "source": [
    "new_df_loa['TF'] = new_df_loa['cpid']>1"
   ]
  },
  {
   "cell_type": "code",
   "execution_count": 18,
   "metadata": {},
   "outputs": [
    {
     "data": {
      "text/html": [
       "<div>\n",
       "<style scoped>\n",
       "    .dataframe tbody tr th:only-of-type {\n",
       "        vertical-align: middle;\n",
       "    }\n",
       "\n",
       "    .dataframe tbody tr th {\n",
       "        vertical-align: top;\n",
       "    }\n",
       "\n",
       "    .dataframe thead th {\n",
       "        text-align: right;\n",
       "    }\n",
       "</style>\n",
       "<table border=\"1\" class=\"dataframe\">\n",
       "  <thead>\n",
       "    <tr style=\"text-align: right;\">\n",
       "      <th></th>\n",
       "      <th>index</th>\n",
       "      <th>cpid</th>\n",
       "      <th>TF</th>\n",
       "    </tr>\n",
       "  </thead>\n",
       "  <tbody>\n",
       "    <tr>\n",
       "      <th>0</th>\n",
       "      <td>267747321/3979</td>\n",
       "      <td>6</td>\n",
       "      <td>True</td>\n",
       "    </tr>\n",
       "    <tr>\n",
       "      <th>1</th>\n",
       "      <td>219351251/1362</td>\n",
       "      <td>4</td>\n",
       "      <td>True</td>\n",
       "    </tr>\n",
       "  </tbody>\n",
       "</table>\n",
       "</div>"
      ],
      "text/plain": [
       "            index  cpid    TF\n",
       "0  267747321/3979     6  True\n",
       "1  219351251/1362     4  True"
      ]
     },
     "execution_count": 18,
     "metadata": {},
     "output_type": "execute_result"
    }
   ],
   "source": [
    "new_df_loa.head(2)"
   ]
  },
  {
   "cell_type": "code",
   "execution_count": 19,
   "metadata": {},
   "outputs": [],
   "source": [
    "True_df_loa =new_df_loa[new_df_loa['TF']==True]"
   ]
  },
  {
   "cell_type": "code",
   "execution_count": 20,
   "metadata": {},
   "outputs": [
    {
     "data": {
      "text/plain": [
       "(477, 3)"
      ]
     },
     "execution_count": 20,
     "metadata": {},
     "output_type": "execute_result"
    }
   ],
   "source": [
    "True_df_loa.shape"
   ]
  },
  {
   "cell_type": "code",
   "execution_count": 21,
   "metadata": {},
   "outputs": [],
   "source": [
    "duplicated_df_loa = pd.merge(DF,True_df_loa,left_on='cpid',right_on='index',how='inner')"
   ]
  },
  {
   "cell_type": "code",
   "execution_count": 22,
   "metadata": {},
   "outputs": [
    {
     "data": {
      "text/plain": [
       "(961, 37)"
      ]
     },
     "execution_count": 22,
     "metadata": {},
     "output_type": "execute_result"
    }
   ],
   "source": [
    "duplicated_df_loa.shape"
   ]
  },
  {
   "cell_type": "code",
   "execution_count": 23,
   "metadata": {},
   "outputs": [
    {
     "data": {
      "text/plain": [
       "Index(['person_internal_id', 'client_id', 'udp_global_id', 'age', 'gender',\n",
       "       'marital_status', 'is_union', 'primary_language_code',\n",
       "       'country_description', 'state', 'platform_indicator_code',\n",
       "       'mapped_employment_status_code', 'mapped_employment_status_description',\n",
       "       'mapped_fullpart_code', 'mapped_fullpart_description',\n",
       "       'mapped_permanent_temporary_code',\n",
       "       'mapped_permanent_temporary_description', 'mapped_hourly_salary_code',\n",
       "       'mapped_hourly_salary_description', 'subsidiary_code',\n",
       "       'subsidiary_description', 'mapped_flex_status_code',\n",
       "       'mapped_flex_status_description', 'original_hire_date', 'rehire_date',\n",
       "       'is_rehire', 'termination_date', 'base_pay_regular_payrate_amount',\n",
       "       'base_pay_regular_frequency_code',\n",
       "       'base_pay_regular_frequency_description',\n",
       "       'base_pay_regular_expectedannualsalary',\n",
       "       'base_pay_regular_expectedannualsalary_range',\n",
       "       'annual_benefits_base_rate', 'cpid_x', 'index', 'cpid_y', 'TF'],\n",
       "      dtype='object')"
      ]
     },
     "execution_count": 23,
     "metadata": {},
     "output_type": "execute_result"
    }
   ],
   "source": [
    "duplicated_df_loa.columns"
   ]
  },
  {
   "cell_type": "code",
   "execution_count": 24,
   "metadata": {},
   "outputs": [
    {
     "data": {
      "text/plain": [
       "267747321/3979    6\n",
       "219351251/1362    4\n",
       "599477890/1362    3\n",
       "371142/1012       2\n",
       "182297679/695     2\n",
       "                 ..\n",
       "820512562/695     2\n",
       "479907352/7544    2\n",
       "514330/1012       2\n",
       "673173432/695     2\n",
       "129742526/7825    2\n",
       "Name: cpid_x, Length: 477, dtype: int64"
      ]
     },
     "execution_count": 24,
     "metadata": {},
     "output_type": "execute_result"
    }
   ],
   "source": [
    "duplicated_df_loa['cpid_x'].value_counts()"
   ]
  },
  {
   "cell_type": "code",
   "execution_count": 25,
   "metadata": {},
   "outputs": [
    {
     "data": {
      "text/plain": [
       "person_internal_id                             477\n",
       "client_id                                       24\n",
       "udp_global_id                                  493\n",
       "age                                             52\n",
       "gender                                           6\n",
       "marital_status                                  37\n",
       "is_union                                         1\n",
       "primary_language_code                            2\n",
       "country_description                             23\n",
       "state                                           43\n",
       "platform_indicator_code                          5\n",
       "mapped_employment_status_code                    8\n",
       "mapped_employment_status_description             7\n",
       "mapped_fullpart_code                             4\n",
       "mapped_fullpart_description                      3\n",
       "mapped_permanent_temporary_code                  4\n",
       "mapped_permanent_temporary_description           3\n",
       "mapped_hourly_salary_code                        4\n",
       "mapped_hourly_salary_description                 3\n",
       "subsidiary_code                                  3\n",
       "subsidiary_description                           3\n",
       "mapped_flex_status_code                          4\n",
       "mapped_flex_status_description                   2\n",
       "original_hire_date                             352\n",
       "rehire_date                                    183\n",
       "is_rehire                                        2\n",
       "termination_date                                 1\n",
       "base_pay_regular_payrate_amount                196\n",
       "base_pay_regular_frequency_code                  7\n",
       "base_pay_regular_frequency_description           7\n",
       "base_pay_regular_expectedannualsalary          215\n",
       "base_pay_regular_expectedannualsalary_range      8\n",
       "annual_benefits_base_rate                       57\n",
       "cpid_x                                         477\n",
       "index                                          477\n",
       "cpid_y                                           4\n",
       "TF                                               1\n",
       "dtype: int64"
      ]
     },
     "execution_count": 25,
     "metadata": {},
     "output_type": "execute_result"
    }
   ],
   "source": [
    "duplicated_df_loa.nunique()"
   ]
  },
  {
   "cell_type": "code",
   "execution_count": 26,
   "metadata": {},
   "outputs": [],
   "source": [
    "DF['duplicated_loa'] = DF['cpid'].duplicated()"
   ]
  },
  {
   "cell_type": "code",
   "execution_count": 27,
   "metadata": {},
   "outputs": [
    {
     "data": {
      "text/plain": [
       "(533, 35)"
      ]
     },
     "execution_count": 27,
     "metadata": {},
     "output_type": "execute_result"
    }
   ],
   "source": [
    "DF[DF['duplicated_loa']==True].shape"
   ]
  },
  {
   "cell_type": "code",
   "execution_count": 28,
   "metadata": {},
   "outputs": [
    {
     "data": {
      "text/plain": [
       "person_internal_id                             477\n",
       "client_id                                       51\n",
       "udp_global_id                                  526\n",
       "age                                             52\n",
       "gender                                           6\n",
       "marital_status                                  37\n",
       "is_union                                         1\n",
       "primary_language_code                            2\n",
       "country_description                             22\n",
       "state                                           38\n",
       "platform_indicator_code                          5\n",
       "mapped_employment_status_code                    9\n",
       "mapped_employment_status_description             8\n",
       "mapped_fullpart_code                             5\n",
       "mapped_fullpart_description                      4\n",
       "mapped_permanent_temporary_code                  4\n",
       "mapped_permanent_temporary_description           3\n",
       "mapped_hourly_salary_code                        4\n",
       "mapped_hourly_salary_description                 3\n",
       "subsidiary_code                                  2\n",
       "subsidiary_description                           2\n",
       "mapped_flex_status_code                          4\n",
       "mapped_flex_status_description                   2\n",
       "original_hire_date                             378\n",
       "rehire_date                                    190\n",
       "is_rehire                                        2\n",
       "termination_date                                 1\n",
       "base_pay_regular_payrate_amount                189\n",
       "base_pay_regular_frequency_code                  8\n",
       "base_pay_regular_frequency_description          36\n",
       "base_pay_regular_expectedannualsalary          245\n",
       "base_pay_regular_expectedannualsalary_range      9\n",
       "annual_benefits_base_rate                       52\n",
       "cpid                                           477\n",
       "duplicated_loa                                   1\n",
       "dtype: int64"
      ]
     },
     "execution_count": 28,
     "metadata": {},
     "output_type": "execute_result"
    }
   ],
   "source": [
    "DF[DF['duplicated_loa']==True].nunique()"
   ]
  },
  {
   "cell_type": "code",
   "execution_count": 29,
   "metadata": {},
   "outputs": [],
   "source": [
    "Hype_LOA_Active = DF[DF['duplicated_loa']!=True]"
   ]
  },
  {
   "cell_type": "code",
   "execution_count": 30,
   "metadata": {},
   "outputs": [
    {
     "data": {
      "text/plain": [
       "(1300873, 35)"
      ]
     },
     "execution_count": 30,
     "metadata": {},
     "output_type": "execute_result"
    }
   ],
   "source": [
    "Hype_LOA_Active.shape"
   ]
  },
  {
   "cell_type": "code",
   "execution_count": 31,
   "metadata": {},
   "outputs": [
    {
     "data": {
      "text/plain": [
       "0"
      ]
     },
     "execution_count": 31,
     "metadata": {},
     "output_type": "execute_result"
    }
   ],
   "source": [
    "Hype_LOA_Active.duplicated().sum()"
   ]
  },
  {
   "cell_type": "code",
   "execution_count": 32,
   "metadata": {},
   "outputs": [
    {
     "data": {
      "text/plain": [
       "Index(['person_internal_id', 'client_id', 'udp_global_id', 'age', 'gender',\n",
       "       'marital_status', 'is_union', 'primary_language_code',\n",
       "       'country_description', 'state', 'platform_indicator_code',\n",
       "       'mapped_employment_status_code', 'mapped_employment_status_description',\n",
       "       'mapped_fullpart_code', 'mapped_fullpart_description',\n",
       "       'mapped_permanent_temporary_code',\n",
       "       'mapped_permanent_temporary_description', 'mapped_hourly_salary_code',\n",
       "       'mapped_hourly_salary_description', 'subsidiary_code',\n",
       "       'subsidiary_description', 'mapped_flex_status_code',\n",
       "       'mapped_flex_status_description', 'original_hire_date', 'rehire_date',\n",
       "       'is_rehire', 'termination_date', 'base_pay_regular_payrate_amount',\n",
       "       'base_pay_regular_frequency_code',\n",
       "       'base_pay_regular_frequency_description',\n",
       "       'base_pay_regular_expectedannualsalary',\n",
       "       'base_pay_regular_expectedannualsalary_range',\n",
       "       'annual_benefits_base_rate', 'cpid', 'duplicated_loa'],\n",
       "      dtype='object')"
      ]
     },
     "execution_count": 32,
     "metadata": {},
     "output_type": "execute_result"
    }
   ],
   "source": [
    "Hype_LOA_Active.columns"
   ]
  },
  {
   "cell_type": "code",
   "execution_count": 33,
   "metadata": {},
   "outputs": [],
   "source": [
    "col = ['cpid','duplicated_loa']\n",
    "Hype_LOA_Active.drop(columns=col,axis=1,inplace=True)"
   ]
  },
  {
   "cell_type": "code",
   "execution_count": 34,
   "metadata": {},
   "outputs": [
    {
     "data": {
      "text/plain": [
       "(1300873, 33)"
      ]
     },
     "execution_count": 34,
     "metadata": {},
     "output_type": "execute_result"
    }
   ],
   "source": [
    "Hype_LOA_Active.shape"
   ]
  },
  {
   "cell_type": "code",
   "execution_count": 33,
   "metadata": {},
   "outputs": [
    {
     "name": "stdout",
     "output_type": "stream",
     "text": [
      "Uploading pre-processed data here -> s3://adl-core-sagemaker-studio/external/artichauhan/LOA/loa_script/Data/raw_data\n"
     ]
    }
   ],
   "source": [
    "# print(f'Uploading pre-processed data here -> s3://{bucket}/{raw_data_path}')\n",
    "\n",
    "# Hype_LOA_Active.to_csv(f's3://{bucket}/{raw_data_path}/preprocessed_raw_data.csv', index=False)"
   ]
  }
 ],
 "metadata": {
  "instance_type": "ml.t3.medium",
  "kernelspec": {
   "display_name": "Python 3 (Data Science)",
   "language": "python",
   "name": "python3__SAGEMAKER_INTERNAL__arn:aws:sagemaker:us-east-1:081325390199:image/datascience-1.0"
  },
  "language_info": {
   "codemirror_mode": {
    "name": "ipython",
    "version": 3
   },
   "file_extension": ".py",
   "mimetype": "text/x-python",
   "name": "python",
   "nbconvert_exporter": "python",
   "pygments_lexer": "ipython3",
   "version": "3.7.10"
  }
 },
 "nbformat": 4,
 "nbformat_minor": 4
}
