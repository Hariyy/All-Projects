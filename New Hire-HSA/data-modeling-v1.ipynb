{
 "cells": [
  {
   "cell_type": "markdown",
   "metadata": {},
   "source": [
    "# New Hire - Contribute to HSA\n",
    "\n",
    "Ensure new hires who enroll in  HDHP will also open and contribute to HSA within 30 days.\n",
    "\n",
    "Predict  which new hires are likely to enroll in HDHP but are not likely to open and contribute to the HSA within 30 days.\n",
    "\n",
    "For this analysis and modeling we are solely using *person_hm_choice_enrolled_integrated* (PHCE) table and we have tweaked the \"not likely to open and contribute to the HSA within 30 days from *hire date*\" to  \"not likely to open and contribute to the HSA within 30 days from *first date when they did new hire enrollment in hdhp medical plan*\"."
   ]
  },
  {
   "cell_type": "markdown",
   "metadata": {},
   "source": [
    "---\n",
    "In this notebook, we will perform below steps\n",
    "- Load transformed training data and testing data\n",
    "- Build multiple ML model using training data\n",
    "- Hyper-parameter tune best model from above step to identify best parameters which give best results \n",
    "- Evaluate model performance on various metrics and charts \n",
    "- Saving the final (best) ML model in S3 which will be used to make inference on new data \n",
    "- Interpreting Model using SHAP values"
   ]
  },
  {
   "cell_type": "markdown",
   "metadata": {},
   "source": [
    "<font color='red'>\n",
    "We need to edit below two cells before running the whole script.\n",
    "    \n",
    "If not editted, data will be pulled and stored from S3 bucket as per given values.\n",
    "</font>"
   ]
  },
  {
   "cell_type": "markdown",
   "metadata": {},
   "source": [
    "### For Loading Transformed Data"
   ]
  },
  {
   "cell_type": "code",
   "execution_count": 17,
   "metadata": {},
   "outputs": [],
   "source": [
    "# Mention the bucket name where transformed data is stored. Usually there will no change in bucket name\n",
    "bucket='adl-core-sagemaker-studio'\n",
    "\n",
    "# This is used to seperate different versions of data for whole lifecycle i.e., data pre-process, transformations, modeling and inferences.\n",
    "# Make sure \"version\" name is as per version of data pre-processing script. Eg. transformed-data-dpp0-v1.ipynb means \"version-1\"\n",
    "version = 'version-1'\n",
    "\n",
    "# This is used to seperate different versions of data transformation pipelines\n",
    "# Make sure \"dppn\" name is as per version of data transformation script. Eg. transformed-data-dpp0-v1.ipynb means \"dpp0\"\n",
    "dppn = 'dpp0'\n",
    "\n",
    "# Mention the directory where transformed training data is stored. This will be used to train ML model\n",
    "transformed_train_data_path = f'external/artichauhan/HSA-2/train'\n",
    "\n",
    "# Mention the directory where transformed testing data is stored. This (unseen data) will be used to report evaluation metrics\n",
    "transformed_test_data_path = f'external/artichauhan/HSA-2/test'"
   ]
  },
  {
   "cell_type": "markdown",
   "metadata": {},
   "source": [
    "### For Saving Final (Best) ML Trained Model "
   ]
  },
  {
   "cell_type": "code",
   "execution_count": 18,
   "metadata": {},
   "outputs": [],
   "source": [
    "# # Mention the bucket name where trained model will be saved\n",
    "# bucket='adl-core-dev-sagemaker-studio'\n",
    "\n",
    "# # This is used to seperate different versions of data for whole lifecycle i.e., data pre-process, transformations, modeling and inferences.\n",
    "# # Make sure \"version\" name is as per version of data data modeling script. Eg. data-modeling-v1.ipynb means \"version-1\"\n",
    "# version = 'version-1'\n",
    "\n",
    "# # This is used to seperate different versions of models which were built using different data transformation pipelines\n",
    "# # Make sure \"dppn\" name is as per version of data transformation script. Eg. transformed-data-dpp0-v1.ipynb means \"dpp0\"\n",
    "# dppn = 'dpp0'\n",
    "\n",
    "# # Mention the directory where trained ML model will be saved and name of file (naming convention: version-dppn-model.pkl)\n",
    "# model_name_and_path = f'external/amitmittal/HSA/{version}/artifacts/model/v1-{dppn}-xgb.pkl'"
   ]
  },
  {
   "cell_type": "code",
   "execution_count": 19,
   "metadata": {},
   "outputs": [
    {
     "name": "stdout",
     "output_type": "stream",
     "text": [
      "Keyring is skipped due to an exception: 'keyring.backends'\n",
      "Looking in indexes: https://artifactory.alight.com/artifactory/api/pypi/python-pypi-remote/simple\n",
      "Requirement already satisfied: pandas in /opt/conda/lib/python3.7/site-packages (1.3.5)\n",
      "Requirement already satisfied: python-dateutil>=2.7.3 in /opt/conda/lib/python3.7/site-packages (from pandas) (2.8.2)\n",
      "Requirement already satisfied: numpy>=1.17.3 in /opt/conda/lib/python3.7/site-packages (from pandas) (1.21.6)\n",
      "Requirement already satisfied: pytz>=2017.3 in /opt/conda/lib/python3.7/site-packages (from pandas) (2019.3)\n",
      "Requirement already satisfied: six>=1.5 in /opt/conda/lib/python3.7/site-packages (from python-dateutil>=2.7.3->pandas) (1.14.0)\n",
      "\u001b[33mWARNING: Running pip as the 'root' user can result in broken permissions and conflicting behaviour with the system package manager. It is recommended to use a virtual environment instead: https://pip.pypa.io/warnings/venv\u001b[0m\u001b[33m\n",
      "\u001b[0m"
     ]
    }
   ],
   "source": [
    "!pip install --upgrade pandas --index-url https://artifactory.alight.com/artifactory/api/pypi/python-pypi-remote/simple"
   ]
  },
  {
   "cell_type": "code",
   "execution_count": 20,
   "metadata": {},
   "outputs": [
    {
     "name": "stdout",
     "output_type": "stream",
     "text": [
      "Keyring is skipped due to an exception: 'keyring.backends'\n",
      "Looking in indexes: https://artifactory.alight.com/artifactory/api/pypi/python-pypi-remote/simple\n",
      "Requirement already satisfied: xgboost in /opt/conda/lib/python3.7/site-packages (1.6.2)\n",
      "Requirement already satisfied: scipy in /opt/conda/lib/python3.7/site-packages (from xgboost) (1.4.1)\n",
      "Requirement already satisfied: numpy in /opt/conda/lib/python3.7/site-packages (from xgboost) (1.21.6)\n",
      "\u001b[33mWARNING: Running pip as the 'root' user can result in broken permissions and conflicting behaviour with the system package manager. It is recommended to use a virtual environment instead: https://pip.pypa.io/warnings/venv\u001b[0m\u001b[33m\n",
      "\u001b[0m"
     ]
    }
   ],
   "source": [
    "!pip install xgboost --index-url https://artifactory.alight.com/artifactory/api/pypi/python-pypi-remote/simple"
   ]
  },
  {
   "cell_type": "code",
   "execution_count": 21,
   "metadata": {},
   "outputs": [
    {
     "name": "stdout",
     "output_type": "stream",
     "text": [
      "Keyring is skipped due to an exception: 'keyring.backends'\n",
      "Looking in indexes: https://artifactory.alight.com/artifactory/api/pypi/python-pypi-remote/simple\n",
      "Requirement already satisfied: lightgbm in /opt/conda/lib/python3.7/site-packages (3.3.3)\n",
      "Requirement already satisfied: scipy in /opt/conda/lib/python3.7/site-packages (from lightgbm) (1.4.1)\n",
      "Requirement already satisfied: numpy in /opt/conda/lib/python3.7/site-packages (from lightgbm) (1.21.6)\n",
      "Requirement already satisfied: wheel in /opt/conda/lib/python3.7/site-packages (from lightgbm) (0.34.2)\n",
      "Requirement already satisfied: scikit-learn!=0.22.0 in /opt/conda/lib/python3.7/site-packages (from lightgbm) (0.22.1)\n",
      "Requirement already satisfied: joblib>=0.11 in /opt/conda/lib/python3.7/site-packages (from scikit-learn!=0.22.0->lightgbm) (0.14.1)\n",
      "\u001b[33mWARNING: Running pip as the 'root' user can result in broken permissions and conflicting behaviour with the system package manager. It is recommended to use a virtual environment instead: https://pip.pypa.io/warnings/venv\u001b[0m\u001b[33m\n",
      "\u001b[0m"
     ]
    }
   ],
   "source": [
    "!pip install lightgbm --index-url https://artifactory.alight.com/artifactory/api/pypi/python-pypi-remote/simple"
   ]
  },
  {
   "cell_type": "code",
   "execution_count": 22,
   "metadata": {},
   "outputs": [
    {
     "name": "stdout",
     "output_type": "stream",
     "text": [
      "Keyring is skipped due to an exception: 'keyring.backends'\n",
      "Looking in indexes: https://artifactory.alight.com/artifactory/api/pypi/python-pypi-remote/simple\n",
      "Requirement already satisfied: bayesian-optimization in /opt/conda/lib/python3.7/site-packages (1.3.1)\n",
      "Requirement already satisfied: scikit-learn>=0.18.0 in /opt/conda/lib/python3.7/site-packages (from bayesian-optimization) (0.22.1)\n",
      "Requirement already satisfied: numpy>=1.9.0 in /opt/conda/lib/python3.7/site-packages (from bayesian-optimization) (1.21.6)\n",
      "Requirement already satisfied: scipy>=1.0.0 in /opt/conda/lib/python3.7/site-packages (from bayesian-optimization) (1.4.1)\n",
      "Requirement already satisfied: joblib>=0.11 in /opt/conda/lib/python3.7/site-packages (from scikit-learn>=0.18.0->bayesian-optimization) (0.14.1)\n",
      "\u001b[33mWARNING: Running pip as the 'root' user can result in broken permissions and conflicting behaviour with the system package manager. It is recommended to use a virtual environment instead: https://pip.pypa.io/warnings/venv\u001b[0m\u001b[33m\n",
      "\u001b[0m"
     ]
    }
   ],
   "source": [
    "!pip install bayesian-optimization --index-url https://artifactory.alight.com/artifactory/api/pypi/python-pypi-remote/simple"
   ]
  },
  {
   "cell_type": "code",
   "execution_count": 23,
   "metadata": {},
   "outputs": [
    {
     "name": "stdout",
     "output_type": "stream",
     "text": [
      "Collecting package metadata (current_repodata.json): done\n",
      "Solving environment: - ^C\n",
      "failed with initial frozen solve. Retrying with flexible solve.\n",
      "\n",
      "CondaError: KeyboardInterrupt\n",
      "\n",
      "\n",
      "Note: you may need to restart the kernel to use updated packages.\n"
     ]
    }
   ],
   "source": [
    "conda install shap"
   ]
  },
  {
   "cell_type": "code",
   "execution_count": 28,
   "metadata": {},
   "outputs": [],
   "source": [
    "#importing librarires\n",
    "import pandas as pd\n",
    "import numpy as np\n",
    "import seaborn as sns\n",
    "import matplotlib.pyplot as plt\n",
    "import warnings\n",
    "import boto3\n",
    "import io\n",
    "import time\n",
    "import gc\n",
    "\n",
    "from sklearn.model_selection import train_test_split\n",
    "from sklearn.linear_model import LogisticRegression\n",
    "from sklearn.ensemble import RandomForestClassifier\n",
    "from sklearn.svm import SVC\n",
    "from sklearn.tree import DecisionTreeClassifier\n",
    "from sklearn.naive_bayes import GaussianNB\n",
    "from xgboost import XGBClassifier\n",
    "from lightgbm import LGBMClassifier\n",
    "from sklearn.neighbors import KNeighborsClassifier\n",
    "from sklearn.neural_network import MLPClassifier\n",
    "\n",
    "from sklearn.metrics import precision_score, recall_score, confusion_matrix, classification_report, accuracy_score, f1_score,\\\n",
    "roc_auc_score, make_scorer, plot_precision_recall_curve, plot_roc_curve, plot_confusion_matrix, average_precision_score,\\\n",
    "ConfusionMatrixDisplay\n",
    "\n",
    "from sklearn.feature_selection import SelectFromModel\n",
    "from bayes_opt import BayesianOptimization\n",
    "from sklearn.model_selection import cross_val_score\n",
    "\n",
    "import tempfile\n",
    "import boto3\n",
    "import joblib\n",
    "\n",
    "# import shap\n",
    "\n",
    "%matplotlib inline\n",
    "pd.set_option('display.max_columns',None)\n",
    "warnings.filterwarnings('ignore')"
   ]
  },
  {
   "cell_type": "code",
   "execution_count": 29,
   "metadata": {},
   "outputs": [
    {
     "name": "stdout",
     "output_type": "stream",
     "text": [
      "CPU times: user 716 ms, sys: 203 ms, total: 918 ms\n",
      "Wall time: 1.48 s\n"
     ]
    },
    {
     "data": {
      "text/plain": [
       "(305703, 59)"
      ]
     },
     "execution_count": 29,
     "metadata": {},
     "output_type": "execute_result"
    }
   ],
   "source": [
    "%%time\n",
    "#importing transformed training set\n",
    "s3 = boto3.client('s3')\n",
    "key = f'{transformed_train_data_path}/data.csv'\n",
    "obj = s3.get_object(Bucket=bucket, Key=key)\n",
    "train_set = pd.read_csv(io.BytesIO(obj['Body'].read()))\n",
    "train_set.shape"
   ]
  },
  {
   "cell_type": "code",
   "execution_count": 30,
   "metadata": {},
   "outputs": [
    {
     "data": {
      "text/html": [
       "<div>\n",
       "<style scoped>\n",
       "    .dataframe tbody tr th:only-of-type {\n",
       "        vertical-align: middle;\n",
       "    }\n",
       "\n",
       "    .dataframe tbody tr th {\n",
       "        vertical-align: top;\n",
       "    }\n",
       "\n",
       "    .dataframe thead th {\n",
       "        text-align: right;\n",
       "    }\n",
       "</style>\n",
       "<table border=\"1\" class=\"dataframe\">\n",
       "  <thead>\n",
       "    <tr style=\"text-align: right;\">\n",
       "      <th></th>\n",
       "      <th>enrolled_plan_cost</th>\n",
       "      <th>person_age</th>\n",
       "      <th>number_of_people_covered</th>\n",
       "      <th>enrolled_er_annual_hsa_contribution</th>\n",
       "      <th>client_industry_rollup_agriculture_and_mining</th>\n",
       "      <th>client_industry_rollup_banking_and_finance</th>\n",
       "      <th>client_industry_rollup_business_services</th>\n",
       "      <th>client_industry_rollup_computer_service_and_software</th>\n",
       "      <th>client_industry_rollup_consumer_misc_product_and_manufacturing</th>\n",
       "      <th>client_industry_rollup_diversified_manufacturing</th>\n",
       "      <th>client_industry_rollup_education</th>\n",
       "      <th>client_industry_rollup_food_and_beverage</th>\n",
       "      <th>client_industry_rollup_government</th>\n",
       "      <th>client_industry_rollup_healthcare_and_medical</th>\n",
       "      <th>client_industry_rollup_insurance</th>\n",
       "      <th>client_industry_rollup_retail</th>\n",
       "      <th>client_industry_rollup_telecom</th>\n",
       "      <th>client_industry_rollup_transport_and_storage</th>\n",
       "      <th>client_industry_rollup_travel_recreation_and_leisure</th>\n",
       "      <th>client_industry_rollup_utilities_and_energy</th>\n",
       "      <th>person_gender_description_Male</th>\n",
       "      <th>person_gender_description_Unknown</th>\n",
       "      <th>marital_status_rollup_Married</th>\n",
       "      <th>marital_status_rollup_Single</th>\n",
       "      <th>marital_status_rollup_Unknown</th>\n",
       "      <th>client_is_ysa_Unknown</th>\n",
       "      <th>client_is_ysa_Y</th>\n",
       "      <th>client_has_corporate_exchange_Unknown</th>\n",
       "      <th>client_has_corporate_exchange_Y</th>\n",
       "      <th>client_hm_large_market_or_enterprise_Enterprise</th>\n",
       "      <th>client_hm_large_market_or_enterprise_LM</th>\n",
       "      <th>employment_status_rollup_Inactive</th>\n",
       "      <th>employment_status_rollup_Non-Employee</th>\n",
       "      <th>employment_status_rollup_Unknown</th>\n",
       "      <th>coverage_category_rollup_Covering_Others</th>\n",
       "      <th>coverage_category_rollup_Covering_Self</th>\n",
       "      <th>coverage_category_rollup_Unknown</th>\n",
       "      <th>source_system_TBA_3X</th>\n",
       "      <th>source_system_TBA_4X</th>\n",
       "      <th>enrollment_suggestion_source_UPoint Reimagine</th>\n",
       "      <th>enrollment_suggestion_source_Unknown</th>\n",
       "      <th>er_hsa_contribution_flag_new_1</th>\n",
       "      <th>enrolled_option_bc_dg_CDP-MDCL-SA-POS</th>\n",
       "      <th>enrolled_option_bc_dg_CDP-MDCL-SA-PPO</th>\n",
       "      <th>enrolled_option_bc_dg_EPO</th>\n",
       "      <th>enrolled_option_bc_dg_HDHP</th>\n",
       "      <th>enrolled_option_bc_dg_HDHP w/HSA</th>\n",
       "      <th>enrolled_option_bc_dg_HMO</th>\n",
       "      <th>enrolled_option_bc_dg_IND</th>\n",
       "      <th>enrolled_option_bc_dg_POS</th>\n",
       "      <th>enrolled_option_bc_dg_PPO</th>\n",
       "      <th>enrolled_option_bc_dg_Unknown</th>\n",
       "      <th>person_expected_annual_base_salary_range_20,000 - 39,999</th>\n",
       "      <th>person_expected_annual_base_salary_range_40,000 - 59,999</th>\n",
       "      <th>person_expected_annual_base_salary_range_60,000 - 79,999</th>\n",
       "      <th>person_expected_annual_base_salary_range_80,000 - 99,999</th>\n",
       "      <th>person_expected_annual_base_salary_range_&lt;20,000</th>\n",
       "      <th>person_expected_annual_base_salary_range_Unknown</th>\n",
       "      <th>label</th>\n",
       "    </tr>\n",
       "  </thead>\n",
       "  <tbody>\n",
       "    <tr>\n",
       "      <th>0</th>\n",
       "      <td>0.0</td>\n",
       "      <td>31.0</td>\n",
       "      <td>1.0</td>\n",
       "      <td>1700.0</td>\n",
       "      <td>0</td>\n",
       "      <td>0</td>\n",
       "      <td>0</td>\n",
       "      <td>0</td>\n",
       "      <td>0</td>\n",
       "      <td>0</td>\n",
       "      <td>0</td>\n",
       "      <td>0</td>\n",
       "      <td>0</td>\n",
       "      <td>1</td>\n",
       "      <td>0</td>\n",
       "      <td>0</td>\n",
       "      <td>0</td>\n",
       "      <td>0</td>\n",
       "      <td>0</td>\n",
       "      <td>0</td>\n",
       "      <td>1</td>\n",
       "      <td>0</td>\n",
       "      <td>1</td>\n",
       "      <td>0</td>\n",
       "      <td>0</td>\n",
       "      <td>0</td>\n",
       "      <td>1</td>\n",
       "      <td>0</td>\n",
       "      <td>0</td>\n",
       "      <td>0</td>\n",
       "      <td>1</td>\n",
       "      <td>0</td>\n",
       "      <td>0</td>\n",
       "      <td>0</td>\n",
       "      <td>0</td>\n",
       "      <td>0</td>\n",
       "      <td>1</td>\n",
       "      <td>1</td>\n",
       "      <td>0</td>\n",
       "      <td>0</td>\n",
       "      <td>0</td>\n",
       "      <td>1</td>\n",
       "      <td>0</td>\n",
       "      <td>0</td>\n",
       "      <td>0</td>\n",
       "      <td>0</td>\n",
       "      <td>0</td>\n",
       "      <td>0</td>\n",
       "      <td>0</td>\n",
       "      <td>0</td>\n",
       "      <td>0</td>\n",
       "      <td>1</td>\n",
       "      <td>0</td>\n",
       "      <td>0</td>\n",
       "      <td>0</td>\n",
       "      <td>0</td>\n",
       "      <td>0</td>\n",
       "      <td>1</td>\n",
       "      <td>1</td>\n",
       "    </tr>\n",
       "    <tr>\n",
       "      <th>1</th>\n",
       "      <td>1063.0</td>\n",
       "      <td>25.0</td>\n",
       "      <td>1.0</td>\n",
       "      <td>0.0</td>\n",
       "      <td>0</td>\n",
       "      <td>0</td>\n",
       "      <td>1</td>\n",
       "      <td>0</td>\n",
       "      <td>0</td>\n",
       "      <td>0</td>\n",
       "      <td>0</td>\n",
       "      <td>0</td>\n",
       "      <td>0</td>\n",
       "      <td>0</td>\n",
       "      <td>0</td>\n",
       "      <td>0</td>\n",
       "      <td>0</td>\n",
       "      <td>0</td>\n",
       "      <td>0</td>\n",
       "      <td>0</td>\n",
       "      <td>0</td>\n",
       "      <td>0</td>\n",
       "      <td>0</td>\n",
       "      <td>1</td>\n",
       "      <td>0</td>\n",
       "      <td>1</td>\n",
       "      <td>0</td>\n",
       "      <td>1</td>\n",
       "      <td>0</td>\n",
       "      <td>1</td>\n",
       "      <td>0</td>\n",
       "      <td>0</td>\n",
       "      <td>0</td>\n",
       "      <td>0</td>\n",
       "      <td>0</td>\n",
       "      <td>1</td>\n",
       "      <td>0</td>\n",
       "      <td>0</td>\n",
       "      <td>0</td>\n",
       "      <td>0</td>\n",
       "      <td>1</td>\n",
       "      <td>0</td>\n",
       "      <td>0</td>\n",
       "      <td>0</td>\n",
       "      <td>0</td>\n",
       "      <td>0</td>\n",
       "      <td>1</td>\n",
       "      <td>0</td>\n",
       "      <td>0</td>\n",
       "      <td>0</td>\n",
       "      <td>0</td>\n",
       "      <td>0</td>\n",
       "      <td>0</td>\n",
       "      <td>0</td>\n",
       "      <td>0</td>\n",
       "      <td>1</td>\n",
       "      <td>0</td>\n",
       "      <td>0</td>\n",
       "      <td>0</td>\n",
       "    </tr>\n",
       "    <tr>\n",
       "      <th>2</th>\n",
       "      <td>1864.0</td>\n",
       "      <td>24.0</td>\n",
       "      <td>1.0</td>\n",
       "      <td>0.0</td>\n",
       "      <td>0</td>\n",
       "      <td>0</td>\n",
       "      <td>0</td>\n",
       "      <td>0</td>\n",
       "      <td>0</td>\n",
       "      <td>1</td>\n",
       "      <td>0</td>\n",
       "      <td>0</td>\n",
       "      <td>0</td>\n",
       "      <td>0</td>\n",
       "      <td>0</td>\n",
       "      <td>0</td>\n",
       "      <td>0</td>\n",
       "      <td>0</td>\n",
       "      <td>0</td>\n",
       "      <td>0</td>\n",
       "      <td>0</td>\n",
       "      <td>0</td>\n",
       "      <td>0</td>\n",
       "      <td>1</td>\n",
       "      <td>0</td>\n",
       "      <td>0</td>\n",
       "      <td>0</td>\n",
       "      <td>0</td>\n",
       "      <td>0</td>\n",
       "      <td>0</td>\n",
       "      <td>1</td>\n",
       "      <td>0</td>\n",
       "      <td>0</td>\n",
       "      <td>0</td>\n",
       "      <td>0</td>\n",
       "      <td>1</td>\n",
       "      <td>0</td>\n",
       "      <td>0</td>\n",
       "      <td>1</td>\n",
       "      <td>0</td>\n",
       "      <td>0</td>\n",
       "      <td>0</td>\n",
       "      <td>0</td>\n",
       "      <td>0</td>\n",
       "      <td>0</td>\n",
       "      <td>0</td>\n",
       "      <td>0</td>\n",
       "      <td>0</td>\n",
       "      <td>0</td>\n",
       "      <td>0</td>\n",
       "      <td>1</td>\n",
       "      <td>0</td>\n",
       "      <td>1</td>\n",
       "      <td>0</td>\n",
       "      <td>0</td>\n",
       "      <td>0</td>\n",
       "      <td>0</td>\n",
       "      <td>0</td>\n",
       "      <td>0</td>\n",
       "    </tr>\n",
       "  </tbody>\n",
       "</table>\n",
       "</div>"
      ],
      "text/plain": [
       "   enrolled_plan_cost  person_age  number_of_people_covered  \\\n",
       "0                 0.0        31.0                       1.0   \n",
       "1              1063.0        25.0                       1.0   \n",
       "2              1864.0        24.0                       1.0   \n",
       "\n",
       "   enrolled_er_annual_hsa_contribution  \\\n",
       "0                               1700.0   \n",
       "1                                  0.0   \n",
       "2                                  0.0   \n",
       "\n",
       "   client_industry_rollup_agriculture_and_mining  \\\n",
       "0                                              0   \n",
       "1                                              0   \n",
       "2                                              0   \n",
       "\n",
       "   client_industry_rollup_banking_and_finance  \\\n",
       "0                                           0   \n",
       "1                                           0   \n",
       "2                                           0   \n",
       "\n",
       "   client_industry_rollup_business_services  \\\n",
       "0                                         0   \n",
       "1                                         1   \n",
       "2                                         0   \n",
       "\n",
       "   client_industry_rollup_computer_service_and_software  \\\n",
       "0                                                  0      \n",
       "1                                                  0      \n",
       "2                                                  0      \n",
       "\n",
       "   client_industry_rollup_consumer_misc_product_and_manufacturing  \\\n",
       "0                                                  0                \n",
       "1                                                  0                \n",
       "2                                                  0                \n",
       "\n",
       "   client_industry_rollup_diversified_manufacturing  \\\n",
       "0                                                 0   \n",
       "1                                                 0   \n",
       "2                                                 1   \n",
       "\n",
       "   client_industry_rollup_education  client_industry_rollup_food_and_beverage  \\\n",
       "0                                 0                                         0   \n",
       "1                                 0                                         0   \n",
       "2                                 0                                         0   \n",
       "\n",
       "   client_industry_rollup_government  \\\n",
       "0                                  0   \n",
       "1                                  0   \n",
       "2                                  0   \n",
       "\n",
       "   client_industry_rollup_healthcare_and_medical  \\\n",
       "0                                              1   \n",
       "1                                              0   \n",
       "2                                              0   \n",
       "\n",
       "   client_industry_rollup_insurance  client_industry_rollup_retail  \\\n",
       "0                                 0                              0   \n",
       "1                                 0                              0   \n",
       "2                                 0                              0   \n",
       "\n",
       "   client_industry_rollup_telecom  \\\n",
       "0                               0   \n",
       "1                               0   \n",
       "2                               0   \n",
       "\n",
       "   client_industry_rollup_transport_and_storage  \\\n",
       "0                                             0   \n",
       "1                                             0   \n",
       "2                                             0   \n",
       "\n",
       "   client_industry_rollup_travel_recreation_and_leisure  \\\n",
       "0                                                  0      \n",
       "1                                                  0      \n",
       "2                                                  0      \n",
       "\n",
       "   client_industry_rollup_utilities_and_energy  \\\n",
       "0                                            0   \n",
       "1                                            0   \n",
       "2                                            0   \n",
       "\n",
       "   person_gender_description_Male  person_gender_description_Unknown  \\\n",
       "0                               1                                  0   \n",
       "1                               0                                  0   \n",
       "2                               0                                  0   \n",
       "\n",
       "   marital_status_rollup_Married  marital_status_rollup_Single  \\\n",
       "0                              1                             0   \n",
       "1                              0                             1   \n",
       "2                              0                             1   \n",
       "\n",
       "   marital_status_rollup_Unknown  client_is_ysa_Unknown  client_is_ysa_Y  \\\n",
       "0                              0                      0                1   \n",
       "1                              0                      1                0   \n",
       "2                              0                      0                0   \n",
       "\n",
       "   client_has_corporate_exchange_Unknown  client_has_corporate_exchange_Y  \\\n",
       "0                                      0                                0   \n",
       "1                                      1                                0   \n",
       "2                                      0                                0   \n",
       "\n",
       "   client_hm_large_market_or_enterprise_Enterprise  \\\n",
       "0                                                0   \n",
       "1                                                1   \n",
       "2                                                0   \n",
       "\n",
       "   client_hm_large_market_or_enterprise_LM  employment_status_rollup_Inactive  \\\n",
       "0                                        1                                  0   \n",
       "1                                        0                                  0   \n",
       "2                                        1                                  0   \n",
       "\n",
       "   employment_status_rollup_Non-Employee  employment_status_rollup_Unknown  \\\n",
       "0                                      0                                 0   \n",
       "1                                      0                                 0   \n",
       "2                                      0                                 0   \n",
       "\n",
       "   coverage_category_rollup_Covering_Others  \\\n",
       "0                                         0   \n",
       "1                                         0   \n",
       "2                                         0   \n",
       "\n",
       "   coverage_category_rollup_Covering_Self  coverage_category_rollup_Unknown  \\\n",
       "0                                       0                                 1   \n",
       "1                                       1                                 0   \n",
       "2                                       1                                 0   \n",
       "\n",
       "   source_system_TBA_3X  source_system_TBA_4X  \\\n",
       "0                     1                     0   \n",
       "1                     0                     0   \n",
       "2                     0                     1   \n",
       "\n",
       "   enrollment_suggestion_source_UPoint Reimagine  \\\n",
       "0                                              0   \n",
       "1                                              0   \n",
       "2                                              0   \n",
       "\n",
       "   enrollment_suggestion_source_Unknown  er_hsa_contribution_flag_new_1  \\\n",
       "0                                     0                               1   \n",
       "1                                     1                               0   \n",
       "2                                     0                               0   \n",
       "\n",
       "   enrolled_option_bc_dg_CDP-MDCL-SA-POS  \\\n",
       "0                                      0   \n",
       "1                                      0   \n",
       "2                                      0   \n",
       "\n",
       "   enrolled_option_bc_dg_CDP-MDCL-SA-PPO  enrolled_option_bc_dg_EPO  \\\n",
       "0                                      0                          0   \n",
       "1                                      0                          0   \n",
       "2                                      0                          0   \n",
       "\n",
       "   enrolled_option_bc_dg_HDHP  enrolled_option_bc_dg_HDHP w/HSA  \\\n",
       "0                           0                                 0   \n",
       "1                           0                                 1   \n",
       "2                           0                                 0   \n",
       "\n",
       "   enrolled_option_bc_dg_HMO  enrolled_option_bc_dg_IND  \\\n",
       "0                          0                          0   \n",
       "1                          0                          0   \n",
       "2                          0                          0   \n",
       "\n",
       "   enrolled_option_bc_dg_POS  enrolled_option_bc_dg_PPO  \\\n",
       "0                          0                          0   \n",
       "1                          0                          0   \n",
       "2                          0                          1   \n",
       "\n",
       "   enrolled_option_bc_dg_Unknown  \\\n",
       "0                              1   \n",
       "1                              0   \n",
       "2                              0   \n",
       "\n",
       "   person_expected_annual_base_salary_range_20,000 - 39,999  \\\n",
       "0                                                  0          \n",
       "1                                                  0          \n",
       "2                                                  1          \n",
       "\n",
       "   person_expected_annual_base_salary_range_40,000 - 59,999  \\\n",
       "0                                                  0          \n",
       "1                                                  0          \n",
       "2                                                  0          \n",
       "\n",
       "   person_expected_annual_base_salary_range_60,000 - 79,999  \\\n",
       "0                                                  0          \n",
       "1                                                  0          \n",
       "2                                                  0          \n",
       "\n",
       "   person_expected_annual_base_salary_range_80,000 - 99,999  \\\n",
       "0                                                  0          \n",
       "1                                                  1          \n",
       "2                                                  0          \n",
       "\n",
       "   person_expected_annual_base_salary_range_<20,000  \\\n",
       "0                                                 0   \n",
       "1                                                 0   \n",
       "2                                                 0   \n",
       "\n",
       "   person_expected_annual_base_salary_range_Unknown  label  \n",
       "0                                                 1      1  \n",
       "1                                                 0      0  \n",
       "2                                                 0      0  "
      ]
     },
     "execution_count": 30,
     "metadata": {},
     "output_type": "execute_result"
    }
   ],
   "source": [
    "train_set.head(3)"
   ]
  },
  {
   "cell_type": "code",
   "execution_count": 31,
   "metadata": {},
   "outputs": [
    {
     "data": {
      "text/plain": [
       "(305703, 58)"
      ]
     },
     "execution_count": 31,
     "metadata": {},
     "output_type": "execute_result"
    }
   ],
   "source": [
    "train_X = train_set.drop(columns='label')\n",
    "\n",
    "train_X.shape"
   ]
  },
  {
   "cell_type": "code",
   "execution_count": 32,
   "metadata": {},
   "outputs": [
    {
     "data": {
      "text/plain": [
       "(305703, 1)"
      ]
     },
     "execution_count": 32,
     "metadata": {},
     "output_type": "execute_result"
    }
   ],
   "source": [
    "train_y = train_set[['label']]\n",
    "\n",
    "train_y.shape"
   ]
  },
  {
   "cell_type": "code",
   "execution_count": 33,
   "metadata": {},
   "outputs": [
    {
     "data": {
      "image/png": "[encoded data removed]",
      "text/plain": [
       "<Figure size 640x480 with 1 Axes>"
      ]
     },
     "metadata": {},
     "output_type": "display_data"
    }
   ],
   "source": [
    "#checking distribution of target feature\n",
    "sns.countplot(data=train_y, x='label')\n",
    "plt.show()"
   ]
  },
  {
   "cell_type": "code",
   "execution_count": 34,
   "metadata": {},
   "outputs": [
    {
     "name": "stdout",
     "output_type": "stream",
     "text": [
      "CPU times: user 342 ms, sys: 81.8 ms, total: 423 ms\n",
      "Wall time: 823 ms\n"
     ]
    },
    {
     "data": {
      "text/plain": [
       "(131016, 59)"
      ]
     },
     "execution_count": 34,
     "metadata": {},
     "output_type": "execute_result"
    }
   ],
   "source": [
    "%%time\n",
    "#importing transformed testing set\n",
    "s3 = boto3.client('s3')\n",
    "key = f'{transformed_test_data_path}/data.csv'\n",
    "obj = s3.get_object(Bucket=bucket, Key=key)\n",
    "test_set = pd.read_csv(io.BytesIO(obj['Body'].read()))\n",
    "test_set.shape"
   ]
  },
  {
   "cell_type": "code",
   "execution_count": 35,
   "metadata": {},
   "outputs": [
    {
     "data": {
      "text/html": [
       "<div>\n",
       "<style scoped>\n",
       "    .dataframe tbody tr th:only-of-type {\n",
       "        vertical-align: middle;\n",
       "    }\n",
       "\n",
       "    .dataframe tbody tr th {\n",
       "        vertical-align: top;\n",
       "    }\n",
       "\n",
       "    .dataframe thead th {\n",
       "        text-align: right;\n",
       "    }\n",
       "</style>\n",
       "<table border=\"1\" class=\"dataframe\">\n",
       "  <thead>\n",
       "    <tr style=\"text-align: right;\">\n",
       "      <th></th>\n",
       "      <th>enrolled_plan_cost</th>\n",
       "      <th>person_age</th>\n",
       "      <th>number_of_people_covered</th>\n",
       "      <th>enrolled_er_annual_hsa_contribution</th>\n",
       "      <th>client_industry_rollup_agriculture_and_mining</th>\n",
       "      <th>client_industry_rollup_banking_and_finance</th>\n",
       "      <th>client_industry_rollup_business_services</th>\n",
       "      <th>client_industry_rollup_computer_service_and_software</th>\n",
       "      <th>client_industry_rollup_consumer_misc_product_and_manufacturing</th>\n",
       "      <th>client_industry_rollup_diversified_manufacturing</th>\n",
       "      <th>client_industry_rollup_education</th>\n",
       "      <th>client_industry_rollup_food_and_beverage</th>\n",
       "      <th>client_industry_rollup_government</th>\n",
       "      <th>client_industry_rollup_healthcare_and_medical</th>\n",
       "      <th>client_industry_rollup_insurance</th>\n",
       "      <th>client_industry_rollup_retail</th>\n",
       "      <th>client_industry_rollup_telecom</th>\n",
       "      <th>client_industry_rollup_transport_and_storage</th>\n",
       "      <th>client_industry_rollup_travel_recreation_and_leisure</th>\n",
       "      <th>client_industry_rollup_utilities_and_energy</th>\n",
       "      <th>person_gender_description_Male</th>\n",
       "      <th>person_gender_description_Unknown</th>\n",
       "      <th>marital_status_rollup_Married</th>\n",
       "      <th>marital_status_rollup_Single</th>\n",
       "      <th>marital_status_rollup_Unknown</th>\n",
       "      <th>client_is_ysa_Unknown</th>\n",
       "      <th>client_is_ysa_Y</th>\n",
       "      <th>client_has_corporate_exchange_Unknown</th>\n",
       "      <th>client_has_corporate_exchange_Y</th>\n",
       "      <th>client_hm_large_market_or_enterprise_Enterprise</th>\n",
       "      <th>client_hm_large_market_or_enterprise_LM</th>\n",
       "      <th>employment_status_rollup_Inactive</th>\n",
       "      <th>employment_status_rollup_Non-Employee</th>\n",
       "      <th>employment_status_rollup_Unknown</th>\n",
       "      <th>coverage_category_rollup_Covering_Others</th>\n",
       "      <th>coverage_category_rollup_Covering_Self</th>\n",
       "      <th>coverage_category_rollup_Unknown</th>\n",
       "      <th>source_system_TBA_3X</th>\n",
       "      <th>source_system_TBA_4X</th>\n",
       "      <th>enrollment_suggestion_source_UPoint Reimagine</th>\n",
       "      <th>enrollment_suggestion_source_Unknown</th>\n",
       "      <th>er_hsa_contribution_flag_new_1</th>\n",
       "      <th>enrolled_option_bc_dg_CDP-MDCL-SA-POS</th>\n",
       "      <th>enrolled_option_bc_dg_CDP-MDCL-SA-PPO</th>\n",
       "      <th>enrolled_option_bc_dg_EPO</th>\n",
       "      <th>enrolled_option_bc_dg_HDHP</th>\n",
       "      <th>enrolled_option_bc_dg_HDHP w/HSA</th>\n",
       "      <th>enrolled_option_bc_dg_HMO</th>\n",
       "      <th>enrolled_option_bc_dg_IND</th>\n",
       "      <th>enrolled_option_bc_dg_POS</th>\n",
       "      <th>enrolled_option_bc_dg_PPO</th>\n",
       "      <th>enrolled_option_bc_dg_Unknown</th>\n",
       "      <th>person_expected_annual_base_salary_range_20,000 - 39,999</th>\n",
       "      <th>person_expected_annual_base_salary_range_40,000 - 59,999</th>\n",
       "      <th>person_expected_annual_base_salary_range_60,000 - 79,999</th>\n",
       "      <th>person_expected_annual_base_salary_range_80,000 - 99,999</th>\n",
       "      <th>person_expected_annual_base_salary_range_&lt;20,000</th>\n",
       "      <th>person_expected_annual_base_salary_range_Unknown</th>\n",
       "      <th>label</th>\n",
       "    </tr>\n",
       "  </thead>\n",
       "  <tbody>\n",
       "    <tr>\n",
       "      <th>0</th>\n",
       "      <td>0.0</td>\n",
       "      <td>32.0</td>\n",
       "      <td>1.0</td>\n",
       "      <td>62.5</td>\n",
       "      <td>0</td>\n",
       "      <td>0</td>\n",
       "      <td>1</td>\n",
       "      <td>0</td>\n",
       "      <td>0</td>\n",
       "      <td>0</td>\n",
       "      <td>0</td>\n",
       "      <td>0</td>\n",
       "      <td>0</td>\n",
       "      <td>0</td>\n",
       "      <td>0</td>\n",
       "      <td>0</td>\n",
       "      <td>0</td>\n",
       "      <td>0</td>\n",
       "      <td>0</td>\n",
       "      <td>0</td>\n",
       "      <td>0</td>\n",
       "      <td>0</td>\n",
       "      <td>0</td>\n",
       "      <td>1</td>\n",
       "      <td>0</td>\n",
       "      <td>0</td>\n",
       "      <td>1</td>\n",
       "      <td>0</td>\n",
       "      <td>0</td>\n",
       "      <td>0</td>\n",
       "      <td>1</td>\n",
       "      <td>0</td>\n",
       "      <td>0</td>\n",
       "      <td>0</td>\n",
       "      <td>0</td>\n",
       "      <td>0</td>\n",
       "      <td>1</td>\n",
       "      <td>1</td>\n",
       "      <td>0</td>\n",
       "      <td>0</td>\n",
       "      <td>0</td>\n",
       "      <td>1</td>\n",
       "      <td>0</td>\n",
       "      <td>0</td>\n",
       "      <td>0</td>\n",
       "      <td>0</td>\n",
       "      <td>0</td>\n",
       "      <td>0</td>\n",
       "      <td>0</td>\n",
       "      <td>0</td>\n",
       "      <td>0</td>\n",
       "      <td>1</td>\n",
       "      <td>0</td>\n",
       "      <td>0</td>\n",
       "      <td>0</td>\n",
       "      <td>0</td>\n",
       "      <td>0</td>\n",
       "      <td>0</td>\n",
       "      <td>1</td>\n",
       "    </tr>\n",
       "    <tr>\n",
       "      <th>1</th>\n",
       "      <td>7330.0</td>\n",
       "      <td>49.0</td>\n",
       "      <td>5.0</td>\n",
       "      <td>1500.0</td>\n",
       "      <td>0</td>\n",
       "      <td>0</td>\n",
       "      <td>0</td>\n",
       "      <td>0</td>\n",
       "      <td>0</td>\n",
       "      <td>0</td>\n",
       "      <td>0</td>\n",
       "      <td>0</td>\n",
       "      <td>0</td>\n",
       "      <td>1</td>\n",
       "      <td>0</td>\n",
       "      <td>0</td>\n",
       "      <td>0</td>\n",
       "      <td>0</td>\n",
       "      <td>0</td>\n",
       "      <td>0</td>\n",
       "      <td>1</td>\n",
       "      <td>0</td>\n",
       "      <td>0</td>\n",
       "      <td>0</td>\n",
       "      <td>1</td>\n",
       "      <td>1</td>\n",
       "      <td>0</td>\n",
       "      <td>1</td>\n",
       "      <td>0</td>\n",
       "      <td>1</td>\n",
       "      <td>0</td>\n",
       "      <td>0</td>\n",
       "      <td>0</td>\n",
       "      <td>0</td>\n",
       "      <td>0</td>\n",
       "      <td>0</td>\n",
       "      <td>0</td>\n",
       "      <td>0</td>\n",
       "      <td>0</td>\n",
       "      <td>0</td>\n",
       "      <td>1</td>\n",
       "      <td>1</td>\n",
       "      <td>0</td>\n",
       "      <td>0</td>\n",
       "      <td>0</td>\n",
       "      <td>0</td>\n",
       "      <td>1</td>\n",
       "      <td>0</td>\n",
       "      <td>0</td>\n",
       "      <td>0</td>\n",
       "      <td>0</td>\n",
       "      <td>0</td>\n",
       "      <td>0</td>\n",
       "      <td>0</td>\n",
       "      <td>0</td>\n",
       "      <td>0</td>\n",
       "      <td>1</td>\n",
       "      <td>0</td>\n",
       "      <td>0</td>\n",
       "    </tr>\n",
       "    <tr>\n",
       "      <th>2</th>\n",
       "      <td>2775.0</td>\n",
       "      <td>60.0</td>\n",
       "      <td>3.0</td>\n",
       "      <td>0.0</td>\n",
       "      <td>0</td>\n",
       "      <td>0</td>\n",
       "      <td>0</td>\n",
       "      <td>0</td>\n",
       "      <td>0</td>\n",
       "      <td>1</td>\n",
       "      <td>0</td>\n",
       "      <td>0</td>\n",
       "      <td>0</td>\n",
       "      <td>0</td>\n",
       "      <td>0</td>\n",
       "      <td>0</td>\n",
       "      <td>0</td>\n",
       "      <td>0</td>\n",
       "      <td>0</td>\n",
       "      <td>0</td>\n",
       "      <td>1</td>\n",
       "      <td>0</td>\n",
       "      <td>1</td>\n",
       "      <td>0</td>\n",
       "      <td>0</td>\n",
       "      <td>1</td>\n",
       "      <td>0</td>\n",
       "      <td>1</td>\n",
       "      <td>0</td>\n",
       "      <td>1</td>\n",
       "      <td>0</td>\n",
       "      <td>0</td>\n",
       "      <td>0</td>\n",
       "      <td>0</td>\n",
       "      <td>0</td>\n",
       "      <td>0</td>\n",
       "      <td>0</td>\n",
       "      <td>0</td>\n",
       "      <td>0</td>\n",
       "      <td>0</td>\n",
       "      <td>1</td>\n",
       "      <td>0</td>\n",
       "      <td>0</td>\n",
       "      <td>0</td>\n",
       "      <td>0</td>\n",
       "      <td>0</td>\n",
       "      <td>1</td>\n",
       "      <td>0</td>\n",
       "      <td>0</td>\n",
       "      <td>0</td>\n",
       "      <td>0</td>\n",
       "      <td>0</td>\n",
       "      <td>0</td>\n",
       "      <td>0</td>\n",
       "      <td>0</td>\n",
       "      <td>1</td>\n",
       "      <td>0</td>\n",
       "      <td>0</td>\n",
       "      <td>1</td>\n",
       "    </tr>\n",
       "  </tbody>\n",
       "</table>\n",
       "</div>"
      ],
      "text/plain": [
       "   enrolled_plan_cost  person_age  number_of_people_covered  \\\n",
       "0                 0.0        32.0                       1.0   \n",
       "1              7330.0        49.0                       5.0   \n",
       "2              2775.0        60.0                       3.0   \n",
       "\n",
       "   enrolled_er_annual_hsa_contribution  \\\n",
       "0                                 62.5   \n",
       "1                               1500.0   \n",
       "2                                  0.0   \n",
       "\n",
       "   client_industry_rollup_agriculture_and_mining  \\\n",
       "0                                              0   \n",
       "1                                              0   \n",
       "2                                              0   \n",
       "\n",
       "   client_industry_rollup_banking_and_finance  \\\n",
       "0                                           0   \n",
       "1                                           0   \n",
       "2                                           0   \n",
       "\n",
       "   client_industry_rollup_business_services  \\\n",
       "0                                         1   \n",
       "1                                         0   \n",
       "2                                         0   \n",
       "\n",
       "   client_industry_rollup_computer_service_and_software  \\\n",
       "0                                                  0      \n",
       "1                                                  0      \n",
       "2                                                  0      \n",
       "\n",
       "   client_industry_rollup_consumer_misc_product_and_manufacturing  \\\n",
       "0                                                  0                \n",
       "1                                                  0                \n",
       "2                                                  0                \n",
       "\n",
       "   client_industry_rollup_diversified_manufacturing  \\\n",
       "0                                                 0   \n",
       "1                                                 0   \n",
       "2                                                 1   \n",
       "\n",
       "   client_industry_rollup_education  client_industry_rollup_food_and_beverage  \\\n",
       "0                                 0                                         0   \n",
       "1                                 0                                         0   \n",
       "2                                 0                                         0   \n",
       "\n",
       "   client_industry_rollup_government  \\\n",
       "0                                  0   \n",
       "1                                  0   \n",
       "2                                  0   \n",
       "\n",
       "   client_industry_rollup_healthcare_and_medical  \\\n",
       "0                                              0   \n",
       "1                                              1   \n",
       "2                                              0   \n",
       "\n",
       "   client_industry_rollup_insurance  client_industry_rollup_retail  \\\n",
       "0                                 0                              0   \n",
       "1                                 0                              0   \n",
       "2                                 0                              0   \n",
       "\n",
       "   client_industry_rollup_telecom  \\\n",
       "0                               0   \n",
       "1                               0   \n",
       "2                               0   \n",
       "\n",
       "   client_industry_rollup_transport_and_storage  \\\n",
       "0                                             0   \n",
       "1                                             0   \n",
       "2                                             0   \n",
       "\n",
       "   client_industry_rollup_travel_recreation_and_leisure  \\\n",
       "0                                                  0      \n",
       "1                                                  0      \n",
       "2                                                  0      \n",
       "\n",
       "   client_industry_rollup_utilities_and_energy  \\\n",
       "0                                            0   \n",
       "1                                            0   \n",
       "2                                            0   \n",
       "\n",
       "   person_gender_description_Male  person_gender_description_Unknown  \\\n",
       "0                               0                                  0   \n",
       "1                               1                                  0   \n",
       "2                               1                                  0   \n",
       "\n",
       "   marital_status_rollup_Married  marital_status_rollup_Single  \\\n",
       "0                              0                             1   \n",
       "1                              0                             0   \n",
       "2                              1                             0   \n",
       "\n",
       "   marital_status_rollup_Unknown  client_is_ysa_Unknown  client_is_ysa_Y  \\\n",
       "0                              0                      0                1   \n",
       "1                              1                      1                0   \n",
       "2                              0                      1                0   \n",
       "\n",
       "   client_has_corporate_exchange_Unknown  client_has_corporate_exchange_Y  \\\n",
       "0                                      0                                0   \n",
       "1                                      1                                0   \n",
       "2                                      1                                0   \n",
       "\n",
       "   client_hm_large_market_or_enterprise_Enterprise  \\\n",
       "0                                                0   \n",
       "1                                                1   \n",
       "2                                                1   \n",
       "\n",
       "   client_hm_large_market_or_enterprise_LM  employment_status_rollup_Inactive  \\\n",
       "0                                        1                                  0   \n",
       "1                                        0                                  0   \n",
       "2                                        0                                  0   \n",
       "\n",
       "   employment_status_rollup_Non-Employee  employment_status_rollup_Unknown  \\\n",
       "0                                      0                                 0   \n",
       "1                                      0                                 0   \n",
       "2                                      0                                 0   \n",
       "\n",
       "   coverage_category_rollup_Covering_Others  \\\n",
       "0                                         0   \n",
       "1                                         0   \n",
       "2                                         0   \n",
       "\n",
       "   coverage_category_rollup_Covering_Self  coverage_category_rollup_Unknown  \\\n",
       "0                                       0                                 1   \n",
       "1                                       0                                 0   \n",
       "2                                       0                                 0   \n",
       "\n",
       "   source_system_TBA_3X  source_system_TBA_4X  \\\n",
       "0                     1                     0   \n",
       "1                     0                     0   \n",
       "2                     0                     0   \n",
       "\n",
       "   enrollment_suggestion_source_UPoint Reimagine  \\\n",
       "0                                              0   \n",
       "1                                              0   \n",
       "2                                              0   \n",
       "\n",
       "   enrollment_suggestion_source_Unknown  er_hsa_contribution_flag_new_1  \\\n",
       "0                                     0                               1   \n",
       "1                                     1                               1   \n",
       "2                                     1                               0   \n",
       "\n",
       "   enrolled_option_bc_dg_CDP-MDCL-SA-POS  \\\n",
       "0                                      0   \n",
       "1                                      0   \n",
       "2                                      0   \n",
       "\n",
       "   enrolled_option_bc_dg_CDP-MDCL-SA-PPO  enrolled_option_bc_dg_EPO  \\\n",
       "0                                      0                          0   \n",
       "1                                      0                          0   \n",
       "2                                      0                          0   \n",
       "\n",
       "   enrolled_option_bc_dg_HDHP  enrolled_option_bc_dg_HDHP w/HSA  \\\n",
       "0                           0                                 0   \n",
       "1                           0                                 1   \n",
       "2                           0                                 1   \n",
       "\n",
       "   enrolled_option_bc_dg_HMO  enrolled_option_bc_dg_IND  \\\n",
       "0                          0                          0   \n",
       "1                          0                          0   \n",
       "2                          0                          0   \n",
       "\n",
       "   enrolled_option_bc_dg_POS  enrolled_option_bc_dg_PPO  \\\n",
       "0                          0                          0   \n",
       "1                          0                          0   \n",
       "2                          0                          0   \n",
       "\n",
       "   enrolled_option_bc_dg_Unknown  \\\n",
       "0                              1   \n",
       "1                              0   \n",
       "2                              0   \n",
       "\n",
       "   person_expected_annual_base_salary_range_20,000 - 39,999  \\\n",
       "0                                                  0          \n",
       "1                                                  0          \n",
       "2                                                  0          \n",
       "\n",
       "   person_expected_annual_base_salary_range_40,000 - 59,999  \\\n",
       "0                                                  0          \n",
       "1                                                  0          \n",
       "2                                                  0          \n",
       "\n",
       "   person_expected_annual_base_salary_range_60,000 - 79,999  \\\n",
       "0                                                  0          \n",
       "1                                                  0          \n",
       "2                                                  0          \n",
       "\n",
       "   person_expected_annual_base_salary_range_80,000 - 99,999  \\\n",
       "0                                                  0          \n",
       "1                                                  0          \n",
       "2                                                  1          \n",
       "\n",
       "   person_expected_annual_base_salary_range_<20,000  \\\n",
       "0                                                 0   \n",
       "1                                                 1   \n",
       "2                                                 0   \n",
       "\n",
       "   person_expected_annual_base_salary_range_Unknown  label  \n",
       "0                                                 0      1  \n",
       "1                                                 0      0  \n",
       "2                                                 0      1  "
      ]
     },
     "execution_count": 35,
     "metadata": {},
     "output_type": "execute_result"
    }
   ],
   "source": [
    "test_set.head(3)"
   ]
  },
  {
   "cell_type": "code",
   "execution_count": 36,
   "metadata": {},
   "outputs": [
    {
     "data": {
      "text/plain": [
       "(131016, 58)"
      ]
     },
     "execution_count": 36,
     "metadata": {},
     "output_type": "execute_result"
    }
   ],
   "source": [
    "test_X = test_set.drop(columns='label')\n",
    "\n",
    "test_X.shape"
   ]
  },
  {
   "cell_type": "code",
   "execution_count": 37,
   "metadata": {},
   "outputs": [
    {
     "data": {
      "text/plain": [
       "(131016, 1)"
      ]
     },
     "execution_count": 37,
     "metadata": {},
     "output_type": "execute_result"
    }
   ],
   "source": [
    "test_y = test_set[['label']]\n",
    "\n",
    "test_y.shape"
   ]
  },
  {
   "cell_type": "code",
   "execution_count": 38,
   "metadata": {},
   "outputs": [
    {
     "data": {
      "text/plain": [
       "label\n",
       "1        0.525111\n",
       "0        0.474889\n",
       "dtype: float64"
      ]
     },
     "execution_count": 38,
     "metadata": {},
     "output_type": "execute_result"
    }
   ],
   "source": [
    "test_y.value_counts(normalize=True)"
   ]
  },
  {
   "cell_type": "code",
   "execution_count": null,
   "metadata": {},
   "outputs": [],
   "source": [
    "#checking distribution of target feature\n",
    "sns.countplot(data=test_y, x='label')\n",
    "plt.show()"
   ]
  },
  {
   "cell_type": "markdown",
   "metadata": {},
   "source": [
    "## Training ML Models (with default parameters)"
   ]
  },
  {
   "cell_type": "markdown",
   "metadata": {},
   "source": [
    "### LogisticRegression"
   ]
  },
  {
   "cell_type": "code",
   "execution_count": null,
   "metadata": {},
   "outputs": [],
   "source": [
    "%%time\n",
    "lr = LogisticRegression()\n",
    "\n",
    "lr = lr.fit(train_X, train_y)"
   ]
  },
  {
   "cell_type": "code",
   "execution_count": null,
   "metadata": {},
   "outputs": [],
   "source": [
    "pred_lr  = lr.predict(test_X)"
   ]
  },
  {
   "cell_type": "markdown",
   "metadata": {},
   "source": [
    "### RandomForestClassifier"
   ]
  },
  {
   "cell_type": "code",
   "execution_count": null,
   "metadata": {},
   "outputs": [],
   "source": [
    "%%time\n",
    "rf = RandomForestClassifier()\n",
    "\n",
    "rf = rf.fit(train_X, train_y)"
   ]
  },
  {
   "cell_type": "code",
   "execution_count": null,
   "metadata": {},
   "outputs": [],
   "source": [
    "pred_rf  = rf.predict(test_X)"
   ]
  },
  {
   "cell_type": "markdown",
   "metadata": {},
   "source": [
    "### SVC"
   ]
  },
  {
   "cell_type": "code",
   "execution_count": null,
   "metadata": {},
   "outputs": [],
   "source": [
    "# svc = SVC()\n",
    "\n",
    "# svc = svc.fit(train_X, train_y)"
   ]
  },
  {
   "cell_type": "code",
   "execution_count": null,
   "metadata": {},
   "outputs": [],
   "source": [
    "# pred_svc  = svc.predict(test_X)"
   ]
  },
  {
   "cell_type": "markdown",
   "metadata": {},
   "source": [
    "### DecisionTreeClassifier"
   ]
  },
  {
   "cell_type": "code",
   "execution_count": null,
   "metadata": {},
   "outputs": [],
   "source": [
    "%%time\n",
    "dt = DecisionTreeClassifier()\n",
    "\n",
    "dt = dt.fit(train_X, train_y)"
   ]
  },
  {
   "cell_type": "code",
   "execution_count": null,
   "metadata": {},
   "outputs": [],
   "source": [
    "pred_dt  = dt.predict(test_X)"
   ]
  },
  {
   "cell_type": "markdown",
   "metadata": {},
   "source": [
    "### GaussianNB"
   ]
  },
  {
   "cell_type": "code",
   "execution_count": null,
   "metadata": {},
   "outputs": [],
   "source": [
    "%%time\n",
    "gnb = GaussianNB()\n",
    "\n",
    "gnb = gnb.fit(train_X, train_y)"
   ]
  },
  {
   "cell_type": "code",
   "execution_count": null,
   "metadata": {},
   "outputs": [],
   "source": [
    "pred_gnb  = gnb.predict(test_X)"
   ]
  },
  {
   "cell_type": "markdown",
   "metadata": {},
   "source": [
    "### XGBClassifier"
   ]
  },
  {
   "cell_type": "code",
   "execution_count": 39,
   "metadata": {},
   "outputs": [
    {
     "name": "stdout",
     "output_type": "stream",
     "text": [
      "CPU times: user 2min 22s, sys: 1.6 s, total: 2min 24s\n",
      "Wall time: 9.18 s\n"
     ]
    }
   ],
   "source": [
    "%%time\n",
    "xgb = XGBClassifier()\n",
    "\n",
    "xgb = xgb.fit(train_X.values, train_y.values)"
   ]
  },
  {
   "cell_type": "code",
   "execution_count": 40,
   "metadata": {},
   "outputs": [],
   "source": [
    "pred_xgb  = xgb.predict(test_X)"
   ]
  },
  {
   "cell_type": "markdown",
   "metadata": {},
   "source": [
    "### LGBMClassifier"
   ]
  },
  {
   "cell_type": "code",
   "execution_count": null,
   "metadata": {},
   "outputs": [],
   "source": [
    "%%time\n",
    "lgbm = LGBMClassifier()\n",
    "\n",
    "lgbm = lgbm.fit(train_X.values, train_y.values)"
   ]
  },
  {
   "cell_type": "code",
   "execution_count": null,
   "metadata": {},
   "outputs": [],
   "source": [
    "pred_lgbm  = lgbm.predict(test_X)"
   ]
  },
  {
   "cell_type": "markdown",
   "metadata": {},
   "source": [
    "### KNeighborsClassifier"
   ]
  },
  {
   "cell_type": "code",
   "execution_count": null,
   "metadata": {},
   "outputs": [],
   "source": [
    "%%time\n",
    "knn = KNeighborsClassifier()\n",
    "knn = knn.fit(train_X, train_y)"
   ]
  },
  {
   "cell_type": "code",
   "execution_count": null,
   "metadata": {},
   "outputs": [],
   "source": [
    "pred_knn = knn.predict(test_X)"
   ]
  },
  {
   "cell_type": "markdown",
   "metadata": {},
   "source": [
    "### MLPClassifier"
   ]
  },
  {
   "cell_type": "code",
   "execution_count": null,
   "metadata": {},
   "outputs": [],
   "source": [
    "%%time\n",
    "mlpc = MLPClassifier()\n",
    "mlpc.fit(train_X, train_y)"
   ]
  },
  {
   "cell_type": "code",
   "execution_count": null,
   "metadata": {},
   "outputs": [],
   "source": [
    "pred_mlpc = mlpc.predict(test_X)"
   ]
  },
  {
   "cell_type": "markdown",
   "metadata": {},
   "source": [
    "## Classification Reports of above models on Test Set"
   ]
  },
  {
   "cell_type": "code",
   "execution_count": null,
   "metadata": {},
   "outputs": [],
   "source": [
    "print(\"Logistic Regression:\\n\", classification_report(test_y, pred_lr))\n",
    "print(\"ROC AUC score for data: \", roc_auc_score(test_y, lr.predict_proba(test_X)[:,1], average='weighted'))"
   ]
  },
  {
   "cell_type": "code",
   "execution_count": null,
   "metadata": {},
   "outputs": [],
   "source": [
    "print(\"RandonForestClassifier:\\n\", classification_report(test_y, pred_rf))\n",
    "print(\"ROC AUC score for data: \", roc_auc_score(test_y, rf.predict_proba(test_X)[:,1], average='weighted'))"
   ]
  },
  {
   "cell_type": "code",
   "execution_count": null,
   "metadata": {},
   "outputs": [],
   "source": [
    "print(\"DecisionTreeClassifier:\\n\", classification_report(test_y, pred_dt))\n",
    "print(\"ROC AUC score for data: \", roc_auc_score(test_y, dt.predict_proba(test_X)[:,1], average='weighted'))"
   ]
  },
  {
   "cell_type": "code",
   "execution_count": null,
   "metadata": {},
   "outputs": [],
   "source": [
    "print(\"GaussianNB:\\n\", classification_report(test_y, pred_gnb))\n",
    "print(\"ROC AUC score for data: \", roc_auc_score(test_y, gnb.predict_proba(test_X)[:,1], average='weighted'))"
   ]
  },
  {
   "cell_type": "code",
   "execution_count": 41,
   "metadata": {},
   "outputs": [
    {
     "name": "stdout",
     "output_type": "stream",
     "text": [
      "XGBClassifier:\n",
      "               precision    recall  f1-score   support\n",
      "\n",
      "           0       0.71      0.71      0.71     62218\n",
      "           1       0.74      0.74      0.74     68798\n",
      "\n",
      "    accuracy                           0.73    131016\n",
      "   macro avg       0.73      0.73      0.73    131016\n",
      "weighted avg       0.73      0.73      0.73    131016\n",
      "\n",
      "ROC AUC score for data:  0.8098775861401315\n"
     ]
    }
   ],
   "source": [
    "print(\"XGBClassifier:\\n\", classification_report(test_y, pred_xgb))\n",
    "print(\"ROC AUC score for data: \", roc_auc_score(test_y, xgb.predict_proba(test_X)[:,1], average='weighted'))"
   ]
  },
  {
   "cell_type": "code",
   "execution_count": null,
   "metadata": {},
   "outputs": [],
   "source": [
    "print(\"LGBMClassifier:\\n\", classification_report(test_y, pred_lgbm))\n",
    "print(\"ROC AUC score for data: \", roc_auc_score(test_y, lgbm.predict_proba(test_X)[:,1], average='weighted'))"
   ]
  },
  {
   "cell_type": "code",
   "execution_count": null,
   "metadata": {},
   "outputs": [],
   "source": [
    "print(\"KNeighborsClassifier:\\n\", classification_report(test_y, pred_knn))\n",
    "print(\"ROC AUC score for data: \", roc_auc_score(test_y, knn.predict_proba(test_X)[:,1], average='weighted'))"
   ]
  },
  {
   "cell_type": "code",
   "execution_count": null,
   "metadata": {},
   "outputs": [],
   "source": [
    "print(\"MLPClassifier:\\n\", classification_report(test_y, pred_mlpc))\n",
    "print(\"ROC AUC score for data: \", roc_auc_score(test_y, mlpc.predict_proba(test_X)[:,1], average='weighted'))"
   ]
  },
  {
   "cell_type": "markdown",
   "metadata": {},
   "source": [
    "## Features Importance from XGBoost Model with default parameters"
   ]
  },
  {
   "cell_type": "code",
   "execution_count": 42,
   "metadata": {},
   "outputs": [
    {
     "data": {
      "text/plain": [
       "<matplotlib.axes._subplots.AxesSubplot at 0x7f29a372b310>"
      ]
     },
     "execution_count": 42,
     "metadata": {},
     "output_type": "execute_result"
    },
    {
     "data": {
      "image/png": "[encoded data removed]",
      "text/plain": [
       "<Figure size 600x600 with 1 Axes>"
      ]
     },
     "metadata": {},
     "output_type": "display_data"
    }
   ],
   "source": [
    "pd.Series(xgb.feature_importances_, index=train_X.columns).sort_values(ascending=True)[-10:].plot(kind='barh', figsize=(6,6))"
   ]
  },
  {
   "cell_type": "code",
   "execution_count": 48,
   "metadata": {},
   "outputs": [],
   "source": [
    "from sklearn.metrics import classification_report, roc_auc_score, f1_score, auc,accuracy_score, cohen_kappa_score, plot_confusion_matrix, precision_recall_curve\n",
    "#balanced_accuracy_scor\n",
    "from sklearn.metrics import roc_curve"
   ]
  },
  {
   "cell_type": "code",
   "execution_count": 45,
   "metadata": {},
   "outputs": [],
   "source": [
    "def expect_f1(y_prob, thres):\n",
    "    idxs = np.where(y_prob >= thres)[0]\n",
    "    tp = y_prob[idxs].sum()\n",
    "    fp = len(idxs) - tp\n",
    "    idxs = np.where(y_prob < thres)[0]\n",
    "    fn = y_prob[idxs].sum()\n",
    "    return 2*tp / (2*tp + fp + fn)\n",
    "\n",
    "def optimal_threshold(y_prob):\n",
    "    y_prob = np.sort(y_prob)[::-1]\n",
    "    f1s = [expect_f1(y_prob, p) for p in y_prob]\n",
    "    thres = y_prob[np.argmax(f1s)]\n",
    "    return thres, f1s"
   ]
  },
  {
   "cell_type": "code",
   "execution_count": 46,
   "metadata": {},
   "outputs": [
    {
     "name": "stdout",
     "output_type": "stream",
     "text": [
      "Threshold=0.527, F-Score=0.72624\n"
     ]
    }
   ],
   "source": [
    "# imporiving threshold for f1\n",
    "thresholds = np.arange(0, 1, 0.001)\n",
    "yhat = xgb.predict_proba(test_X)\n",
    "scores = [f1_score(test_y, (yhat[:, 1] >= t).astype('int'), average='macro') for t in thresholds]\n",
    "ix = np.argmax(scores)\n",
    "print('Threshold=%.3f, F-Score=%.5f' % (thresholds[ix], scores[ix]))\n"
   ]
  },
  {
   "cell_type": "code",
   "execution_count": 53,
   "metadata": {},
   "outputs": [
    {
     "ename": "KeyboardInterrupt",
     "evalue": "",
     "output_type": "error",
     "traceback": [
      "\u001b[0;31m---------------------------------------------------------------------------\u001b[0m",
      "\u001b[0;31mKeyboardInterrupt\u001b[0m                         Traceback (most recent call last)",
      "\u001b[0;32m<ipython-input-53-aead86fec282>\u001b[0m in \u001b[0;36m<module>\u001b[0;34m\u001b[0m\n\u001b[0;32m----> 1\u001b[0;31m \u001b[0mthres\u001b[0m\u001b[0;34m,\u001b[0m \u001b[0mf1s\u001b[0m \u001b[0;34m=\u001b[0m \u001b[0moptimal_threshold\u001b[0m\u001b[0;34m(\u001b[0m\u001b[0myhat\u001b[0m\u001b[0;34m)\u001b[0m\u001b[0;34m\u001b[0m\u001b[0;34m\u001b[0m\u001b[0m\n\u001b[0m\u001b[1;32m      2\u001b[0m \u001b[0mprint\u001b[0m\u001b[0;34m(\u001b[0m\u001b[0;34mf\"Predicted Optimal Threshold is {thres} with F1 score {expect_f1(test_y, thres)}\"\u001b[0m\u001b[0;34m)\u001b[0m\u001b[0;34m\u001b[0m\u001b[0;34m\u001b[0m\u001b[0m\n",
      "\u001b[0;32m<ipython-input-45-67d7a5cb8883>\u001b[0m in \u001b[0;36moptimal_threshold\u001b[0;34m(y_prob)\u001b[0m\n\u001b[1;32m      9\u001b[0m \u001b[0;32mdef\u001b[0m \u001b[0moptimal_threshold\u001b[0m\u001b[0;34m(\u001b[0m\u001b[0my_prob\u001b[0m\u001b[0;34m)\u001b[0m\u001b[0;34m:\u001b[0m\u001b[0;34m\u001b[0m\u001b[0;34m\u001b[0m\u001b[0m\n\u001b[1;32m     10\u001b[0m     \u001b[0my_prob\u001b[0m \u001b[0;34m=\u001b[0m \u001b[0mnp\u001b[0m\u001b[0;34m.\u001b[0m\u001b[0msort\u001b[0m\u001b[0;34m(\u001b[0m\u001b[0my_prob\u001b[0m\u001b[0;34m)\u001b[0m\u001b[0;34m[\u001b[0m\u001b[0;34m:\u001b[0m\u001b[0;34m:\u001b[0m\u001b[0;34m-\u001b[0m\u001b[0;36m1\u001b[0m\u001b[0;34m]\u001b[0m\u001b[0;34m\u001b[0m\u001b[0;34m\u001b[0m\u001b[0m\n\u001b[0;32m---> 11\u001b[0;31m     \u001b[0mf1s\u001b[0m \u001b[0;34m=\u001b[0m \u001b[0;34m[\u001b[0m\u001b[0mexpect_f1\u001b[0m\u001b[0;34m(\u001b[0m\u001b[0my_prob\u001b[0m\u001b[0;34m,\u001b[0m \u001b[0mp\u001b[0m\u001b[0;34m)\u001b[0m \u001b[0;32mfor\u001b[0m \u001b[0mp\u001b[0m \u001b[0;32min\u001b[0m \u001b[0my_prob\u001b[0m\u001b[0;34m]\u001b[0m\u001b[0;34m\u001b[0m\u001b[0;34m\u001b[0m\u001b[0m\n\u001b[0m\u001b[1;32m     12\u001b[0m     \u001b[0mthres\u001b[0m \u001b[0;34m=\u001b[0m \u001b[0my_prob\u001b[0m\u001b[0;34m[\u001b[0m\u001b[0mnp\u001b[0m\u001b[0;34m.\u001b[0m\u001b[0margmax\u001b[0m\u001b[0;34m(\u001b[0m\u001b[0mf1s\u001b[0m\u001b[0;34m)\u001b[0m\u001b[0;34m]\u001b[0m\u001b[0;34m\u001b[0m\u001b[0;34m\u001b[0m\u001b[0m\n\u001b[1;32m     13\u001b[0m     \u001b[0;32mreturn\u001b[0m \u001b[0mthres\u001b[0m\u001b[0;34m,\u001b[0m \u001b[0mf1s\u001b[0m\u001b[0;34m\u001b[0m\u001b[0;34m\u001b[0m\u001b[0m\n",
      "\u001b[0;32m<ipython-input-45-67d7a5cb8883>\u001b[0m in \u001b[0;36m<listcomp>\u001b[0;34m(.0)\u001b[0m\n\u001b[1;32m      9\u001b[0m \u001b[0;32mdef\u001b[0m \u001b[0moptimal_threshold\u001b[0m\u001b[0;34m(\u001b[0m\u001b[0my_prob\u001b[0m\u001b[0;34m)\u001b[0m\u001b[0;34m:\u001b[0m\u001b[0;34m\u001b[0m\u001b[0;34m\u001b[0m\u001b[0m\n\u001b[1;32m     10\u001b[0m     \u001b[0my_prob\u001b[0m \u001b[0;34m=\u001b[0m \u001b[0mnp\u001b[0m\u001b[0;34m.\u001b[0m\u001b[0msort\u001b[0m\u001b[0;34m(\u001b[0m\u001b[0my_prob\u001b[0m\u001b[0;34m)\u001b[0m\u001b[0;34m[\u001b[0m\u001b[0;34m:\u001b[0m\u001b[0;34m:\u001b[0m\u001b[0;34m-\u001b[0m\u001b[0;36m1\u001b[0m\u001b[0;34m]\u001b[0m\u001b[0;34m\u001b[0m\u001b[0;34m\u001b[0m\u001b[0m\n\u001b[0;32m---> 11\u001b[0;31m     \u001b[0mf1s\u001b[0m \u001b[0;34m=\u001b[0m \u001b[0;34m[\u001b[0m\u001b[0mexpect_f1\u001b[0m\u001b[0;34m(\u001b[0m\u001b[0my_prob\u001b[0m\u001b[0;34m,\u001b[0m \u001b[0mp\u001b[0m\u001b[0;34m)\u001b[0m \u001b[0;32mfor\u001b[0m \u001b[0mp\u001b[0m \u001b[0;32min\u001b[0m \u001b[0my_prob\u001b[0m\u001b[0;34m]\u001b[0m\u001b[0;34m\u001b[0m\u001b[0;34m\u001b[0m\u001b[0m\n\u001b[0m\u001b[1;32m     12\u001b[0m     \u001b[0mthres\u001b[0m \u001b[0;34m=\u001b[0m \u001b[0my_prob\u001b[0m\u001b[0;34m[\u001b[0m\u001b[0mnp\u001b[0m\u001b[0;34m.\u001b[0m\u001b[0margmax\u001b[0m\u001b[0;34m(\u001b[0m\u001b[0mf1s\u001b[0m\u001b[0;34m)\u001b[0m\u001b[0;34m]\u001b[0m\u001b[0;34m\u001b[0m\u001b[0;34m\u001b[0m\u001b[0m\n\u001b[1;32m     13\u001b[0m     \u001b[0;32mreturn\u001b[0m \u001b[0mthres\u001b[0m\u001b[0;34m,\u001b[0m \u001b[0mf1s\u001b[0m\u001b[0;34m\u001b[0m\u001b[0;34m\u001b[0m\u001b[0m\n",
      "\u001b[0;32m<ipython-input-45-67d7a5cb8883>\u001b[0m in \u001b[0;36mexpect_f1\u001b[0;34m(y_prob, thres)\u001b[0m\n\u001b[1;32m      3\u001b[0m     \u001b[0mtp\u001b[0m \u001b[0;34m=\u001b[0m \u001b[0my_prob\u001b[0m\u001b[0;34m[\u001b[0m\u001b[0midxs\u001b[0m\u001b[0;34m]\u001b[0m\u001b[0;34m.\u001b[0m\u001b[0msum\u001b[0m\u001b[0;34m(\u001b[0m\u001b[0;34m)\u001b[0m\u001b[0;34m\u001b[0m\u001b[0;34m\u001b[0m\u001b[0m\n\u001b[1;32m      4\u001b[0m     \u001b[0mfp\u001b[0m \u001b[0;34m=\u001b[0m \u001b[0mlen\u001b[0m\u001b[0;34m(\u001b[0m\u001b[0midxs\u001b[0m\u001b[0;34m)\u001b[0m \u001b[0;34m-\u001b[0m \u001b[0mtp\u001b[0m\u001b[0;34m\u001b[0m\u001b[0;34m\u001b[0m\u001b[0m\n\u001b[0;32m----> 5\u001b[0;31m     \u001b[0midxs\u001b[0m \u001b[0;34m=\u001b[0m \u001b[0mnp\u001b[0m\u001b[0;34m.\u001b[0m\u001b[0mwhere\u001b[0m\u001b[0;34m(\u001b[0m\u001b[0my_prob\u001b[0m \u001b[0;34m<\u001b[0m \u001b[0mthres\u001b[0m\u001b[0;34m)\u001b[0m\u001b[0;34m[\u001b[0m\u001b[0;36m0\u001b[0m\u001b[0;34m]\u001b[0m\u001b[0;34m\u001b[0m\u001b[0;34m\u001b[0m\u001b[0m\n\u001b[0m\u001b[1;32m      6\u001b[0m     \u001b[0mfn\u001b[0m \u001b[0;34m=\u001b[0m \u001b[0my_prob\u001b[0m\u001b[0;34m[\u001b[0m\u001b[0midxs\u001b[0m\u001b[0;34m]\u001b[0m\u001b[0;34m.\u001b[0m\u001b[0msum\u001b[0m\u001b[0;34m(\u001b[0m\u001b[0;34m)\u001b[0m\u001b[0;34m\u001b[0m\u001b[0;34m\u001b[0m\u001b[0m\n\u001b[1;32m      7\u001b[0m     \u001b[0;32mreturn\u001b[0m \u001b[0;36m2\u001b[0m\u001b[0;34m*\u001b[0m\u001b[0mtp\u001b[0m \u001b[0;34m/\u001b[0m \u001b[0;34m(\u001b[0m\u001b[0;36m2\u001b[0m\u001b[0;34m*\u001b[0m\u001b[0mtp\u001b[0m \u001b[0;34m+\u001b[0m \u001b[0mfp\u001b[0m \u001b[0;34m+\u001b[0m \u001b[0mfn\u001b[0m\u001b[0;34m)\u001b[0m\u001b[0;34m\u001b[0m\u001b[0;34m\u001b[0m\u001b[0m\n",
      "\u001b[0;32m<__array_function__ internals>\u001b[0m in \u001b[0;36mwhere\u001b[0;34m(*args, **kwargs)\u001b[0m\n",
      "\u001b[0;31mKeyboardInterrupt\u001b[0m: "
     ]
    }
   ],
   "source": [
    "thres, f1s = optimal_threshold(yhat)\n",
    "print(f\"Predicted Optimal Threshold is {thres} with F1 score {expect_f1(test_y, thres)}\")"
   ]
  },
  {
   "cell_type": "code",
   "execution_count": 47,
   "metadata": {},
   "outputs": [],
   "source": [
    "metrics_keeper = pd.DataFrame()\n",
    "classes = 2\n",
    "class_names = [\"No\",\"Yes\"]"
   ]
  },
  {
   "cell_type": "code",
   "execution_count": 49,
   "metadata": {},
   "outputs": [
    {
     "data": {
      "image/png": "[encoded data removed]",
      "text/plain": [
       "<Figure size 640x480 with 2 Axes>"
      ]
     },
     "metadata": {},
     "output_type": "display_data"
    }
   ],
   "source": [
    "model_name = \"xgb\"\n",
    "xgb = XGBClassifier()\n",
    "xgb = xgb.fit(train_X.values, train_y.values)\n",
    "pred  = xgb.predict(test_X)\n",
    "accuracy = accuracy_score(test_y, pred)\n",
    "kappa = cohen_kappa_score(test_y, pred)\n",
    "roc = roc_auc_score(test_y, pred)\n",
    "precision, recall, _ = precision_recall_curve(test_y, pred)\n",
    "aucpr = auc(recall, precision)\n",
    "clr = [i for i in classification_report(test_y, pred).split(\" \") if i !=\"\" and \"\\n\" not in i][:-9]\n",
    "plot_confusion_matrix(xgb, test_X, test_y, display_labels=class_names, cmap=plt.cm.Greens, values_format = '.1f')  \n",
    "plt.title(\"Confusion Matrix\")\n",
    "plt.show()"
   ]
  },
  {
   "cell_type": "code",
   "execution_count": 59,
   "metadata": {},
   "outputs": [
    {
     "name": "stdout",
     "output_type": "stream",
     "text": [
      "[[44049 18169]\n",
      " [17704 51094]]\n"
     ]
    }
   ],
   "source": [
    "#Get the confusion matrix\n",
    "cf_matrix = confusion_matrix(test_y, pred)\n",
    "print(cf_matrix)"
   ]
  },
  {
   "cell_type": "code",
   "execution_count": 60,
   "metadata": {},
   "outputs": [
    {
     "data": {
      "text/plain": [
       "<matplotlib.axes._subplots.AxesSubplot at 0x7f299eb95a10>"
      ]
     },
     "execution_count": 60,
     "metadata": {},
     "output_type": "execute_result"
    },
    {
     "data": {
      "image/png": "[encoded data removed]",
      "text/plain": [
       "<Figure size 640x480 with 2 Axes>"
      ]
     },
     "metadata": {},
     "output_type": "display_data"
    }
   ],
   "source": [
    "sns.heatmap(cf_matrix/np.sum(cf_matrix), annot=True, \n",
    "            fmt='.2%', cmap='Blues')"
   ]
  },
  {
   "cell_type": "code",
   "execution_count": 50,
   "metadata": {},
   "outputs": [
    {
     "data": {
      "text/plain": [
       "0.26"
      ]
     },
     "execution_count": 50,
     "metadata": {},
     "output_type": "execute_result"
    }
   ],
   "source": [
    "# FPR = FP/FP+TN \n",
    "FPR = 18169/(18169+51094)\n",
    "round(FPR,2)"
   ]
  },
  {
   "cell_type": "code",
   "execution_count": 51,
   "metadata": {},
   "outputs": [
    {
     "data": {
      "text/plain": [
       "0.71"
      ]
     },
     "execution_count": 51,
     "metadata": {},
     "output_type": "execute_result"
    }
   ],
   "source": [
    "# TPR = TP/TP+FN\n",
    "TPR = 44049/(44049+17704)\n",
    "round(TPR,2)"
   ]
  },
  {
   "cell_type": "code",
   "execution_count": 52,
   "metadata": {},
   "outputs": [
    {
     "ename": "NameError",
     "evalue": "name 'f1s' is not defined",
     "output_type": "error",
     "traceback": [
      "\u001b[0;31m---------------------------------------------------------------------------\u001b[0m",
      "\u001b[0;31mNameError\u001b[0m                                 Traceback (most recent call last)",
      "\u001b[0;32m<ipython-input-52-2781c8a7a311>\u001b[0m in \u001b[0;36m<module>\u001b[0;34m\u001b[0m\n\u001b[1;32m      1\u001b[0m \u001b[0mtmp\u001b[0m \u001b[0;34m=\u001b[0m \u001b[0mnp\u001b[0m\u001b[0;34m.\u001b[0m\u001b[0msort\u001b[0m\u001b[0;34m(\u001b[0m\u001b[0myhat\u001b[0m\u001b[0;34m)\u001b[0m\u001b[0;34m\u001b[0m\u001b[0;34m\u001b[0m\u001b[0m\n\u001b[0;32m----> 2\u001b[0;31m \u001b[0mf1s\u001b[0m \u001b[0;34m=\u001b[0m \u001b[0mnp\u001b[0m\u001b[0;34m.\u001b[0m\u001b[0marray\u001b[0m\u001b[0;34m(\u001b[0m\u001b[0mf1s\u001b[0m\u001b[0;34m)\u001b[0m\u001b[0;34m\u001b[0m\u001b[0;34m\u001b[0m\u001b[0m\n\u001b[0m\u001b[1;32m      3\u001b[0m \u001b[0;34m\u001b[0m\u001b[0m\n\u001b[1;32m      4\u001b[0m \u001b[0mfig\u001b[0m \u001b[0;34m=\u001b[0m \u001b[0mplt\u001b[0m\u001b[0;34m.\u001b[0m\u001b[0mfigure\u001b[0m\u001b[0;34m(\u001b[0m\u001b[0mfigsize\u001b[0m\u001b[0;34m=\u001b[0m\u001b[0;34m(\u001b[0m\u001b[0;36m12\u001b[0m\u001b[0;34m,\u001b[0m \u001b[0;36m6\u001b[0m\u001b[0;34m)\u001b[0m\u001b[0;34m)\u001b[0m\u001b[0;34m\u001b[0m\u001b[0;34m\u001b[0m\u001b[0m\n\u001b[1;32m      5\u001b[0m \u001b[0;34m\u001b[0m\u001b[0m\n",
      "\u001b[0;31mNameError\u001b[0m: name 'f1s' is not defined"
     ]
    }
   ],
   "source": [
    "tmp = np.sort(yhat)\n",
    "f1s = np.array(f1s)\n",
    "\n",
    "fig = plt.figure(figsize=(12, 6))\n",
    "\n",
    "ax = fig.add_subplot(1, 2, 1)\n",
    "ax.plot(tmp, f1s[::-1])\n",
    "ax.vlines(thres, 0, 1, linestyles=\"--\")\n",
    "ax.set_xlabel('Threshold')\n",
    "ax.set_ylabel(\"F1 score\")\n",
    "ax.set_ylim([0, 1]);\n",
    "\n",
    "ax = fig.add_subplot(1, 2, 2)\n",
    "ax.plot(tmp[::-1], label=\"Predicted probability\")\n",
    "ax.plot(f1s, label='F1')\n",
    "ax.plot(f1s/2, label='F1/2')\n",
    "ax.set_xlabel('Index')\n",
    "ax.legend()\n",
    "ax.set_ylim([0, 1]);"
   ]
  },
  {
   "cell_type": "code",
   "execution_count": 54,
   "metadata": {},
   "outputs": [
    {
     "name": "stdout",
     "output_type": "stream",
     "text": [
      "Metrics Score on best Random Forest model on Testing Set\n",
      "Macro Recall=0.73\n",
      "Macro Precision=0.73\n",
      "Macro F1 Score=0.73\n",
      "Macro ROC AUC=0.81\n",
      "Macro AUPRC=0.83\n",
      "Macro Simple Accuracy=0.73\n"
     ]
    }
   ],
   "source": [
    "print('Metrics Score on best Random Forest model on Testing Set')\n",
    "print('Macro Recall=%.2f' %(recall_score(test_y, pred, average='macro')))\n",
    "print('Macro Precision=%.2f' %(precision_score(test_y, pred, average='macro')))\n",
    "print('Macro F1 Score=%.2f' %(f1_score(test_y, pred, average='macro')))\n",
    "print('Macro ROC AUC=%.2f' %(roc_auc_score(test_y, yhat[:,1], average='macro')))\n",
    "print('Macro AUPRC=%.2f' %(average_precision_score(test_y, yhat[:,1], average='macro')))\n",
    "print('Macro Simple Accuracy=%.2f' %(accuracy_score(test_y, pred)))"
   ]
  },
  {
   "cell_type": "code",
   "execution_count": 57,
   "metadata": {},
   "outputs": [
    {
     "data": {
      "image/png": "[encoded data removed]",
      "text/plain": [
       "<Figure size 640x480 with 1 Axes>"
      ]
     },
     "metadata": {},
     "output_type": "display_data"
    }
   ],
   "source": [
    "# from sklearn.metrics import roc_auc_score, roc_curve, calculated manually to adjust the plot\n",
    "# print(roc_curve(y_val,pred))\n",
    "plt.plot([0, 1], [0, 1], linestyle='--', label='No Skill')\n",
    "plt.plot([0,0.26,1], [0,0.71,1], marker='.')\n",
    "plt.title(\"ROC Curve\")\n",
    "plt.xlabel(\"False Positive Rate\")\n",
    "plt.ylabel(\"True positive rate\")\n",
    "plt.show()"
   ]
  },
  {
   "cell_type": "code",
   "execution_count": 58,
   "metadata": {},
   "outputs": [
    {
     "data": {
      "image/png": "[encoded data removed]",
      "text/plain": [
       "<Figure size 640x480 with 1 Axes>"
      ]
     },
     "metadata": {},
     "output_type": "display_data"
    }
   ],
   "source": [
    "# plotting macro recall and precision\n",
    "plt.plot([0, 1], [0, 0], linestyle='--', label='No Skill')\n",
    "plt.plot([1,.73,0], [0,.73,1], marker='.')\n",
    "plt.title(\"AUPCR Curve\")\n",
    "plt.xlabel(\"Recall\")\n",
    "plt.ylabel(\"Precision\")\n",
    "plt.show()"
   ]
  },
  {
   "cell_type": "markdown",
   "metadata": {},
   "source": [
    "## Hyper-parameter Tunning using Baysian Search for XGBoost Model"
   ]
  },
  {
   "cell_type": "code",
   "execution_count": null,
   "metadata": {},
   "outputs": [],
   "source": [
    "seed = 112 # Random seed\n",
    "\n",
    "def bayesian_optimization(train_X, train_y, eval_metrics=f1_score, cv=10):\n",
    "    \n",
    "#     def xgbc_cv(max_depth,learning_rate,n_estimators,reg_alpha,reg_lambda,gamma,subsample,colsample_bytree,min_child_weight):\n",
    "    def xgbc_cv(max_depth,learning_rate,n_estimators):\n",
    "        # Storing function paramters in a dictionary which further will be passed to estimator function \n",
    "        hyperparameters = {\n",
    "            'max_depth': int(max_depth),\n",
    "            'learning_rate': learning_rate,\n",
    "            'n_estimators': int(n_estimators)#,\n",
    "#             'reg_alpha': reg_alpha,\n",
    "#             'reg_lambda': reg_lambda,\n",
    "#             'gamma': gamma,\n",
    "#             'subsample': subsample,\n",
    "#             'colsample_bytree': colsample_bytree,\n",
    "#             'min_child_weight': min_child_weight\n",
    "        }\n",
    "\n",
    "        # Creating object of XGBClassifier class with paramters got as function parameters\n",
    "        estimator_function = XGBClassifier(\n",
    "            objective='binary:logistic',\n",
    "            nthread = -1,\n",
    "            seed = seed,\n",
    "            **hyperparameters\n",
    "        )\n",
    "\n",
    "\n",
    "        # We are performing K-fold cross validation to tune hyper-parameters, target metrics = F1 score\n",
    "        # We can change 'K' using `cv` parameter\n",
    "        scores = cross_val_score(estimator=estimator_function, X=train_X.values, y=train_y, scoring=make_scorer(eval_metrics), cv=cv, error_score=\"raise\")\n",
    "\n",
    "        return scores.mean()\n",
    "\n",
    "    \n",
    "    hyperparameter_space = {\n",
    "    'max_depth': (5, 15),\n",
    "    'learning_rate': (0.01, 0.5),\n",
    "    'n_estimators' : (50,150)#,\n",
    "#     'reg_alpha': (0.000001,2),\n",
    "#     'reg_lambda': (0.000001,2),\n",
    "#     'gamma': (0.0001,64),\n",
    "#     'subsample': (0.5, 1),\n",
    "#     'colsample_bytree': (0.3, 1),\n",
    "#     'min_child_weight': (0,1)\n",
    "    }\n",
    "\n",
    "    modelBO = BayesianOptimization(f=xgbc_cv, pbounds=hyperparameter_space, random_state=seed, verbose=10)\n",
    "    \n",
    "    return modelBO"
   ]
  },
  {
   "cell_type": "code",
   "execution_count": null,
   "metadata": {},
   "outputs": [],
   "source": [
    "# By default evluation metrics is f1 score and cross-validations are 10\n",
    "xgbcBO_ei = bayesian_optimization(X_train, y_train,cv=10)"
   ]
  },
  {
   "cell_type": "code",
   "execution_count": null,
   "metadata": {},
   "outputs": [],
   "source": [
    "%%time\n",
    "gp_params = {\"alpha\": 1e-10}\n",
    "# Finally we call .maximize method of the optimizer with the appropriate arguments\n",
    "# kappa is a measure of 'aggressiveness' of the bayesian optimization process\n",
    "# The algorithm will randomly choose 3 points (init_points) to establish a 'prior', then will perform \n",
    "# 10 interations (n_iter) to maximize the value of estimator function\n",
    "# xgbcBO_ei.maximize(init_points=3, n_iter=20, acq='ucb', kappa=3, **gp_params)\n",
    "xgbcBO_ei.maximize(init_points=3, n_iter=20, acq='ei', xi=1e-4, **gp_params)"
   ]
  },
  {
   "cell_type": "code",
   "execution_count": null,
   "metadata": {},
   "outputs": [],
   "source": [
    "xgbcBO_ei.max"
   ]
  },
  {
   "cell_type": "code",
   "execution_count": null,
   "metadata": {},
   "outputs": [],
   "source": [
    "# Fetching paramters corrosponding to best score (target)\n",
    "# xgbcBO_best_param = xgbcBO.res[np.argmax([x['target'] for x in xgbcBO.res])]['params']\n",
    "print(xgbcBO_ei.max)\n",
    "xgbcBO_ei_best_param1 = xgbcBO_ei.max['params']"
   ]
  },
  {
   "cell_type": "code",
   "execution_count": null,
   "metadata": {},
   "outputs": [],
   "source": [
    "%%time\n",
    "seed = 112 # Random seed\n",
    "\n",
    "#creating object of XGBClassifier class with best hyper-parameters obtained from BayesianOptimization\n",
    "xgbc_ei = XGBClassifier(\n",
    "    max_depth=int(xgbcBO_ei_best_param1['max_depth']),\n",
    "    learning_rate= round(xgbcBO_ei_best_param1['learning_rate'],2),\n",
    "    n_estimators= int(xgbcBO_ei_best_param1['n_estimators']),\n",
    "#     reg_alpha = round(xgbcBO_ei_best_param['reg_alpha'],2),\n",
    "#     reg_lambda = round(xgbcBO_ei_best_param['reg_lambda'],2),\n",
    "#     gamma = round(xgbcBO_ei_best_param['gamma'],2),\n",
    "#     subsample = round(xgbcBO_ei_best_param['subsample'],2),\n",
    "#     colsample_bytree = round(xgbcBO_ei_best_param['colsample_bytree'],2),\n",
    "#     nthread = -1,\n",
    "    objective='binary:logistic',\n",
    "    seed = seed)\n",
    "\n",
    "# Fitting the model\n",
    "xgbc_ei.fit(X_train.values, y_train)"
   ]
  },
  {
   "cell_type": "code",
   "execution_count": null,
   "metadata": {},
   "outputs": [],
   "source": [
    "pred = xgbc_ei.predict(X_train)\n",
    "print(\"XGBClassifier (TRAINING SET):\\n\", classification_report(y_train, pred))\n",
    "print(\"ROC AUC score for data: \", roc_auc_score(y_train, pred))"
   ]
  },
  {
   "cell_type": "code",
   "execution_count": null,
   "metadata": {},
   "outputs": [],
   "source": [
    "pred = xgbc_ei.predict(X_test)\n",
    "print(\"XGBClassifier (TESTING SET):\\n\", classification_report(y_test, pred))\n",
    "print(\"ROC AUC score for data: \", roc_auc_score(y_test, pred))"
   ]
  },
  {
   "cell_type": "code",
   "execution_count": null,
   "metadata": {},
   "outputs": [],
   "source": [
    "seed = 112 # Random seed\n",
    "\n",
    "def bayesian_optimization(train_X, train_y, eval_metrics=f1_score, cv=10):\n",
    "    \n",
    "#     def xgbc_cv(max_depth,learning_rate,n_estimators,reg_alpha,reg_lambda,gamma,subsample,colsample_bytree,min_child_weight):\n",
    "    def xgbc_cv(subsample,colsample_bytree,min_child_weight):\n",
    "        # Storing function paramters in a dictionary which further will be passed to estimator function \n",
    "        hyperparameters = {\n",
    "#             'max_depth': int(max_depth),\n",
    "#             'learning_rate': learning_rate,\n",
    "#             'n_estimators': int(n_estimators)#,\n",
    "#             'reg_alpha': reg_alpha,\n",
    "#             'reg_lambda': reg_lambda,\n",
    "#             'gamma': gamma,\n",
    "            'subsample': subsample,\n",
    "            'colsample_bytree': colsample_bytree,\n",
    "            'min_child_weight': min_child_weight\n",
    "        }\n",
    "\n",
    "        # Creating object of XGBClassifier class with paramters got as function parameters\n",
    "        estimator_function = XGBClassifier(\n",
    "            objective='binary:logistic',\n",
    "            nthread = -1,\n",
    "            seed = seed,\n",
    "            max_depth=int(xgbcBO_ei_best_param1['max_depth']),\n",
    "            learning_rate= round(xgbcBO_ei_best_param1['learning_rate'],2),\n",
    "            n_estimators= int(xgbcBO_ei_best_param1['n_estimators']),\n",
    "            **hyperparameters\n",
    "        )\n",
    "\n",
    "\n",
    "        # We are performing K-fold cross validation to tune hyper-parameters, target metrics = F1 score\n",
    "        # We can change 'K' using `cv` parameter\n",
    "        scores = cross_val_score(estimator=estimator_function, X=train_X.values, y=train_y, scoring=make_scorer(eval_metrics), cv=cv, error_score=\"raise\")\n",
    "\n",
    "        return scores.mean()\n",
    "\n",
    "    \n",
    "    hyperparameter_space = {\n",
    "#     'max_depth': (5, 15),\n",
    "#     'learning_rate': (0.01, 0.5),\n",
    "#     'n_estimators' : (50,150)#,\n",
    "#     'reg_alpha': (0.000001,2),\n",
    "#     'reg_lambda': (0.000001,2),\n",
    "#     'gamma': (0.0001,64),\n",
    "    'subsample': (0.5, 1),\n",
    "    'colsample_bytree': (0.3, 1),\n",
    "    'min_child_weight': (0,10)\n",
    "    }\n",
    "\n",
    "    modelBO = BayesianOptimization(f=xgbc_cv, pbounds=hyperparameter_space, random_state=seed, verbose=10)\n",
    "    \n",
    "    return modelBO"
   ]
  },
  {
   "cell_type": "code",
   "execution_count": null,
   "metadata": {},
   "outputs": [],
   "source": [
    "# By default evluation metrics is f1 score and cross-validations are 10\n",
    "xgbcBO_ei = bayesian_optimization(X_train, y_train,cv=10)"
   ]
  },
  {
   "cell_type": "code",
   "execution_count": null,
   "metadata": {},
   "outputs": [],
   "source": [
    "%%time\n",
    "gp_params = {\"alpha\": 1e-10}\n",
    "# Finally we call .maximize method of the optimizer with the appropriate arguments\n",
    "# kappa is a measure of 'aggressiveness' of the bayesian optimization process\n",
    "# The algorithm will randomly choose 3 points (init_points) to establish a 'prior', then will perform \n",
    "# 10 interations (n_iter) to maximize the value of estimator function\n",
    "# xgbcBO_ei.maximize(init_points=3, n_iter=20, acq='ucb', kappa=3, **gp_params)\n",
    "xgbcBO_ei.maximize(init_points=3, n_iter=20, acq='ei', xi=1e-4, **gp_params)"
   ]
  },
  {
   "cell_type": "code",
   "execution_count": null,
   "metadata": {},
   "outputs": [],
   "source": [
    "xgbcBO_ei.max"
   ]
  },
  {
   "cell_type": "code",
   "execution_count": null,
   "metadata": {},
   "outputs": [],
   "source": [
    "# Fetching paramters corrosponding to best score (target)\n",
    "# xgbcBO_best_param = xgbcBO.res[np.argmax([x['target'] for x in xgbcBO.res])]['params']\n",
    "print(xgbcBO_ei.max)\n",
    "xgbcBO_ei_best_param2 = xgbcBO_ei.max['params']"
   ]
  },
  {
   "cell_type": "code",
   "execution_count": null,
   "metadata": {},
   "outputs": [],
   "source": [
    "%%time\n",
    "seed = 112 # Random seed\n",
    "\n",
    "#creating object of XGBClassifier class with best hyper-parameters obtained from BayesianOptimization\n",
    "xgbc_ei = XGBClassifier(\n",
    "    max_depth=int(xgbcBO_ei_best_param1['max_depth']),\n",
    "    learning_rate= round(xgbcBO_ei_best_param1['learning_rate'],2),\n",
    "    n_estimators= int(xgbcBO_ei_best_param1['n_estimators']),\n",
    "#     reg_alpha = round(xgbcBO_ei_best_param['reg_alpha'],2),\n",
    "#     reg_lambda = round(xgbcBO_ei_best_param['reg_lambda'],2),\n",
    "#     gamma = round(xgbcBO_ei_best_param['gamma'],2),\n",
    "    subsample = round(xgbcBO_ei_best_param2['subsample'],2),\n",
    "    colsample_bytree = round(xgbcBO_ei_best_param2['colsample_bytree'],2),\n",
    "    min_child_weight = round(xgbcBO_ei_best_param2['min_child_weight'],2),\n",
    "    nthread = -1,\n",
    "    objective='binary:logistic',\n",
    "    seed = seed)\n",
    "\n",
    "# Fitting the model\n",
    "xgbc_ei.fit(X_train.values, y_train)"
   ]
  },
  {
   "cell_type": "code",
   "execution_count": null,
   "metadata": {},
   "outputs": [],
   "source": [
    "pred = xgbc_ei.predict(X_train)\n",
    "print(\"XGBClassifier (TRAINING SET):\\n\", classification_report(y_train, pred))\n",
    "print(\"ROC AUC score for data: \", roc_auc_score(y_train, pred))"
   ]
  },
  {
   "cell_type": "code",
   "execution_count": null,
   "metadata": {},
   "outputs": [],
   "source": [
    "pred = xgbc_ei.predict(X_test)\n",
    "print(\"XGBClassifier (TESTING SET):\\n\", classification_report(y_test, pred))\n",
    "print(\"ROC AUC score for data: \", roc_auc_score(y_test, pred))"
   ]
  },
  {
   "cell_type": "code",
   "execution_count": null,
   "metadata": {},
   "outputs": [],
   "source": [
    "seed = 112 # Random seed\n",
    "\n",
    "def bayesian_optimization(train_X, train_y, eval_metrics=f1_score, cv=10):\n",
    "    \n",
    "#     def xgbc_cv(max_depth,learning_rate,n_estimators,reg_alpha,reg_lambda,gamma,subsample,colsample_bytree,min_child_weight):\n",
    "    def xgbc_cv(reg_alpha,reg_lambda,gamma):\n",
    "        # Storing function paramters in a dictionary which further will be passed to estimator function \n",
    "        hyperparameters = {\n",
    "#             'max_depth': int(max_depth),\n",
    "#             'learning_rate': learning_rate,\n",
    "#             'n_estimators': int(n_estimators)#,\n",
    "            'reg_alpha': reg_alpha,\n",
    "            'reg_lambda': reg_lambda,\n",
    "            'gamma': gamma#,\n",
    "#             'subsample': subsample,\n",
    "#             'colsample_bytree': colsample_bytree,\n",
    "#             'min_child_weight': min_child_weight\n",
    "        }\n",
    "\n",
    "        # Creating object of XGBClassifier class with paramters got as function parameters\n",
    "        estimator_function = XGBClassifier(\n",
    "            objective='binary:logistic',\n",
    "            nthread = -1,\n",
    "            seed = seed,\n",
    "            max_depth=int(xgbcBO_ei_best_param1['max_depth']),\n",
    "            learning_rate= round(xgbcBO_ei_best_param1['learning_rate'],2),\n",
    "            n_estimators= int(xgbcBO_ei_best_param1['n_estimators']),\n",
    "            subsample = round(xgbcBO_ei_best_param2['subsample'],2),\n",
    "            colsample_bytree = round(xgbcBO_ei_best_param2['colsample_bytree'],2),\n",
    "            min_child_weight = round(xgbcBO_ei_best_param2['min_child_weight'],2),\n",
    "            **hyperparameters\n",
    "        )\n",
    "\n",
    "\n",
    "        # We are performing K-fold cross validation to tune hyper-parameters, target metrics = F1 score\n",
    "        # We can change 'K' using `cv` parameter\n",
    "        scores = cross_val_score(estimator=estimator_function, X=train_X.values, y=train_y, scoring=make_scorer(eval_metrics), cv=cv, error_score=\"raise\")\n",
    "\n",
    "        return scores.mean()\n",
    "\n",
    "    \n",
    "    hyperparameter_space = {\n",
    "#     'max_depth': (5, 15),\n",
    "#     'learning_rate': (0.01, 0.5),\n",
    "#     'n_estimators' : (50,150)#,\n",
    "    'reg_alpha': (0,25),\n",
    "    'reg_lambda': (0,25),\n",
    "    'gamma': (1,40),\n",
    "#     'subsample': (0.5, 1),\n",
    "#     'colsample_bytree': (0.3, 1),\n",
    "#     'min_child_weight': (0,10)\n",
    "    }\n",
    "\n",
    "    modelBO = BayesianOptimization(f=xgbc_cv, pbounds=hyperparameter_space, random_state=seed, verbose=10)\n",
    "    \n",
    "    return modelBO"
   ]
  },
  {
   "cell_type": "code",
   "execution_count": null,
   "metadata": {},
   "outputs": [],
   "source": [
    "# By default evluation metrics is f1 score and cross-validations are 10\n",
    "xgbcBO_ei = bayesian_optimization(X_train, y_train,cv=10)"
   ]
  },
  {
   "cell_type": "code",
   "execution_count": null,
   "metadata": {},
   "outputs": [],
   "source": [
    "%%time\n",
    "gp_params = {\"alpha\": 1e-10}\n",
    "# Finally we call .maximize method of the optimizer with the appropriate arguments\n",
    "# kappa is a measure of 'aggressiveness' of the bayesian optimization process\n",
    "# The algorithm will randomly choose 3 points (init_points) to establish a 'prior', then will perform \n",
    "# 10 interations (n_iter) to maximize the value of estimator function\n",
    "# xgbcBO_ei.maximize(init_points=3, n_iter=20, acq='ucb', kappa=3, **gp_params)\n",
    "xgbcBO_ei.maximize(init_points=3, n_iter=20, acq='ei', xi=1e-4, **gp_params)"
   ]
  },
  {
   "cell_type": "code",
   "execution_count": null,
   "metadata": {},
   "outputs": [],
   "source": [
    "xgbcBO_ei.max"
   ]
  },
  {
   "cell_type": "code",
   "execution_count": null,
   "metadata": {},
   "outputs": [],
   "source": [
    "# Fetching paramters corrosponding to best score (target)\n",
    "# xgbcBO_best_param = xgbcBO.res[np.argmax([x['target'] for x in xgbcBO.res])]['params']\n",
    "print(xgbcBO_ei.max)\n",
    "xgbcBO_ei_best_param3 = xgbcBO_ei.max['params']"
   ]
  },
  {
   "cell_type": "code",
   "execution_count": null,
   "metadata": {},
   "outputs": [],
   "source": [
    "%%time\n",
    "seed = 112 # Random seed\n",
    "\n",
    "#creating object of XGBClassifier class with best hyper-parameters obtained from BayesianOptimization\n",
    "xgbc_ei = XGBClassifier(\n",
    "    max_depth=int(xgbcBO_ei_best_param1['max_depth']),\n",
    "    learning_rate= round(xgbcBO_ei_best_param1['learning_rate'],2),\n",
    "    n_estimators= int(xgbcBO_ei_best_param1['n_estimators']),\n",
    "    reg_alpha = round(xgbcBO_ei_best_param3['reg_alpha'],2),\n",
    "    reg_lambda = round(xgbcBO_ei_best_param3['reg_lambda'],2),\n",
    "    gamma = round(xgbcBO_ei_best_param3['gamma'],2),\n",
    "    subsample = round(xgbcBO_ei_best_param2['subsample'],2),\n",
    "    colsample_bytree = round(xgbcBO_ei_best_param2['colsample_bytree'],2),\n",
    "    min_child_weight = round(xgbcBO_ei_best_param2['min_child_weight'],2),\n",
    "    nthread = -1,\n",
    "    objective='binary:logistic',\n",
    "    seed = seed)\n",
    "\n",
    "# Fitting the model\n",
    "xgbc_ei.fit(X_train.values, y_train)"
   ]
  },
  {
   "cell_type": "code",
   "execution_count": null,
   "metadata": {},
   "outputs": [],
   "source": [
    "pred = xgbc_ei.predict(X_train)\n",
    "print(\"XGBClassifier (TRAINING SET):\\n\", classification_report(y_train, pred))\n",
    "print(\"ROC AUC score for data: \", roc_auc_score(y_train, pred))"
   ]
  },
  {
   "cell_type": "code",
   "execution_count": null,
   "metadata": {},
   "outputs": [],
   "source": [
    "pred = xgbc_ei.predict(X_test)\n",
    "print(\"XGBClassifier (TESTING SET):\\n\", classification_report(y_test, pred))\n",
    "print(\"ROC AUC score for data: \", roc_auc_score(y_test, pred))"
   ]
  },
  {
   "cell_type": "markdown",
   "metadata": {},
   "source": [
    "### Fitting XGBoost Model with Best Paramaters"
   ]
  },
  {
   "cell_type": "code",
   "execution_count": null,
   "metadata": {},
   "outputs": [],
   "source": [
    "%%time\n",
    "seed = 112 # Random seed\n",
    "\n",
    "#creating object of XGBClassifier class with best hyper-parameters obtained from BayesianOptimization\n",
    "xgbc_best = XGBClassifier(\n",
    "    max_depth = 11,\n",
    "    learning_rate = 0.19,\n",
    "    n_estimators = 145,\n",
    "    reg_alpha = 12.09,\n",
    "    reg_lambda = 8.17,\n",
    "    gamma = 1.08,\n",
    "    subsample = 0.99,\n",
    "    colsample_bytree = 0.97,\n",
    "    min_child_weight = 5.83,\n",
    "    nthread = -1,\n",
    "    objective='binary:logistic',\n",
    "    seed = seed)\n",
    "\n",
    "# Fitting the model\n",
    "xgbc_best.fit(train_X.values, train_y)"
   ]
  },
  {
   "cell_type": "code",
   "execution_count": null,
   "metadata": {},
   "outputs": [],
   "source": [
    "pred_train = xgbc_best.predict(train_X)\n",
    "print(\"XGBClassifier (TRAINING SET):\\n\", classification_report(train_y, pred_train))\n",
    "print(\"ROC AUC score for data: \", roc_auc_score(train_y, xgbc_best.predict_proba(train_X)[:,1], average='weighted'))"
   ]
  },
  {
   "cell_type": "code",
   "execution_count": null,
   "metadata": {},
   "outputs": [],
   "source": [
    "pred_test = xgbc_best.predict(test_X)\n",
    "print(\"XGBClassifier (TESTING SET):\\n\", classification_report(test_y, pred_test))\n",
    "print(\"ROC AUC score for data: \", roc_auc_score(test_y, xgbc_best.predict_proba(test_X)[:,1], average='weighted'))"
   ]
  },
  {
   "cell_type": "markdown",
   "metadata": {},
   "source": [
    "#### Results on Train Set"
   ]
  },
  {
   "cell_type": "code",
   "execution_count": null,
   "metadata": {},
   "outputs": [],
   "source": [
    "print('Metrics Score on best XGBoost model on Training Set')\n",
    "print('Recall:'.ljust(20, \" \"),recall_score(train_y, pred_train, average='weighted'))\n",
    "print('Precision: '.ljust(20, \" \"),precision_score(train_y, pred_train, average='weighted'))\n",
    "print('F1: '.ljust(20, \" \"),f1_score(train_y, pred_train, average='weighted'))\n",
    "print('Simple Accuracy: '.ljust(20, \" \"),accuracy_score(train_y, pred_train))\n",
    "print('ROC AUC: '.ljust(20, \" \"),roc_auc_score(train_y, xgbc_best.predict_proba(train_X)[:,1], average='weighted'))\n",
    "print('AUPRC: '.ljust(20, \" \"),average_precision_score(train_y, xgbc_best.predict_proba(train_X)[:,1], average='weighted'))"
   ]
  },
  {
   "cell_type": "code",
   "execution_count": null,
   "metadata": {},
   "outputs": [],
   "source": [
    "plot_precision_recall_curve(estimator=xgbc_best, X=train_X, y=train_y, response_method='predict_proba', name='XGBoost')\n",
    "plt.title('Precision Recall Curve', size=15)\n",
    "# plt.savefig('Precision Recall Curve - XGBoost.png')\n",
    "plt.show()"
   ]
  },
  {
   "cell_type": "code",
   "execution_count": null,
   "metadata": {},
   "outputs": [],
   "source": [
    "plot_roc_curve(estimator=xgbc_best, X=train_X, y=train_y, response_method='predict_proba', name='XGBoost')\n",
    "plt.title('Receiver Operating Characteristic (ROC) Curve', size=15)\n",
    "# plt.savefig('Receiver Operating Characteristic (ROC) Curve.png')\n",
    "plt.show()"
   ]
  },
  {
   "cell_type": "code",
   "execution_count": null,
   "metadata": {},
   "outputs": [],
   "source": [
    "plot_confusion_matrix(estimator=xgbc_best, X=train_X, y_true=train_y, cmap='Blues',values_format='.0f')\n",
    "plt.title('Confusion Matrix', size=15)\n",
    "# plt.savefig('Confusion Matrix.png')\n",
    "plt.show()"
   ]
  },
  {
   "cell_type": "markdown",
   "metadata": {},
   "source": [
    "#### Results on Test Set"
   ]
  },
  {
   "cell_type": "code",
   "execution_count": null,
   "metadata": {},
   "outputs": [],
   "source": [
    "print('Metrics Score on best XGBoost model on Testing Set')\n",
    "print('Recall:'.ljust(20, \" \"),recall_score(test_y, pred_test, average='weighted'))\n",
    "print('Precision: '.ljust(20, \" \"),precision_score(test_y, pred_test, average='weighted'))\n",
    "print('F1: '.ljust(20, \" \"),f1_score(test_y, pred_test, average='weighted'))\n",
    "print('Simple Accuracy: '.ljust(20, \" \"),accuracy_score(test_y, pred_test))\n",
    "print('ROC AUC: '.ljust(20, \" \"),roc_auc_score(test_y, xgbc_best.predict_proba(test_X)[:,1], average='weighted'))\n",
    "print('AUPRC: '.ljust(20, \" \"),average_precision_score(test_y, xgbc_best.predict_proba(test_X)[:,1], average='weighted'))"
   ]
  },
  {
   "cell_type": "code",
   "execution_count": null,
   "metadata": {},
   "outputs": [],
   "source": [
    "plot_precision_recall_curve(estimator=xgbc_best, X=test_X, y=test_y, response_method='predict_proba', name='XGBoost')\n",
    "plt.title('Precision Recall Curve', size=15)\n",
    "# plt.savefig('Precision Recall Curve - XGBoost.png')\n",
    "plt.show()"
   ]
  },
  {
   "cell_type": "code",
   "execution_count": null,
   "metadata": {},
   "outputs": [],
   "source": [
    "plot_roc_curve(estimator=xgbc_best, X=test_X, y=test_y, response_method='predict_proba', name='XGBoost')\n",
    "plt.title('Receiver Operating Characteristic (ROC) Curve', size=15)\n",
    "# plt.savefig('Receiver Operating Characteristic (ROC) Curve.png')\n",
    "plt.show()"
   ]
  },
  {
   "cell_type": "code",
   "execution_count": null,
   "metadata": {},
   "outputs": [],
   "source": [
    "plot_confusion_matrix(estimator=xgbc_best, X=test_X, y_true=test_y, cmap='Blues',values_format='.0f')\n",
    "plt.title('Confusion Matrix', size=15)\n",
    "# plt.savefig('Confusion Matrix.png')\n",
    "plt.show()"
   ]
  },
  {
   "cell_type": "code",
   "execution_count": null,
   "metadata": {},
   "outputs": [],
   "source": [
    "pd.Series(xgbc_best.feature_importances_, index=train_X.columns).sort_values(ascending=True)[-15:].plot(kind='barh', figsize=(6,6))\n",
    "# plt.savefig('Feature Importance XGBoost.png')\n",
    "plt.show()"
   ]
  },
  {
   "cell_type": "markdown",
   "metadata": {},
   "source": [
    "## Saving Final (Best) ML Model"
   ]
  },
  {
   "cell_type": "code",
   "execution_count": null,
   "metadata": {},
   "outputs": [],
   "source": [
    "# WRITE\n",
    "s3_client = boto3.client('s3')\n",
    "\n",
    "with tempfile.TemporaryFile() as fp:\n",
    "    joblib.dump(xgbc_best, fp)\n",
    "    fp.seek(0)\n",
    "    s3_client.put_object(Body=fp.read(), Bucket=bucket, Key=model_name_and_path)\n",
    "print(f'Model saved at this location ------> s3://{bucket}/{model_name_and_path}')"
   ]
  },
  {
   "cell_type": "code",
   "execution_count": null,
   "metadata": {},
   "outputs": [],
   "source": [
    "# # READ\n",
    "# s3_client = boto3.client('s3')\n",
    "\n",
    "# with tempfile.TemporaryFile() as fp:\n",
    "#     s3_client.download_fileobj(Fileobj=fp, Bucket=bucket, Key=model_name_and_path)\n",
    "#     fp.seek(0)\n",
    "#     model = joblib.load(fp)"
   ]
  },
  {
   "cell_type": "markdown",
   "metadata": {},
   "source": [
    "## Using SHAP values to interpret the model"
   ]
  },
  {
   "cell_type": "code",
   "execution_count": null,
   "metadata": {},
   "outputs": [],
   "source": [
    "# Fits the explainer\n",
    "explainer = shap.Explainer(xgbc_best.predict, test_X[:2000])\n",
    "# Calculates the SHAP values - It takes some time\n",
    "shap_values = explainer(test_X[:2000])"
   ]
  },
  {
   "cell_type": "code",
   "execution_count": null,
   "metadata": {},
   "outputs": [],
   "source": [
    "pred_prob = xgbc_best.predict(test_X[:2000])"
   ]
  },
  {
   "cell_type": "code",
   "execution_count": null,
   "metadata": {},
   "outputs": [],
   "source": [
    "pred_prob.mean()"
   ]
  },
  {
   "cell_type": "code",
   "execution_count": null,
   "metadata": {},
   "outputs": [],
   "source": [
    "shap_values.base_values"
   ]
  },
  {
   "cell_type": "code",
   "execution_count": null,
   "metadata": {},
   "outputs": [],
   "source": [
    "shap.initjs()\n",
    "shap.plots.force(shap_values.base_values[5],shap_values.values[5], feature_names=test_X.columns)"
   ]
  },
  {
   "cell_type": "code",
   "execution_count": null,
   "metadata": {},
   "outputs": [],
   "source": [
    "shap.plots.force(shap_values.base_values[2],shap_values.values[2], feature_names=test_X.columns)"
   ]
  },
  {
   "cell_type": "code",
   "execution_count": null,
   "metadata": {},
   "outputs": [],
   "source": [
    "f = plt.figure()\n",
    "shap.summary_plot(shap_values)\n",
    "# f.savefig('shap.png',bbox_inches='tight', dpi=600)"
   ]
  },
  {
   "cell_type": "code",
   "execution_count": null,
   "metadata": {},
   "outputs": [],
   "source": [
    "f = plt.figure()\n",
    "shap.plots.bar(shap_values, max_display=15)\n",
    "# f.savefig('shap.png',bbox_inches='tight', dpi=600)"
   ]
  },
  {
   "cell_type": "code",
   "execution_count": null,
   "metadata": {},
   "outputs": [],
   "source": [
    "shap.decision_plot(shap_values.base_values[0], shap_values.values[0])"
   ]
  },
  {
   "cell_type": "code",
   "execution_count": null,
   "metadata": {},
   "outputs": [],
   "source": [
    "sex = [\"ER Contributing\" if shap_values[i,\"er_hsa_contribution_flag_new_1\"].data == 1 else \"ER not Contributing\" for i in range(shap_values.shape[0])]\n",
    "shap.plots.bar(shap_values.cohorts(sex).abs.mean(0))"
   ]
  },
  {
   "cell_type": "code",
   "execution_count": null,
   "metadata": {},
   "outputs": [],
   "source": [
    "shap.plots.bar(shap_values.cohorts(3).abs.mean(0))"
   ]
  },
  {
   "cell_type": "code",
   "execution_count": null,
   "metadata": {},
   "outputs": [],
   "source": [
    "shap_df = pd.DataFrame(shap_values.values, columns=train_X.columns)\n",
    "shap_df.shape"
   ]
  },
  {
   "cell_type": "code",
   "execution_count": null,
   "metadata": {},
   "outputs": [],
   "source": [
    "shap_df.head()"
   ]
  },
  {
   "cell_type": "code",
   "execution_count": null,
   "metadata": {},
   "outputs": [],
   "source": [
    "data_df = pd.DataFrame(shap_values.data, columns=train_X.columns)\n",
    "data_df.shape"
   ]
  },
  {
   "cell_type": "code",
   "execution_count": null,
   "metadata": {},
   "outputs": [],
   "source": [
    "data_df.head(3)"
   ]
  },
  {
   "cell_type": "code",
   "execution_count": null,
   "metadata": {},
   "outputs": [],
   "source": [
    "corr_coef = []\n",
    "for col in train_X.columns:\n",
    "    corr_coef.append(np.corrcoef(shap_df[col],data_df[col])[1][0])"
   ]
  },
  {
   "cell_type": "code",
   "execution_count": null,
   "metadata": {},
   "outputs": [],
   "source": [
    "color_list = ['blue' if i>0 else 'red' for i in corr_coef]"
   ]
  },
  {
   "cell_type": "code",
   "execution_count": null,
   "metadata": {},
   "outputs": [],
   "source": [
    "plot_df = pd.DataFrame(shap_df.abs().mean(axis=0), columns=['mean(|SHAP values|)'])\n",
    "plot_df['corr_coef'] = corr_coef\n",
    "plot_df['corr color'] = color_list\n",
    "plot_df = plot_df.sort_values('mean(|SHAP values|)', ascending=True).reset_index()\n",
    "plot_df = plot_df.iloc[-10:,:]\n",
    "colorlist = plot_df['corr color']"
   ]
  },
  {
   "cell_type": "code",
   "execution_count": null,
   "metadata": {},
   "outputs": [],
   "source": [
    "# f = plt.figure()\n",
    "plot_df.plot.barh(x='index', y='mean(|SHAP values|)',color=colorlist, figsize=(5,6), legend=False)\n",
    "plt.xlabel(\"mean(|SHAP Value|) (Blue = Positive Impact)\")\n",
    "plt.ylabel('')\n",
    "plt.savefig('shap.png',bbox_inches='tight', dpi=600)\n",
    "plt.show()"
   ]
  },
  {
   "cell_type": "code",
   "execution_count": null,
   "metadata": {},
   "outputs": [],
   "source": [
    "# Fits the explainer\n",
    "explainer = shap.Explainer(xgbc_best.predict, test_X[:200])\n",
    "# Calculates the SHAP values - It takes some time\n",
    "shap_values = explainer(test_X[:100])"
   ]
  },
  {
   "cell_type": "code",
   "execution_count": null,
   "metadata": {},
   "outputs": [],
   "source": [
    "pred_prob = xgbc_best.predict(test_X[:100])"
   ]
  },
  {
   "cell_type": "code",
   "execution_count": null,
   "metadata": {},
   "outputs": [],
   "source": [
    "pred_prob.mean()"
   ]
  },
  {
   "cell_type": "code",
   "execution_count": null,
   "metadata": {},
   "outputs": [],
   "source": [
    "shap_values.base_values"
   ]
  },
  {
   "cell_type": "code",
   "execution_count": null,
   "metadata": {},
   "outputs": [],
   "source": [
    "# shap.initjs()\n",
    "# shap.plots.force(shap_values.base_values[5],shap_values.values[5], feature_names=test_X.columns)"
   ]
  },
  {
   "cell_type": "code",
   "execution_count": null,
   "metadata": {},
   "outputs": [],
   "source": [
    "# shap.plots.force(shap_values.base_values[2],shap_values.values[2], feature_names=test_X.columns)"
   ]
  },
  {
   "cell_type": "code",
   "execution_count": null,
   "metadata": {},
   "outputs": [],
   "source": [
    "explainer."
   ]
  },
  {
   "cell_type": "code",
   "execution_count": null,
   "metadata": {},
   "outputs": [],
   "source": [
    "f = plt.figure()\n",
    "shap.summary_plot(shap_values,plot_type=\"bar\")\n",
    "# f.savefig('shap.png',bbox_inches='tight', dpi=600)"
   ]
  },
  {
   "cell_type": "code",
   "execution_count": null,
   "metadata": {},
   "outputs": [],
   "source": [
    "f = plt.figure()\n",
    "shap.plots.bar(shap_values, max_display=15)\n",
    "# f.savefig('shap.png',bbox_inches='tight', dpi=600)"
   ]
  },
  {
   "cell_type": "code",
   "execution_count": null,
   "metadata": {},
   "outputs": [],
   "source": [
    "# Fits the explainer\n",
    "explainer1 = shap.TreeExplainer(xgbc_best, model_output=\"margin\")\n",
    "# Calculates the SHAP values - It takes some time\n",
    "shap_values1 = explainer1.shap_values(test_X[:200].values)"
   ]
  },
  {
   "cell_type": "code",
   "execution_count": null,
   "metadata": {},
   "outputs": [],
   "source": [
    "shap_values1.base"
   ]
  },
  {
   "cell_type": "code",
   "execution_count": null,
   "metadata": {},
   "outputs": [],
   "source": [
    "np.mean(np.abs(shap_values1))"
   ]
  },
  {
   "cell_type": "code",
   "execution_count": null,
   "metadata": {},
   "outputs": [],
   "source": [
    "explainer1.expected_value"
   ]
  },
  {
   "cell_type": "code",
   "execution_count": null,
   "metadata": {},
   "outputs": [],
   "source": [
    "shap.decision_plot(base_value=explainer1.expected_value,shap_values=shap_values1[0],feature_names=test_X.columns.tolist())"
   ]
  },
  {
   "cell_type": "code",
   "execution_count": null,
   "metadata": {},
   "outputs": [],
   "source": [
    "shap.summary_plot(shap_values1, test_X[:100], plot_type=\"bar\")"
   ]
  },
  {
   "cell_type": "code",
   "execution_count": null,
   "metadata": {},
   "outputs": [],
   "source": [
    "pred_prob.mean()"
   ]
  },
  {
   "cell_type": "code",
   "execution_count": null,
   "metadata": {},
   "outputs": [],
   "source": [
    "shap_values.base_values"
   ]
  },
  {
   "cell_type": "code",
   "execution_count": null,
   "metadata": {},
   "outputs": [],
   "source": [
    "shap.initjs()\n",
    "shap.plots.force(shap_values.base_values[5],shap_values.values[5], feature_names=test_X.columns)"
   ]
  },
  {
   "cell_type": "code",
   "execution_count": null,
   "metadata": {},
   "outputs": [],
   "source": [
    "shap.plots.force(shap_values.base_values[5],shap_values.values[0], feature_names=test_X.columns)"
   ]
  },
  {
   "cell_type": "code",
   "execution_count": null,
   "metadata": {},
   "outputs": [],
   "source": [
    "f = plt.figure()\n",
    "shap.summary_plot(shap_values)\n",
    "# f.savefig('shap.png',bbox_inches='tight', dpi=600)"
   ]
  },
  {
   "cell_type": "code",
   "execution_count": null,
   "metadata": {},
   "outputs": [],
   "source": [
    "f = plt.figure()\n",
    "shap.plots.bar(shap_values, max_display=15)\n",
    "# f.savefig('shap.png',bbox_inches='tight', dpi=600)"
   ]
  },
  {
   "cell_type": "code",
   "execution_count": null,
   "metadata": {},
   "outputs": [],
   "source": [
    "%%time\n",
    "# Fits the explainer\n",
    "explainer = shap.Explainer(xgbc_best)\n",
    "# Calculates the SHAP values - It takes some time\n",
    "shap_values = explainer(test_X[:100])"
   ]
  },
  {
   "cell_type": "code",
   "execution_count": null,
   "metadata": {},
   "outputs": [],
   "source": [
    "pred_prob = xgbc_best.predict(test_X[:100])"
   ]
  },
  {
   "cell_type": "code",
   "execution_count": null,
   "metadata": {},
   "outputs": [],
   "source": [
    "pred_prob.mean()"
   ]
  },
  {
   "cell_type": "code",
   "execution_count": null,
   "metadata": {},
   "outputs": [],
   "source": [
    "shap_values.base_values"
   ]
  },
  {
   "cell_type": "code",
   "execution_count": null,
   "metadata": {},
   "outputs": [],
   "source": [
    "shap.initjs()\n",
    "shap.plots.force(shap_values.base_values[5],shap_values.values[5], feature_names=test_X.columns)"
   ]
  },
  {
   "cell_type": "code",
   "execution_count": null,
   "metadata": {},
   "outputs": [],
   "source": [
    "shap.plots.force(shap_values.base_values[5],shap_values.values[0], feature_names=test_X.columns)"
   ]
  },
  {
   "cell_type": "code",
   "execution_count": null,
   "metadata": {},
   "outputs": [],
   "source": [
    "shap.summary_plot(shap_values)"
   ]
  },
  {
   "cell_type": "code",
   "execution_count": null,
   "metadata": {},
   "outputs": [],
   "source": [
    "shap.plots.bar(shap_values, max_display=15)\n",
    "plt.savefig('shap.png')"
   ]
  },
  {
   "cell_type": "code",
   "execution_count": null,
   "metadata": {},
   "outputs": [],
   "source": [
    "shap.decision_plot(shap_values.base_values[0], shap_values.values[0])"
   ]
  },
  {
   "cell_type": "code",
   "execution_count": null,
   "metadata": {},
   "outputs": [],
   "source": [
    "sex = [\"ER Contributing\" if shap_values[i,\"er_hsa_contribution_flag_new_1\"].data == 1 else \"ER not Contributing\" for i in range(shap_values.shape[0])]\n",
    "shap.plots.bar(shap_values.cohorts(sex).abs.mean(0))"
   ]
  },
  {
   "cell_type": "code",
   "execution_count": null,
   "metadata": {},
   "outputs": [],
   "source": [
    "shap.plots.bar(shap_values.cohorts(3).abs.mean(0))"
   ]
  },
  {
   "cell_type": "code",
   "execution_count": null,
   "metadata": {},
   "outputs": [],
   "source": [
    "%%time\n",
    "# Fits the explainer\n",
    "explainer = shap.TreeExplainer(xgbc_best)\n",
    "# Calculates the SHAP values - It takes some time\n",
    "shap_values = explainer(test_X[:100])"
   ]
  },
  {
   "cell_type": "code",
   "execution_count": null,
   "metadata": {},
   "outputs": [],
   "source": [
    "pred_prob = xgbc_best.predict(test_X[:100])"
   ]
  },
  {
   "cell_type": "code",
   "execution_count": null,
   "metadata": {},
   "outputs": [],
   "source": [
    "pred_prob.mean()"
   ]
  },
  {
   "cell_type": "code",
   "execution_count": null,
   "metadata": {},
   "outputs": [],
   "source": [
    "shap_values.base_values"
   ]
  },
  {
   "cell_type": "code",
   "execution_count": null,
   "metadata": {},
   "outputs": [],
   "source": [
    "shap.initjs()\n",
    "shap.plots.force(shap_values.base_values[5],shap_values.values[5], feature_names=test_X.columns)"
   ]
  },
  {
   "cell_type": "code",
   "execution_count": null,
   "metadata": {},
   "outputs": [],
   "source": [
    "shap.plots.force(shap_values.base_values[5],shap_values.values[0], feature_names=test_X.columns)"
   ]
  },
  {
   "cell_type": "code",
   "execution_count": null,
   "metadata": {},
   "outputs": [],
   "source": [
    "shap.summary_plot(shap_values)"
   ]
  },
  {
   "cell_type": "code",
   "execution_count": null,
   "metadata": {},
   "outputs": [],
   "source": [
    "shap.plots.bar(shap_values, max_display=15)\n",
    "plt.savefig('shap.png')"
   ]
  },
  {
   "cell_type": "code",
   "execution_count": null,
   "metadata": {},
   "outputs": [],
   "source": [
    "shap.decision_plot(shap_values.base_values[0], shap_values.values[0])"
   ]
  },
  {
   "cell_type": "code",
   "execution_count": null,
   "metadata": {},
   "outputs": [],
   "source": [
    "# Fits the explainer\n",
    "explainer = shap.Explainer(xgbc_best.predict_proba, test_X[:100])\n",
    "# Calculates the SHAP values - It takes some time\n",
    "shap_values = explainer(test_X[:100])"
   ]
  },
  {
   "cell_type": "code",
   "execution_count": null,
   "metadata": {},
   "outputs": [],
   "source": [
    "pred_prob = xgbc_best.predict_proba(test_X[:100])"
   ]
  },
  {
   "cell_type": "code",
   "execution_count": null,
   "metadata": {},
   "outputs": [],
   "source": [
    "pred_prob[:, 1].mean()"
   ]
  },
  {
   "cell_type": "code",
   "execution_count": null,
   "metadata": {},
   "outputs": [],
   "source": [
    "shap_values.values[5,:,1]"
   ]
  },
  {
   "cell_type": "code",
   "execution_count": null,
   "metadata": {},
   "outputs": [],
   "source": [
    "# shap.initjs()\n",
    "shap.plots.force(shap_values.base_values[5,1],shap_values.values[5,:,1], feature_names=test_X.columns)"
   ]
  },
  {
   "cell_type": "code",
   "execution_count": null,
   "metadata": {},
   "outputs": [],
   "source": [
    "shap.plots.force(shap_values.base_values[0,1],shap_values.values[0,:,1], feature_names=test_X.columns)"
   ]
  },
  {
   "cell_type": "code",
   "execution_count": null,
   "metadata": {},
   "outputs": [],
   "source": [
    "shap.summary_plot(shap_values.values[:,:,1])"
   ]
  },
  {
   "cell_type": "code",
   "execution_count": null,
   "metadata": {},
   "outputs": [],
   "source": [
    "shap_values.values[:,:,1][0]"
   ]
  },
  {
   "cell_type": "code",
   "execution_count": null,
   "metadata": {},
   "outputs": [],
   "source": [
    "shap.plots.bar(shap_values.values[:,:,1], max_display=15)"
   ]
  }
 ],
 "metadata": {
  "instance_type": "ml.t3.medium",
  "kernelspec": {
   "display_name": "Python 3 (Data Science)",
   "language": "python",
   "name": "python3__SAGEMAKER_INTERNAL__arn:aws:sagemaker:us-east-1:081325390199:image/datascience-1.0"
  },
  "language_info": {
   "codemirror_mode": {
    "name": "ipython",
    "version": 3
   },
   "file_extension": ".py",
   "mimetype": "text/x-python",
   "name": "python",
   "nbconvert_exporter": "python",
   "pygments_lexer": "ipython3",
   "version": "3.7.10"
  }
 },
 "nbformat": 4,
 "nbformat_minor": 4
}
