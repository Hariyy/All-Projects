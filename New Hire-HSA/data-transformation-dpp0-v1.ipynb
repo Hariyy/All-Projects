{
 "cells": [
  {
   "cell_type": "markdown",
   "metadata": {},
   "source": [
    "# New Hire - Contribute to HSA\n",
    "\n",
    "Ensure new hires who enroll in  HDHP will also open and contribute to HSA within 30 days.\n",
    "\n",
    "Predict  which new hires are likely to enroll in HDHP but are not likely to open and contribute to the HSA within 30 days.\n",
    "\n",
    "For this analysis and modeling we are solely using *person_hm_choice_enrolled_integrated* (PHCE) table and we have tweaked the \"not likely to open and contribute to the HSA within 30 days from *hire date*\" to  \"not likely to open and contribute to the HSA within 30 days from *first date when they did new hire enrollment in hdhp medical plan*\"."
   ]
  },
  {
   "cell_type": "markdown",
   "metadata": {},
   "source": [
    "-----\n",
    "In this notebook, we will perform below steps\n",
    "- Load pre-processed data\n",
    "- Splitting the dataset into train (70%) and test (30%). Train set will be used to fit and transform the train set and transform test set \n",
    "- Transform above data to make it ready for ML model. This step include sub-steps\n",
    "    - Rolling up levels of categorical variables\n",
    "    - Imputing missing values of categorical variables by \"Unknown\"\n",
    "    - Imputing missing values of numeric variables by median based on employment status\n",
    "    - Handling data exceptions\n",
    "- Visualize distribution of target variable w.r.t predictors\n",
    "- Store tranformed training anf testing set in S3, which will be further used for ML modeling and evluation"
   ]
  },
  {
   "cell_type": "markdown",
   "metadata": {},
   "source": [
    "<font color='red'>\n",
    "We need to edit below two cells before running the whole script.\n",
    "    \n",
    "If not editted, data will be pulled and stored from S3 bucket as per given values.\n",
    "</font>"
   ]
  },
  {
   "cell_type": "markdown",
   "metadata": {},
   "source": [
    "### For Loading Pre-processed Data"
   ]
  },
  {
   "cell_type": "code",
   "execution_count": 2,
   "metadata": {},
   "outputs": [],
   "source": [
    "# Mention the bucket name where raw data is stored\n",
    "bucket='adl-core-dev-sagemaker-studio'\n",
    "\n",
    "# This is used to seperate different versions of data for whole lifecycle i.e., data pre-process, transformations, modeling and inferences.\n",
    "# Mention the version whre data is stored in given S3 bucket\n",
    "version = 'version-1'\n",
    "\n",
    "# Mention the path where pre-processed data is stored in S3. This will be used to tranform the data and make it ready for ML models.\n",
    "pre_processed_data_path = f'external/amitmittal/HSA/{version}/preprocessed-data'"
   ]
  },
  {
   "cell_type": "markdown",
   "metadata": {},
   "source": [
    "### For Storing Transformed Data "
   ]
  },
  {
   "cell_type": "code",
   "execution_count": 3,
   "metadata": {},
   "outputs": [],
   "source": [
    "# Mention the bucket name where transformed data will be stored. Usually there will no change in bucket name\n",
    "bucket='adl-core-dev-sagemaker-studio'\n",
    "\n",
    "# This is used to seperate different versions of data for whole lifecycle i.e., data pre-process, transformations, modeling and inferences.\n",
    "#Make sure \"version\" name is as per version of data pre-processing script. Eg. transformed-data-dpp0-v1.ipynb means \"version-1\"\n",
    "version = 'version-1'\n",
    "\n",
    "# This is used to seperate different versions of data transformation pipelines\n",
    "# Make sure \"dppn\" name is as per version of data transformation script. Eg. transformed-data-dpp0-v1.ipynb means \"dpp0\"\n",
    "dppn = 'dpp0'\n",
    "\n",
    "# Mention the directory where transformed training data  will be stored (data that will get at end of this script)\n",
    "# Default file name will be \"data.csv\", we can change it data export step.\n",
    "transformed_train_data_path = f'external/amitmittal/HSA/{version}/transformed-data/{dppn}/train'\n",
    "\n",
    "# Mention the directory where transformed testing data  will be stored (data that will get at end of this script)\n",
    "# Default file name will be \"data.csv\", we can change it data export step.\n",
    "transformed_test_data_path = f'external/amitmittal/HSA/{version}/transformed-data/{dppn}/test'"
   ]
  },
  {
   "cell_type": "code",
   "execution_count": 4,
   "metadata": {},
   "outputs": [
    {
     "name": "stdout",
     "output_type": "stream",
     "text": [
      "Looking in indexes: https://artifactory.alight.com/artifactory/api/pypi/python-pypi-remote/simple\n",
      "Requirement already satisfied: pandas in /opt/conda/lib/python3.7/site-packages (1.0.1)\n",
      "Collecting pandas\n",
      "  Using cached https://artifactory.alight.com/artifactory/api/pypi/python-pypi-remote/packages/packages/3e/0c/23764c4635dcb0a784a787498d56847b90ebf974e65f4ab4053a5d97b1a5/pandas-1.3.5-cp37-cp37m-manylinux_2_17_x86_64.manylinux2014_x86_64.whl (11.3 MB)\n",
      "Requirement already satisfied: python-dateutil>=2.7.3 in /opt/conda/lib/python3.7/site-packages (from pandas) (2.8.1)\n",
      "Requirement already satisfied: numpy>=1.17.3 in /opt/conda/lib/python3.7/site-packages (from pandas) (1.21.6)\n",
      "Requirement already satisfied: pytz>=2017.3 in /opt/conda/lib/python3.7/site-packages (from pandas) (2019.3)\n",
      "Requirement already satisfied: six>=1.5 in /opt/conda/lib/python3.7/site-packages (from python-dateutil>=2.7.3->pandas) (1.14.0)\n",
      "Installing collected packages: pandas\n",
      "  Attempting uninstall: pandas\n",
      "    Found existing installation: pandas 1.0.1\n",
      "    Uninstalling pandas-1.0.1:\n",
      "      Successfully uninstalled pandas-1.0.1\n",
      "Successfully installed pandas-1.3.5\n",
      "\u001b[33mWARNING: Running pip as the 'root' user can result in broken permissions and conflicting behaviour with the system package manager. It is recommended to use a virtual environment instead: https://pip.pypa.io/warnings/venv\u001b[0m\u001b[33m\n",
      "\u001b[0m"
     ]
    }
   ],
   "source": [
    "!pip install --upgrade pandas --index-url https://artifactory.alight.com/artifactory/api/pypi/python-pypi-remote/simple"
   ]
  },
  {
   "cell_type": "code",
   "execution_count": 8,
   "metadata": {},
   "outputs": [],
   "source": [
    "#importing librarires\n",
    "import pandas as pd\n",
    "import numpy as np\n",
    "import seaborn as sns\n",
    "import matplotlib.pyplot as plt\n",
    "import warnings\n",
    "import boto3\n",
    "import io\n",
    "import time\n",
    "\n",
    "from sklearn.model_selection import train_test_split\n",
    "%matplotlib inline\n",
    "pd.set_option('display.max_columns',None)\n",
    "warnings.filterwarnings('ignore')"
   ]
  },
  {
   "cell_type": "code",
   "execution_count": 9,
   "metadata": {},
   "outputs": [
    {
     "name": "stdout",
     "output_type": "stream",
     "text": [
      "CPU times: user 1.27 s, sys: 382 ms, total: 1.65 s\n",
      "Wall time: 5.12 s\n"
     ]
    },
    {
     "data": {
      "text/plain": [
       "(436719, 25)"
      ]
     },
     "execution_count": 9,
     "metadata": {},
     "output_type": "execute_result"
    }
   ],
   "source": [
    "%%time\n",
    "#importing raw dataset\n",
    "s3 = boto3.client('s3')\n",
    "key = f'{pre_processed_data_path}/data.csv'\n",
    "obj = s3.get_object(Bucket=bucket, Key=key)\n",
    "df = pd.read_csv(io.BytesIO(obj['Body'].read()))\n",
    "df.shape"
   ]
  },
  {
   "cell_type": "code",
   "execution_count": 10,
   "metadata": {},
   "outputs": [
    {
     "data": {
      "text/html": [
       "<div>\n",
       "<style scoped>\n",
       "    .dataframe tbody tr th:only-of-type {\n",
       "        vertical-align: middle;\n",
       "    }\n",
       "\n",
       "    .dataframe tbody tr th {\n",
       "        vertical-align: top;\n",
       "    }\n",
       "\n",
       "    .dataframe thead th {\n",
       "        text-align: right;\n",
       "    }\n",
       "</style>\n",
       "<table border=\"1\" class=\"dataframe\">\n",
       "  <thead>\n",
       "    <tr style=\"text-align: right;\">\n",
       "      <th></th>\n",
       "      <th>platform_id</th>\n",
       "      <th>client_id</th>\n",
       "      <th>client_name</th>\n",
       "      <th>client_industry</th>\n",
       "      <th>platform_person_internal_id</th>\n",
       "      <th>enrolled_option_description</th>\n",
       "      <th>enrolled_plan_cost</th>\n",
       "      <th>enrolled_annual_paycheck_deduction</th>\n",
       "      <th>person_age</th>\n",
       "      <th>person_gender_description</th>\n",
       "      <th>marital_status_description</th>\n",
       "      <th>person_expected_annual_base_salary</th>\n",
       "      <th>client_is_ysa</th>\n",
       "      <th>client_has_corporate_exchange</th>\n",
       "      <th>client_hm_large_market_or_enterprise</th>\n",
       "      <th>number_of_people_covered</th>\n",
       "      <th>enrolled_er_annual_hsa_contribution</th>\n",
       "      <th>mapped_person_employment_status_standard_value</th>\n",
       "      <th>mapped_enrolled_coverage_category_standard_value</th>\n",
       "      <th>source_system</th>\n",
       "      <th>enrollment_suggestion_source</th>\n",
       "      <th>enrolled_option_brand_code</th>\n",
       "      <th>enrolled_option_description_group</th>\n",
       "      <th>er_hsa_contribution_flag_new</th>\n",
       "      <th>label</th>\n",
       "    </tr>\n",
       "  </thead>\n",
       "  <tbody>\n",
       "    <tr>\n",
       "      <th>0</th>\n",
       "      <td>10021</td>\n",
       "      <td>9264</td>\n",
       "      <td>Stericycle; Inc.</td>\n",
       "      <td>Utilities and Energy</td>\n",
       "      <td>10021/100070010</td>\n",
       "      <td>HSA Basic Choice Plus</td>\n",
       "      <td>843.0</td>\n",
       "      <td>843.36</td>\n",
       "      <td>19.0</td>\n",
       "      <td>Male</td>\n",
       "      <td>Single</td>\n",
       "      <td>47840.0</td>\n",
       "      <td>Y</td>\n",
       "      <td>N</td>\n",
       "      <td>EB</td>\n",
       "      <td>1.0</td>\n",
       "      <td>0.0</td>\n",
       "      <td>Active</td>\n",
       "      <td>Participant Only</td>\n",
       "      <td>TBA_4X</td>\n",
       "      <td>UPoint Reimagine</td>\n",
       "      <td>CDP-MDCL-SA-PPO</td>\n",
       "      <td>NaN</td>\n",
       "      <td>0</td>\n",
       "      <td>1</td>\n",
       "    </tr>\n",
       "    <tr>\n",
       "      <th>1</th>\n",
       "      <td>10021</td>\n",
       "      <td>10801</td>\n",
       "      <td>Expedia; Inc.</td>\n",
       "      <td>Entertainment;Travel and Leisure</td>\n",
       "      <td>10021/100390006</td>\n",
       "      <td>Aetna Health Savings Plan</td>\n",
       "      <td>2076.0</td>\n",
       "      <td>2076.00</td>\n",
       "      <td>28.0</td>\n",
       "      <td>Female</td>\n",
       "      <td>Single</td>\n",
       "      <td>57000.0</td>\n",
       "      <td>N</td>\n",
       "      <td>N</td>\n",
       "      <td>EB</td>\n",
       "      <td>2.0</td>\n",
       "      <td>1500.0</td>\n",
       "      <td>Active</td>\n",
       "      <td>Participant and Spouse</td>\n",
       "      <td>TBA_4X</td>\n",
       "      <td>Others</td>\n",
       "      <td>PPO</td>\n",
       "      <td>NaN</td>\n",
       "      <td>1</td>\n",
       "      <td>1</td>\n",
       "    </tr>\n",
       "    <tr>\n",
       "      <th>2</th>\n",
       "      <td>10021</td>\n",
       "      <td>16516</td>\n",
       "      <td>PayPal</td>\n",
       "      <td>Business and Management Services</td>\n",
       "      <td>10021/100390027</td>\n",
       "      <td>UHC CDHP with HSA</td>\n",
       "      <td>598.0</td>\n",
       "      <td>598.00</td>\n",
       "      <td>28.0</td>\n",
       "      <td>Female</td>\n",
       "      <td>Single</td>\n",
       "      <td>35360.0</td>\n",
       "      <td>Y</td>\n",
       "      <td>N</td>\n",
       "      <td>EB</td>\n",
       "      <td>1.0</td>\n",
       "      <td>500.0</td>\n",
       "      <td>Active</td>\n",
       "      <td>Participant Only</td>\n",
       "      <td>TBA_4X</td>\n",
       "      <td>Others</td>\n",
       "      <td>CDP-MDCL-SA-PPO</td>\n",
       "      <td>NaN</td>\n",
       "      <td>1</td>\n",
       "      <td>1</td>\n",
       "    </tr>\n",
       "  </tbody>\n",
       "</table>\n",
       "</div>"
      ],
      "text/plain": [
       "   platform_id  client_id       client_name                   client_industry  \\\n",
       "0        10021       9264  Stericycle; Inc.              Utilities and Energy   \n",
       "1        10021      10801     Expedia; Inc.  Entertainment;Travel and Leisure   \n",
       "2        10021      16516            PayPal  Business and Management Services   \n",
       "\n",
       "  platform_person_internal_id enrolled_option_description  enrolled_plan_cost  \\\n",
       "0             10021/100070010       HSA Basic Choice Plus               843.0   \n",
       "1             10021/100390006   Aetna Health Savings Plan              2076.0   \n",
       "2             10021/100390027           UHC CDHP with HSA               598.0   \n",
       "\n",
       "   enrolled_annual_paycheck_deduction  person_age person_gender_description  \\\n",
       "0                              843.36        19.0                      Male   \n",
       "1                             2076.00        28.0                    Female   \n",
       "2                              598.00        28.0                    Female   \n",
       "\n",
       "  marital_status_description  person_expected_annual_base_salary  \\\n",
       "0                     Single                             47840.0   \n",
       "1                     Single                             57000.0   \n",
       "2                     Single                             35360.0   \n",
       "\n",
       "  client_is_ysa client_has_corporate_exchange  \\\n",
       "0             Y                             N   \n",
       "1             N                             N   \n",
       "2             Y                             N   \n",
       "\n",
       "  client_hm_large_market_or_enterprise  number_of_people_covered  \\\n",
       "0                                   EB                       1.0   \n",
       "1                                   EB                       2.0   \n",
       "2                                   EB                       1.0   \n",
       "\n",
       "   enrolled_er_annual_hsa_contribution  \\\n",
       "0                                  0.0   \n",
       "1                               1500.0   \n",
       "2                                500.0   \n",
       "\n",
       "  mapped_person_employment_status_standard_value  \\\n",
       "0                                         Active   \n",
       "1                                         Active   \n",
       "2                                         Active   \n",
       "\n",
       "  mapped_enrolled_coverage_category_standard_value source_system  \\\n",
       "0                                 Participant Only        TBA_4X   \n",
       "1                           Participant and Spouse        TBA_4X   \n",
       "2                                 Participant Only        TBA_4X   \n",
       "\n",
       "  enrollment_suggestion_source enrolled_option_brand_code  \\\n",
       "0             UPoint Reimagine            CDP-MDCL-SA-PPO   \n",
       "1                       Others                        PPO   \n",
       "2                       Others            CDP-MDCL-SA-PPO   \n",
       "\n",
       "  enrolled_option_description_group  er_hsa_contribution_flag_new  label  \n",
       "0                               NaN                             0      1  \n",
       "1                               NaN                             1      1  \n",
       "2                               NaN                             1      1  "
      ]
     },
     "execution_count": 10,
     "metadata": {},
     "output_type": "execute_result"
    }
   ],
   "source": [
    "df.head(3)"
   ]
  },
  {
   "cell_type": "code",
   "execution_count": 11,
   "metadata": {},
   "outputs": [
    {
     "data": {
      "text/plain": [
       "436719"
      ]
     },
     "execution_count": 11,
     "metadata": {},
     "output_type": "execute_result"
    }
   ],
   "source": [
    "df['platform_person_internal_id'].nunique()"
   ]
  },
  {
   "cell_type": "code",
   "execution_count": 12,
   "metadata": {},
   "outputs": [],
   "source": [
    "def cat_vs_cat_plot(predictor):\n",
    "    fig,axes = plt.subplots(1,2,figsize=(15,4))\n",
    "    df.groupby(predictor, observed=True, dropna=False, sort=False)['platform_person_internal_id'].count().plot(kind='bar',stacked=True,color='skyblue',legend=False,ax=axes[0])\n",
    "    #df[predictor].value_counts(sort=False).plot(kind='bar',ax=axes[0])\n",
    "    df.groupby(predictor, observed=True, dropna=False, sort=False)['label'].value_counts(normalize=True).unstack().plot(kind='bar',stacked=True,ax=axes[1])\n",
    "    plt.show()"
   ]
  },
  {
   "cell_type": "code",
   "execution_count": 13,
   "metadata": {},
   "outputs": [],
   "source": [
    "def cat_vs_cont_plot(predictor):\n",
    "    fig,axes = plt.subplots(1,2,figsize=(15,4))\n",
    "    sns.boxplot(data=df, x=predictor, y='label', orient='h', ax=axes[0])\n",
    "    sns.kdeplot(df[df['label']==0][predictor], shade=True, label=0, ax=axes[1])\n",
    "    sns.kdeplot(df[df['label']==1][predictor], shade=True, label=1, ax=axes[1])\n",
    "    plt.title(f'Count of NULL values in {predictor}: {df[predictor].isna().sum()}')\n",
    "    plt.show()"
   ]
  },
  {
   "cell_type": "code",
   "execution_count": 14,
   "metadata": {},
   "outputs": [
    {
     "data": {
      "text/plain": [
       "Index(['client_name', 'client_industry', 'platform_person_internal_id',\n",
       "       'enrolled_option_description', 'person_gender_description',\n",
       "       'marital_status_description', 'client_is_ysa',\n",
       "       'client_has_corporate_exchange', 'client_hm_large_market_or_enterprise',\n",
       "       'mapped_person_employment_status_standard_value',\n",
       "       'mapped_enrolled_coverage_category_standard_value', 'source_system',\n",
       "       'enrollment_suggestion_source', 'enrolled_option_brand_code',\n",
       "       'enrolled_option_description_group'],\n",
       "      dtype='object')"
      ]
     },
     "execution_count": 14,
     "metadata": {},
     "output_type": "execute_result"
    }
   ],
   "source": [
    "df.select_dtypes('O').columns"
   ]
  },
  {
   "cell_type": "code",
   "execution_count": 15,
   "metadata": {},
   "outputs": [
    {
     "data": {
      "image/png": "[encoded data removed]",
      "text/plain": [
       "<Figure size 1080x288 with 2 Axes>"
      ]
     },
     "metadata": {
      "needs_background": "light"
     },
     "output_type": "display_data"
    }
   ],
   "source": [
    "cat_vs_cat_plot('client_industry')"
   ]
  },
  {
   "cell_type": "markdown",
   "metadata": {},
   "source": [
    "We will keep client industry as it is for first run. Later we may rollup these to higher level."
   ]
  },
  {
   "cell_type": "code",
   "execution_count": 16,
   "metadata": {},
   "outputs": [],
   "source": [
    "agriculture_and_mining = ['Mining;Quarrying and Drilling','Agriculture; Forestry and Fishing']\n",
    "banking_and_finance = ['Banking and Finance']\n",
    "business_services = ['Rental and Leasing','Professional Services','Business and Personal Services','Business and Management Services']\n",
    "computer_service_and_software = ['High Tech','Electronics','Computers']\n",
    "consumer_misc_product_and_manufacturing = ['Repair and Maintenance']\n",
    "diversified_manufacturing = ['Real Estate','Manufacturing','Construction and Building Materials','Chemicals','Architecture & Engineering','Aerospace and Defense']\n",
    "education = ['Education']\n",
    "food_and_beverage = ['Food and Beverage']\n",
    "government = ['Public Sector and Government']\n",
    "healthcare_and_medical = ['Pharmaceutical and Chemicals','Healthcare','Health Services','Biotechnology; Pharmaceuticals and Medicine']\n",
    "insurance = ['Insurance']\n",
    "retail = ['Wholesale','Retail']\n",
    "telecom = ['Telecommunications and Publishings','Telecommunications Services']\n",
    "transport_and_storage = ['Automotive and Transportation']\n",
    "travel_recreation_and_leisure = ['Entertainment;Travel and Leisure']\n",
    "utilities_and_energy = ['Utilities and Energy']\n",
    "unknown = ['Unassigned','Not Applicable']"
   ]
  },
  {
   "cell_type": "code",
   "execution_count": 17,
   "metadata": {},
   "outputs": [],
   "source": [
    "df.loc[df['client_industry'].isin(agriculture_and_mining), 'client_industry_rollup'] = 'agriculture_and_mining'\n",
    "df.loc[df['client_industry'].isin(banking_and_finance), 'client_industry_rollup'] = 'banking_and_finance'\n",
    "df.loc[df['client_industry'].isin(business_services), 'client_industry_rollup'] = 'business_services'\n",
    "df.loc[df['client_industry'].isin(computer_service_and_software), 'client_industry_rollup'] = 'computer_service_and_software'\n",
    "df.loc[df['client_industry'].isin(consumer_misc_product_and_manufacturing), 'client_industry_rollup'] = 'consumer_misc_product_and_manufacturing'\n",
    "df.loc[df['client_industry'].isin(diversified_manufacturing), 'client_industry_rollup'] = 'diversified_manufacturing'\n",
    "df.loc[df['client_industry'].isin(education), 'client_industry_rollup'] = 'education'\n",
    "df.loc[df['client_industry'].isin(food_and_beverage), 'client_industry_rollup'] = 'food_and_beverage'\n",
    "df.loc[df['client_industry'].isin(government), 'client_industry_rollup'] = 'government'\n",
    "df.loc[df['client_industry'].isin(healthcare_and_medical), 'client_industry_rollup'] = 'healthcare_and_medical'\n",
    "df.loc[df['client_industry'].isin(insurance), 'client_industry_rollup'] = 'insurance'\n",
    "df.loc[df['client_industry'].isin(retail), 'client_industry_rollup'] = 'retail'\n",
    "df.loc[df['client_industry'].isin(telecom), 'client_industry_rollup'] = 'telecom'\n",
    "df.loc[df['client_industry'].isin(transport_and_storage), 'client_industry_rollup'] = 'transport_and_storage'\n",
    "df.loc[df['client_industry'].isin(travel_recreation_and_leisure), 'client_industry_rollup'] = 'travel_recreation_and_leisure'\n",
    "df.loc[df['client_industry'].isin(utilities_and_energy), 'client_industry_rollup'] = 'utilities_and_energy'\n",
    "df.loc[df['client_industry'].isin(unknown), 'client_industry_rollup'] = 'Unknown'\n",
    "df.loc[df['client_industry'].isnull(), 'client_industry_rollup'] = 'Unknown'"
   ]
  },
  {
   "cell_type": "code",
   "execution_count": 18,
   "metadata": {},
   "outputs": [
    {
     "data": {
      "image/png": "[encoded data removed]",
      "text/plain": [
       "<Figure size 1080x288 with 2 Axes>"
      ]
     },
     "metadata": {
      "needs_background": "light"
     },
     "output_type": "display_data"
    }
   ],
   "source": [
    "cat_vs_cat_plot('client_industry_rollup')"
   ]
  },
  {
   "cell_type": "code",
   "execution_count": 19,
   "metadata": {},
   "outputs": [
    {
     "data": {
      "image/png": "[encoded data removed]",
      "text/plain": [
       "<Figure size 1080x288 with 2 Axes>"
      ]
     },
     "metadata": {
      "needs_background": "light"
     },
     "output_type": "display_data"
    }
   ],
   "source": [
    "cat_vs_cat_plot('person_gender_description')"
   ]
  },
  {
   "cell_type": "markdown",
   "metadata": {},
   "source": [
    "We will be imputing missing values (nan values) with \"Unknown\" value for now."
   ]
  },
  {
   "cell_type": "code",
   "execution_count": 20,
   "metadata": {},
   "outputs": [],
   "source": [
    "df['person_gender_description'].fillna('Unknown', inplace=True)"
   ]
  },
  {
   "cell_type": "code",
   "execution_count": 21,
   "metadata": {},
   "outputs": [
    {
     "data": {
      "image/png": "[encoded data removed]",
      "text/plain": [
       "<Figure size 1080x288 with 2 Axes>"
      ]
     },
     "metadata": {
      "needs_background": "light"
     },
     "output_type": "display_data"
    }
   ],
   "source": [
    "cat_vs_cat_plot('person_gender_description')"
   ]
  },
  {
   "cell_type": "code",
   "execution_count": 22,
   "metadata": {},
   "outputs": [
    {
     "data": {
      "image/png": "[encoded data removed]",
      "text/plain": [
       "<Figure size 1080x288 with 2 Axes>"
      ]
     },
     "metadata": {
      "needs_background": "light"
     },
     "output_type": "display_data"
    }
   ],
   "source": [
    "cat_vs_cat_plot('marital_status_description')"
   ]
  },
  {
   "cell_type": "markdown",
   "metadata": {},
   "source": [
    "We will keep marital status values as it is for the first run of model, at later stage we may do some rollups.\n",
    "\n",
    "Also, we will be imputing missing values (nan values) with \"Unknown\" value for now."
   ]
  },
  {
   "cell_type": "code",
   "execution_count": 23,
   "metadata": {},
   "outputs": [
    {
     "data": {
      "text/plain": [
       "Single                        284393\n",
       "Unknown                        73124\n",
       "Married                        38788\n",
       "Married - Qualified            25131\n",
       "Married - Domestic Partner      3325\n",
       "Divorced                        3047\n",
       "Other                           1442\n",
       "Separated                        316\n",
       "Widowed                          315\n",
       "Invalid                           61\n",
       "Name: marital_status_description, dtype: int64"
      ]
     },
     "execution_count": 23,
     "metadata": {},
     "output_type": "execute_result"
    }
   ],
   "source": [
    "df['marital_status_description'].value_counts()"
   ]
  },
  {
   "cell_type": "code",
   "execution_count": 24,
   "metadata": {},
   "outputs": [],
   "source": [
    "single_list = ['Single']\n",
    "married_list = ['Married','Married - Qualified','Married - Domestic Partner']\n",
    "divorce_list = ['Divorced','Separated','Widowed']\n",
    "unknown_list = ['Unknown','Other','Invalid']"
   ]
  },
  {
   "cell_type": "code",
   "execution_count": 25,
   "metadata": {},
   "outputs": [],
   "source": [
    "df.loc[df['marital_status_description'].isin(single_list), 'marital_status_rollup'] = 'Single'\n",
    "df.loc[df['marital_status_description'].isin(married_list), 'marital_status_rollup'] = 'Married'\n",
    "df.loc[df['marital_status_description'].isin(divorce_list), 'marital_status_rollup'] = 'Divorce'\n",
    "df.loc[df['marital_status_description'].isin(unknown_list), 'marital_status_rollup'] = 'Unknown'\n",
    "df.loc[df['marital_status_description'].isnull(), 'marital_status_rollup'] = 'Unknown'"
   ]
  },
  {
   "cell_type": "code",
   "execution_count": 26,
   "metadata": {},
   "outputs": [
    {
     "data": {
      "image/png": "[encoded data removed]",
      "text/plain": [
       "<Figure size 1080x288 with 2 Axes>"
      ]
     },
     "metadata": {
      "needs_background": "light"
     },
     "output_type": "display_data"
    }
   ],
   "source": [
    "cat_vs_cat_plot('marital_status_rollup')"
   ]
  },
  {
   "cell_type": "code",
   "execution_count": 27,
   "metadata": {},
   "outputs": [
    {
     "data": {
      "image/png": "[encoded data removed]",
      "text/plain": [
       "<Figure size 1080x288 with 2 Axes>"
      ]
     },
     "metadata": {
      "needs_background": "light"
     },
     "output_type": "display_data"
    }
   ],
   "source": [
    "cat_vs_cat_plot('client_is_ysa')"
   ]
  },
  {
   "cell_type": "code",
   "execution_count": 28,
   "metadata": {},
   "outputs": [
    {
     "data": {
      "text/plain": [
       "CBA    165934\n",
       "Name: source_system, dtype: int64"
      ]
     },
     "execution_count": 28,
     "metadata": {},
     "output_type": "execute_result"
    }
   ],
   "source": [
    "df[df['client_is_ysa'].isnull()]['source_system'].value_counts()"
   ]
  },
  {
   "cell_type": "markdown",
   "metadata": {},
   "source": [
    "It seems for CBA clients values in `client_is_ysa` does not populate. Imputting missing values with \"Unknown\""
   ]
  },
  {
   "cell_type": "code",
   "execution_count": 29,
   "metadata": {},
   "outputs": [],
   "source": [
    "df['client_is_ysa'].fillna('Unknown', inplace=True)"
   ]
  },
  {
   "cell_type": "code",
   "execution_count": 30,
   "metadata": {},
   "outputs": [
    {
     "data": {
      "image/png": "[encoded data removed]",
      "text/plain": [
       "<Figure size 1080x288 with 2 Axes>"
      ]
     },
     "metadata": {
      "needs_background": "light"
     },
     "output_type": "display_data"
    }
   ],
   "source": [
    "cat_vs_cat_plot('client_is_ysa')"
   ]
  },
  {
   "cell_type": "code",
   "execution_count": 31,
   "metadata": {},
   "outputs": [
    {
     "data": {
      "image/png": "[encoded data removed]",
      "text/plain": [
       "<Figure size 1080x288 with 2 Axes>"
      ]
     },
     "metadata": {
      "needs_background": "light"
     },
     "output_type": "display_data"
    }
   ],
   "source": [
    "cat_vs_cat_plot('client_has_corporate_exchange')"
   ]
  },
  {
   "cell_type": "code",
   "execution_count": 32,
   "metadata": {},
   "outputs": [
    {
     "data": {
      "text/plain": [
       "CBA    165934\n",
       "Name: source_system, dtype: int64"
      ]
     },
     "execution_count": 32,
     "metadata": {},
     "output_type": "execute_result"
    }
   ],
   "source": [
    "df[df['client_has_corporate_exchange'].isnull()]['source_system'].value_counts()"
   ]
  },
  {
   "cell_type": "markdown",
   "metadata": {},
   "source": [
    "It seems for CBA clients values in `client_is_ysa` does not populate. Imputting missing values with \"Unknown\""
   ]
  },
  {
   "cell_type": "code",
   "execution_count": 33,
   "metadata": {},
   "outputs": [],
   "source": [
    "df['client_has_corporate_exchange'].fillna('Unknown', inplace=True)"
   ]
  },
  {
   "cell_type": "code",
   "execution_count": 34,
   "metadata": {},
   "outputs": [
    {
     "data": {
      "image/png": "[encoded data removed]",
      "text/plain": [
       "<Figure size 1080x288 with 2 Axes>"
      ]
     },
     "metadata": {
      "needs_background": "light"
     },
     "output_type": "display_data"
    }
   ],
   "source": [
    "cat_vs_cat_plot('client_has_corporate_exchange')"
   ]
  },
  {
   "cell_type": "code",
   "execution_count": 35,
   "metadata": {},
   "outputs": [
    {
     "data": {
      "image/png": "[encoded data removed]",
      "text/plain": [
       "<Figure size 1080x288 with 2 Axes>"
      ]
     },
     "metadata": {
      "needs_background": "light"
     },
     "output_type": "display_data"
    }
   ],
   "source": [
    "cat_vs_cat_plot('client_hm_large_market_or_enterprise')"
   ]
  },
  {
   "cell_type": "code",
   "execution_count": 36,
   "metadata": {},
   "outputs": [
    {
     "data": {
      "image/png": "[encoded data removed]",
      "text/plain": [
       "<Figure size 1080x288 with 2 Axes>"
      ]
     },
     "metadata": {
      "needs_background": "light"
     },
     "output_type": "display_data"
    }
   ],
   "source": [
    "cat_vs_cat_plot('mapped_person_employment_status_standard_value')"
   ]
  },
  {
   "cell_type": "markdown",
   "metadata": {},
   "source": [
    "We will keep employment status values as it is for the first run of model, at later stage we may do some rollups.\n",
    "\n",
    "Also, we will be imputing missing values (nan values) with \"Unknown\" value for now."
   ]
  },
  {
   "cell_type": "code",
   "execution_count": 37,
   "metadata": {},
   "outputs": [
    {
     "data": {
      "text/plain": [
       "Active                            400813\n",
       "Termination                        14834\n",
       "LOA - no Pay                        1898\n",
       "Retired                             1430\n",
       "LOA - with Pay                      1305\n",
       "Disability - Short Term              388\n",
       "Severance Pay                        367\n",
       "Layoff                               214\n",
       "Enrolled Beneficiary                  92\n",
       "COBRA Employee                        38\n",
       "LOA - Family Medical                  19\n",
       "Disability - Long Term or Perm        10\n",
       "LOA - Worker's Compensation            4\n",
       "LOA - Military                         4\n",
       "COBRA Dependent                        1\n",
       "Name: mapped_person_employment_status_standard_value, dtype: int64"
      ]
     },
     "execution_count": 37,
     "metadata": {},
     "output_type": "execute_result"
    }
   ],
   "source": [
    "df['mapped_person_employment_status_standard_value'].value_counts()"
   ]
  },
  {
   "cell_type": "code",
   "execution_count": 38,
   "metadata": {},
   "outputs": [],
   "source": [
    "active_list = ['Active','Disability - Long Term or Perm','Disability - Short Term','LOA - Family Medical','LOA - Military','LOA - no Pay','LOA - with Pay',\"LOA - Worker's Compensation\"]\n",
    "inactive_list = ['COBRA Employee','Deceased - In Service','Deceased - Out-of-Service','Layoff','Retired','Severance Pay','Termination']\n",
    "non_employee_list = ['COBRA Dependent','Enrolled Beneficiary','Enrolled QDRO']"
   ]
  },
  {
   "cell_type": "code",
   "execution_count": 39,
   "metadata": {},
   "outputs": [],
   "source": [
    "df.loc[df['mapped_person_employment_status_standard_value'].isin(active_list), 'employment_status_rollup'] = 'Active'\n",
    "df.loc[df['mapped_person_employment_status_standard_value'].isin(inactive_list), 'employment_status_rollup'] = 'Inactive'\n",
    "df.loc[df['mapped_person_employment_status_standard_value'].isin(non_employee_list), 'employment_status_rollup'] = 'Non-Employee'\n",
    "df.loc[df['mapped_person_employment_status_standard_value'].isnull(), 'employment_status_rollup'] = 'Unknown'"
   ]
  },
  {
   "cell_type": "code",
   "execution_count": 40,
   "metadata": {},
   "outputs": [
    {
     "data": {
      "image/png": "[encoded data removed]",
      "text/plain": [
       "<Figure size 1080x288 with 2 Axes>"
      ]
     },
     "metadata": {
      "needs_background": "light"
     },
     "output_type": "display_data"
    }
   ],
   "source": [
    "cat_vs_cat_plot('employment_status_rollup')"
   ]
  },
  {
   "cell_type": "code",
   "execution_count": 41,
   "metadata": {},
   "outputs": [
    {
     "data": {
      "image/png": "[encoded data removed]",
      "text/plain": [
       "<Figure size 1080x288 with 2 Axes>"
      ]
     },
     "metadata": {
      "needs_background": "light"
     },
     "output_type": "display_data"
    }
   ],
   "source": [
    "cat_vs_cat_plot('mapped_enrolled_coverage_category_standard_value')"
   ]
  },
  {
   "cell_type": "markdown",
   "metadata": {},
   "source": [
    "We will keep coverage category values as it is for the first run of model, at later stage we may do some rollups.\n",
    "\n",
    "Also, we will be imputing missing values (nan values) with \"Unknown\" value for now."
   ]
  },
  {
   "cell_type": "code",
   "execution_count": 42,
   "metadata": {},
   "outputs": [
    {
     "data": {
      "text/plain": [
       "Participant Only              270116\n",
       "Participant and Family         66611\n",
       "Participant and Child(ren)     38896\n",
       "Participant and Spouse         36172\n",
       "Participant and Dependent       4009\n",
       "Spouse Only                      231\n",
       "Spouse and Child(ren)             27\n",
       "Child(ren) Only                   11\n",
       "Name: mapped_enrolled_coverage_category_standard_value, dtype: int64"
      ]
     },
     "execution_count": 42,
     "metadata": {},
     "output_type": "execute_result"
    }
   ],
   "source": [
    "df['mapped_enrolled_coverage_category_standard_value'].value_counts()"
   ]
  },
  {
   "cell_type": "code",
   "execution_count": 43,
   "metadata": {},
   "outputs": [],
   "source": [
    "covering_self_list = ['Participant Only']\n",
    "covering_family_list = ['Participant and Family','Participant and Child(ren)','Participant and Spouse','Participant and Dependent']\n",
    "covering_others = ['Spouse Only','Spouse and Child(ren)','Child(ren) Only']"
   ]
  },
  {
   "cell_type": "code",
   "execution_count": 44,
   "metadata": {},
   "outputs": [],
   "source": [
    "df.loc[df['mapped_enrolled_coverage_category_standard_value'].isin(covering_self_list), 'coverage_category_rollup'] = 'Covering_Self'\n",
    "df.loc[df['mapped_enrolled_coverage_category_standard_value'].isin(covering_family_list), 'coverage_category_rollup'] = 'Covering_Family'\n",
    "df.loc[df['mapped_enrolled_coverage_category_standard_value'].isin(covering_others), 'coverage_category_rollup'] = 'Covering_Others'\n",
    "df.loc[df['mapped_enrolled_coverage_category_standard_value'].isnull(), 'coverage_category_rollup'] = 'Unknown'"
   ]
  },
  {
   "cell_type": "code",
   "execution_count": 45,
   "metadata": {},
   "outputs": [
    {
     "data": {
      "image/png": "[encoded data removed]",
      "text/plain": [
       "<Figure size 1080x288 with 2 Axes>"
      ]
     },
     "metadata": {
      "needs_background": "light"
     },
     "output_type": "display_data"
    }
   ],
   "source": [
    "cat_vs_cat_plot('coverage_category_rollup')"
   ]
  },
  {
   "cell_type": "code",
   "execution_count": 46,
   "metadata": {},
   "outputs": [
    {
     "data": {
      "image/png": "[encoded data removed]",
      "text/plain": [
       "<Figure size 1080x288 with 2 Axes>"
      ]
     },
     "metadata": {
      "needs_background": "light"
     },
     "output_type": "display_data"
    }
   ],
   "source": [
    "cat_vs_cat_plot('source_system')"
   ]
  },
  {
   "cell_type": "code",
   "execution_count": 47,
   "metadata": {},
   "outputs": [
    {
     "data": {
      "image/png": "[encoded data removed]",
      "text/plain": [
       "<Figure size 1080x288 with 2 Axes>"
      ]
     },
     "metadata": {
      "needs_background": "light"
     },
     "output_type": "display_data"
    }
   ],
   "source": [
    "cat_vs_cat_plot('enrollment_suggestion_source')"
   ]
  },
  {
   "cell_type": "code",
   "execution_count": 48,
   "metadata": {},
   "outputs": [
    {
     "data": {
      "text/plain": [
       "CBA    165934\n",
       "Name: source_system, dtype: int64"
      ]
     },
     "execution_count": 48,
     "metadata": {},
     "output_type": "execute_result"
    }
   ],
   "source": [
    "df[df['enrollment_suggestion_source'].isnull()]['source_system'].value_counts()"
   ]
  },
  {
   "cell_type": "markdown",
   "metadata": {},
   "source": [
    "It seems for CBA clients values in `enrollment_suggestion_source` does not populate. Imputting missing values with \"Unknown\""
   ]
  },
  {
   "cell_type": "code",
   "execution_count": 49,
   "metadata": {},
   "outputs": [],
   "source": [
    "df['enrollment_suggestion_source'].fillna('Unknown', inplace=True)"
   ]
  },
  {
   "cell_type": "code",
   "execution_count": 50,
   "metadata": {},
   "outputs": [
    {
     "data": {
      "image/png": "[encoded data removed]",
      "text/plain": [
       "<Figure size 1080x288 with 2 Axes>"
      ]
     },
     "metadata": {
      "needs_background": "light"
     },
     "output_type": "display_data"
    }
   ],
   "source": [
    "cat_vs_cat_plot('enrollment_suggestion_source')"
   ]
  },
  {
   "cell_type": "code",
   "execution_count": 51,
   "metadata": {},
   "outputs": [
    {
     "data": {
      "image/png": "[encoded data removed]",
      "text/plain": [
       "<Figure size 1080x288 with 2 Axes>"
      ]
     },
     "metadata": {
      "needs_background": "light"
     },
     "output_type": "display_data"
    }
   ],
   "source": [
    "cat_vs_cat_plot('enrolled_option_brand_code')"
   ]
  },
  {
   "cell_type": "code",
   "execution_count": 52,
   "metadata": {},
   "outputs": [
    {
     "data": {
      "text/plain": [
       "CBA       165934\n",
       "TBA_3X     20590\n",
       "TBA_4X       107\n",
       "Name: source_system, dtype: int64"
      ]
     },
     "execution_count": 52,
     "metadata": {},
     "output_type": "execute_result"
    }
   ],
   "source": [
    "df[df['enrolled_option_brand_code'].isnull()]['source_system'].value_counts()"
   ]
  },
  {
   "cell_type": "code",
   "execution_count": 53,
   "metadata": {},
   "outputs": [
    {
     "data": {
      "text/plain": [
       "TBA_4X    250195\n",
       "TBA_3X     20590\n",
       "Name: source_system, dtype: int64"
      ]
     },
     "execution_count": 53,
     "metadata": {},
     "output_type": "execute_result"
    }
   ],
   "source": [
    "df[df['enrolled_option_description_group'].isnull()]['source_system'].value_counts()"
   ]
  },
  {
   "cell_type": "code",
   "execution_count": 54,
   "metadata": {},
   "outputs": [
    {
     "data": {
      "text/plain": [
       "TBA_4X    250195\n",
       "CBA       165934\n",
       "TBA_3X     20590\n",
       "Name: source_system, dtype: int64"
      ]
     },
     "execution_count": 54,
     "metadata": {},
     "output_type": "execute_result"
    }
   ],
   "source": [
    "df['source_system'].value_counts()"
   ]
  },
  {
   "cell_type": "code",
   "execution_count": 55,
   "metadata": {},
   "outputs": [
    {
     "data": {
      "image/png": "[encoded data removed]",
      "text/plain": [
       "<Figure size 1080x288 with 2 Axes>"
      ]
     },
     "metadata": {
      "needs_background": "light"
     },
     "output_type": "display_data"
    }
   ],
   "source": [
    "cat_vs_cat_plot('enrolled_option_description_group')"
   ]
  },
  {
   "cell_type": "code",
   "execution_count": 56,
   "metadata": {},
   "outputs": [],
   "source": [
    "df.loc[\n",
    "    df['source_system']=='CBA'\n",
    "    ,'enrolled_option_bc_dg'\n",
    "] = df['enrolled_option_description_group']\n",
    "\n",
    "df.loc[\n",
    "    df['source_system']!='CBA'\n",
    "    ,'enrolled_option_bc_dg'\n",
    "] = df['enrolled_option_brand_code']"
   ]
  },
  {
   "cell_type": "code",
   "execution_count": 57,
   "metadata": {},
   "outputs": [
    {
     "data": {
      "text/plain": [
       "TBA_3X    20590\n",
       "TBA_4X      107\n",
       "Name: source_system, dtype: int64"
      ]
     },
     "execution_count": 57,
     "metadata": {},
     "output_type": "execute_result"
    }
   ],
   "source": [
    "df[df['enrolled_option_bc_dg'].isnull()]['source_system'].value_counts()"
   ]
  },
  {
   "cell_type": "code",
   "execution_count": 58,
   "metadata": {},
   "outputs": [],
   "source": [
    "df['enrolled_option_bc_dg'].fillna('Unknown', inplace=True)"
   ]
  },
  {
   "cell_type": "code",
   "execution_count": 59,
   "metadata": {},
   "outputs": [
    {
     "data": {
      "image/png": "[encoded data removed]",
      "text/plain": [
       "<Figure size 1080x288 with 2 Axes>"
      ]
     },
     "metadata": {
      "needs_background": "light"
     },
     "output_type": "display_data"
    }
   ],
   "source": [
    "cat_vs_cat_plot('enrolled_option_bc_dg')"
   ]
  },
  {
   "cell_type": "markdown",
   "metadata": {},
   "source": [
    "Values for CBA clients are getting captured in `enrolled_option_description_group` column while for TBA_4X values are getting captured in `enrolled_option_brand_code`.\n",
    "\n",
    "We will be imputing missing values (nan values) with \"Unknown\" value for now."
   ]
  },
  {
   "cell_type": "code",
   "execution_count": 60,
   "metadata": {},
   "outputs": [
    {
     "data": {
      "image/png": "[encoded data removed]",
      "text/plain": [
       "<Figure size 1080x288 with 2 Axes>"
      ]
     },
     "metadata": {
      "needs_background": "light"
     },
     "output_type": "display_data"
    }
   ],
   "source": [
    "cat_vs_cat_plot('er_hsa_contribution_flag_new')"
   ]
  },
  {
   "cell_type": "code",
   "execution_count": 61,
   "metadata": {},
   "outputs": [
    {
     "data": {
      "image/png": "[encoded data removed]",
      "text/plain": [
       "<Figure size 1080x288 with 2 Axes>"
      ]
     },
     "metadata": {
      "needs_background": "light"
     },
     "output_type": "display_data"
    }
   ],
   "source": [
    "cat_vs_cont_plot('number_of_people_covered')"
   ]
  },
  {
   "cell_type": "markdown",
   "metadata": {},
   "source": [
    "We will keep outlier as it is for first run, later we will handle outliers if required.\n",
    "Also, will impute missing values with median after train and test split."
   ]
  },
  {
   "cell_type": "code",
   "execution_count": 62,
   "metadata": {},
   "outputs": [
    {
     "data": {
      "image/png": "[encoded data removed]",
      "text/plain": [
       "<Figure size 1080x288 with 2 Axes>"
      ]
     },
     "metadata": {
      "needs_background": "light"
     },
     "output_type": "display_data"
    }
   ],
   "source": [
    "cat_vs_cont_plot('person_age')"
   ]
  },
  {
   "cell_type": "code",
   "execution_count": 63,
   "metadata": {},
   "outputs": [
    {
     "data": {
      "text/plain": [
       "(84, 30)"
      ]
     },
     "execution_count": 63,
     "metadata": {},
     "output_type": "execute_result"
    }
   ],
   "source": [
    "df[df['person_age']<18].shape"
   ]
  },
  {
   "cell_type": "markdown",
   "metadata": {},
   "source": [
    "Observations - \n",
    "1. We can see cases where age is less than 18 years, we will cap them to 18 years\n",
    "2. There are many outliers in the column, we will cap the outliers to 95th or 99th percentile based on person's employment status. \n",
    "3. There are some cases where age is missing, we will be imputing null values using median.\n",
    "4. We will scale this column to 0 - 1 to keep values of all columns on same scale\n",
    "\n",
    "We will perform step 2, 3, and 4 after splitting dataset into training set and testing set and use training dataset to cap outliers, impute missing values, and scale column."
   ]
  },
  {
   "cell_type": "code",
   "execution_count": 64,
   "metadata": {},
   "outputs": [],
   "source": [
    "df.loc[\n",
    "    df['person_age'] < 18,\n",
    "    'person_age'\n",
    "] = 18"
   ]
  },
  {
   "cell_type": "code",
   "execution_count": 65,
   "metadata": {},
   "outputs": [
    {
     "data": {
      "text/plain": [
       "18.0"
      ]
     },
     "execution_count": 65,
     "metadata": {},
     "output_type": "execute_result"
    }
   ],
   "source": [
    "df['person_age'].min()"
   ]
  },
  {
   "cell_type": "code",
   "execution_count": 66,
   "metadata": {},
   "outputs": [
    {
     "data": {
      "image/png": "[encoded data removed]",
      "text/plain": [
       "<Figure size 1080x288 with 2 Axes>"
      ]
     },
     "metadata": {
      "needs_background": "light"
     },
     "output_type": "display_data"
    }
   ],
   "source": [
    "cat_vs_cont_plot('enrolled_plan_cost')"
   ]
  },
  {
   "cell_type": "code",
   "execution_count": 67,
   "metadata": {},
   "outputs": [
    {
     "data": {
      "image/png": "[encoded data removed]",
      "text/plain": [
       "<Figure size 1080x288 with 2 Axes>"
      ]
     },
     "metadata": {
      "needs_background": "light"
     },
     "output_type": "display_data"
    }
   ],
   "source": [
    "cat_vs_cont_plot('enrolled_annual_paycheck_deduction')"
   ]
  },
  {
   "cell_type": "code",
   "execution_count": 68,
   "metadata": {},
   "outputs": [
    {
     "data": {
      "text/plain": [
       "<matplotlib.axes._subplots.AxesSubplot at 0x7f3bf2d4c650>"
      ]
     },
     "execution_count": 68,
     "metadata": {},
     "output_type": "execute_result"
    },
    {
     "data": {
      "image/png": "[encoded data removed]",
      "text/plain": [
       "<Figure size 432x288 with 1 Axes>"
      ]
     },
     "metadata": {
      "needs_background": "light"
     },
     "output_type": "display_data"
    }
   ],
   "source": [
    "sns.scatterplot(data=df, x='enrolled_annual_paycheck_deduction', y='enrolled_plan_cost', alpha=0.5)"
   ]
  },
  {
   "cell_type": "code",
   "execution_count": 69,
   "metadata": {},
   "outputs": [
    {
     "data": {
      "text/html": [
       "<div>\n",
       "<style scoped>\n",
       "    .dataframe tbody tr th:only-of-type {\n",
       "        vertical-align: middle;\n",
       "    }\n",
       "\n",
       "    .dataframe tbody tr th {\n",
       "        vertical-align: top;\n",
       "    }\n",
       "\n",
       "    .dataframe thead th {\n",
       "        text-align: right;\n",
       "    }\n",
       "</style>\n",
       "<table border=\"1\" class=\"dataframe\">\n",
       "  <thead>\n",
       "    <tr style=\"text-align: right;\">\n",
       "      <th></th>\n",
       "      <th>enrolled_annual_paycheck_deduction</th>\n",
       "      <th>enrolled_plan_cost</th>\n",
       "    </tr>\n",
       "  </thead>\n",
       "  <tbody>\n",
       "    <tr>\n",
       "      <th>enrolled_annual_paycheck_deduction</th>\n",
       "      <td>1.000000</td>\n",
       "      <td>0.761309</td>\n",
       "    </tr>\n",
       "    <tr>\n",
       "      <th>enrolled_plan_cost</th>\n",
       "      <td>0.761309</td>\n",
       "      <td>1.000000</td>\n",
       "    </tr>\n",
       "  </tbody>\n",
       "</table>\n",
       "</div>"
      ],
      "text/plain": [
       "                                    enrolled_annual_paycheck_deduction  \\\n",
       "enrolled_annual_paycheck_deduction                            1.000000   \n",
       "enrolled_plan_cost                                            0.761309   \n",
       "\n",
       "                                    enrolled_plan_cost  \n",
       "enrolled_annual_paycheck_deduction            0.761309  \n",
       "enrolled_plan_cost                            1.000000  "
      ]
     },
     "execution_count": 69,
     "metadata": {},
     "output_type": "execute_result"
    }
   ],
   "source": [
    "df[['enrolled_annual_paycheck_deduction','enrolled_plan_cost']].corr()"
   ]
  },
  {
   "cell_type": "code",
   "execution_count": 70,
   "metadata": {},
   "outputs": [
    {
     "data": {
      "text/plain": [
       "<matplotlib.axes._subplots.AxesSubplot at 0x7f3bf316de90>"
      ]
     },
     "execution_count": 70,
     "metadata": {},
     "output_type": "execute_result"
    },
    {
     "data": {
      "image/png": "[encoded data removed]",
      "text/plain": [
       "<Figure size 432x288 with 1 Axes>"
      ]
     },
     "metadata": {
      "needs_background": "light"
     },
     "output_type": "display_data"
    }
   ],
   "source": [
    "sns.kdeplot(abs(df['enrolled_annual_paycheck_deduction']-df['enrolled_plan_cost']))"
   ]
  },
  {
   "cell_type": "markdown",
   "metadata": {},
   "source": [
    "Observations - \n",
    "- We can see that`enrolled_annual_paycheck_deduction` and `enrolled_plan_cost` are highly correlated\n",
    "- Also, absoulte difference between the two is mostly close to zero\n",
    "- We will be using one column only for modelling which will be `enrolled_plan_cost`\n",
    "- We can see there are many outliers in both the columns, we will keep them as it is.\n",
    "- We will scale this column to 0 - 1 to keep values of all columns on same scale. We will perform this step after splitting dataset into training set and testing set and use training dataset to scale column. "
   ]
  },
  {
   "cell_type": "code",
   "execution_count": 71,
   "metadata": {},
   "outputs": [
    {
     "data": {
      "image/png": "[encoded data removed]",
      "text/plain": [
       "<Figure size 1080x288 with 2 Axes>"
      ]
     },
     "metadata": {
      "needs_background": "light"
     },
     "output_type": "display_data"
    }
   ],
   "source": [
    "cat_vs_cont_plot('person_expected_annual_base_salary')"
   ]
  },
  {
   "cell_type": "code",
   "execution_count": 72,
   "metadata": {},
   "outputs": [
    {
     "data": {
      "text/plain": [
       "count       392469\n",
       "mean         72428\n",
       "std         185116\n",
       "min              0\n",
       "25%          36545\n",
       "50%          51257\n",
       "75%          90000\n",
       "max      104000000\n",
       "Name: person_expected_annual_base_salary, dtype: int64"
      ]
     },
     "execution_count": 72,
     "metadata": {},
     "output_type": "execute_result"
    }
   ],
   "source": [
    "df['person_expected_annual_base_salary'].describe().astype(int)"
   ]
  },
  {
   "cell_type": "code",
   "execution_count": 73,
   "metadata": {},
   "outputs": [
    {
     "data": {
      "text/plain": [
       "170000.0"
      ]
     },
     "execution_count": 73,
     "metadata": {},
     "output_type": "execute_result"
    }
   ],
   "source": [
    "df['person_expected_annual_base_salary'].quantile(.95)"
   ]
  },
  {
   "cell_type": "code",
   "execution_count": 74,
   "metadata": {},
   "outputs": [
    {
     "data": {
      "text/plain": [
       "(21764, 30)"
      ]
     },
     "execution_count": 74,
     "metadata": {},
     "output_type": "execute_result"
    }
   ],
   "source": [
    "df[df['enrolled_plan_cost']>df['enrolled_plan_cost'].quantile(.95)].shape"
   ]
  },
  {
   "cell_type": "markdown",
   "metadata": {},
   "source": [
    "We can observe the data is highly skewed and have outliers. Instead of using this column directly in the model, we will create `person_expected_annual_base_salary_range` column and use this new column."
   ]
  },
  {
   "cell_type": "code",
   "execution_count": 75,
   "metadata": {},
   "outputs": [
    {
     "data": {
      "text/plain": [
       "0.0"
      ]
     },
     "execution_count": 75,
     "metadata": {},
     "output_type": "execute_result"
    }
   ],
   "source": [
    "df['person_expected_annual_base_salary'].min()"
   ]
  },
  {
   "cell_type": "code",
   "execution_count": 76,
   "metadata": {},
   "outputs": [],
   "source": [
    "bins = [-1, 19999, 39999, 59999, 79999, 99999, 999999999999]\n",
    "labels = ['<20,000', '20,000 - 39,999', '40,000 - 59,999', '60,000 - 79,999', '80,000 - 99,999', '100,000+']\n",
    "df['person_expected_annual_base_salary_range'] = pd.cut(x=df['person_expected_annual_base_salary'], bins=bins, labels=labels)"
   ]
  },
  {
   "cell_type": "code",
   "execution_count": 77,
   "metadata": {},
   "outputs": [
    {
     "data": {
      "text/plain": [
       "(44250, 31)"
      ]
     },
     "execution_count": 77,
     "metadata": {},
     "output_type": "execute_result"
    }
   ],
   "source": [
    "df[df['person_expected_annual_base_salary'].isnull()].shape"
   ]
  },
  {
   "cell_type": "code",
   "execution_count": 78,
   "metadata": {},
   "outputs": [
    {
     "data": {
      "text/plain": [
       "(44250, 31)"
      ]
     },
     "execution_count": 78,
     "metadata": {},
     "output_type": "execute_result"
    }
   ],
   "source": [
    "df[df['person_expected_annual_base_salary_range'].isnull()].shape"
   ]
  },
  {
   "cell_type": "code",
   "execution_count": 79,
   "metadata": {},
   "outputs": [],
   "source": [
    "df['person_expected_annual_base_salary_range'] = df['person_expected_annual_base_salary_range'].astype(str)\n",
    "df['person_expected_annual_base_salary_range'].replace(to_replace='nan',value='Unknown', inplace=True)"
   ]
  },
  {
   "cell_type": "code",
   "execution_count": 80,
   "metadata": {},
   "outputs": [
    {
     "data": {
      "image/png": "[encoded data removed]",
      "text/plain": [
       "<Figure size 1080x288 with 2 Axes>"
      ]
     },
     "metadata": {
      "needs_background": "light"
     },
     "output_type": "display_data"
    }
   ],
   "source": [
    "cat_vs_cat_plot('person_expected_annual_base_salary_range')"
   ]
  },
  {
   "cell_type": "code",
   "execution_count": 81,
   "metadata": {},
   "outputs": [
    {
     "data": {
      "image/png": "[encoded data removed]",
      "text/plain": [
       "<Figure size 1080x288 with 2 Axes>"
      ]
     },
     "metadata": {
      "needs_background": "light"
     },
     "output_type": "display_data"
    }
   ],
   "source": [
    "cat_vs_cont_plot('enrolled_er_annual_hsa_contribution')"
   ]
  },
  {
   "cell_type": "markdown",
   "metadata": {},
   "source": [
    "1. We can observe outliers in this variable, however we will keep them as it is for now.\n",
    "2. Since there are missing values, we will impute it using median.\n",
    "3. We will scale this column to 0 - 1 to keep values of all columns on same scale.\n",
    "\n",
    "We will perform steps 2 & 3 after splitting dataset into training set and testing set and use training dataset to impute missing values, and scale column. "
   ]
  },
  {
   "cell_type": "code",
   "execution_count": 82,
   "metadata": {},
   "outputs": [
    {
     "data": {
      "text/plain": [
       "platform_id                                              0\n",
       "client_id                                                0\n",
       "client_name                                              0\n",
       "client_industry                                          0\n",
       "platform_person_internal_id                              0\n",
       "enrolled_option_description                          19181\n",
       "enrolled_plan_cost                                       0\n",
       "enrolled_annual_paycheck_deduction                       0\n",
       "person_age                                            6971\n",
       "person_gender_description                                0\n",
       "marital_status_description                            6777\n",
       "person_expected_annual_base_salary                   44250\n",
       "client_is_ysa                                            0\n",
       "client_has_corporate_exchange                            0\n",
       "client_hm_large_market_or_enterprise                     0\n",
       "number_of_people_covered                                 4\n",
       "enrolled_er_annual_hsa_contribution                  35284\n",
       "mapped_person_employment_status_standard_value       15302\n",
       "mapped_enrolled_coverage_category_standard_value     20646\n",
       "source_system                                            0\n",
       "enrollment_suggestion_source                             0\n",
       "enrolled_option_brand_code                          186631\n",
       "enrolled_option_description_group                   270785\n",
       "er_hsa_contribution_flag_new                             0\n",
       "label                                                    0\n",
       "client_industry_rollup                                   0\n",
       "marital_status_rollup                                    0\n",
       "employment_status_rollup                                 0\n",
       "coverage_category_rollup                                 0\n",
       "enrolled_option_bc_dg                                    0\n",
       "person_expected_annual_base_salary_range                 0\n",
       "dtype: int64"
      ]
     },
     "execution_count": 82,
     "metadata": {},
     "output_type": "execute_result"
    }
   ],
   "source": [
    "df.isnull().sum()"
   ]
  },
  {
   "cell_type": "markdown",
   "metadata": {},
   "source": [
    "At this stage, we are done with following steps - \n",
    "- Imouted NULL values for categorical variables with 'Unknown'\n",
    "- Capped age < 18 years to 18 years\n",
    "\n",
    "\n",
    "Next Steps - \n",
    "- Drop columns not required for modeling\n",
    "- Split the dataset into two parts Training Set (70%) and Testing Set(30%). Once completed then perform below steps\n",
    "- Impute missing values byr median for numerical variables using training set\n",
    "- Scale numerical varilables using Min-Max scalar\n",
    "- Encode categorical features\n",
    "- Data Modeling, Predcitions, Model Evaluation"
   ]
  },
  {
   "cell_type": "code",
   "execution_count": 83,
   "metadata": {},
   "outputs": [
    {
     "data": {
      "text/plain": [
       "1    0.525113\n",
       "0    0.474887\n",
       "Name: label, dtype: float64"
      ]
     },
     "execution_count": 83,
     "metadata": {},
     "output_type": "execute_result"
    }
   ],
   "source": [
    "df['label'].value_counts(normalize=True, dropna=False)"
   ]
  },
  {
   "cell_type": "markdown",
   "metadata": {},
   "source": [
    "Target variable seems to be balanced, we will use startified random "
   ]
  },
  {
   "cell_type": "code",
   "execution_count": 84,
   "metadata": {},
   "outputs": [
    {
     "data": {
      "text/html": [
       "<div>\n",
       "<style scoped>\n",
       "    .dataframe tbody tr th:only-of-type {\n",
       "        vertical-align: middle;\n",
       "    }\n",
       "\n",
       "    .dataframe tbody tr th {\n",
       "        vertical-align: top;\n",
       "    }\n",
       "\n",
       "    .dataframe thead th {\n",
       "        text-align: right;\n",
       "    }\n",
       "</style>\n",
       "<table border=\"1\" class=\"dataframe\">\n",
       "  <thead>\n",
       "    <tr style=\"text-align: right;\">\n",
       "      <th></th>\n",
       "      <th>platform_id</th>\n",
       "      <th>client_id</th>\n",
       "      <th>client_name</th>\n",
       "      <th>client_industry</th>\n",
       "      <th>platform_person_internal_id</th>\n",
       "      <th>enrolled_option_description</th>\n",
       "      <th>enrolled_plan_cost</th>\n",
       "      <th>enrolled_annual_paycheck_deduction</th>\n",
       "      <th>person_age</th>\n",
       "      <th>person_gender_description</th>\n",
       "      <th>marital_status_description</th>\n",
       "      <th>person_expected_annual_base_salary</th>\n",
       "      <th>client_is_ysa</th>\n",
       "      <th>client_has_corporate_exchange</th>\n",
       "      <th>client_hm_large_market_or_enterprise</th>\n",
       "      <th>number_of_people_covered</th>\n",
       "      <th>enrolled_er_annual_hsa_contribution</th>\n",
       "      <th>mapped_person_employment_status_standard_value</th>\n",
       "      <th>mapped_enrolled_coverage_category_standard_value</th>\n",
       "      <th>source_system</th>\n",
       "      <th>enrollment_suggestion_source</th>\n",
       "      <th>enrolled_option_brand_code</th>\n",
       "      <th>enrolled_option_description_group</th>\n",
       "      <th>er_hsa_contribution_flag_new</th>\n",
       "      <th>label</th>\n",
       "      <th>client_industry_rollup</th>\n",
       "      <th>marital_status_rollup</th>\n",
       "      <th>employment_status_rollup</th>\n",
       "      <th>coverage_category_rollup</th>\n",
       "      <th>enrolled_option_bc_dg</th>\n",
       "      <th>person_expected_annual_base_salary_range</th>\n",
       "    </tr>\n",
       "  </thead>\n",
       "  <tbody>\n",
       "    <tr>\n",
       "      <th>0</th>\n",
       "      <td>10021</td>\n",
       "      <td>9264</td>\n",
       "      <td>Stericycle; Inc.</td>\n",
       "      <td>Utilities and Energy</td>\n",
       "      <td>10021/100070010</td>\n",
       "      <td>HSA Basic Choice Plus</td>\n",
       "      <td>843.0</td>\n",
       "      <td>843.36</td>\n",
       "      <td>19.0</td>\n",
       "      <td>Male</td>\n",
       "      <td>Single</td>\n",
       "      <td>47840.0</td>\n",
       "      <td>Y</td>\n",
       "      <td>N</td>\n",
       "      <td>EB</td>\n",
       "      <td>1.0</td>\n",
       "      <td>0.0</td>\n",
       "      <td>Active</td>\n",
       "      <td>Participant Only</td>\n",
       "      <td>TBA_4X</td>\n",
       "      <td>UPoint Reimagine</td>\n",
       "      <td>CDP-MDCL-SA-PPO</td>\n",
       "      <td>NaN</td>\n",
       "      <td>0</td>\n",
       "      <td>1</td>\n",
       "      <td>utilities_and_energy</td>\n",
       "      <td>Single</td>\n",
       "      <td>Active</td>\n",
       "      <td>Covering_Self</td>\n",
       "      <td>CDP-MDCL-SA-PPO</td>\n",
       "      <td>40,000 - 59,999</td>\n",
       "    </tr>\n",
       "    <tr>\n",
       "      <th>1</th>\n",
       "      <td>10021</td>\n",
       "      <td>10801</td>\n",
       "      <td>Expedia; Inc.</td>\n",
       "      <td>Entertainment;Travel and Leisure</td>\n",
       "      <td>10021/100390006</td>\n",
       "      <td>Aetna Health Savings Plan</td>\n",
       "      <td>2076.0</td>\n",
       "      <td>2076.00</td>\n",
       "      <td>28.0</td>\n",
       "      <td>Female</td>\n",
       "      <td>Single</td>\n",
       "      <td>57000.0</td>\n",
       "      <td>N</td>\n",
       "      <td>N</td>\n",
       "      <td>EB</td>\n",
       "      <td>2.0</td>\n",
       "      <td>1500.0</td>\n",
       "      <td>Active</td>\n",
       "      <td>Participant and Spouse</td>\n",
       "      <td>TBA_4X</td>\n",
       "      <td>Others</td>\n",
       "      <td>PPO</td>\n",
       "      <td>NaN</td>\n",
       "      <td>1</td>\n",
       "      <td>1</td>\n",
       "      <td>travel_recreation_and_leisure</td>\n",
       "      <td>Single</td>\n",
       "      <td>Active</td>\n",
       "      <td>Covering_Family</td>\n",
       "      <td>PPO</td>\n",
       "      <td>40,000 - 59,999</td>\n",
       "    </tr>\n",
       "    <tr>\n",
       "      <th>2</th>\n",
       "      <td>10021</td>\n",
       "      <td>16516</td>\n",
       "      <td>PayPal</td>\n",
       "      <td>Business and Management Services</td>\n",
       "      <td>10021/100390027</td>\n",
       "      <td>UHC CDHP with HSA</td>\n",
       "      <td>598.0</td>\n",
       "      <td>598.00</td>\n",
       "      <td>28.0</td>\n",
       "      <td>Female</td>\n",
       "      <td>Single</td>\n",
       "      <td>35360.0</td>\n",
       "      <td>Y</td>\n",
       "      <td>N</td>\n",
       "      <td>EB</td>\n",
       "      <td>1.0</td>\n",
       "      <td>500.0</td>\n",
       "      <td>Active</td>\n",
       "      <td>Participant Only</td>\n",
       "      <td>TBA_4X</td>\n",
       "      <td>Others</td>\n",
       "      <td>CDP-MDCL-SA-PPO</td>\n",
       "      <td>NaN</td>\n",
       "      <td>1</td>\n",
       "      <td>1</td>\n",
       "      <td>business_services</td>\n",
       "      <td>Single</td>\n",
       "      <td>Active</td>\n",
       "      <td>Covering_Self</td>\n",
       "      <td>CDP-MDCL-SA-PPO</td>\n",
       "      <td>20,000 - 39,999</td>\n",
       "    </tr>\n",
       "  </tbody>\n",
       "</table>\n",
       "</div>"
      ],
      "text/plain": [
       "   platform_id  client_id       client_name                   client_industry  \\\n",
       "0        10021       9264  Stericycle; Inc.              Utilities and Energy   \n",
       "1        10021      10801     Expedia; Inc.  Entertainment;Travel and Leisure   \n",
       "2        10021      16516            PayPal  Business and Management Services   \n",
       "\n",
       "  platform_person_internal_id enrolled_option_description  enrolled_plan_cost  \\\n",
       "0             10021/100070010       HSA Basic Choice Plus               843.0   \n",
       "1             10021/100390006   Aetna Health Savings Plan              2076.0   \n",
       "2             10021/100390027           UHC CDHP with HSA               598.0   \n",
       "\n",
       "   enrolled_annual_paycheck_deduction  person_age person_gender_description  \\\n",
       "0                              843.36        19.0                      Male   \n",
       "1                             2076.00        28.0                    Female   \n",
       "2                              598.00        28.0                    Female   \n",
       "\n",
       "  marital_status_description  person_expected_annual_base_salary  \\\n",
       "0                     Single                             47840.0   \n",
       "1                     Single                             57000.0   \n",
       "2                     Single                             35360.0   \n",
       "\n",
       "  client_is_ysa client_has_corporate_exchange  \\\n",
       "0             Y                             N   \n",
       "1             N                             N   \n",
       "2             Y                             N   \n",
       "\n",
       "  client_hm_large_market_or_enterprise  number_of_people_covered  \\\n",
       "0                                   EB                       1.0   \n",
       "1                                   EB                       2.0   \n",
       "2                                   EB                       1.0   \n",
       "\n",
       "   enrolled_er_annual_hsa_contribution  \\\n",
       "0                                  0.0   \n",
       "1                               1500.0   \n",
       "2                                500.0   \n",
       "\n",
       "  mapped_person_employment_status_standard_value  \\\n",
       "0                                         Active   \n",
       "1                                         Active   \n",
       "2                                         Active   \n",
       "\n",
       "  mapped_enrolled_coverage_category_standard_value source_system  \\\n",
       "0                                 Participant Only        TBA_4X   \n",
       "1                           Participant and Spouse        TBA_4X   \n",
       "2                                 Participant Only        TBA_4X   \n",
       "\n",
       "  enrollment_suggestion_source enrolled_option_brand_code  \\\n",
       "0             UPoint Reimagine            CDP-MDCL-SA-PPO   \n",
       "1                       Others                        PPO   \n",
       "2                       Others            CDP-MDCL-SA-PPO   \n",
       "\n",
       "  enrolled_option_description_group  er_hsa_contribution_flag_new  label  \\\n",
       "0                               NaN                             0      1   \n",
       "1                               NaN                             1      1   \n",
       "2                               NaN                             1      1   \n",
       "\n",
       "          client_industry_rollup marital_status_rollup  \\\n",
       "0           utilities_and_energy                Single   \n",
       "1  travel_recreation_and_leisure                Single   \n",
       "2              business_services                Single   \n",
       "\n",
       "  employment_status_rollup coverage_category_rollup enrolled_option_bc_dg  \\\n",
       "0                   Active            Covering_Self       CDP-MDCL-SA-PPO   \n",
       "1                   Active          Covering_Family                   PPO   \n",
       "2                   Active            Covering_Self       CDP-MDCL-SA-PPO   \n",
       "\n",
       "  person_expected_annual_base_salary_range  \n",
       "0                          40,000 - 59,999  \n",
       "1                          40,000 - 59,999  \n",
       "2                          20,000 - 39,999  "
      ]
     },
     "execution_count": 84,
     "metadata": {},
     "output_type": "execute_result"
    }
   ],
   "source": [
    "df.head(3)"
   ]
  },
  {
   "cell_type": "code",
   "execution_count": 85,
   "metadata": {},
   "outputs": [
    {
     "data": {
      "text/plain": [
       "(436719, 18)"
      ]
     },
     "execution_count": 85,
     "metadata": {},
     "output_type": "execute_result"
    }
   ],
   "source": [
    "drop_columns = ['platform_id','client_id','client_name','platform_person_internal_id','enrolled_option_description',\n",
    "                'enrolled_annual_paycheck_deduction','enrolled_option_brand_code','enrolled_option_description_group',\n",
    "                'client_industry','marital_status_description','person_expected_annual_base_salary',\n",
    "                 'mapped_person_employment_status_standard_value','mapped_enrolled_coverage_category_standard_value']\n",
    "\n",
    "df_final = df.drop(columns=drop_columns)\n",
    "df_final.shape"
   ]
  },
  {
   "cell_type": "code",
   "execution_count": 86,
   "metadata": {},
   "outputs": [
    {
     "data": {
      "text/plain": [
       "enrolled_plan_cost                          float64\n",
       "person_age                                  float64\n",
       "person_gender_description                    object\n",
       "client_is_ysa                                object\n",
       "client_has_corporate_exchange                object\n",
       "client_hm_large_market_or_enterprise         object\n",
       "number_of_people_covered                    float64\n",
       "enrolled_er_annual_hsa_contribution         float64\n",
       "source_system                                object\n",
       "enrollment_suggestion_source                 object\n",
       "er_hsa_contribution_flag_new                  int64\n",
       "label                                         int64\n",
       "client_industry_rollup                       object\n",
       "marital_status_rollup                        object\n",
       "employment_status_rollup                     object\n",
       "coverage_category_rollup                     object\n",
       "enrolled_option_bc_dg                        object\n",
       "person_expected_annual_base_salary_range     object\n",
       "dtype: object"
      ]
     },
     "execution_count": 86,
     "metadata": {},
     "output_type": "execute_result"
    }
   ],
   "source": [
    "df_final.dtypes"
   ]
  },
  {
   "cell_type": "code",
   "execution_count": 87,
   "metadata": {},
   "outputs": [
    {
     "name": "stdout",
     "output_type": "stream",
     "text": [
      "13\n",
      "4\n"
     ]
    }
   ],
   "source": [
    "cat_columns = ['client_industry_rollup','person_gender_description','marital_status_rollup','client_is_ysa',\n",
    "               'client_has_corporate_exchange','client_hm_large_market_or_enterprise','employment_status_rollup',\n",
    "               'coverage_category_rollup','source_system','enrollment_suggestion_source','er_hsa_contribution_flag_new',\n",
    "               'enrolled_option_bc_dg','person_expected_annual_base_salary_range']\n",
    "num_columns = ['person_age','number_of_people_covered','enrolled_plan_cost','enrolled_er_annual_hsa_contribution']\n",
    "print(len(cat_columns))\n",
    "print(len(num_columns))"
   ]
  },
  {
   "cell_type": "code",
   "execution_count": 88,
   "metadata": {},
   "outputs": [
    {
     "data": {
      "text/plain": [
       "client_industry_rollup                      0\n",
       "person_gender_description                   0\n",
       "marital_status_rollup                       0\n",
       "client_is_ysa                               0\n",
       "client_has_corporate_exchange               0\n",
       "client_hm_large_market_or_enterprise        0\n",
       "employment_status_rollup                    0\n",
       "coverage_category_rollup                    0\n",
       "source_system                               0\n",
       "enrollment_suggestion_source                0\n",
       "er_hsa_contribution_flag_new                0\n",
       "enrolled_option_bc_dg                       0\n",
       "person_expected_annual_base_salary_range    0\n",
       "dtype: int64"
      ]
     },
     "execution_count": 88,
     "metadata": {},
     "output_type": "execute_result"
    }
   ],
   "source": [
    "df_final[cat_columns] = df_final[cat_columns].fillna(\"Unknown\")\n",
    "\n",
    "df_final[cat_columns].isnull().sum()"
   ]
  },
  {
   "cell_type": "code",
   "execution_count": 89,
   "metadata": {},
   "outputs": [
    {
     "data": {
      "text/plain": [
       "person_age                              6971\n",
       "number_of_people_covered                   4\n",
       "enrolled_plan_cost                         0\n",
       "enrolled_er_annual_hsa_contribution    35284\n",
       "dtype: int64"
      ]
     },
     "execution_count": 89,
     "metadata": {},
     "output_type": "execute_result"
    }
   ],
   "source": [
    "df_final[num_columns].isna().sum()"
   ]
  },
  {
   "cell_type": "code",
   "execution_count": 90,
   "metadata": {},
   "outputs": [
    {
     "data": {
      "text/plain": [
       "(436719, 18)"
      ]
     },
     "execution_count": 90,
     "metadata": {},
     "output_type": "execute_result"
    }
   ],
   "source": [
    "df_final.shape"
   ]
  },
  {
   "cell_type": "markdown",
   "metadata": {},
   "source": [
    "### Splitting the dataset into training and testing set"
   ]
  },
  {
   "cell_type": "code",
   "execution_count": 268,
   "metadata": {},
   "outputs": [],
   "source": [
    "train_set, test_set = train_test_split(df_final, test_size=0.3, shuffle=True, random_state=42, stratify=df_final['label'])"
   ]
  },
  {
   "cell_type": "code",
   "execution_count": 269,
   "metadata": {},
   "outputs": [
    {
     "data": {
      "text/plain": [
       "(305703, 18)"
      ]
     },
     "execution_count": 269,
     "metadata": {},
     "output_type": "execute_result"
    }
   ],
   "source": [
    "train_set.shape"
   ]
  },
  {
   "cell_type": "code",
   "execution_count": 270,
   "metadata": {},
   "outputs": [
    {
     "data": {
      "text/plain": [
       "(131016, 18)"
      ]
     },
     "execution_count": 270,
     "metadata": {},
     "output_type": "execute_result"
    }
   ],
   "source": [
    "test_set.shape"
   ]
  },
  {
   "cell_type": "code",
   "execution_count": 271,
   "metadata": {},
   "outputs": [
    {
     "data": {
      "text/plain": [
       "1    0.525114\n",
       "0    0.474886\n",
       "Name: label, dtype: float64"
      ]
     },
     "execution_count": 271,
     "metadata": {},
     "output_type": "execute_result"
    }
   ],
   "source": [
    "train_set['label'].value_counts(normalize=True)"
   ]
  },
  {
   "cell_type": "code",
   "execution_count": 272,
   "metadata": {},
   "outputs": [
    {
     "data": {
      "text/plain": [
       "1    0.525111\n",
       "0    0.474889\n",
       "Name: label, dtype: float64"
      ]
     },
     "execution_count": 272,
     "metadata": {},
     "output_type": "execute_result"
    }
   ],
   "source": [
    "test_set['label'].value_counts(normalize=True)"
   ]
  },
  {
   "cell_type": "code",
   "execution_count": 273,
   "metadata": {},
   "outputs": [
    {
     "data": {
      "text/plain": [
       "enrolled_plan_cost                              0\n",
       "person_age                                   4903\n",
       "person_gender_description                       0\n",
       "client_is_ysa                                   0\n",
       "client_has_corporate_exchange                   0\n",
       "client_hm_large_market_or_enterprise            0\n",
       "number_of_people_covered                        3\n",
       "enrolled_er_annual_hsa_contribution         24737\n",
       "source_system                                   0\n",
       "enrollment_suggestion_source                    0\n",
       "er_hsa_contribution_flag_new                    0\n",
       "label                                           0\n",
       "client_industry_rollup                          0\n",
       "marital_status_rollup                           0\n",
       "employment_status_rollup                        0\n",
       "coverage_category_rollup                        0\n",
       "enrolled_option_bc_dg                           0\n",
       "person_expected_annual_base_salary_range        0\n",
       "dtype: int64"
      ]
     },
     "execution_count": 273,
     "metadata": {},
     "output_type": "execute_result"
    }
   ],
   "source": [
    "train_set.isna().sum()"
   ]
  },
  {
   "cell_type": "code",
   "execution_count": 274,
   "metadata": {},
   "outputs": [
    {
     "data": {
      "text/plain": [
       "enrolled_plan_cost                              0\n",
       "person_age                                   2068\n",
       "person_gender_description                       0\n",
       "client_is_ysa                                   0\n",
       "client_has_corporate_exchange                   0\n",
       "client_hm_large_market_or_enterprise            0\n",
       "number_of_people_covered                        1\n",
       "enrolled_er_annual_hsa_contribution         10547\n",
       "source_system                                   0\n",
       "enrollment_suggestion_source                    0\n",
       "er_hsa_contribution_flag_new                    0\n",
       "label                                           0\n",
       "client_industry_rollup                          0\n",
       "marital_status_rollup                           0\n",
       "employment_status_rollup                        0\n",
       "coverage_category_rollup                        0\n",
       "enrolled_option_bc_dg                           0\n",
       "person_expected_annual_base_salary_range        0\n",
       "dtype: int64"
      ]
     },
     "execution_count": 274,
     "metadata": {},
     "output_type": "execute_result"
    }
   ],
   "source": [
    "test_set.isna().sum()"
   ]
  },
  {
   "cell_type": "code",
   "execution_count": 275,
   "metadata": {},
   "outputs": [
    {
     "data": {
      "text/html": [
       "<div>\n",
       "<style scoped>\n",
       "    .dataframe tbody tr th:only-of-type {\n",
       "        vertical-align: middle;\n",
       "    }\n",
       "\n",
       "    .dataframe tbody tr th {\n",
       "        vertical-align: top;\n",
       "    }\n",
       "\n",
       "    .dataframe thead th {\n",
       "        text-align: right;\n",
       "    }\n",
       "</style>\n",
       "<table border=\"1\" class=\"dataframe\">\n",
       "  <thead>\n",
       "    <tr style=\"text-align: right;\">\n",
       "      <th></th>\n",
       "      <th>employment_status_rollup</th>\n",
       "      <th>upper_age_cap</th>\n",
       "    </tr>\n",
       "  </thead>\n",
       "  <tbody>\n",
       "    <tr>\n",
       "      <th>0</th>\n",
       "      <td>Active</td>\n",
       "      <td>60.0</td>\n",
       "    </tr>\n",
       "    <tr>\n",
       "      <th>1</th>\n",
       "      <td>Inactive</td>\n",
       "      <td>64.0</td>\n",
       "    </tr>\n",
       "    <tr>\n",
       "      <th>2</th>\n",
       "      <td>Non-Employee</td>\n",
       "      <td>67.1</td>\n",
       "    </tr>\n",
       "    <tr>\n",
       "      <th>3</th>\n",
       "      <td>Unknown</td>\n",
       "      <td>221.0</td>\n",
       "    </tr>\n",
       "  </tbody>\n",
       "</table>\n",
       "</div>"
      ],
      "text/plain": [
       "  employment_status_rollup  upper_age_cap\n",
       "0                   Active           60.0\n",
       "1                 Inactive           64.0\n",
       "2             Non-Employee           67.1\n",
       "3                  Unknown          221.0"
      ]
     },
     "execution_count": 275,
     "metadata": {},
     "output_type": "execute_result"
    }
   ],
   "source": [
    "age_upper_cap = train_set.groupby(['employment_status_rollup'])['person_age'].quantile(0.95).reset_index()\n",
    "age_upper_cap.rename(columns={'person_age':'upper_age_cap'},inplace=True)\n",
    "age_upper_cap"
   ]
  },
  {
   "cell_type": "code",
   "execution_count": 276,
   "metadata": {},
   "outputs": [
    {
     "data": {
      "text/plain": [
       "63.0"
      ]
     },
     "execution_count": 276,
     "metadata": {},
     "output_type": "execute_result"
    }
   ],
   "source": [
    "age_cap_unknon = train_set[train_set['employment_status_rollup']=='Unknown']['person_age'].quantile(0.75)\n",
    "age_cap_unknon"
   ]
  },
  {
   "cell_type": "code",
   "execution_count": 277,
   "metadata": {},
   "outputs": [
    {
     "data": {
      "text/html": [
       "<div>\n",
       "<style scoped>\n",
       "    .dataframe tbody tr th:only-of-type {\n",
       "        vertical-align: middle;\n",
       "    }\n",
       "\n",
       "    .dataframe tbody tr th {\n",
       "        vertical-align: top;\n",
       "    }\n",
       "\n",
       "    .dataframe thead th {\n",
       "        text-align: right;\n",
       "    }\n",
       "</style>\n",
       "<table border=\"1\" class=\"dataframe\">\n",
       "  <thead>\n",
       "    <tr style=\"text-align: right;\">\n",
       "      <th></th>\n",
       "      <th>employment_status_rollup</th>\n",
       "      <th>upper_age_cap</th>\n",
       "    </tr>\n",
       "  </thead>\n",
       "  <tbody>\n",
       "    <tr>\n",
       "      <th>0</th>\n",
       "      <td>Active</td>\n",
       "      <td>60.0</td>\n",
       "    </tr>\n",
       "    <tr>\n",
       "      <th>1</th>\n",
       "      <td>Inactive</td>\n",
       "      <td>64.0</td>\n",
       "    </tr>\n",
       "    <tr>\n",
       "      <th>2</th>\n",
       "      <td>Non-Employee</td>\n",
       "      <td>67.1</td>\n",
       "    </tr>\n",
       "    <tr>\n",
       "      <th>3</th>\n",
       "      <td>Unknown</td>\n",
       "      <td>63.0</td>\n",
       "    </tr>\n",
       "  </tbody>\n",
       "</table>\n",
       "</div>"
      ],
      "text/plain": [
       "  employment_status_rollup  upper_age_cap\n",
       "0                   Active           60.0\n",
       "1                 Inactive           64.0\n",
       "2             Non-Employee           67.1\n",
       "3                  Unknown           63.0"
      ]
     },
     "execution_count": 277,
     "metadata": {},
     "output_type": "execute_result"
    }
   ],
   "source": [
    "age_upper_cap.loc[age_upper_cap['employment_status_rollup']=='Unknown', 'upper_age_cap'] = age_cap_unknon\n",
    "age_upper_cap"
   ]
  },
  {
   "cell_type": "code",
   "execution_count": 278,
   "metadata": {},
   "outputs": [
    {
     "data": {
      "text/plain": [
       "(305703, 19)"
      ]
     },
     "execution_count": 278,
     "metadata": {},
     "output_type": "execute_result"
    }
   ],
   "source": [
    "train_set = train_set.merge(age_upper_cap, how='left', on='employment_status_rollup')\n",
    "train_set.shape"
   ]
  },
  {
   "cell_type": "code",
   "execution_count": 279,
   "metadata": {},
   "outputs": [
    {
     "data": {
      "text/html": [
       "<div>\n",
       "<style scoped>\n",
       "    .dataframe tbody tr th:only-of-type {\n",
       "        vertical-align: middle;\n",
       "    }\n",
       "\n",
       "    .dataframe tbody tr th {\n",
       "        vertical-align: top;\n",
       "    }\n",
       "\n",
       "    .dataframe thead th {\n",
       "        text-align: right;\n",
       "    }\n",
       "</style>\n",
       "<table border=\"1\" class=\"dataframe\">\n",
       "  <thead>\n",
       "    <tr style=\"text-align: right;\">\n",
       "      <th></th>\n",
       "      <th>enrolled_plan_cost</th>\n",
       "      <th>person_age</th>\n",
       "      <th>person_gender_description</th>\n",
       "      <th>client_is_ysa</th>\n",
       "      <th>client_has_corporate_exchange</th>\n",
       "      <th>client_hm_large_market_or_enterprise</th>\n",
       "      <th>number_of_people_covered</th>\n",
       "      <th>enrolled_er_annual_hsa_contribution</th>\n",
       "      <th>source_system</th>\n",
       "      <th>enrollment_suggestion_source</th>\n",
       "      <th>er_hsa_contribution_flag_new</th>\n",
       "      <th>label</th>\n",
       "      <th>client_industry_rollup</th>\n",
       "      <th>marital_status_rollup</th>\n",
       "      <th>employment_status_rollup</th>\n",
       "      <th>coverage_category_rollup</th>\n",
       "      <th>enrolled_option_bc_dg</th>\n",
       "      <th>person_expected_annual_base_salary_range</th>\n",
       "      <th>upper_age_cap</th>\n",
       "    </tr>\n",
       "  </thead>\n",
       "  <tbody>\n",
       "    <tr>\n",
       "      <th>0</th>\n",
       "      <td>0.0</td>\n",
       "      <td>31.0</td>\n",
       "      <td>Male</td>\n",
       "      <td>Y</td>\n",
       "      <td>N</td>\n",
       "      <td>LM</td>\n",
       "      <td>1.0</td>\n",
       "      <td>1700.0</td>\n",
       "      <td>TBA_3X</td>\n",
       "      <td>Others</td>\n",
       "      <td>1</td>\n",
       "      <td>1</td>\n",
       "      <td>healthcare_and_medical</td>\n",
       "      <td>Married</td>\n",
       "      <td>Active</td>\n",
       "      <td>Unknown</td>\n",
       "      <td>Unknown</td>\n",
       "      <td>Unknown</td>\n",
       "      <td>60.0</td>\n",
       "    </tr>\n",
       "    <tr>\n",
       "      <th>1</th>\n",
       "      <td>1063.0</td>\n",
       "      <td>25.0</td>\n",
       "      <td>Female</td>\n",
       "      <td>Unknown</td>\n",
       "      <td>Unknown</td>\n",
       "      <td>Enterprise</td>\n",
       "      <td>1.0</td>\n",
       "      <td>0.0</td>\n",
       "      <td>CBA</td>\n",
       "      <td>Unknown</td>\n",
       "      <td>0</td>\n",
       "      <td>0</td>\n",
       "      <td>business_services</td>\n",
       "      <td>Single</td>\n",
       "      <td>Active</td>\n",
       "      <td>Covering_Self</td>\n",
       "      <td>HDHP w/HSA</td>\n",
       "      <td>80,000 - 99,999</td>\n",
       "      <td>60.0</td>\n",
       "    </tr>\n",
       "  </tbody>\n",
       "</table>\n",
       "</div>"
      ],
      "text/plain": [
       "   enrolled_plan_cost  person_age person_gender_description client_is_ysa  \\\n",
       "0                 0.0        31.0                      Male             Y   \n",
       "1              1063.0        25.0                    Female       Unknown   \n",
       "\n",
       "  client_has_corporate_exchange client_hm_large_market_or_enterprise  \\\n",
       "0                             N                                   LM   \n",
       "1                       Unknown                           Enterprise   \n",
       "\n",
       "   number_of_people_covered  enrolled_er_annual_hsa_contribution  \\\n",
       "0                       1.0                               1700.0   \n",
       "1                       1.0                                  0.0   \n",
       "\n",
       "  source_system enrollment_suggestion_source  er_hsa_contribution_flag_new  \\\n",
       "0        TBA_3X                       Others                             1   \n",
       "1           CBA                      Unknown                             0   \n",
       "\n",
       "   label  client_industry_rollup marital_status_rollup  \\\n",
       "0      1  healthcare_and_medical               Married   \n",
       "1      0       business_services                Single   \n",
       "\n",
       "  employment_status_rollup coverage_category_rollup enrolled_option_bc_dg  \\\n",
       "0                   Active                  Unknown               Unknown   \n",
       "1                   Active            Covering_Self            HDHP w/HSA   \n",
       "\n",
       "  person_expected_annual_base_salary_range  upper_age_cap  \n",
       "0                                  Unknown           60.0  \n",
       "1                          80,000 - 99,999           60.0  "
      ]
     },
     "execution_count": 279,
     "metadata": {},
     "output_type": "execute_result"
    }
   ],
   "source": [
    "train_set.head(2)"
   ]
  },
  {
   "cell_type": "code",
   "execution_count": 280,
   "metadata": {},
   "outputs": [
    {
     "data": {
      "text/plain": [
       "(305703, 19)"
      ]
     },
     "execution_count": 280,
     "metadata": {},
     "output_type": "execute_result"
    }
   ],
   "source": [
    "train_set['person_age'] = np.where(train_set['person_age'] > train_set['upper_age_cap'], train_set['upper_age_cap'], train_set['person_age'])\n",
    "train_set.shape"
   ]
  },
  {
   "cell_type": "code",
   "execution_count": 281,
   "metadata": {},
   "outputs": [
    {
     "data": {
      "text/html": [
       "<div>\n",
       "<style scoped>\n",
       "    .dataframe tbody tr th:only-of-type {\n",
       "        vertical-align: middle;\n",
       "    }\n",
       "\n",
       "    .dataframe tbody tr th {\n",
       "        vertical-align: top;\n",
       "    }\n",
       "\n",
       "    .dataframe thead th {\n",
       "        text-align: right;\n",
       "    }\n",
       "</style>\n",
       "<table border=\"1\" class=\"dataframe\">\n",
       "  <thead>\n",
       "    <tr style=\"text-align: right;\">\n",
       "      <th></th>\n",
       "      <th>enrolled_plan_cost</th>\n",
       "      <th>person_age</th>\n",
       "      <th>person_gender_description</th>\n",
       "      <th>client_is_ysa</th>\n",
       "      <th>client_has_corporate_exchange</th>\n",
       "      <th>client_hm_large_market_or_enterprise</th>\n",
       "      <th>number_of_people_covered</th>\n",
       "      <th>enrolled_er_annual_hsa_contribution</th>\n",
       "      <th>source_system</th>\n",
       "      <th>enrollment_suggestion_source</th>\n",
       "      <th>er_hsa_contribution_flag_new</th>\n",
       "      <th>label</th>\n",
       "      <th>client_industry_rollup</th>\n",
       "      <th>marital_status_rollup</th>\n",
       "      <th>employment_status_rollup</th>\n",
       "      <th>coverage_category_rollup</th>\n",
       "      <th>enrolled_option_bc_dg</th>\n",
       "      <th>person_expected_annual_base_salary_range</th>\n",
       "      <th>upper_age_cap</th>\n",
       "    </tr>\n",
       "  </thead>\n",
       "  <tbody>\n",
       "    <tr>\n",
       "      <th>0</th>\n",
       "      <td>0.0</td>\n",
       "      <td>31.0</td>\n",
       "      <td>Male</td>\n",
       "      <td>Y</td>\n",
       "      <td>N</td>\n",
       "      <td>LM</td>\n",
       "      <td>1.0</td>\n",
       "      <td>1700.0</td>\n",
       "      <td>TBA_3X</td>\n",
       "      <td>Others</td>\n",
       "      <td>1</td>\n",
       "      <td>1</td>\n",
       "      <td>healthcare_and_medical</td>\n",
       "      <td>Married</td>\n",
       "      <td>Active</td>\n",
       "      <td>Unknown</td>\n",
       "      <td>Unknown</td>\n",
       "      <td>Unknown</td>\n",
       "      <td>60.0</td>\n",
       "    </tr>\n",
       "    <tr>\n",
       "      <th>1</th>\n",
       "      <td>1063.0</td>\n",
       "      <td>25.0</td>\n",
       "      <td>Female</td>\n",
       "      <td>Unknown</td>\n",
       "      <td>Unknown</td>\n",
       "      <td>Enterprise</td>\n",
       "      <td>1.0</td>\n",
       "      <td>0.0</td>\n",
       "      <td>CBA</td>\n",
       "      <td>Unknown</td>\n",
       "      <td>0</td>\n",
       "      <td>0</td>\n",
       "      <td>business_services</td>\n",
       "      <td>Single</td>\n",
       "      <td>Active</td>\n",
       "      <td>Covering_Self</td>\n",
       "      <td>HDHP w/HSA</td>\n",
       "      <td>80,000 - 99,999</td>\n",
       "      <td>60.0</td>\n",
       "    </tr>\n",
       "  </tbody>\n",
       "</table>\n",
       "</div>"
      ],
      "text/plain": [
       "   enrolled_plan_cost  person_age person_gender_description client_is_ysa  \\\n",
       "0                 0.0        31.0                      Male             Y   \n",
       "1              1063.0        25.0                    Female       Unknown   \n",
       "\n",
       "  client_has_corporate_exchange client_hm_large_market_or_enterprise  \\\n",
       "0                             N                                   LM   \n",
       "1                       Unknown                           Enterprise   \n",
       "\n",
       "   number_of_people_covered  enrolled_er_annual_hsa_contribution  \\\n",
       "0                       1.0                               1700.0   \n",
       "1                       1.0                                  0.0   \n",
       "\n",
       "  source_system enrollment_suggestion_source  er_hsa_contribution_flag_new  \\\n",
       "0        TBA_3X                       Others                             1   \n",
       "1           CBA                      Unknown                             0   \n",
       "\n",
       "   label  client_industry_rollup marital_status_rollup  \\\n",
       "0      1  healthcare_and_medical               Married   \n",
       "1      0       business_services                Single   \n",
       "\n",
       "  employment_status_rollup coverage_category_rollup enrolled_option_bc_dg  \\\n",
       "0                   Active                  Unknown               Unknown   \n",
       "1                   Active            Covering_Self            HDHP w/HSA   \n",
       "\n",
       "  person_expected_annual_base_salary_range  upper_age_cap  \n",
       "0                                  Unknown           60.0  \n",
       "1                          80,000 - 99,999           60.0  "
      ]
     },
     "execution_count": 281,
     "metadata": {},
     "output_type": "execute_result"
    }
   ],
   "source": [
    "train_set.head(2)"
   ]
  },
  {
   "cell_type": "code",
   "execution_count": 282,
   "metadata": {},
   "outputs": [],
   "source": [
    "train_set.drop(columns='upper_age_cap', inplace=True)"
   ]
  },
  {
   "cell_type": "code",
   "execution_count": 283,
   "metadata": {},
   "outputs": [],
   "source": [
    "class CustomNumericImputer:\n",
    "    \n",
    "    def __init__(self):\n",
    "        return None\n",
    "    \n",
    "    def fit(self, X, impute_cols, using_cols, method='median'):\n",
    "        self.using_cols = using_cols\n",
    "        self.impute_cols = impute_cols\n",
    "        self.method = method\n",
    "        cols = self.using_cols + self.impute_cols\n",
    "        X_ = X[cols]\n",
    "        \n",
    "        if self.method == 'median':\n",
    "            self.fit_values = X_.groupby(using_cols)[impute_cols].median().reset_index()\n",
    "            impute_cols_rename_dict = dict([(x,x+'_median') for x in self.impute_cols])\n",
    "            self.fit_values.rename(columns=impute_cols_rename_dict, inplace=True)\n",
    "            self.fit_values.fillna(self.fit_values.median(), inplace=True)\n",
    "        elif self.method == 'mean':\n",
    "            self.fit_values = X_.groupby(using_cols)[impute_cols].mean().reset_index()\n",
    "            impute_cols_rename_dict = dict([(x,x+'_mean') for x in self.impute_cols])\n",
    "            self.fit_values.rename(columns=impute_cols_rename_dict, inplace=True)\n",
    "            self.fit_values.fillna(self.fit_values.mean(), inplace=True)\n",
    "        else: print('Method can be \"median\" or \"mean\"')\n",
    "        self.new_cols = list(impute_cols_rename_dict.values())\n",
    "        return self\n",
    "    \n",
    "    def fit_transform(self, X, impute_cols, using_cols, method='median'):\n",
    "        self.fit(X, impute_cols, using_cols, method)\n",
    "        \n",
    "        cols = self.using_cols + self.impute_cols\n",
    "        X_ = X[cols]\n",
    "        X_ = X_.merge(self.fit_values, how='left', on=self.using_cols)\n",
    "        for col, ncol in zip(self.impute_cols, self.new_cols):\n",
    "            X_[col] = np.where(X_[col].isnull(), X_[ncol], X_[col])\n",
    "            \n",
    "        if self.method == 'median':\n",
    "            return X_[self.impute_cols].fillna(X_[self.impute_cols].median())\n",
    "        elif self.method == 'mean':\n",
    "            return X_[self.impute_cols].fillna(X_[self.impute_cols].mean())\n",
    "    \n",
    "    def transform(self, X, impute_cols):\n",
    "        cols = self.using_cols + impute_cols\n",
    "        X_ = X[cols]\n",
    "        X_ = X_.merge(self.fit_values, how='left', on=self.using_cols)\n",
    "        for col, ncol in zip(self.impute_cols,self.new_cols):\n",
    "            X_[col] = np.where(X_[col].isnull(), X_[ncol], X_[col])\n",
    "            \n",
    "        if self.method == 'median':\n",
    "            return X_[self.impute_cols].fillna(X_[self.impute_cols].median())\n",
    "        elif self.method == 'mean':\n",
    "            return X_[self.impute_cols].fillna(X_[self.impute_cols].mean())\n",
    "         "
   ]
  },
  {
   "cell_type": "code",
   "execution_count": 284,
   "metadata": {},
   "outputs": [
    {
     "data": {
      "text/html": [
       "<div>\n",
       "<style scoped>\n",
       "    .dataframe tbody tr th:only-of-type {\n",
       "        vertical-align: middle;\n",
       "    }\n",
       "\n",
       "    .dataframe tbody tr th {\n",
       "        vertical-align: top;\n",
       "    }\n",
       "\n",
       "    .dataframe thead th {\n",
       "        text-align: right;\n",
       "    }\n",
       "</style>\n",
       "<table border=\"1\" class=\"dataframe\">\n",
       "  <thead>\n",
       "    <tr style=\"text-align: right;\">\n",
       "      <th></th>\n",
       "      <th>person_age</th>\n",
       "      <th>number_of_people_covered</th>\n",
       "      <th>enrolled_plan_cost</th>\n",
       "      <th>enrolled_er_annual_hsa_contribution</th>\n",
       "    </tr>\n",
       "  </thead>\n",
       "  <tbody>\n",
       "    <tr>\n",
       "      <th>count</th>\n",
       "      <td>300800.000000</td>\n",
       "      <td>305700.000000</td>\n",
       "      <td>305703.000000</td>\n",
       "      <td>280966.000000</td>\n",
       "    </tr>\n",
       "    <tr>\n",
       "      <th>mean</th>\n",
       "      <td>37.582372</td>\n",
       "      <td>1.685675</td>\n",
       "      <td>1814.599072</td>\n",
       "      <td>261.742764</td>\n",
       "    </tr>\n",
       "    <tr>\n",
       "      <th>std</th>\n",
       "      <td>11.884628</td>\n",
       "      <td>1.189925</td>\n",
       "      <td>2148.581459</td>\n",
       "      <td>384.797521</td>\n",
       "    </tr>\n",
       "    <tr>\n",
       "      <th>min</th>\n",
       "      <td>18.000000</td>\n",
       "      <td>0.000000</td>\n",
       "      <td>0.000000</td>\n",
       "      <td>0.000000</td>\n",
       "    </tr>\n",
       "    <tr>\n",
       "      <th>25%</th>\n",
       "      <td>28.000000</td>\n",
       "      <td>1.000000</td>\n",
       "      <td>663.000000</td>\n",
       "      <td>0.000000</td>\n",
       "    </tr>\n",
       "    <tr>\n",
       "      <th>50%</th>\n",
       "      <td>35.000000</td>\n",
       "      <td>1.000000</td>\n",
       "      <td>1196.000000</td>\n",
       "      <td>50.000000</td>\n",
       "    </tr>\n",
       "    <tr>\n",
       "      <th>75%</th>\n",
       "      <td>46.000000</td>\n",
       "      <td>2.000000</td>\n",
       "      <td>2249.000000</td>\n",
       "      <td>425.000000</td>\n",
       "    </tr>\n",
       "    <tr>\n",
       "      <th>max</th>\n",
       "      <td>67.100000</td>\n",
       "      <td>14.000000</td>\n",
       "      <td>86720.000000</td>\n",
       "      <td>9750.000000</td>\n",
       "    </tr>\n",
       "  </tbody>\n",
       "</table>\n",
       "</div>"
      ],
      "text/plain": [
       "          person_age  number_of_people_covered  enrolled_plan_cost  \\\n",
       "count  300800.000000             305700.000000       305703.000000   \n",
       "mean       37.582372                  1.685675         1814.599072   \n",
       "std        11.884628                  1.189925         2148.581459   \n",
       "min        18.000000                  0.000000            0.000000   \n",
       "25%        28.000000                  1.000000          663.000000   \n",
       "50%        35.000000                  1.000000         1196.000000   \n",
       "75%        46.000000                  2.000000         2249.000000   \n",
       "max        67.100000                 14.000000        86720.000000   \n",
       "\n",
       "       enrolled_er_annual_hsa_contribution  \n",
       "count                        280966.000000  \n",
       "mean                            261.742764  \n",
       "std                             384.797521  \n",
       "min                               0.000000  \n",
       "25%                               0.000000  \n",
       "50%                              50.000000  \n",
       "75%                             425.000000  \n",
       "max                            9750.000000  "
      ]
     },
     "execution_count": 284,
     "metadata": {},
     "output_type": "execute_result"
    }
   ],
   "source": [
    "train_set[num_columns].describe()"
   ]
  },
  {
   "cell_type": "code",
   "execution_count": 285,
   "metadata": {},
   "outputs": [],
   "source": [
    "custom_numeric_imputer = CustomNumericImputer()"
   ]
  },
  {
   "cell_type": "code",
   "execution_count": 286,
   "metadata": {},
   "outputs": [],
   "source": [
    "train_set[num_columns] = custom_numeric_imputer.fit_transform(X=train_set, impute_cols=num_columns,\n",
    "                                                              using_cols=['employment_status_rollup'], method='median')"
   ]
  },
  {
   "cell_type": "code",
   "execution_count": 287,
   "metadata": {},
   "outputs": [
    {
     "data": {
      "text/plain": [
       "person_age                             0\n",
       "number_of_people_covered               0\n",
       "enrolled_plan_cost                     0\n",
       "enrolled_er_annual_hsa_contribution    0\n",
       "dtype: int64"
      ]
     },
     "execution_count": 287,
     "metadata": {},
     "output_type": "execute_result"
    }
   ],
   "source": [
    "train_set[num_columns].isnull().sum()"
   ]
  },
  {
   "cell_type": "code",
   "execution_count": 288,
   "metadata": {},
   "outputs": [
    {
     "data": {
      "text/html": [
       "<div>\n",
       "<style scoped>\n",
       "    .dataframe tbody tr th:only-of-type {\n",
       "        vertical-align: middle;\n",
       "    }\n",
       "\n",
       "    .dataframe tbody tr th {\n",
       "        vertical-align: top;\n",
       "    }\n",
       "\n",
       "    .dataframe thead th {\n",
       "        text-align: right;\n",
       "    }\n",
       "</style>\n",
       "<table border=\"1\" class=\"dataframe\">\n",
       "  <thead>\n",
       "    <tr style=\"text-align: right;\">\n",
       "      <th></th>\n",
       "      <th>person_age</th>\n",
       "      <th>number_of_people_covered</th>\n",
       "      <th>enrolled_plan_cost</th>\n",
       "      <th>enrolled_er_annual_hsa_contribution</th>\n",
       "    </tr>\n",
       "  </thead>\n",
       "  <tbody>\n",
       "    <tr>\n",
       "      <th>count</th>\n",
       "      <td>305703.000000</td>\n",
       "      <td>305703.000000</td>\n",
       "      <td>305703.000000</td>\n",
       "      <td>305703.000000</td>\n",
       "    </tr>\n",
       "    <tr>\n",
       "      <th>mean</th>\n",
       "      <td>37.548547</td>\n",
       "      <td>1.685669</td>\n",
       "      <td>1814.599072</td>\n",
       "      <td>243.955972</td>\n",
       "    </tr>\n",
       "    <tr>\n",
       "      <th>std</th>\n",
       "      <td>11.795470</td>\n",
       "      <td>1.189921</td>\n",
       "      <td>2148.581459</td>\n",
       "      <td>373.759812</td>\n",
       "    </tr>\n",
       "    <tr>\n",
       "      <th>min</th>\n",
       "      <td>18.000000</td>\n",
       "      <td>0.000000</td>\n",
       "      <td>0.000000</td>\n",
       "      <td>0.000000</td>\n",
       "    </tr>\n",
       "    <tr>\n",
       "      <th>25%</th>\n",
       "      <td>28.000000</td>\n",
       "      <td>1.000000</td>\n",
       "      <td>663.000000</td>\n",
       "      <td>0.000000</td>\n",
       "    </tr>\n",
       "    <tr>\n",
       "      <th>50%</th>\n",
       "      <td>35.000000</td>\n",
       "      <td>1.000000</td>\n",
       "      <td>1196.000000</td>\n",
       "      <td>41.000000</td>\n",
       "    </tr>\n",
       "    <tr>\n",
       "      <th>75%</th>\n",
       "      <td>46.000000</td>\n",
       "      <td>2.000000</td>\n",
       "      <td>2249.000000</td>\n",
       "      <td>400.000000</td>\n",
       "    </tr>\n",
       "    <tr>\n",
       "      <th>max</th>\n",
       "      <td>67.100000</td>\n",
       "      <td>14.000000</td>\n",
       "      <td>86720.000000</td>\n",
       "      <td>9750.000000</td>\n",
       "    </tr>\n",
       "  </tbody>\n",
       "</table>\n",
       "</div>"
      ],
      "text/plain": [
       "          person_age  number_of_people_covered  enrolled_plan_cost  \\\n",
       "count  305703.000000             305703.000000       305703.000000   \n",
       "mean       37.548547                  1.685669         1814.599072   \n",
       "std        11.795470                  1.189921         2148.581459   \n",
       "min        18.000000                  0.000000            0.000000   \n",
       "25%        28.000000                  1.000000          663.000000   \n",
       "50%        35.000000                  1.000000         1196.000000   \n",
       "75%        46.000000                  2.000000         2249.000000   \n",
       "max        67.100000                 14.000000        86720.000000   \n",
       "\n",
       "       enrolled_er_annual_hsa_contribution  \n",
       "count                        305703.000000  \n",
       "mean                            243.955972  \n",
       "std                             373.759812  \n",
       "min                               0.000000  \n",
       "25%                               0.000000  \n",
       "50%                              41.000000  \n",
       "75%                             400.000000  \n",
       "max                            9750.000000  "
      ]
     },
     "execution_count": 288,
     "metadata": {},
     "output_type": "execute_result"
    }
   ],
   "source": [
    "train_set[num_columns].describe()"
   ]
  },
  {
   "cell_type": "code",
   "execution_count": 289,
   "metadata": {},
   "outputs": [
    {
     "data": {
      "text/html": [
       "<div>\n",
       "<style scoped>\n",
       "    .dataframe tbody tr th:only-of-type {\n",
       "        vertical-align: middle;\n",
       "    }\n",
       "\n",
       "    .dataframe tbody tr th {\n",
       "        vertical-align: top;\n",
       "    }\n",
       "\n",
       "    .dataframe thead th {\n",
       "        text-align: right;\n",
       "    }\n",
       "</style>\n",
       "<table border=\"1\" class=\"dataframe\">\n",
       "  <thead>\n",
       "    <tr style=\"text-align: right;\">\n",
       "      <th></th>\n",
       "      <th>employment_status_rollup</th>\n",
       "      <th>person_age_median</th>\n",
       "      <th>number_of_people_covered_median</th>\n",
       "      <th>enrolled_plan_cost_median</th>\n",
       "      <th>enrolled_er_annual_hsa_contribution_median</th>\n",
       "    </tr>\n",
       "  </thead>\n",
       "  <tbody>\n",
       "    <tr>\n",
       "      <th>0</th>\n",
       "      <td>Active</td>\n",
       "      <td>34.0</td>\n",
       "      <td>1.0</td>\n",
       "      <td>1196.0</td>\n",
       "      <td>41.0</td>\n",
       "    </tr>\n",
       "    <tr>\n",
       "      <th>1</th>\n",
       "      <td>Inactive</td>\n",
       "      <td>46.0</td>\n",
       "      <td>1.0</td>\n",
       "      <td>1851.0</td>\n",
       "      <td>40.0</td>\n",
       "    </tr>\n",
       "    <tr>\n",
       "      <th>2</th>\n",
       "      <td>Non-Employee</td>\n",
       "      <td>56.0</td>\n",
       "      <td>1.0</td>\n",
       "      <td>924.0</td>\n",
       "      <td>0.0</td>\n",
       "    </tr>\n",
       "    <tr>\n",
       "      <th>3</th>\n",
       "      <td>Unknown</td>\n",
       "      <td>39.0</td>\n",
       "      <td>1.0</td>\n",
       "      <td>832.0</td>\n",
       "      <td>200.0</td>\n",
       "    </tr>\n",
       "  </tbody>\n",
       "</table>\n",
       "</div>"
      ],
      "text/plain": [
       "  employment_status_rollup  person_age_median  \\\n",
       "0                   Active               34.0   \n",
       "1                 Inactive               46.0   \n",
       "2             Non-Employee               56.0   \n",
       "3                  Unknown               39.0   \n",
       "\n",
       "   number_of_people_covered_median  enrolled_plan_cost_median  \\\n",
       "0                              1.0                     1196.0   \n",
       "1                              1.0                     1851.0   \n",
       "2                              1.0                      924.0   \n",
       "3                              1.0                      832.0   \n",
       "\n",
       "   enrolled_er_annual_hsa_contribution_median  \n",
       "0                                        41.0  \n",
       "1                                        40.0  \n",
       "2                                         0.0  \n",
       "3                                       200.0  "
      ]
     },
     "execution_count": 289,
     "metadata": {},
     "output_type": "execute_result"
    }
   ],
   "source": [
    "custom_numeric_imputer.fit_values"
   ]
  },
  {
   "cell_type": "code",
   "execution_count": 290,
   "metadata": {},
   "outputs": [
    {
     "data": {
      "text/plain": [
       "(305703, 18)"
      ]
     },
     "execution_count": 290,
     "metadata": {},
     "output_type": "execute_result"
    }
   ],
   "source": [
    "train_set.shape"
   ]
  },
  {
   "cell_type": "code",
   "execution_count": 291,
   "metadata": {},
   "outputs": [
    {
     "data": {
      "text/plain": [
       "(305703, 59)"
      ]
     },
     "execution_count": 291,
     "metadata": {},
     "output_type": "execute_result"
    }
   ],
   "source": [
    "train_set = pd.concat([pd.get_dummies(data=train_set.drop(columns='label'), columns=cat_columns, drop_first=True), train_set[['label']]], axis=1)\n",
    "train_set.shape"
   ]
  },
  {
   "cell_type": "markdown",
   "metadata": {},
   "source": [
    "### 4. Imputing missing values, handling outlier and encoding categorical variables (Testing Set)"
   ]
  },
  {
   "cell_type": "code",
   "execution_count": 250,
   "metadata": {},
   "outputs": [
    {
     "data": {
      "text/plain": [
       "(131016, 19)"
      ]
     },
     "execution_count": 250,
     "metadata": {},
     "output_type": "execute_result"
    }
   ],
   "source": [
    "test_set = test_set.merge(age_upper_cap, how='left', on='employment_status_rollup')\n",
    "test_set.shape"
   ]
  },
  {
   "cell_type": "code",
   "execution_count": 251,
   "metadata": {},
   "outputs": [
    {
     "data": {
      "text/html": [
       "<div>\n",
       "<style scoped>\n",
       "    .dataframe tbody tr th:only-of-type {\n",
       "        vertical-align: middle;\n",
       "    }\n",
       "\n",
       "    .dataframe tbody tr th {\n",
       "        vertical-align: top;\n",
       "    }\n",
       "\n",
       "    .dataframe thead th {\n",
       "        text-align: right;\n",
       "    }\n",
       "</style>\n",
       "<table border=\"1\" class=\"dataframe\">\n",
       "  <thead>\n",
       "    <tr style=\"text-align: right;\">\n",
       "      <th></th>\n",
       "      <th>enrolled_plan_cost</th>\n",
       "      <th>person_age</th>\n",
       "      <th>person_gender_description</th>\n",
       "      <th>client_is_ysa</th>\n",
       "      <th>client_has_corporate_exchange</th>\n",
       "      <th>client_hm_large_market_or_enterprise</th>\n",
       "      <th>number_of_people_covered</th>\n",
       "      <th>enrolled_er_annual_hsa_contribution</th>\n",
       "      <th>source_system</th>\n",
       "      <th>enrollment_suggestion_source</th>\n",
       "      <th>er_hsa_contribution_flag_new</th>\n",
       "      <th>label</th>\n",
       "      <th>client_industry_rollup</th>\n",
       "      <th>marital_status_rollup</th>\n",
       "      <th>employment_status_rollup</th>\n",
       "      <th>coverage_category_rollup</th>\n",
       "      <th>enrolled_option_bc_dg</th>\n",
       "      <th>person_expected_annual_base_salary_range</th>\n",
       "      <th>upper_age_cap</th>\n",
       "    </tr>\n",
       "  </thead>\n",
       "  <tbody>\n",
       "    <tr>\n",
       "      <th>0</th>\n",
       "      <td>0.0</td>\n",
       "      <td>32.0</td>\n",
       "      <td>Female</td>\n",
       "      <td>Y</td>\n",
       "      <td>N</td>\n",
       "      <td>LM</td>\n",
       "      <td>1.0</td>\n",
       "      <td>62.5</td>\n",
       "      <td>TBA_3X</td>\n",
       "      <td>Others</td>\n",
       "      <td>1</td>\n",
       "      <td>1</td>\n",
       "      <td>business_services</td>\n",
       "      <td>Single</td>\n",
       "      <td>Active</td>\n",
       "      <td>Unknown</td>\n",
       "      <td>Unknown</td>\n",
       "      <td>100,000+</td>\n",
       "      <td>60.0</td>\n",
       "    </tr>\n",
       "    <tr>\n",
       "      <th>1</th>\n",
       "      <td>7330.0</td>\n",
       "      <td>49.0</td>\n",
       "      <td>Male</td>\n",
       "      <td>Unknown</td>\n",
       "      <td>Unknown</td>\n",
       "      <td>Enterprise</td>\n",
       "      <td>5.0</td>\n",
       "      <td>1500.0</td>\n",
       "      <td>CBA</td>\n",
       "      <td>Unknown</td>\n",
       "      <td>1</td>\n",
       "      <td>0</td>\n",
       "      <td>healthcare_and_medical</td>\n",
       "      <td>Unknown</td>\n",
       "      <td>Active</td>\n",
       "      <td>Covering_Family</td>\n",
       "      <td>HDHP w/HSA</td>\n",
       "      <td>&lt;20,000</td>\n",
       "      <td>60.0</td>\n",
       "    </tr>\n",
       "  </tbody>\n",
       "</table>\n",
       "</div>"
      ],
      "text/plain": [
       "   enrolled_plan_cost  person_age person_gender_description client_is_ysa  \\\n",
       "0                 0.0        32.0                    Female             Y   \n",
       "1              7330.0        49.0                      Male       Unknown   \n",
       "\n",
       "  client_has_corporate_exchange client_hm_large_market_or_enterprise  \\\n",
       "0                             N                                   LM   \n",
       "1                       Unknown                           Enterprise   \n",
       "\n",
       "   number_of_people_covered  enrolled_er_annual_hsa_contribution  \\\n",
       "0                       1.0                                 62.5   \n",
       "1                       5.0                               1500.0   \n",
       "\n",
       "  source_system enrollment_suggestion_source  er_hsa_contribution_flag_new  \\\n",
       "0        TBA_3X                       Others                             1   \n",
       "1           CBA                      Unknown                             1   \n",
       "\n",
       "   label  client_industry_rollup marital_status_rollup  \\\n",
       "0      1       business_services                Single   \n",
       "1      0  healthcare_and_medical               Unknown   \n",
       "\n",
       "  employment_status_rollup coverage_category_rollup enrolled_option_bc_dg  \\\n",
       "0                   Active                  Unknown               Unknown   \n",
       "1                   Active          Covering_Family            HDHP w/HSA   \n",
       "\n",
       "  person_expected_annual_base_salary_range  upper_age_cap  \n",
       "0                                 100,000+           60.0  \n",
       "1                                  <20,000           60.0  "
      ]
     },
     "execution_count": 251,
     "metadata": {},
     "output_type": "execute_result"
    }
   ],
   "source": [
    "test_set.head(2)"
   ]
  },
  {
   "cell_type": "code",
   "execution_count": 252,
   "metadata": {},
   "outputs": [
    {
     "data": {
      "text/plain": [
       "(131016, 19)"
      ]
     },
     "execution_count": 252,
     "metadata": {},
     "output_type": "execute_result"
    }
   ],
   "source": [
    "test_set['person_age'] = np.where(test_set['person_age'] > test_set['upper_age_cap'], test_set['upper_age_cap'], test_set['person_age'])\n",
    "test_set.shape"
   ]
  },
  {
   "cell_type": "code",
   "execution_count": 253,
   "metadata": {},
   "outputs": [
    {
     "data": {
      "text/plain": [
       "(131016, 18)"
      ]
     },
     "execution_count": 253,
     "metadata": {},
     "output_type": "execute_result"
    }
   ],
   "source": [
    "test_set.drop(columns='upper_age_cap', inplace=True)\n",
    "test_set.shape"
   ]
  },
  {
   "cell_type": "code",
   "execution_count": 254,
   "metadata": {},
   "outputs": [
    {
     "data": {
      "text/html": [
       "<div>\n",
       "<style scoped>\n",
       "    .dataframe tbody tr th:only-of-type {\n",
       "        vertical-align: middle;\n",
       "    }\n",
       "\n",
       "    .dataframe tbody tr th {\n",
       "        vertical-align: top;\n",
       "    }\n",
       "\n",
       "    .dataframe thead th {\n",
       "        text-align: right;\n",
       "    }\n",
       "</style>\n",
       "<table border=\"1\" class=\"dataframe\">\n",
       "  <thead>\n",
       "    <tr style=\"text-align: right;\">\n",
       "      <th></th>\n",
       "      <th>person_age</th>\n",
       "      <th>number_of_people_covered</th>\n",
       "      <th>enrolled_plan_cost</th>\n",
       "      <th>enrolled_er_annual_hsa_contribution</th>\n",
       "    </tr>\n",
       "  </thead>\n",
       "  <tbody>\n",
       "    <tr>\n",
       "      <th>count</th>\n",
       "      <td>128948.000000</td>\n",
       "      <td>131015.000000</td>\n",
       "      <td>131016.000000</td>\n",
       "      <td>120469.000000</td>\n",
       "    </tr>\n",
       "    <tr>\n",
       "      <th>mean</th>\n",
       "      <td>37.525244</td>\n",
       "      <td>1.686303</td>\n",
       "      <td>1812.140616</td>\n",
       "      <td>261.155836</td>\n",
       "    </tr>\n",
       "    <tr>\n",
       "      <th>std</th>\n",
       "      <td>11.889092</td>\n",
       "      <td>1.189575</td>\n",
       "      <td>2154.227361</td>\n",
       "      <td>383.603779</td>\n",
       "    </tr>\n",
       "    <tr>\n",
       "      <th>min</th>\n",
       "      <td>18.000000</td>\n",
       "      <td>0.000000</td>\n",
       "      <td>0.000000</td>\n",
       "      <td>0.000000</td>\n",
       "    </tr>\n",
       "    <tr>\n",
       "      <th>25%</th>\n",
       "      <td>28.000000</td>\n",
       "      <td>1.000000</td>\n",
       "      <td>660.000000</td>\n",
       "      <td>0.000000</td>\n",
       "    </tr>\n",
       "    <tr>\n",
       "      <th>50%</th>\n",
       "      <td>35.000000</td>\n",
       "      <td>1.000000</td>\n",
       "      <td>1184.000000</td>\n",
       "      <td>50.000000</td>\n",
       "    </tr>\n",
       "    <tr>\n",
       "      <th>75%</th>\n",
       "      <td>46.000000</td>\n",
       "      <td>2.000000</td>\n",
       "      <td>2249.000000</td>\n",
       "      <td>417.000000</td>\n",
       "    </tr>\n",
       "    <tr>\n",
       "      <th>max</th>\n",
       "      <td>67.100000</td>\n",
       "      <td>15.000000</td>\n",
       "      <td>47175.000000</td>\n",
       "      <td>6509.880000</td>\n",
       "    </tr>\n",
       "  </tbody>\n",
       "</table>\n",
       "</div>"
      ],
      "text/plain": [
       "          person_age  number_of_people_covered  enrolled_plan_cost  \\\n",
       "count  128948.000000             131015.000000       131016.000000   \n",
       "mean       37.525244                  1.686303         1812.140616   \n",
       "std        11.889092                  1.189575         2154.227361   \n",
       "min        18.000000                  0.000000            0.000000   \n",
       "25%        28.000000                  1.000000          660.000000   \n",
       "50%        35.000000                  1.000000         1184.000000   \n",
       "75%        46.000000                  2.000000         2249.000000   \n",
       "max        67.100000                 15.000000        47175.000000   \n",
       "\n",
       "       enrolled_er_annual_hsa_contribution  \n",
       "count                        120469.000000  \n",
       "mean                            261.155836  \n",
       "std                             383.603779  \n",
       "min                               0.000000  \n",
       "25%                               0.000000  \n",
       "50%                              50.000000  \n",
       "75%                             417.000000  \n",
       "max                            6509.880000  "
      ]
     },
     "execution_count": 254,
     "metadata": {},
     "output_type": "execute_result"
    }
   ],
   "source": [
    "test_set[num_columns].describe()"
   ]
  },
  {
   "cell_type": "code",
   "execution_count": 255,
   "metadata": {},
   "outputs": [
    {
     "data": {
      "text/plain": [
       "(131016, 18)"
      ]
     },
     "execution_count": 255,
     "metadata": {},
     "output_type": "execute_result"
    }
   ],
   "source": [
    "test_set[num_columns] = custom_numeric_imputer.transform(X=test_set, impute_cols=num_columns)\n",
    "test_set.shape"
   ]
  },
  {
   "cell_type": "code",
   "execution_count": 256,
   "metadata": {},
   "outputs": [
    {
     "data": {
      "text/plain": [
       "person_age                             0\n",
       "number_of_people_covered               0\n",
       "enrolled_plan_cost                     0\n",
       "enrolled_er_annual_hsa_contribution    0\n",
       "dtype: int64"
      ]
     },
     "execution_count": 256,
     "metadata": {},
     "output_type": "execute_result"
    }
   ],
   "source": [
    "test_set[num_columns].isnull().sum()"
   ]
  },
  {
   "cell_type": "code",
   "execution_count": 257,
   "metadata": {},
   "outputs": [
    {
     "data": {
      "text/html": [
       "<div>\n",
       "<style scoped>\n",
       "    .dataframe tbody tr th:only-of-type {\n",
       "        vertical-align: middle;\n",
       "    }\n",
       "\n",
       "    .dataframe tbody tr th {\n",
       "        vertical-align: top;\n",
       "    }\n",
       "\n",
       "    .dataframe thead th {\n",
       "        text-align: right;\n",
       "    }\n",
       "</style>\n",
       "<table border=\"1\" class=\"dataframe\">\n",
       "  <thead>\n",
       "    <tr style=\"text-align: right;\">\n",
       "      <th></th>\n",
       "      <th>person_age</th>\n",
       "      <th>number_of_people_covered</th>\n",
       "      <th>enrolled_plan_cost</th>\n",
       "      <th>enrolled_er_annual_hsa_contribution</th>\n",
       "    </tr>\n",
       "  </thead>\n",
       "  <tbody>\n",
       "    <tr>\n",
       "      <th>count</th>\n",
       "      <td>131016.000000</td>\n",
       "      <td>131016.000000</td>\n",
       "      <td>131016.000000</td>\n",
       "      <td>131016.000000</td>\n",
       "    </tr>\n",
       "    <tr>\n",
       "      <th>mean</th>\n",
       "      <td>37.492879</td>\n",
       "      <td>1.686298</td>\n",
       "      <td>1812.140616</td>\n",
       "      <td>243.500927</td>\n",
       "    </tr>\n",
       "    <tr>\n",
       "      <th>std</th>\n",
       "      <td>11.801133</td>\n",
       "      <td>1.189572</td>\n",
       "      <td>2154.227361</td>\n",
       "      <td>372.666298</td>\n",
       "    </tr>\n",
       "    <tr>\n",
       "      <th>min</th>\n",
       "      <td>18.000000</td>\n",
       "      <td>0.000000</td>\n",
       "      <td>0.000000</td>\n",
       "      <td>0.000000</td>\n",
       "    </tr>\n",
       "    <tr>\n",
       "      <th>25%</th>\n",
       "      <td>28.000000</td>\n",
       "      <td>1.000000</td>\n",
       "      <td>660.000000</td>\n",
       "      <td>0.000000</td>\n",
       "    </tr>\n",
       "    <tr>\n",
       "      <th>50%</th>\n",
       "      <td>35.000000</td>\n",
       "      <td>1.000000</td>\n",
       "      <td>1184.000000</td>\n",
       "      <td>41.000000</td>\n",
       "    </tr>\n",
       "    <tr>\n",
       "      <th>75%</th>\n",
       "      <td>46.000000</td>\n",
       "      <td>2.000000</td>\n",
       "      <td>2249.000000</td>\n",
       "      <td>400.000000</td>\n",
       "    </tr>\n",
       "    <tr>\n",
       "      <th>max</th>\n",
       "      <td>67.100000</td>\n",
       "      <td>15.000000</td>\n",
       "      <td>47175.000000</td>\n",
       "      <td>6509.880000</td>\n",
       "    </tr>\n",
       "  </tbody>\n",
       "</table>\n",
       "</div>"
      ],
      "text/plain": [
       "          person_age  number_of_people_covered  enrolled_plan_cost  \\\n",
       "count  131016.000000             131016.000000       131016.000000   \n",
       "mean       37.492879                  1.686298         1812.140616   \n",
       "std        11.801133                  1.189572         2154.227361   \n",
       "min        18.000000                  0.000000            0.000000   \n",
       "25%        28.000000                  1.000000          660.000000   \n",
       "50%        35.000000                  1.000000         1184.000000   \n",
       "75%        46.000000                  2.000000         2249.000000   \n",
       "max        67.100000                 15.000000        47175.000000   \n",
       "\n",
       "       enrolled_er_annual_hsa_contribution  \n",
       "count                        131016.000000  \n",
       "mean                            243.500927  \n",
       "std                             372.666298  \n",
       "min                               0.000000  \n",
       "25%                               0.000000  \n",
       "50%                              41.000000  \n",
       "75%                             400.000000  \n",
       "max                            6509.880000  "
      ]
     },
     "execution_count": 257,
     "metadata": {},
     "output_type": "execute_result"
    }
   ],
   "source": [
    "test_set[num_columns].describe()"
   ]
  },
  {
   "cell_type": "code",
   "execution_count": 258,
   "metadata": {},
   "outputs": [
    {
     "data": {
      "text/html": [
       "<div>\n",
       "<style scoped>\n",
       "    .dataframe tbody tr th:only-of-type {\n",
       "        vertical-align: middle;\n",
       "    }\n",
       "\n",
       "    .dataframe tbody tr th {\n",
       "        vertical-align: top;\n",
       "    }\n",
       "\n",
       "    .dataframe thead th {\n",
       "        text-align: right;\n",
       "    }\n",
       "</style>\n",
       "<table border=\"1\" class=\"dataframe\">\n",
       "  <thead>\n",
       "    <tr style=\"text-align: right;\">\n",
       "      <th></th>\n",
       "      <th>enrolled_plan_cost</th>\n",
       "      <th>person_age</th>\n",
       "      <th>person_gender_description</th>\n",
       "      <th>client_is_ysa</th>\n",
       "      <th>client_has_corporate_exchange</th>\n",
       "      <th>client_hm_large_market_or_enterprise</th>\n",
       "      <th>number_of_people_covered</th>\n",
       "      <th>enrolled_er_annual_hsa_contribution</th>\n",
       "      <th>source_system</th>\n",
       "      <th>enrollment_suggestion_source</th>\n",
       "      <th>er_hsa_contribution_flag_new</th>\n",
       "      <th>label</th>\n",
       "      <th>client_industry_rollup</th>\n",
       "      <th>marital_status_rollup</th>\n",
       "      <th>employment_status_rollup</th>\n",
       "      <th>coverage_category_rollup</th>\n",
       "      <th>enrolled_option_bc_dg</th>\n",
       "      <th>person_expected_annual_base_salary_range</th>\n",
       "    </tr>\n",
       "  </thead>\n",
       "  <tbody>\n",
       "    <tr>\n",
       "      <th>0</th>\n",
       "      <td>0.0</td>\n",
       "      <td>32.0</td>\n",
       "      <td>Female</td>\n",
       "      <td>Y</td>\n",
       "      <td>N</td>\n",
       "      <td>LM</td>\n",
       "      <td>1.0</td>\n",
       "      <td>62.5</td>\n",
       "      <td>TBA_3X</td>\n",
       "      <td>Others</td>\n",
       "      <td>1</td>\n",
       "      <td>1</td>\n",
       "      <td>business_services</td>\n",
       "      <td>Single</td>\n",
       "      <td>Active</td>\n",
       "      <td>Unknown</td>\n",
       "      <td>Unknown</td>\n",
       "      <td>100,000+</td>\n",
       "    </tr>\n",
       "    <tr>\n",
       "      <th>1</th>\n",
       "      <td>7330.0</td>\n",
       "      <td>49.0</td>\n",
       "      <td>Male</td>\n",
       "      <td>Unknown</td>\n",
       "      <td>Unknown</td>\n",
       "      <td>Enterprise</td>\n",
       "      <td>5.0</td>\n",
       "      <td>1500.0</td>\n",
       "      <td>CBA</td>\n",
       "      <td>Unknown</td>\n",
       "      <td>1</td>\n",
       "      <td>0</td>\n",
       "      <td>healthcare_and_medical</td>\n",
       "      <td>Unknown</td>\n",
       "      <td>Active</td>\n",
       "      <td>Covering_Family</td>\n",
       "      <td>HDHP w/HSA</td>\n",
       "      <td>&lt;20,000</td>\n",
       "    </tr>\n",
       "  </tbody>\n",
       "</table>\n",
       "</div>"
      ],
      "text/plain": [
       "   enrolled_plan_cost  person_age person_gender_description client_is_ysa  \\\n",
       "0                 0.0        32.0                    Female             Y   \n",
       "1              7330.0        49.0                      Male       Unknown   \n",
       "\n",
       "  client_has_corporate_exchange client_hm_large_market_or_enterprise  \\\n",
       "0                             N                                   LM   \n",
       "1                       Unknown                           Enterprise   \n",
       "\n",
       "   number_of_people_covered  enrolled_er_annual_hsa_contribution  \\\n",
       "0                       1.0                                 62.5   \n",
       "1                       5.0                               1500.0   \n",
       "\n",
       "  source_system enrollment_suggestion_source  er_hsa_contribution_flag_new  \\\n",
       "0        TBA_3X                       Others                             1   \n",
       "1           CBA                      Unknown                             1   \n",
       "\n",
       "   label  client_industry_rollup marital_status_rollup  \\\n",
       "0      1       business_services                Single   \n",
       "1      0  healthcare_and_medical               Unknown   \n",
       "\n",
       "  employment_status_rollup coverage_category_rollup enrolled_option_bc_dg  \\\n",
       "0                   Active                  Unknown               Unknown   \n",
       "1                   Active          Covering_Family            HDHP w/HSA   \n",
       "\n",
       "  person_expected_annual_base_salary_range  \n",
       "0                                 100,000+  \n",
       "1                                  <20,000  "
      ]
     },
     "execution_count": 258,
     "metadata": {},
     "output_type": "execute_result"
    }
   ],
   "source": [
    "test_set.head(2)"
   ]
  },
  {
   "cell_type": "code",
   "execution_count": 259,
   "metadata": {},
   "outputs": [
    {
     "data": {
      "text/plain": [
       "(131016, 59)"
      ]
     },
     "execution_count": 259,
     "metadata": {},
     "output_type": "execute_result"
    }
   ],
   "source": [
    "test_set = pd.concat([pd.get_dummies(data=test_set.drop(columns='label'), columns=cat_columns, drop_first=True), test_set[['label']]], axis=1)\n",
    "test_set.shape"
   ]
  },
  {
   "cell_type": "code",
   "execution_count": 260,
   "metadata": {},
   "outputs": [
    {
     "data": {
      "text/plain": [
       "(131016, 59)"
      ]
     },
     "execution_count": 260,
     "metadata": {},
     "output_type": "execute_result"
    }
   ],
   "source": [
    "test_set = test_set.reindex(columns=train_set.columns, fill_value=0)\n",
    "test_set.shape"
   ]
  },
  {
   "cell_type": "code",
   "execution_count": 261,
   "metadata": {},
   "outputs": [
    {
     "data": {
      "text/html": [
       "<div>\n",
       "<style scoped>\n",
       "    .dataframe tbody tr th:only-of-type {\n",
       "        vertical-align: middle;\n",
       "    }\n",
       "\n",
       "    .dataframe tbody tr th {\n",
       "        vertical-align: top;\n",
       "    }\n",
       "\n",
       "    .dataframe thead th {\n",
       "        text-align: right;\n",
       "    }\n",
       "</style>\n",
       "<table border=\"1\" class=\"dataframe\">\n",
       "  <thead>\n",
       "    <tr style=\"text-align: right;\">\n",
       "      <th></th>\n",
       "      <th>enrolled_plan_cost</th>\n",
       "      <th>person_age</th>\n",
       "      <th>number_of_people_covered</th>\n",
       "      <th>enrolled_er_annual_hsa_contribution</th>\n",
       "      <th>client_industry_rollup_agriculture_and_mining</th>\n",
       "      <th>client_industry_rollup_banking_and_finance</th>\n",
       "      <th>client_industry_rollup_business_services</th>\n",
       "      <th>client_industry_rollup_computer_service_and_software</th>\n",
       "      <th>client_industry_rollup_consumer_misc_product_and_manufacturing</th>\n",
       "      <th>client_industry_rollup_diversified_manufacturing</th>\n",
       "      <th>client_industry_rollup_education</th>\n",
       "      <th>client_industry_rollup_food_and_beverage</th>\n",
       "      <th>client_industry_rollup_government</th>\n",
       "      <th>client_industry_rollup_healthcare_and_medical</th>\n",
       "      <th>client_industry_rollup_insurance</th>\n",
       "      <th>client_industry_rollup_retail</th>\n",
       "      <th>client_industry_rollup_telecom</th>\n",
       "      <th>client_industry_rollup_transport_and_storage</th>\n",
       "      <th>client_industry_rollup_travel_recreation_and_leisure</th>\n",
       "      <th>client_industry_rollup_utilities_and_energy</th>\n",
       "      <th>person_gender_description_Male</th>\n",
       "      <th>person_gender_description_Unknown</th>\n",
       "      <th>marital_status_rollup_Married</th>\n",
       "      <th>marital_status_rollup_Single</th>\n",
       "      <th>marital_status_rollup_Unknown</th>\n",
       "      <th>client_is_ysa_Unknown</th>\n",
       "      <th>client_is_ysa_Y</th>\n",
       "      <th>client_has_corporate_exchange_Unknown</th>\n",
       "      <th>client_has_corporate_exchange_Y</th>\n",
       "      <th>client_hm_large_market_or_enterprise_Enterprise</th>\n",
       "      <th>client_hm_large_market_or_enterprise_LM</th>\n",
       "      <th>employment_status_rollup_Inactive</th>\n",
       "      <th>employment_status_rollup_Non-Employee</th>\n",
       "      <th>employment_status_rollup_Unknown</th>\n",
       "      <th>coverage_category_rollup_Covering_Others</th>\n",
       "      <th>coverage_category_rollup_Covering_Self</th>\n",
       "      <th>coverage_category_rollup_Unknown</th>\n",
       "      <th>source_system_TBA_3X</th>\n",
       "      <th>source_system_TBA_4X</th>\n",
       "      <th>enrollment_suggestion_source_UPoint Reimagine</th>\n",
       "      <th>enrollment_suggestion_source_Unknown</th>\n",
       "      <th>er_hsa_contribution_flag_new_1</th>\n",
       "      <th>enrolled_option_bc_dg_CDP-MDCL-SA-POS</th>\n",
       "      <th>enrolled_option_bc_dg_CDP-MDCL-SA-PPO</th>\n",
       "      <th>enrolled_option_bc_dg_EPO</th>\n",
       "      <th>enrolled_option_bc_dg_HDHP</th>\n",
       "      <th>enrolled_option_bc_dg_HDHP w/HSA</th>\n",
       "      <th>enrolled_option_bc_dg_HMO</th>\n",
       "      <th>enrolled_option_bc_dg_IND</th>\n",
       "      <th>enrolled_option_bc_dg_POS</th>\n",
       "      <th>enrolled_option_bc_dg_PPO</th>\n",
       "      <th>enrolled_option_bc_dg_Unknown</th>\n",
       "      <th>person_expected_annual_base_salary_range_20,000 - 39,999</th>\n",
       "      <th>person_expected_annual_base_salary_range_40,000 - 59,999</th>\n",
       "      <th>person_expected_annual_base_salary_range_60,000 - 79,999</th>\n",
       "      <th>person_expected_annual_base_salary_range_80,000 - 99,999</th>\n",
       "      <th>person_expected_annual_base_salary_range_&lt;20,000</th>\n",
       "      <th>person_expected_annual_base_salary_range_Unknown</th>\n",
       "      <th>label</th>\n",
       "    </tr>\n",
       "  </thead>\n",
       "  <tbody>\n",
       "    <tr>\n",
       "      <th>0</th>\n",
       "      <td>0.0</td>\n",
       "      <td>32.0</td>\n",
       "      <td>1.0</td>\n",
       "      <td>62.5</td>\n",
       "      <td>0</td>\n",
       "      <td>0</td>\n",
       "      <td>1</td>\n",
       "      <td>0</td>\n",
       "      <td>0</td>\n",
       "      <td>0</td>\n",
       "      <td>0</td>\n",
       "      <td>0</td>\n",
       "      <td>0</td>\n",
       "      <td>0</td>\n",
       "      <td>0</td>\n",
       "      <td>0</td>\n",
       "      <td>0</td>\n",
       "      <td>0</td>\n",
       "      <td>0</td>\n",
       "      <td>0</td>\n",
       "      <td>0</td>\n",
       "      <td>0</td>\n",
       "      <td>0</td>\n",
       "      <td>1</td>\n",
       "      <td>0</td>\n",
       "      <td>0</td>\n",
       "      <td>1</td>\n",
       "      <td>0</td>\n",
       "      <td>0</td>\n",
       "      <td>0</td>\n",
       "      <td>1</td>\n",
       "      <td>0</td>\n",
       "      <td>0</td>\n",
       "      <td>0</td>\n",
       "      <td>0</td>\n",
       "      <td>0</td>\n",
       "      <td>1</td>\n",
       "      <td>1</td>\n",
       "      <td>0</td>\n",
       "      <td>0</td>\n",
       "      <td>0</td>\n",
       "      <td>1</td>\n",
       "      <td>0</td>\n",
       "      <td>0</td>\n",
       "      <td>0</td>\n",
       "      <td>0</td>\n",
       "      <td>0</td>\n",
       "      <td>0</td>\n",
       "      <td>0</td>\n",
       "      <td>0</td>\n",
       "      <td>0</td>\n",
       "      <td>1</td>\n",
       "      <td>0</td>\n",
       "      <td>0</td>\n",
       "      <td>0</td>\n",
       "      <td>0</td>\n",
       "      <td>0</td>\n",
       "      <td>0</td>\n",
       "      <td>1</td>\n",
       "    </tr>\n",
       "    <tr>\n",
       "      <th>1</th>\n",
       "      <td>7330.0</td>\n",
       "      <td>49.0</td>\n",
       "      <td>5.0</td>\n",
       "      <td>1500.0</td>\n",
       "      <td>0</td>\n",
       "      <td>0</td>\n",
       "      <td>0</td>\n",
       "      <td>0</td>\n",
       "      <td>0</td>\n",
       "      <td>0</td>\n",
       "      <td>0</td>\n",
       "      <td>0</td>\n",
       "      <td>0</td>\n",
       "      <td>1</td>\n",
       "      <td>0</td>\n",
       "      <td>0</td>\n",
       "      <td>0</td>\n",
       "      <td>0</td>\n",
       "      <td>0</td>\n",
       "      <td>0</td>\n",
       "      <td>1</td>\n",
       "      <td>0</td>\n",
       "      <td>0</td>\n",
       "      <td>0</td>\n",
       "      <td>1</td>\n",
       "      <td>1</td>\n",
       "      <td>0</td>\n",
       "      <td>1</td>\n",
       "      <td>0</td>\n",
       "      <td>1</td>\n",
       "      <td>0</td>\n",
       "      <td>0</td>\n",
       "      <td>0</td>\n",
       "      <td>0</td>\n",
       "      <td>0</td>\n",
       "      <td>0</td>\n",
       "      <td>0</td>\n",
       "      <td>0</td>\n",
       "      <td>0</td>\n",
       "      <td>0</td>\n",
       "      <td>1</td>\n",
       "      <td>1</td>\n",
       "      <td>0</td>\n",
       "      <td>0</td>\n",
       "      <td>0</td>\n",
       "      <td>0</td>\n",
       "      <td>1</td>\n",
       "      <td>0</td>\n",
       "      <td>0</td>\n",
       "      <td>0</td>\n",
       "      <td>0</td>\n",
       "      <td>0</td>\n",
       "      <td>0</td>\n",
       "      <td>0</td>\n",
       "      <td>0</td>\n",
       "      <td>0</td>\n",
       "      <td>1</td>\n",
       "      <td>0</td>\n",
       "      <td>0</td>\n",
       "    </tr>\n",
       "  </tbody>\n",
       "</table>\n",
       "</div>"
      ],
      "text/plain": [
       "   enrolled_plan_cost  person_age  number_of_people_covered  \\\n",
       "0                 0.0        32.0                       1.0   \n",
       "1              7330.0        49.0                       5.0   \n",
       "\n",
       "   enrolled_er_annual_hsa_contribution  \\\n",
       "0                                 62.5   \n",
       "1                               1500.0   \n",
       "\n",
       "   client_industry_rollup_agriculture_and_mining  \\\n",
       "0                                              0   \n",
       "1                                              0   \n",
       "\n",
       "   client_industry_rollup_banking_and_finance  \\\n",
       "0                                           0   \n",
       "1                                           0   \n",
       "\n",
       "   client_industry_rollup_business_services  \\\n",
       "0                                         1   \n",
       "1                                         0   \n",
       "\n",
       "   client_industry_rollup_computer_service_and_software  \\\n",
       "0                                                  0      \n",
       "1                                                  0      \n",
       "\n",
       "   client_industry_rollup_consumer_misc_product_and_manufacturing  \\\n",
       "0                                                  0                \n",
       "1                                                  0                \n",
       "\n",
       "   client_industry_rollup_diversified_manufacturing  \\\n",
       "0                                                 0   \n",
       "1                                                 0   \n",
       "\n",
       "   client_industry_rollup_education  client_industry_rollup_food_and_beverage  \\\n",
       "0                                 0                                         0   \n",
       "1                                 0                                         0   \n",
       "\n",
       "   client_industry_rollup_government  \\\n",
       "0                                  0   \n",
       "1                                  0   \n",
       "\n",
       "   client_industry_rollup_healthcare_and_medical  \\\n",
       "0                                              0   \n",
       "1                                              1   \n",
       "\n",
       "   client_industry_rollup_insurance  client_industry_rollup_retail  \\\n",
       "0                                 0                              0   \n",
       "1                                 0                              0   \n",
       "\n",
       "   client_industry_rollup_telecom  \\\n",
       "0                               0   \n",
       "1                               0   \n",
       "\n",
       "   client_industry_rollup_transport_and_storage  \\\n",
       "0                                             0   \n",
       "1                                             0   \n",
       "\n",
       "   client_industry_rollup_travel_recreation_and_leisure  \\\n",
       "0                                                  0      \n",
       "1                                                  0      \n",
       "\n",
       "   client_industry_rollup_utilities_and_energy  \\\n",
       "0                                            0   \n",
       "1                                            0   \n",
       "\n",
       "   person_gender_description_Male  person_gender_description_Unknown  \\\n",
       "0                               0                                  0   \n",
       "1                               1                                  0   \n",
       "\n",
       "   marital_status_rollup_Married  marital_status_rollup_Single  \\\n",
       "0                              0                             1   \n",
       "1                              0                             0   \n",
       "\n",
       "   marital_status_rollup_Unknown  client_is_ysa_Unknown  client_is_ysa_Y  \\\n",
       "0                              0                      0                1   \n",
       "1                              1                      1                0   \n",
       "\n",
       "   client_has_corporate_exchange_Unknown  client_has_corporate_exchange_Y  \\\n",
       "0                                      0                                0   \n",
       "1                                      1                                0   \n",
       "\n",
       "   client_hm_large_market_or_enterprise_Enterprise  \\\n",
       "0                                                0   \n",
       "1                                                1   \n",
       "\n",
       "   client_hm_large_market_or_enterprise_LM  employment_status_rollup_Inactive  \\\n",
       "0                                        1                                  0   \n",
       "1                                        0                                  0   \n",
       "\n",
       "   employment_status_rollup_Non-Employee  employment_status_rollup_Unknown  \\\n",
       "0                                      0                                 0   \n",
       "1                                      0                                 0   \n",
       "\n",
       "   coverage_category_rollup_Covering_Others  \\\n",
       "0                                         0   \n",
       "1                                         0   \n",
       "\n",
       "   coverage_category_rollup_Covering_Self  coverage_category_rollup_Unknown  \\\n",
       "0                                       0                                 1   \n",
       "1                                       0                                 0   \n",
       "\n",
       "   source_system_TBA_3X  source_system_TBA_4X  \\\n",
       "0                     1                     0   \n",
       "1                     0                     0   \n",
       "\n",
       "   enrollment_suggestion_source_UPoint Reimagine  \\\n",
       "0                                              0   \n",
       "1                                              0   \n",
       "\n",
       "   enrollment_suggestion_source_Unknown  er_hsa_contribution_flag_new_1  \\\n",
       "0                                     0                               1   \n",
       "1                                     1                               1   \n",
       "\n",
       "   enrolled_option_bc_dg_CDP-MDCL-SA-POS  \\\n",
       "0                                      0   \n",
       "1                                      0   \n",
       "\n",
       "   enrolled_option_bc_dg_CDP-MDCL-SA-PPO  enrolled_option_bc_dg_EPO  \\\n",
       "0                                      0                          0   \n",
       "1                                      0                          0   \n",
       "\n",
       "   enrolled_option_bc_dg_HDHP  enrolled_option_bc_dg_HDHP w/HSA  \\\n",
       "0                           0                                 0   \n",
       "1                           0                                 1   \n",
       "\n",
       "   enrolled_option_bc_dg_HMO  enrolled_option_bc_dg_IND  \\\n",
       "0                          0                          0   \n",
       "1                          0                          0   \n",
       "\n",
       "   enrolled_option_bc_dg_POS  enrolled_option_bc_dg_PPO  \\\n",
       "0                          0                          0   \n",
       "1                          0                          0   \n",
       "\n",
       "   enrolled_option_bc_dg_Unknown  \\\n",
       "0                              1   \n",
       "1                              0   \n",
       "\n",
       "   person_expected_annual_base_salary_range_20,000 - 39,999  \\\n",
       "0                                                  0          \n",
       "1                                                  0          \n",
       "\n",
       "   person_expected_annual_base_salary_range_40,000 - 59,999  \\\n",
       "0                                                  0          \n",
       "1                                                  0          \n",
       "\n",
       "   person_expected_annual_base_salary_range_60,000 - 79,999  \\\n",
       "0                                                  0          \n",
       "1                                                  0          \n",
       "\n",
       "   person_expected_annual_base_salary_range_80,000 - 99,999  \\\n",
       "0                                                  0          \n",
       "1                                                  0          \n",
       "\n",
       "   person_expected_annual_base_salary_range_<20,000  \\\n",
       "0                                                 0   \n",
       "1                                                 1   \n",
       "\n",
       "   person_expected_annual_base_salary_range_Unknown  label  \n",
       "0                                                 0      1  \n",
       "1                                                 0      0  "
      ]
     },
     "execution_count": 261,
     "metadata": {},
     "output_type": "execute_result"
    }
   ],
   "source": [
    "test_set.head(2)"
   ]
  },
  {
   "cell_type": "code",
   "execution_count": 262,
   "metadata": {},
   "outputs": [
    {
     "data": {
      "text/plain": [
       "0"
      ]
     },
     "execution_count": 262,
     "metadata": {},
     "output_type": "execute_result"
    }
   ],
   "source": [
    "train_set.isnull().sum().sum()"
   ]
  },
  {
   "cell_type": "code",
   "execution_count": 263,
   "metadata": {},
   "outputs": [
    {
     "data": {
      "text/plain": [
       "0"
      ]
     },
     "execution_count": 263,
     "metadata": {},
     "output_type": "execute_result"
    }
   ],
   "source": [
    "test_set.isnull().sum().sum()"
   ]
  },
  {
   "cell_type": "code",
   "execution_count": 264,
   "metadata": {},
   "outputs": [
    {
     "data": {
      "text/plain": [
       "(305703, 59)"
      ]
     },
     "execution_count": 264,
     "metadata": {},
     "output_type": "execute_result"
    }
   ],
   "source": [
    "train_set.shape"
   ]
  },
  {
   "cell_type": "code",
   "execution_count": 265,
   "metadata": {},
   "outputs": [
    {
     "data": {
      "text/plain": [
       "(131016, 59)"
      ]
     },
     "execution_count": 265,
     "metadata": {},
     "output_type": "execute_result"
    }
   ],
   "source": [
    "test_set.shape"
   ]
  },
  {
   "cell_type": "markdown",
   "metadata": {},
   "source": [
    "### Exporting transformed data to S3"
   ]
  },
  {
   "cell_type": "code",
   "execution_count": 266,
   "metadata": {},
   "outputs": [
    {
     "name": "stdout",
     "output_type": "stream",
     "text": [
      "Uploading transformed training data here -> s3://adl-core-dev-sagemaker-studio/external/amitmittal/HSA/version-1/transformed-data/dpp0/train/data.csv\n"
     ]
    }
   ],
   "source": [
    "print(f'Uploading transformed training data here -> s3://{bucket}/{transformed_train_data_path}/data.csv')\n",
    "\n",
    "train_set.to_csv(f's3://{bucket}/{transformed_train_data_path}/data.csv', index=False)"
   ]
  },
  {
   "cell_type": "code",
   "execution_count": 267,
   "metadata": {},
   "outputs": [
    {
     "name": "stdout",
     "output_type": "stream",
     "text": [
      "Uploading transformed testing data here -> s3://adl-core-dev-sagemaker-studio/external/amitmittal/HSA/version-1/transformed-data/dpp0/test/data.csv\n"
     ]
    }
   ],
   "source": [
    "print(f'Uploading transformed testing data here -> s3://{bucket}/{transformed_test_data_path}/data.csv')\n",
    "\n",
    "test_set.to_csv(f's3://{bucket}/{transformed_test_data_path}/data.csv', index=False)"
   ]
  }
 ],
 "metadata": {
  "instance_type": "ml.t3.medium",
  "kernelspec": {
   "display_name": "Python 3 (Data Science)",
   "language": "python",
   "name": "python3__SAGEMAKER_INTERNAL__arn:aws:sagemaker:us-east-1:081325390199:image/datascience-1.0"
  },
  "language_info": {
   "codemirror_mode": {
    "name": "ipython",
    "version": 3
   },
   "file_extension": ".py",
   "mimetype": "text/x-python",
   "name": "python",
   "nbconvert_exporter": "python",
   "pygments_lexer": "ipython3",
   "version": "3.7.10"
  }
 },
 "nbformat": 4,
 "nbformat_minor": 4
}
