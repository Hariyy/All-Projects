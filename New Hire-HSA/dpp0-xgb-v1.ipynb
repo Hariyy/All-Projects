{
 "cells": [
  {
   "cell_type": "markdown",
   "metadata": {},
   "source": [
    "# New Hire - Contribute to HSA\n",
    "\n",
    "Ensure new hires who enroll in  HDHP will also open and contribute to HSA within 30 days.\n",
    "\n",
    "Predict  which new hires are likely to enroll in HDHP but are not likely to open and contribute to the HSA within 30 days.\n",
    "\n",
    "For this analysis and modeling we are solely using *person_hm_choice_enrolled_integrated* (PHCE) table and we have tweaked the \"not likely to open and contribute to the HSA within 30 days from *hire date*\" to  \"not likely to open and contribute to the HSA within 30 days from *first date when they did new hire enrollment in hdhp medical plan*\"."
   ]
  },
  {
   "cell_type": "markdown",
   "metadata": {},
   "source": [
    "---\n",
    "In this notebook, below steps are performed\n",
    "- Pre-process the new unseen raw data\n",
    "- Tranform above pre-processed data to make it ready for predcitions\n",
    "- Use pre-trained ML model to make predictions on above transformed data"
   ]
  },
  {
   "cell_type": "markdown",
   "metadata": {},
   "source": [
    "<font color='red'>\n",
    "We need to edit below six cells before running the whole script.\n",
    "    \n",
    "If not editted, data will be pulled and stored from S3 bucket as per given values.\n",
    "</font>"
   ]
  },
  {
   "cell_type": "markdown",
   "metadata": {},
   "source": [
    "### For Loading Raw Data"
   ]
  },
  {
   "cell_type": "code",
   "execution_count": 2,
   "metadata": {},
   "outputs": [],
   "source": [
    "# Mention the bucket name where raw data is present\n",
    "bucket='adl-core-dev-sagemaker-studio'\n",
    "\n",
    "# # This is used to seperate different versions of data for whole lifecycle i.e., data pre-process, transformations, modeling and inferences.\n",
    "# # Mention the version whre data is stored in given S3 bucket\n",
    "# version = 'version-1'\n",
    "\n",
    "# Mention the correct directory where raw-data is present, if data is in multiple files make sure all files are present in this directory\n",
    "raw_data_path = f'external/amitmittal/HSA/test-data'\n",
    "\n",
    "# Mention all file names as string in the below list\n",
    "raw_data_fnames = ['ALL_2022.csv']"
   ]
  },
  {
   "cell_type": "markdown",
   "metadata": {},
   "source": [
    "### For X days logic for creating target variable "
   ]
  },
  {
   "cell_type": "code",
   "execution_count": 3,
   "metadata": {},
   "outputs": [],
   "source": [
    "# n-> number of days to look forward and check of participant is contributing in HSA or not.\n",
    "# At time this use-case was worked upon, it was 30 days, so 'n' is taken as 30\n",
    "# This value is use at code line 26\n",
    "n = 30"
   ]
  },
  {
   "cell_type": "markdown",
   "metadata": {},
   "source": [
    "### For Storing Pre-processed Data\n",
    "Same directory and file will be used to load data for transformation step"
   ]
  },
  {
   "cell_type": "code",
   "execution_count": 4,
   "metadata": {},
   "outputs": [],
   "source": [
    "# Mention the bucket name where pre-processed data will be stored. Usually there will no change in bucket name\n",
    "bucket='adl-core-dev-sagemaker-studio'\n",
    "\n",
    "# This is used to seperate different versions of data for whole lifecycle i.e., data pre-process, transformations, modeling and inferences.\n",
    "#Make sure \"version\" name is as per version of data pre-processing script. Eg. dpp0-xgb-v1.ipynb means \"version-1\"\n",
    "version = 'version-1'\n",
    "\n",
    "# Mention the directory where pre-processed data will be stored with file name\n",
    "pre_processed_data_path_with_fname = f'external/amitmittal/HSA/test-data/output/{version}/preprocessed-data/data2022.csv'"
   ]
  },
  {
   "cell_type": "markdown",
   "metadata": {},
   "source": [
    "### For Storing Transformed Data\n",
    "Same directory and file will be used to load data for making predictions using trained ML model"
   ]
  },
  {
   "cell_type": "code",
   "execution_count": 5,
   "metadata": {},
   "outputs": [],
   "source": [
    "# Mention the bucket name where transformed data will be stored. Usually there will no change in bucket name\n",
    "bucket='adl-core-dev-sagemaker-studio'\n",
    "\n",
    "# This is used to seperate different versions of data for whole lifecycle i.e., data pre-process, transformations, modeling and inferences.\n",
    "#Make sure \"version\" name is as per version of data pre-processing script. Eg. dpp0-xgb-v1.ipynb means \"version-1\"\n",
    "version = 'version-1'\n",
    "\n",
    "# This is used to seperate different versions of data transformation pipelines\n",
    "# Make sure \"dppn\" name is as per version of data transformation script. Eg. dpp0-xgb-v1.ipynb means \"dpp0\"\n",
    "dppn = 'dpp0'\n",
    "\n",
    "# Mention the directory where pre-processed data will be stored (data that will get at end of this script)\n",
    "transformed_data_path_with_fname = f'external/amitmittal/HSA/test-data/output/{version}/transformed-data/{dppn}/data2022.csv'"
   ]
  },
  {
   "cell_type": "markdown",
   "metadata": {},
   "source": [
    "### For Loading Train Set\n",
    "This is pre-processed data of the train set on which ML model was trained.\n",
    "\n",
    "Train set will be used to fit and transform the data tranformation setps on train set and only transformation will be done on test (new) data using train set "
   ]
  },
  {
   "cell_type": "code",
   "execution_count": 6,
   "metadata": {},
   "outputs": [],
   "source": [
    "# Mention the bucket name where pre-processed raw data is stored (of training set)\n",
    "bucket='adl-core-dev-sagemaker-studio'\n",
    "\n",
    "# This is used to seperate different versions of data for whole lifecycle i.e., data pre-process, transformations, modeling and inferences.\n",
    "# Mention the version whre data is stored in given S3 bucket\n",
    "version = 'version-1'\n",
    "\n",
    "# Mention the path where pre-processed data is stored in S3\n",
    "pre_processed_train_data_path = f'external/amitmittal/HSA/{version}/preprocessed-data'"
   ]
  },
  {
   "cell_type": "markdown",
   "metadata": {},
   "source": [
    "### For Loading Trained ML Model\n",
    "This model will be used to make predictions on tranformed test (new) data "
   ]
  },
  {
   "cell_type": "code",
   "execution_count": 7,
   "metadata": {},
   "outputs": [],
   "source": [
    "# Mention the bucket name where trained model will is stored \n",
    "bucket='adl-core-dev-sagemaker-studio'\n",
    "\n",
    "# This is used to seperate different versions of data for whole lifecycle i.e., data pre-process, transformations, modeling and inferences.\n",
    "# Make sure \"version\" name is as per version of data data modeling script. Eg. data-modeling-v1.ipynb means \"version-1\"\n",
    "version = 'version-1'\n",
    "\n",
    "# This is used to seperate different versions of models which were built using different data transformation pipelines\n",
    "# Make sure \"dppn\" name is as per version of data transformation script. Eg. transformed-data-dpp0-v1.ipynb means \"dpp0\"\n",
    "dppn = 'dpp0'\n",
    "\n",
    "# Mention the directory with file name where trained ML model is stored (naming convention: version-dppn-model.pkl)\n",
    "model_path_with_fname = f'external/amitmittal/HSA/{version}/artifacts/model/v1-{dppn}-xgb.pkl'"
   ]
  },
  {
   "cell_type": "code",
   "execution_count": 7,
   "metadata": {},
   "outputs": [
    {
     "name": "stdout",
     "output_type": "stream",
     "text": [
      "Looking in indexes: https://artifactory.alight.com/artifactory/api/pypi/python-pypi-remote/simple\n",
      "Requirement already satisfied: pandas in /opt/conda/lib/python3.7/site-packages (1.3.5)\n",
      "Requirement already satisfied: python-dateutil>=2.7.3 in /opt/conda/lib/python3.7/site-packages (from pandas) (2.8.1)\n",
      "Requirement already satisfied: numpy>=1.17.3 in /opt/conda/lib/python3.7/site-packages (from pandas) (1.21.6)\n",
      "Requirement already satisfied: pytz>=2017.3 in /opt/conda/lib/python3.7/site-packages (from pandas) (2019.3)\n",
      "Requirement already satisfied: six>=1.5 in /opt/conda/lib/python3.7/site-packages (from python-dateutil>=2.7.3->pandas) (1.14.0)\n",
      "\u001b[33mWARNING: Running pip as the 'root' user can result in broken permissions and conflicting behaviour with the system package manager. It is recommended to use a virtual environment instead: https://pip.pypa.io/warnings/venv\u001b[0m\u001b[33m\n",
      "\u001b[0m"
     ]
    }
   ],
   "source": [
    "!pip install --upgrade pandas --index-url https://artifactory.alight.com/artifactory/api/pypi/python-pypi-remote/simple"
   ]
  },
  {
   "cell_type": "code",
   "execution_count": 8,
   "metadata": {},
   "outputs": [],
   "source": [
    "#importing librarires\n",
    "import pandas as pd\n",
    "import numpy as np\n",
    "import seaborn as sns\n",
    "import matplotlib.pyplot as plt\n",
    "import warnings\n",
    "import boto3\n",
    "import io\n",
    "import time\n",
    "\n",
    "from sklearn.metrics import precision_score, recall_score, confusion_matrix, classification_report, accuracy_score, f1_score,\\\n",
    "roc_auc_score, make_scorer, plot_precision_recall_curve, plot_roc_curve, plot_confusion_matrix, average_precision_score,\\\n",
    "ConfusionMatrixDisplay\n",
    "\n",
    "import tempfile\n",
    "import boto3\n",
    "import joblib\n",
    "\n",
    "%matplotlib inline\n",
    "pd.set_option('display.max_columns',None)\n",
    "warnings.filterwarnings('ignore')"
   ]
  },
  {
   "cell_type": "code",
   "execution_count": 9,
   "metadata": {},
   "outputs": [],
   "source": [
    "def load_data_from_s3(bucket,version,raw_data_path,raw_data_fnames):\n",
    "    s3 = boto3.client('s3')\n",
    "    dataset_nrows = []\n",
    "    for i, fname in enumerate(raw_data_fnames):\n",
    "        if i==0:\n",
    "            print(f'Reading file: {fname}')\n",
    "            key = f'{raw_data_path}/{fname}'\n",
    "            obj = s3.get_object(Bucket=bucket, Key=key)\n",
    "            data = pd.read_csv(io.BytesIO(obj['Body'].read()))\n",
    "            dataset_nrows.append(data.shape[0])\n",
    "            print(f'\\tFile read successfully | Shape: {data.shape}')\n",
    "        else:\n",
    "            print(f'Reading file: {fname}')\n",
    "            key = f'{raw_data_path}/{fname}'\n",
    "            obj = s3.get_object(Bucket=bucket, Key=key)\n",
    "            data2 = pd.read_csv(io.BytesIO(obj['Body'].read()))\n",
    "            data = data.append(data2,ignore_index=True)\n",
    "            dataset_nrows.append(data2.shape[0])\n",
    "            print(f'\\tFile read successfully | Shape: {data2.shape}')\n",
    "\n",
    "    if sum(dataset_nrows) == data.shape[0]:\n",
    "        print(f'Data from all files loaded successfully | Final Shape: {data.shape}')\n",
    "        return data.copy()\n",
    "    else:\n",
    "        print('There is discrepency in numbers')\n",
    "        print(f'\\tTotal number of rows combined in all files: {sum(dataset_nrows)}')\n",
    "        print(f'\\tAfter combining all files total number of rows are: {data.shape[0]}')\n",
    "        return None"
   ]
  },
  {
   "cell_type": "code",
   "execution_count": 10,
   "metadata": {},
   "outputs": [
    {
     "name": "stdout",
     "output_type": "stream",
     "text": [
      "Reading file: ALL_2022.csv\n",
      "\tFile read successfully | Shape: (1063575, 35)\n",
      "Data from all files loaded successfully | Final Shape: (1063575, 35)\n"
     ]
    }
   ],
   "source": [
    "data = load_data_from_s3(bucket,version,raw_data_path,raw_data_fnames)"
   ]
  },
  {
   "cell_type": "code",
   "execution_count": 11,
   "metadata": {},
   "outputs": [
    {
     "data": {
      "text/plain": [
       "(1063575, 35)"
      ]
     },
     "execution_count": 11,
     "metadata": {},
     "output_type": "execute_result"
    }
   ],
   "source": [
    "data.shape"
   ]
  },
  {
   "cell_type": "markdown",
   "metadata": {},
   "source": [
    "#### Updating data type of date columns"
   ]
  },
  {
   "cell_type": "code",
   "execution_count": 12,
   "metadata": {},
   "outputs": [],
   "source": [
    "data['activity_effective_begin_date'] = data['activity_effective_begin_date'].replace('2299-12-31 00:00:00','2261-12-31 00:00:00')\n",
    "data['activity_effective_begin_date'] = pd.to_datetime(data['activity_effective_begin_date'], format='%Y-%m-%d %H:%M:%S')"
   ]
  },
  {
   "cell_type": "code",
   "execution_count": 13,
   "metadata": {},
   "outputs": [
    {
     "data": {
      "text/plain": [
       "0   2022-01-01\n",
       "1   2022-01-01\n",
       "2   2022-01-01\n",
       "3   2022-01-01\n",
       "4   2022-01-01\n",
       "Name: activity_effective_begin_date, dtype: datetime64[ns]"
      ]
     },
     "execution_count": 13,
     "metadata": {},
     "output_type": "execute_result"
    }
   ],
   "source": [
    "data['activity_effective_begin_date'].head()"
   ]
  },
  {
   "cell_type": "markdown",
   "metadata": {},
   "source": [
    "Since we know that `ee_hsa_contribution_flag` and `er_hsa_contribution_flag` are not reliable. Therefore, we will be creating correct flag columns using respective columns."
   ]
  },
  {
   "cell_type": "code",
   "execution_count": 14,
   "metadata": {},
   "outputs": [],
   "source": [
    "data['enrolled_ee_annual_hsa_contribution']\n",
    "data['ee_hsa_contribution_flag_new'] = 0\n",
    "data.loc[\n",
    "    data['enrolled_ee_annual_hsa_contribution'] > 0,\n",
    "    'ee_hsa_contribution_flag_new'\n",
    "] = 1"
   ]
  },
  {
   "cell_type": "code",
   "execution_count": 15,
   "metadata": {},
   "outputs": [],
   "source": [
    "data['enrolled_er_annual_hsa_contribution']\n",
    "data['er_hsa_contribution_flag_new'] = 0\n",
    "data.loc[\n",
    "    data['enrolled_er_annual_hsa_contribution'] > 0,\n",
    "    'er_hsa_contribution_flag_new'\n",
    "] = 1"
   ]
  },
  {
   "cell_type": "code",
   "execution_count": 16,
   "metadata": {},
   "outputs": [],
   "source": [
    "#### Identifying new hires enrolled in any medical plan\n",
    "# df['new_hire_enrolled_medical_plan'] = 0\n",
    "# df.loc[\n",
    "#     (df['mapped_activity_rollup_level_2']=='New Hire Enrollment') &\n",
    "#     (df['is_no_coverage_option']==0) &\n",
    "#     (df['dwh_plan_brand_code'].str.contains('MDCL|MDCL-MDCR|RTEE-MDCL')),\n",
    "#     'new_hire_enrolled_medical_plan'\n",
    "# ] = 1"
   ]
  },
  {
   "cell_type": "markdown",
   "metadata": {},
   "source": [
    "#### Identifying new hires enrolled in HDHP medical plan"
   ]
  },
  {
   "cell_type": "code",
   "execution_count": 17,
   "metadata": {},
   "outputs": [],
   "source": [
    "data['new_hire_enrolled_hdhp_medical_plan'] = 0\n",
    "data.loc[\n",
    "    (\n",
    "        (data['source_system']=='TBA_4X') &\n",
    "        (data['mapped_activity_rollup_level_2']=='New Hire Enrollment') &\n",
    "        (data['is_no_coverage_option']==0) &\n",
    "        (data['dwh_plan_brand_code'].isin(['MDCL','MDCL-MDCR','RTEE-MDCL'])) &\n",
    "        (data['is_option_hsa_fixed']=='HSA') &\n",
    "        (data['medical_enrolled_option_type']=='HDHP')\n",
    "    ) |\n",
    "    (\n",
    "        (data['source_system']=='CBA') &\n",
    "        (data['mapped_activity_rollup_level_2']=='Other Enrollment') &\n",
    "        (data['is_no_coverage_option']==0) &\n",
    "        (data['dwh_plan_brand_code'].isin(['MDCL','MDCL-MDCR','RTEE-MDCL'])) &\n",
    "        (data['is_option_hsa_fixed']=='HSA') &\n",
    "        (data['medical_enrolled_option_type']=='HDHP')\n",
    "    ) |\n",
    "    (\n",
    "        (data['source_system']=='TBA_3X') &\n",
    "        (data['mapped_activity_rollup_level_2']=='New Hire Enrollment') &\n",
    "        (data['is_no_coverage_option']==0) &\n",
    "        (data['dwh_plan_brand_code']=='HSA')\n",
    "    ),\n",
    "    'new_hire_enrolled_hdhp_medical_plan'\n",
    "] = 1"
   ]
  },
  {
   "cell_type": "code",
   "execution_count": 18,
   "metadata": {},
   "outputs": [
    {
     "data": {
      "text/plain": [
       "276612"
      ]
     },
     "execution_count": 18,
     "metadata": {},
     "output_type": "execute_result"
    }
   ],
   "source": [
    "#unique count of person who enrolled in HDHP medical plan\n",
    "data[data['new_hire_enrolled_hdhp_medical_plan']==1]['platform_person_internal_id'].nunique()"
   ]
  },
  {
   "cell_type": "code",
   "execution_count": 19,
   "metadata": {},
   "outputs": [
    {
     "data": {
      "text/plain": [
       "276612"
      ]
     },
     "execution_count": 19,
     "metadata": {},
     "output_type": "execute_result"
    }
   ],
   "source": [
    "data['platform_person_internal_id'].nunique()"
   ]
  },
  {
   "cell_type": "code",
   "execution_count": 20,
   "metadata": {},
   "outputs": [],
   "source": [
    "# #### Identifying new hires enrolled in HDHP medical plan and contributing to HSA - at time of New Hire Enrollment\n",
    "# data['new_hire_enrolled_hdhp_medical_plan_contributing_hsa'] = 0\n",
    "# data.loc[\n",
    "#     (\n",
    "#         (data['source_system']=='TBA_4X') &\n",
    "#         (data['mapped_activity_rollup_level_2']=='New Hire Enrollment') &\n",
    "#         (data['is_no_coverage_option']==0) &\n",
    "#         (data['dwh_plan_brand_code'].isin(['MDCL','MDCL-MDCR','RTEE-MDCL'])) &\n",
    "#         (data['is_option_hsa_fixed']=='HSA') &\n",
    "#         (data['medical_enrolled_option_type']=='HDHP') &\n",
    "#         (data['ee_hsa_contribution_flag_new']==1)\n",
    "#     ) |\n",
    "#     (\n",
    "#         (data['source_system']=='CBA') &\n",
    "#         (data['mapped_activity_rollup_level_2']=='Other Enrollment') &\n",
    "#         (data['is_no_coverage_option']==0) &\n",
    "#         (data['dwh_plan_brand_code'].isin(['MDCL','MDCL-MDCR','RTEE-MDCL'])) &\n",
    "#         (data['is_option_hsa_fixed']=='HSA') &\n",
    "#         (data['medical_enrolled_option_type']=='HDHP') &\n",
    "#         (data['ee_hsa_contribution_flag_new']==1)\n",
    "#     ) |\n",
    "#     (\n",
    "#         (data['source_system']=='TBA_3X') &\n",
    "#         (data['mapped_activity_rollup_level_2']=='New Hire Enrollment') &\n",
    "#         (data['is_no_coverage_option']==0) &\n",
    "#         (data['dwh_plan_brand_code']=='HSA') &\n",
    "#         (data['ee_hsa_contribution_flag_new']==1)\n",
    "#     ),\n",
    "#     'new_hire_enrolled_hdhp_medical_plan_contributing_hsa'\n",
    "# ] = 1"
   ]
  },
  {
   "cell_type": "markdown",
   "metadata": {},
   "source": [
    "### Filtering data for partcipants who had new hire enrollment in HDHP medical plan\n",
    "Exlcuding person's data who did not had new hire enrollment in HDHP medical plan."
   ]
  },
  {
   "cell_type": "code",
   "execution_count": 21,
   "metadata": {},
   "outputs": [
    {
     "data": {
      "text/plain": [
       "(1063575, 38)"
      ]
     },
     "execution_count": 21,
     "metadata": {},
     "output_type": "execute_result"
    }
   ],
   "source": [
    "#filtering data for particpants who had new_hire_enrolled_hdhp_medical_plan=1 at some point of time in the given year\n",
    "ppid_enrolled_hdhp = data[data['new_hire_enrolled_hdhp_medical_plan']==1]['platform_person_internal_id'].unique()\n",
    "df = data[data['platform_person_internal_id'].isin(ppid_enrolled_hdhp)]\n",
    "del ppid_enrolled_hdhp\n",
    "df.shape"
   ]
  },
  {
   "cell_type": "code",
   "execution_count": 22,
   "metadata": {},
   "outputs": [
    {
     "data": {
      "text/plain": [
       "(1063575, 38)"
      ]
     },
     "execution_count": 22,
     "metadata": {},
     "output_type": "execute_result"
    }
   ],
   "source": [
    "#sorting data by participant and activity begin date -> to mark row number for each particant\n",
    "df = df.sort_values(['platform_person_internal_id','activity_effective_begin_date'],ascending=True)\n",
    "df.shape"
   ]
  },
  {
   "cell_type": "code",
   "execution_count": 23,
   "metadata": {},
   "outputs": [],
   "source": [
    "#creating this column to create another column which will duplicate minimum activity begin date corrsoponding to new hire enrollment in\n",
    "#in HSHP type of medical plan for each participant\n",
    "df['activity_begin_date_nhehmp'] = pd.NaT\n",
    "df.loc[df['new_hire_enrolled_hdhp_medical_plan']==1,'activity_begin_date_nhehmp'] = df['activity_effective_begin_date']"
   ]
  },
  {
   "cell_type": "code",
   "execution_count": 24,
   "metadata": {},
   "outputs": [],
   "source": [
    "#creating column to capture first activity start date corrsponding to new hire enrollment in HDHP medical plan for particpants \n",
    "df['min_activity_begin_date_nhehmp'] = df.groupby('platform_person_internal_id')['activity_begin_date_nhehmp'].transform(lambda x: x.min())"
   ]
  },
  {
   "cell_type": "code",
   "execution_count": 25,
   "metadata": {},
   "outputs": [
    {
     "data": {
      "text/plain": [
       "0"
      ]
     },
     "execution_count": 25,
     "metadata": {},
     "output_type": "execute_result"
    }
   ],
   "source": [
    "#checking for nulls\n",
    "df['min_activity_begin_date_nhehmp'].isnull().sum()"
   ]
  },
  {
   "cell_type": "code",
   "execution_count": 26,
   "metadata": {},
   "outputs": [],
   "source": [
    "#creating this column to create row number column for each particpant\n",
    "#this will flag row as 1 if activity_effective_begin_date > min_activity_begin_date_nhehmp\n",
    "# in case activity_effective_begin_date = min_activity_begin_date_nhehmp then if activity_begin_date_nhehmp not NULL then 1 else 0\n",
    "#above logic is implemented, in case we have muplitple rows with same date as min_activity_begin_date_nhehmp then to assign flag as 1\n",
    "#only to rows where new hire enrollment to HDHP medical plan was done\n",
    "df['activity_begin_date_nhehmp_ge_min'] = 0\n",
    "df.loc[(df['activity_effective_begin_date']>df['min_activity_begin_date_nhehmp']), 'activity_begin_date_nhehmp_ge_min'] = 1\n",
    "df.loc[(df['activity_effective_begin_date']==df['min_activity_begin_date_nhehmp']) & (df['activity_begin_date_nhehmp'].notnull()), 'activity_begin_date_nhehmp_ge_min'] = 1"
   ]
  },
  {
   "cell_type": "code",
   "execution_count": 27,
   "metadata": {},
   "outputs": [],
   "source": [
    "#assigning row number for each particpant's rows where activity_begin_date_nhehmp_ge_min=1, and we can use row number =1 to capture\n",
    "#first row for each particpant when theyhad new hire enrollemnt in HDHP medical plan\n",
    "df['ppid_rnum'] = df[df['activity_begin_date_nhehmp_ge_min']==1].groupby('platform_person_internal_id')['activity_effective_begin_date'].transform(lambda x: range(1,len(x)+1))"
   ]
  },
  {
   "cell_type": "code",
   "execution_count": 28,
   "metadata": {},
   "outputs": [
    {
     "data": {
      "text/plain": [
       "605687"
      ]
     },
     "execution_count": 28,
     "metadata": {},
     "output_type": "execute_result"
    }
   ],
   "source": [
    "#checking for nulls, having nulls is not a problem. We only need to condier row number = 1 for each particpant\n",
    "#while brining the dataset to one row per participant \n",
    "df['ppid_rnum'].isnull().sum()"
   ]
  },
  {
   "cell_type": "markdown",
   "metadata": {},
   "source": [
    "#### Creating Label column"
   ]
  },
  {
   "cell_type": "code",
   "execution_count": 29,
   "metadata": {},
   "outputs": [
    {
     "data": {
      "text/plain": [
       "(1063575, 43)"
      ]
     },
     "execution_count": 29,
     "metadata": {},
     "output_type": "execute_result"
    }
   ],
   "source": [
    "#creating this column to help create label column\n",
    "#this will check days difference between first new hire enrollment in HDHP medical plan activity date and respective row activity date\n",
    "#if the difference is less than or equal to specified number 'n' then it flag respective row as 1 else 0\n",
    "# 'n' is mentioned at start of the script\n",
    "df['activity_begin_date_within_30d_flag'] = 0\n",
    "df.loc[(df['activity_effective_begin_date']-df['min_activity_begin_date_nhehmp']).dt.days.isin(range(n+1)), 'activity_begin_date_within_30d_flag']=1\n",
    "df.shape"
   ]
  },
  {
   "cell_type": "code",
   "execution_count": 30,
   "metadata": {},
   "outputs": [
    {
     "data": {
      "text/plain": [
       "0"
      ]
     },
     "execution_count": 30,
     "metadata": {},
     "output_type": "execute_result"
    }
   ],
   "source": [
    "#checking for nulls, we do not expect nulls here\n",
    "df['activity_begin_date_within_30d_flag'].isnull().sum()"
   ]
  },
  {
   "cell_type": "code",
   "execution_count": 31,
   "metadata": {},
   "outputs": [
    {
     "data": {
      "text/plain": [
       "(1063575, 44)"
      ]
     },
     "execution_count": 31,
     "metadata": {},
     "output_type": "execute_result"
    }
   ],
   "source": [
    "#finally we are creating label column\n",
    "#logic: if the particpant contributed in HSA within 30 days of forst new hire enrollment in HDHP mencial plan for given enrolled_plan_year\n",
    "#not necessaryly at time of enrollment then rows for the particpant will be flaged as 1 else 0\n",
    "#also there is not checks on other columns while considering ee_hsa_contribution_flag=1\n",
    "#column will have null values for rows where activity_begin_date_within_30d_flag=0, irrespecitve of particpant contributing or not in HSA\n",
    "#we can change the look forward days 30 days to any days by changing value of variable 'n' and re-running code for creating\n",
    "#'activity_begin_date_within_30d_flag' and 'label' columns\n",
    "df['label'] = df[df['activity_begin_date_within_30d_flag']==1].groupby('platform_person_internal_id')['ee_hsa_contribution_flag_new'].transform(lambda x: x.max())\n",
    "df.shape"
   ]
  },
  {
   "cell_type": "code",
   "execution_count": 32,
   "metadata": {},
   "outputs": [],
   "source": [
    "#droping supporting columns used to create label column\n",
    "df.drop(\n",
    "    columns=['activity_begin_date_nhehmp',\n",
    "             'min_activity_begin_date_nhehmp',\n",
    "             'activity_begin_date_nhehmp_ge_min',\n",
    "             'activity_begin_date_within_30d_flag'\n",
    "            ],\n",
    "    inplace=True\n",
    ")"
   ]
  },
  {
   "cell_type": "markdown",
   "metadata": {},
   "source": [
    "#### Creating new dataframe - one row per person"
   ]
  },
  {
   "cell_type": "code",
   "execution_count": 33,
   "metadata": {},
   "outputs": [
    {
     "data": {
      "text/plain": [
       "(276612, 40)"
      ]
     },
     "execution_count": 33,
     "metadata": {},
     "output_type": "execute_result"
    }
   ],
   "source": [
    "#condering only row number 1 for each particpant to bring down data at particpant leve;\n",
    "df = df[df['ppid_rnum']==1]\n",
    "df.shape"
   ]
  },
  {
   "cell_type": "code",
   "execution_count": 34,
   "metadata": {},
   "outputs": [
    {
     "data": {
      "text/plain": [
       "276612"
      ]
     },
     "execution_count": 34,
     "metadata": {},
     "output_type": "execute_result"
    }
   ],
   "source": [
    "#checking unique count of participants\n",
    "df['platform_person_internal_id'].nunique()"
   ]
  },
  {
   "cell_type": "code",
   "execution_count": 35,
   "metadata": {},
   "outputs": [
    {
     "data": {
      "text/plain": [
       "1.0    145620\n",
       "0.0    130992\n",
       "Name: label, dtype: int64"
      ]
     },
     "execution_count": 35,
     "metadata": {},
     "output_type": "execute_result"
    }
   ],
   "source": [
    "#chekcing count of particpants contributing in HSA within 30 days of new hire enrollement in HDHP medical plan vs not\n",
    "# 1 -> contributing, 0 -> not contributing within 30 days \n",
    "df['label'].value_counts()"
   ]
  },
  {
   "cell_type": "code",
   "execution_count": 36,
   "metadata": {},
   "outputs": [
    {
     "data": {
      "text/plain": [
       "0    145620\n",
       "1    130992\n",
       "Name: label, dtype: int64"
      ]
     },
     "execution_count": 36,
     "metadata": {},
     "output_type": "execute_result"
    }
   ],
   "source": [
    "#reversing 1 <-> 0, not label (target column is align with problem statement)\n",
    "# 1 -> particpants NOT CONTRINUTING TO HSA within 30 days of first new hire enrollement date in HDHP medical plan\n",
    "# 0 -> particpants CONTRINUTING TO HSA within 30 days of first new hire enrollement date in HDHP medical plan\n",
    "df['label'] = df['label'].map({0:1,1:0})\n",
    "df['label'].value_counts()"
   ]
  },
  {
   "cell_type": "code",
   "execution_count": 37,
   "metadata": {},
   "outputs": [
    {
     "data": {
      "image/png": "[encoded data removed]",
      "text/plain": [
       "<Figure size 432x288 with 1 Axes>"
      ]
     },
     "metadata": {
      "needs_background": "light"
     },
     "output_type": "display_data"
    }
   ],
   "source": [
    "#checking distribution of target feature\n",
    "sns.countplot(data=df, x='label')\n",
    "plt.show()"
   ]
  },
  {
   "cell_type": "code",
   "execution_count": 38,
   "metadata": {},
   "outputs": [],
   "source": [
    "#droping some more columns that were used to create desired dataset\n",
    "drop_columns = ['ppid_rnum','new_hire_enrolled_hdhp_medical_plan',\n",
    "                'er_hsa_contribution_flag','ee_hsa_contribution_flag_new','enrolled_plan_year','enrolled_person_plan_efenddt',\n",
    "                'enrolled_person_plan_efbegdt','activity_effective_begin_date','ee_hsa_contribution_flag',\n",
    "                'enrolled_ee_annual_hsa_contribution','medical_enrolled_option_type','is_option_hsa_fixed','dwh_plan_brand_code',\n",
    "                'is_no_coverage_option','mapped_activity_rollup_level_2']\n",
    "\n",
    "df.drop(\n",
    "    columns=drop_columns,\n",
    "    inplace=True\n",
    ")\n",
    "\n",
    "df.shape"
   ]
  },
  {
   "cell_type": "code",
   "execution_count": 39,
   "metadata": {},
   "outputs": [
    {
     "data": {
      "text/html": [
       "<div>\n",
       "<style scoped>\n",
       "    .dataframe tbody tr th:only-of-type {\n",
       "        vertical-align: middle;\n",
       "    }\n",
       "\n",
       "    .dataframe tbody tr th {\n",
       "        vertical-align: top;\n",
       "    }\n",
       "\n",
       "    .dataframe thead th {\n",
       "        text-align: right;\n",
       "    }\n",
       "</style>\n",
       "<table border=\"1\" class=\"dataframe\">\n",
       "  <thead>\n",
       "    <tr style=\"text-align: right;\">\n",
       "      <th></th>\n",
       "      <th>platform_id</th>\n",
       "      <th>client_id</th>\n",
       "      <th>client_name</th>\n",
       "      <th>client_industry</th>\n",
       "      <th>platform_person_internal_id</th>\n",
       "      <th>enrolled_option_description</th>\n",
       "      <th>enrolled_plan_cost</th>\n",
       "      <th>enrolled_annual_paycheck_deduction</th>\n",
       "      <th>person_age</th>\n",
       "      <th>person_gender_description</th>\n",
       "      <th>marital_status_description</th>\n",
       "      <th>person_expected_annual_base_salary</th>\n",
       "      <th>client_is_ysa</th>\n",
       "      <th>client_has_corporate_exchange</th>\n",
       "      <th>client_hm_large_market_or_enterprise</th>\n",
       "      <th>number_of_people_covered</th>\n",
       "      <th>enrolled_er_annual_hsa_contribution</th>\n",
       "      <th>mapped_person_employment_status_standard_value</th>\n",
       "      <th>mapped_enrolled_coverage_category_standard_value</th>\n",
       "      <th>source_system</th>\n",
       "      <th>enrollment_suggestion_source</th>\n",
       "      <th>enrolled_option_brand_code</th>\n",
       "      <th>enrolled_option_description_group</th>\n",
       "      <th>er_hsa_contribution_flag_new</th>\n",
       "      <th>label</th>\n",
       "    </tr>\n",
       "  </thead>\n",
       "  <tbody>\n",
       "    <tr>\n",
       "      <th>993672</th>\n",
       "      <td>10021</td>\n",
       "      <td>7961</td>\n",
       "      <td>Airgas; Inc. - HWE</td>\n",
       "      <td>Wholesale</td>\n",
       "      <td>10021/100690028</td>\n",
       "      <td>Blue Cross PPO - Bronze w HSA</td>\n",
       "      <td>4394.0</td>\n",
       "      <td>6594.04</td>\n",
       "      <td>44.0</td>\n",
       "      <td>Male</td>\n",
       "      <td>Single</td>\n",
       "      <td>65000.0</td>\n",
       "      <td>Y</td>\n",
       "      <td>N</td>\n",
       "      <td>EB</td>\n",
       "      <td>4.0</td>\n",
       "      <td>0.0</td>\n",
       "      <td>Active</td>\n",
       "      <td>Participant and Family</td>\n",
       "      <td>TBA_4X</td>\n",
       "      <td>Others</td>\n",
       "      <td>CDP-MDCL-SA-POS</td>\n",
       "      <td>NaN</td>\n",
       "      <td>0</td>\n",
       "      <td>0</td>\n",
       "    </tr>\n",
       "    <tr>\n",
       "      <th>351106</th>\n",
       "      <td>10021</td>\n",
       "      <td>10801</td>\n",
       "      <td>Expedia; Inc.</td>\n",
       "      <td>Entertainment;Travel and Leisure</td>\n",
       "      <td>10021/100690083</td>\n",
       "      <td>Aetna Health Savings Plan</td>\n",
       "      <td>420.0</td>\n",
       "      <td>3320.00</td>\n",
       "      <td>22.0</td>\n",
       "      <td>Male</td>\n",
       "      <td>Single</td>\n",
       "      <td>NaN</td>\n",
       "      <td>N</td>\n",
       "      <td>N</td>\n",
       "      <td>EB</td>\n",
       "      <td>1.0</td>\n",
       "      <td>750.0</td>\n",
       "      <td>NaN</td>\n",
       "      <td>Participant Only</td>\n",
       "      <td>TBA_4X</td>\n",
       "      <td>UPoint Reimagine</td>\n",
       "      <td>PPO</td>\n",
       "      <td>NaN</td>\n",
       "      <td>1</td>\n",
       "      <td>0</td>\n",
       "    </tr>\n",
       "    <tr>\n",
       "      <th>361919</th>\n",
       "      <td>10021</td>\n",
       "      <td>12467</td>\n",
       "      <td>BlackRock; Inc.</td>\n",
       "      <td>Insurance</td>\n",
       "      <td>10021/100690090</td>\n",
       "      <td>Core Health Savings PPO - UHC</td>\n",
       "      <td>0.0</td>\n",
       "      <td>0.00</td>\n",
       "      <td>50.0</td>\n",
       "      <td>Male</td>\n",
       "      <td>Single</td>\n",
       "      <td>300000.0</td>\n",
       "      <td>Y</td>\n",
       "      <td>N</td>\n",
       "      <td>EB</td>\n",
       "      <td>1.0</td>\n",
       "      <td>0.0</td>\n",
       "      <td>Active</td>\n",
       "      <td>Participant Only</td>\n",
       "      <td>TBA_4X</td>\n",
       "      <td>Others</td>\n",
       "      <td>PPO</td>\n",
       "      <td>NaN</td>\n",
       "      <td>0</td>\n",
       "      <td>1</td>\n",
       "    </tr>\n",
       "  </tbody>\n",
       "</table>\n",
       "</div>"
      ],
      "text/plain": [
       "        platform_id  client_id         client_name  \\\n",
       "993672        10021       7961  Airgas; Inc. - HWE   \n",
       "351106        10021      10801       Expedia; Inc.   \n",
       "361919        10021      12467     BlackRock; Inc.   \n",
       "\n",
       "                         client_industry platform_person_internal_id  \\\n",
       "993672                         Wholesale             10021/100690028   \n",
       "351106  Entertainment;Travel and Leisure             10021/100690083   \n",
       "361919                         Insurance             10021/100690090   \n",
       "\n",
       "          enrolled_option_description  enrolled_plan_cost  \\\n",
       "993672  Blue Cross PPO - Bronze w HSA              4394.0   \n",
       "351106      Aetna Health Savings Plan               420.0   \n",
       "361919  Core Health Savings PPO - UHC                 0.0   \n",
       "\n",
       "        enrolled_annual_paycheck_deduction  person_age  \\\n",
       "993672                             6594.04        44.0   \n",
       "351106                             3320.00        22.0   \n",
       "361919                                0.00        50.0   \n",
       "\n",
       "       person_gender_description marital_status_description  \\\n",
       "993672                      Male                     Single   \n",
       "351106                      Male                     Single   \n",
       "361919                      Male                     Single   \n",
       "\n",
       "        person_expected_annual_base_salary client_is_ysa  \\\n",
       "993672                             65000.0             Y   \n",
       "351106                                 NaN             N   \n",
       "361919                            300000.0             Y   \n",
       "\n",
       "       client_has_corporate_exchange client_hm_large_market_or_enterprise  \\\n",
       "993672                             N                                   EB   \n",
       "351106                             N                                   EB   \n",
       "361919                             N                                   EB   \n",
       "\n",
       "        number_of_people_covered  enrolled_er_annual_hsa_contribution  \\\n",
       "993672                       4.0                                  0.0   \n",
       "351106                       1.0                                750.0   \n",
       "361919                       1.0                                  0.0   \n",
       "\n",
       "       mapped_person_employment_status_standard_value  \\\n",
       "993672                                         Active   \n",
       "351106                                            NaN   \n",
       "361919                                         Active   \n",
       "\n",
       "       mapped_enrolled_coverage_category_standard_value source_system  \\\n",
       "993672                           Participant and Family        TBA_4X   \n",
       "351106                                 Participant Only        TBA_4X   \n",
       "361919                                 Participant Only        TBA_4X   \n",
       "\n",
       "       enrollment_suggestion_source enrolled_option_brand_code  \\\n",
       "993672                       Others            CDP-MDCL-SA-POS   \n",
       "351106             UPoint Reimagine                        PPO   \n",
       "361919                       Others                        PPO   \n",
       "\n",
       "       enrolled_option_description_group  er_hsa_contribution_flag_new  label  \n",
       "993672                               NaN                             0      0  \n",
       "351106                               NaN                             1      0  \n",
       "361919                               NaN                             0      1  "
      ]
     },
     "execution_count": 39,
     "metadata": {},
     "output_type": "execute_result"
    }
   ],
   "source": [
    "df.head(3)"
   ]
  },
  {
   "cell_type": "markdown",
   "metadata": {},
   "source": [
    "### Exporting pre-processed data to S3"
   ]
  },
  {
   "cell_type": "code",
   "execution_count": 41,
   "metadata": {},
   "outputs": [
    {
     "name": "stdout",
     "output_type": "stream",
     "text": [
      "Uploading pre-processed data here -> s3://adl-core-dev-sagemaker-studio/external/amitmittal/HSA/test-data/output/version-1/preprocessed-data/data2022.csv\n"
     ]
    }
   ],
   "source": [
    "print(f'Uploading pre-processed data here -> s3://{bucket}/{pre_processed_data_path_with_fname}')\n",
    "\n",
    "df.to_csv(f's3://{bucket}/{pre_processed_data_path_with_fname}', index=False)"
   ]
  },
  {
   "cell_type": "markdown",
   "metadata": {},
   "source": [
    "-----\n",
    "## Data Transformation"
   ]
  },
  {
   "cell_type": "code",
   "execution_count": 42,
   "metadata": {},
   "outputs": [
    {
     "name": "stdout",
     "output_type": "stream",
     "text": [
      "CPU times: user 848 ms, sys: 122 ms, total: 970 ms\n",
      "Wall time: 1.75 s\n"
     ]
    },
    {
     "data": {
      "text/plain": [
       "(276612, 25)"
      ]
     },
     "execution_count": 42,
     "metadata": {},
     "output_type": "execute_result"
    }
   ],
   "source": [
    "%%time\n",
    "#importing raw dataset\n",
    "s3 = boto3.client('s3')\n",
    "key = f'{pre_processed_data_path_with_fname}'\n",
    "obj = s3.get_object(Bucket=bucket, Key=key)\n",
    "ppd = pd.read_csv(io.BytesIO(obj['Body'].read()))\n",
    "ppd.shape"
   ]
  },
  {
   "cell_type": "code",
   "execution_count": 43,
   "metadata": {},
   "outputs": [
    {
     "data": {
      "text/html": [
       "<div>\n",
       "<style scoped>\n",
       "    .dataframe tbody tr th:only-of-type {\n",
       "        vertical-align: middle;\n",
       "    }\n",
       "\n",
       "    .dataframe tbody tr th {\n",
       "        vertical-align: top;\n",
       "    }\n",
       "\n",
       "    .dataframe thead th {\n",
       "        text-align: right;\n",
       "    }\n",
       "</style>\n",
       "<table border=\"1\" class=\"dataframe\">\n",
       "  <thead>\n",
       "    <tr style=\"text-align: right;\">\n",
       "      <th></th>\n",
       "      <th>platform_id</th>\n",
       "      <th>client_id</th>\n",
       "      <th>client_name</th>\n",
       "      <th>client_industry</th>\n",
       "      <th>platform_person_internal_id</th>\n",
       "      <th>enrolled_option_description</th>\n",
       "      <th>enrolled_plan_cost</th>\n",
       "      <th>enrolled_annual_paycheck_deduction</th>\n",
       "      <th>person_age</th>\n",
       "      <th>person_gender_description</th>\n",
       "      <th>marital_status_description</th>\n",
       "      <th>person_expected_annual_base_salary</th>\n",
       "      <th>client_is_ysa</th>\n",
       "      <th>client_has_corporate_exchange</th>\n",
       "      <th>client_hm_large_market_or_enterprise</th>\n",
       "      <th>number_of_people_covered</th>\n",
       "      <th>enrolled_er_annual_hsa_contribution</th>\n",
       "      <th>mapped_person_employment_status_standard_value</th>\n",
       "      <th>mapped_enrolled_coverage_category_standard_value</th>\n",
       "      <th>source_system</th>\n",
       "      <th>enrollment_suggestion_source</th>\n",
       "      <th>enrolled_option_brand_code</th>\n",
       "      <th>enrolled_option_description_group</th>\n",
       "      <th>er_hsa_contribution_flag_new</th>\n",
       "      <th>label</th>\n",
       "    </tr>\n",
       "  </thead>\n",
       "  <tbody>\n",
       "    <tr>\n",
       "      <th>0</th>\n",
       "      <td>10021</td>\n",
       "      <td>7961</td>\n",
       "      <td>Airgas; Inc. - HWE</td>\n",
       "      <td>Wholesale</td>\n",
       "      <td>10021/100690028</td>\n",
       "      <td>Blue Cross PPO - Bronze w HSA</td>\n",
       "      <td>4394.0</td>\n",
       "      <td>6594.04</td>\n",
       "      <td>44.0</td>\n",
       "      <td>Male</td>\n",
       "      <td>Single</td>\n",
       "      <td>65000.0</td>\n",
       "      <td>Y</td>\n",
       "      <td>N</td>\n",
       "      <td>EB</td>\n",
       "      <td>4.0</td>\n",
       "      <td>0.0</td>\n",
       "      <td>Active</td>\n",
       "      <td>Participant and Family</td>\n",
       "      <td>TBA_4X</td>\n",
       "      <td>Others</td>\n",
       "      <td>CDP-MDCL-SA-POS</td>\n",
       "      <td>NaN</td>\n",
       "      <td>0</td>\n",
       "      <td>0</td>\n",
       "    </tr>\n",
       "    <tr>\n",
       "      <th>1</th>\n",
       "      <td>10021</td>\n",
       "      <td>10801</td>\n",
       "      <td>Expedia; Inc.</td>\n",
       "      <td>Entertainment;Travel and Leisure</td>\n",
       "      <td>10021/100690083</td>\n",
       "      <td>Aetna Health Savings Plan</td>\n",
       "      <td>420.0</td>\n",
       "      <td>3320.00</td>\n",
       "      <td>22.0</td>\n",
       "      <td>Male</td>\n",
       "      <td>Single</td>\n",
       "      <td>NaN</td>\n",
       "      <td>N</td>\n",
       "      <td>N</td>\n",
       "      <td>EB</td>\n",
       "      <td>1.0</td>\n",
       "      <td>750.0</td>\n",
       "      <td>NaN</td>\n",
       "      <td>Participant Only</td>\n",
       "      <td>TBA_4X</td>\n",
       "      <td>UPoint Reimagine</td>\n",
       "      <td>PPO</td>\n",
       "      <td>NaN</td>\n",
       "      <td>1</td>\n",
       "      <td>0</td>\n",
       "    </tr>\n",
       "    <tr>\n",
       "      <th>2</th>\n",
       "      <td>10021</td>\n",
       "      <td>12467</td>\n",
       "      <td>BlackRock; Inc.</td>\n",
       "      <td>Insurance</td>\n",
       "      <td>10021/100690090</td>\n",
       "      <td>Core Health Savings PPO - UHC</td>\n",
       "      <td>0.0</td>\n",
       "      <td>0.00</td>\n",
       "      <td>50.0</td>\n",
       "      <td>Male</td>\n",
       "      <td>Single</td>\n",
       "      <td>300000.0</td>\n",
       "      <td>Y</td>\n",
       "      <td>N</td>\n",
       "      <td>EB</td>\n",
       "      <td>1.0</td>\n",
       "      <td>0.0</td>\n",
       "      <td>Active</td>\n",
       "      <td>Participant Only</td>\n",
       "      <td>TBA_4X</td>\n",
       "      <td>Others</td>\n",
       "      <td>PPO</td>\n",
       "      <td>NaN</td>\n",
       "      <td>0</td>\n",
       "      <td>1</td>\n",
       "    </tr>\n",
       "  </tbody>\n",
       "</table>\n",
       "</div>"
      ],
      "text/plain": [
       "   platform_id  client_id         client_name  \\\n",
       "0        10021       7961  Airgas; Inc. - HWE   \n",
       "1        10021      10801       Expedia; Inc.   \n",
       "2        10021      12467     BlackRock; Inc.   \n",
       "\n",
       "                    client_industry platform_person_internal_id  \\\n",
       "0                         Wholesale             10021/100690028   \n",
       "1  Entertainment;Travel and Leisure             10021/100690083   \n",
       "2                         Insurance             10021/100690090   \n",
       "\n",
       "     enrolled_option_description  enrolled_plan_cost  \\\n",
       "0  Blue Cross PPO - Bronze w HSA              4394.0   \n",
       "1      Aetna Health Savings Plan               420.0   \n",
       "2  Core Health Savings PPO - UHC                 0.0   \n",
       "\n",
       "   enrolled_annual_paycheck_deduction  person_age person_gender_description  \\\n",
       "0                             6594.04        44.0                      Male   \n",
       "1                             3320.00        22.0                      Male   \n",
       "2                                0.00        50.0                      Male   \n",
       "\n",
       "  marital_status_description  person_expected_annual_base_salary  \\\n",
       "0                     Single                             65000.0   \n",
       "1                     Single                                 NaN   \n",
       "2                     Single                            300000.0   \n",
       "\n",
       "  client_is_ysa client_has_corporate_exchange  \\\n",
       "0             Y                             N   \n",
       "1             N                             N   \n",
       "2             Y                             N   \n",
       "\n",
       "  client_hm_large_market_or_enterprise  number_of_people_covered  \\\n",
       "0                                   EB                       4.0   \n",
       "1                                   EB                       1.0   \n",
       "2                                   EB                       1.0   \n",
       "\n",
       "   enrolled_er_annual_hsa_contribution  \\\n",
       "0                                  0.0   \n",
       "1                                750.0   \n",
       "2                                  0.0   \n",
       "\n",
       "  mapped_person_employment_status_standard_value  \\\n",
       "0                                         Active   \n",
       "1                                            NaN   \n",
       "2                                         Active   \n",
       "\n",
       "  mapped_enrolled_coverage_category_standard_value source_system  \\\n",
       "0                           Participant and Family        TBA_4X   \n",
       "1                                 Participant Only        TBA_4X   \n",
       "2                                 Participant Only        TBA_4X   \n",
       "\n",
       "  enrollment_suggestion_source enrolled_option_brand_code  \\\n",
       "0                       Others            CDP-MDCL-SA-POS   \n",
       "1             UPoint Reimagine                        PPO   \n",
       "2                       Others                        PPO   \n",
       "\n",
       "  enrolled_option_description_group  er_hsa_contribution_flag_new  label  \n",
       "0                               NaN                             0      0  \n",
       "1                               NaN                             1      0  \n",
       "2                               NaN                             0      1  "
      ]
     },
     "execution_count": 43,
     "metadata": {},
     "output_type": "execute_result"
    }
   ],
   "source": [
    "ppd.head(3)"
   ]
  },
  {
   "cell_type": "code",
   "execution_count": 44,
   "metadata": {},
   "outputs": [
    {
     "data": {
      "text/plain": [
       "276612"
      ]
     },
     "execution_count": 44,
     "metadata": {},
     "output_type": "execute_result"
    }
   ],
   "source": [
    "ppd['platform_person_internal_id'].nunique()"
   ]
  },
  {
   "cell_type": "code",
   "execution_count": 45,
   "metadata": {},
   "outputs": [],
   "source": [
    "def cat_vs_cat_plot(predictor):\n",
    "    fig,axes = plt.subplots(1,2,figsize=(15,4))\n",
    "    ppd.groupby(predictor, observed=True, dropna=False, sort=False)['platform_person_internal_id'].count().plot(kind='bar',stacked=True,color='skyblue',legend=False,ax=axes[0])\n",
    "    #df[predictor].value_counts(sort=False).plot(kind='bar',ax=axes[0])\n",
    "    ppd.groupby(predictor, observed=True, dropna=False, sort=False)['label'].value_counts(normalize=True).unstack().plot(kind='bar',stacked=True,ax=axes[1])\n",
    "    plt.show()"
   ]
  },
  {
   "cell_type": "code",
   "execution_count": 46,
   "metadata": {},
   "outputs": [],
   "source": [
    "def cat_vs_cont_plot(predictor):\n",
    "    fig,axes = plt.subplots(1,2,figsize=(15,4))\n",
    "    sns.boxplot(data=ppd, x=predictor, y='label', orient='h', ax=axes[0])\n",
    "    sns.kdeplot(ppd[ppd['label']==0][predictor], shade=True, label=0, ax=axes[1])\n",
    "    sns.kdeplot(ppd[ppd['label']==1][predictor], shade=True, label=1, ax=axes[1])\n",
    "    plt.title(f'Count of NULL values in {predictor}: {ppd[predictor].isna().sum()}')\n",
    "    plt.show()"
   ]
  },
  {
   "cell_type": "code",
   "execution_count": 47,
   "metadata": {},
   "outputs": [
    {
     "data": {
      "text/plain": [
       "Index(['client_name', 'client_industry', 'platform_person_internal_id',\n",
       "       'enrolled_option_description', 'person_gender_description',\n",
       "       'marital_status_description', 'client_is_ysa',\n",
       "       'client_has_corporate_exchange', 'client_hm_large_market_or_enterprise',\n",
       "       'mapped_person_employment_status_standard_value',\n",
       "       'mapped_enrolled_coverage_category_standard_value', 'source_system',\n",
       "       'enrollment_suggestion_source', 'enrolled_option_brand_code',\n",
       "       'enrolled_option_description_group'],\n",
       "      dtype='object')"
      ]
     },
     "execution_count": 47,
     "metadata": {},
     "output_type": "execute_result"
    }
   ],
   "source": [
    "ppd.select_dtypes('O').columns"
   ]
  },
  {
   "cell_type": "code",
   "execution_count": 48,
   "metadata": {},
   "outputs": [],
   "source": [
    "agriculture_and_mining = ['Mining;Quarrying and Drilling','Agriculture; Forestry and Fishing']\n",
    "banking_and_finance = ['Banking and Finance']\n",
    "business_services = ['Rental and Leasing','Professional Services','Business and Personal Services','Business and Management Services']\n",
    "computer_service_and_software = ['High Tech','Electronics','Computers']\n",
    "consumer_misc_product_and_manufacturing = ['Repair and Maintenance']\n",
    "diversified_manufacturing = ['Real Estate','Manufacturing','Construction and Building Materials','Chemicals','Architecture & Engineering','Aerospace and Defense']\n",
    "education = ['Education']\n",
    "food_and_beverage = ['Food and Beverage']\n",
    "government = ['Public Sector and Government']\n",
    "healthcare_and_medical = ['Pharmaceutical and Chemicals','Healthcare','Health Services','Biotechnology; Pharmaceuticals and Medicine']\n",
    "insurance = ['Insurance']\n",
    "retail = ['Wholesale','Retail']\n",
    "telecom = ['Telecommunications and Publishings','Telecommunications Services']\n",
    "transport_and_storage = ['Automotive and Transportation']\n",
    "travel_recreation_and_leisure = ['Entertainment;Travel and Leisure']\n",
    "utilities_and_energy = ['Utilities and Energy']\n",
    "unknown = ['Unassigned','Not Applicable']"
   ]
  },
  {
   "cell_type": "code",
   "execution_count": 49,
   "metadata": {},
   "outputs": [],
   "source": [
    "ppd.loc[ppd['client_industry'].isin(agriculture_and_mining), 'client_industry_rollup'] = 'agriculture_and_mining'\n",
    "ppd.loc[ppd['client_industry'].isin(banking_and_finance), 'client_industry_rollup'] = 'banking_and_finance'\n",
    "ppd.loc[ppd['client_industry'].isin(business_services), 'client_industry_rollup'] = 'business_services'\n",
    "ppd.loc[ppd['client_industry'].isin(computer_service_and_software), 'client_industry_rollup'] = 'computer_service_and_software'\n",
    "ppd.loc[ppd['client_industry'].isin(consumer_misc_product_and_manufacturing), 'client_industry_rollup'] = 'consumer_misc_product_and_manufacturing'\n",
    "ppd.loc[ppd['client_industry'].isin(diversified_manufacturing), 'client_industry_rollup'] = 'diversified_manufacturing'\n",
    "ppd.loc[ppd['client_industry'].isin(education), 'client_industry_rollup'] = 'education'\n",
    "ppd.loc[ppd['client_industry'].isin(food_and_beverage), 'client_industry_rollup'] = 'food_and_beverage'\n",
    "ppd.loc[ppd['client_industry'].isin(government), 'client_industry_rollup'] = 'government'\n",
    "ppd.loc[ppd['client_industry'].isin(healthcare_and_medical), 'client_industry_rollup'] = 'healthcare_and_medical'\n",
    "ppd.loc[ppd['client_industry'].isin(insurance), 'client_industry_rollup'] = 'insurance'\n",
    "ppd.loc[ppd['client_industry'].isin(retail), 'client_industry_rollup'] = 'retail'\n",
    "ppd.loc[ppd['client_industry'].isin(telecom), 'client_industry_rollup'] = 'telecom'\n",
    "ppd.loc[ppd['client_industry'].isin(transport_and_storage), 'client_industry_rollup'] = 'transport_and_storage'\n",
    "ppd.loc[ppd['client_industry'].isin(travel_recreation_and_leisure), 'client_industry_rollup'] = 'travel_recreation_and_leisure'\n",
    "ppd.loc[ppd['client_industry'].isin(utilities_and_energy), 'client_industry_rollup'] = 'utilities_and_energy'\n",
    "ppd.loc[ppd['client_industry'].isin(unknown), 'client_industry_rollup'] = 'Unknown'\n",
    "ppd.loc[ppd['client_industry'].isnull(), 'client_industry_rollup'] = 'Unknown'"
   ]
  },
  {
   "cell_type": "code",
   "execution_count": 50,
   "metadata": {},
   "outputs": [],
   "source": [
    "single_list = ['Single']\n",
    "married_list = ['Married','Married - Qualified','Married - Domestic Partner']\n",
    "divorce_list = ['Divorced','Separated','Widowed']\n",
    "unknown_list = ['Unknown','Other','Invalid']"
   ]
  },
  {
   "cell_type": "code",
   "execution_count": 51,
   "metadata": {},
   "outputs": [],
   "source": [
    "ppd.loc[ppd['marital_status_description'].isin(single_list), 'marital_status_rollup'] = 'Single'\n",
    "ppd.loc[ppd['marital_status_description'].isin(married_list), 'marital_status_rollup'] = 'Married'\n",
    "ppd.loc[ppd['marital_status_description'].isin(divorce_list), 'marital_status_rollup'] = 'Divorce'\n",
    "ppd.loc[ppd['marital_status_description'].isin(unknown_list), 'marital_status_rollup'] = 'Unknown'\n",
    "ppd.loc[ppd['marital_status_description'].isnull(), 'marital_status_rollup'] = 'Unknown'"
   ]
  },
  {
   "cell_type": "code",
   "execution_count": 52,
   "metadata": {},
   "outputs": [],
   "source": [
    "active_list = ['Active','Disability - Long Term or Perm','Disability - Short Term','LOA - Family Medical','LOA - Military','LOA - no Pay','LOA - with Pay',\"LOA - Worker's Compensation\"]\n",
    "inactive_list = ['COBRA Employee','Deceased - In Service','Deceased - Out-of-Service','Layoff','Retired','Severance Pay','Termination']\n",
    "non_employee_list = ['COBRA Dependent','Enrolled Beneficiary','Enrolled QDRO']"
   ]
  },
  {
   "cell_type": "code",
   "execution_count": 53,
   "metadata": {},
   "outputs": [],
   "source": [
    "ppd.loc[ppd['mapped_person_employment_status_standard_value'].isin(active_list), 'employment_status_rollup'] = 'Active'\n",
    "ppd.loc[ppd['mapped_person_employment_status_standard_value'].isin(inactive_list), 'employment_status_rollup'] = 'Inactive'\n",
    "ppd.loc[ppd['mapped_person_employment_status_standard_value'].isin(non_employee_list), 'employment_status_rollup'] = 'Non-Employee'\n",
    "ppd.loc[ppd['mapped_person_employment_status_standard_value'].isnull(), 'employment_status_rollup'] = 'Unknown'"
   ]
  },
  {
   "cell_type": "code",
   "execution_count": 54,
   "metadata": {},
   "outputs": [],
   "source": [
    "covering_self_list = ['Participant Only']\n",
    "covering_family_list = ['Participant and Family','Participant and Child(ren)','Participant and Spouse','Participant and Dependent']\n",
    "covering_others = ['Spouse Only','Spouse and Child(ren)','Child(ren) Only']"
   ]
  },
  {
   "cell_type": "code",
   "execution_count": 55,
   "metadata": {},
   "outputs": [],
   "source": [
    "ppd.loc[ppd['mapped_enrolled_coverage_category_standard_value'].isin(covering_self_list), 'coverage_category_rollup'] = 'Covering_Self'\n",
    "ppd.loc[ppd['mapped_enrolled_coverage_category_standard_value'].isin(covering_family_list), 'coverage_category_rollup'] = 'Covering_Family'\n",
    "ppd.loc[ppd['mapped_enrolled_coverage_category_standard_value'].isin(covering_others), 'coverage_category_rollup'] = 'Covering_Others'\n",
    "ppd.loc[ppd['mapped_enrolled_coverage_category_standard_value'].isnull(), 'coverage_category_rollup'] = 'Unknown'"
   ]
  },
  {
   "cell_type": "code",
   "execution_count": 56,
   "metadata": {},
   "outputs": [],
   "source": [
    "ppd.loc[\n",
    "    ppd['source_system']=='CBA'\n",
    "    ,'enrolled_option_bc_dg'\n",
    "] = ppd['enrolled_option_description_group']\n",
    "\n",
    "ppd.loc[\n",
    "    ppd['source_system']!='CBA'\n",
    "    ,'enrolled_option_bc_dg'\n",
    "] = ppd['enrolled_option_brand_code']"
   ]
  },
  {
   "cell_type": "code",
   "execution_count": 57,
   "metadata": {},
   "outputs": [],
   "source": [
    "ppd.loc[\n",
    "    ppd['person_age'] < 18,\n",
    "    'person_age'\n",
    "] = 18"
   ]
  },
  {
   "cell_type": "code",
   "execution_count": 58,
   "metadata": {},
   "outputs": [],
   "source": [
    "bins = [-1, 19999, 39999, 59999, 79999, 99999, 999999999999]\n",
    "labels = ['<20,000', '20,000 - 39,999', '40,000 - 59,999', '60,000 - 79,999', '80,000 - 99,999', '100,000+']\n",
    "ppd['person_expected_annual_base_salary_range'] = pd.cut(x=ppd['person_expected_annual_base_salary'], bins=bins, labels=labels)"
   ]
  },
  {
   "cell_type": "code",
   "execution_count": 59,
   "metadata": {},
   "outputs": [],
   "source": [
    "ppd['person_expected_annual_base_salary_range'] = ppd['person_expected_annual_base_salary_range'].astype(str)\n",
    "ppd['person_expected_annual_base_salary_range'].replace(to_replace='nan',value='Unknown', inplace=True)"
   ]
  },
  {
   "cell_type": "code",
   "execution_count": 60,
   "metadata": {},
   "outputs": [
    {
     "data": {
      "text/plain": [
       "(276612, 18)"
      ]
     },
     "execution_count": 60,
     "metadata": {},
     "output_type": "execute_result"
    }
   ],
   "source": [
    "drop_columns = ['platform_id','client_id','client_name','platform_person_internal_id','enrolled_option_description',\n",
    "                'enrolled_annual_paycheck_deduction','enrolled_option_brand_code','enrolled_option_description_group',\n",
    "                'client_industry','marital_status_description','person_expected_annual_base_salary',\n",
    "                 'mapped_person_employment_status_standard_value','mapped_enrolled_coverage_category_standard_value']\n",
    "\n",
    "test_set = ppd.drop(columns=drop_columns)\n",
    "test_set.shape"
   ]
  },
  {
   "cell_type": "code",
   "execution_count": 61,
   "metadata": {},
   "outputs": [
    {
     "name": "stdout",
     "output_type": "stream",
     "text": [
      "13\n",
      "4\n"
     ]
    }
   ],
   "source": [
    "cat_columns = ['client_industry_rollup','person_gender_description','marital_status_rollup','client_is_ysa',\n",
    "               'client_has_corporate_exchange','client_hm_large_market_or_enterprise','employment_status_rollup',\n",
    "               'coverage_category_rollup','source_system','enrollment_suggestion_source','er_hsa_contribution_flag_new',\n",
    "               'enrolled_option_bc_dg','person_expected_annual_base_salary_range']\n",
    "num_columns = ['person_age','number_of_people_covered','enrolled_plan_cost','enrolled_er_annual_hsa_contribution']\n",
    "print(len(cat_columns))\n",
    "print(len(num_columns))"
   ]
  },
  {
   "cell_type": "code",
   "execution_count": 62,
   "metadata": {},
   "outputs": [
    {
     "data": {
      "text/plain": [
       "client_industry_rollup                      0\n",
       "person_gender_description                   0\n",
       "marital_status_rollup                       0\n",
       "client_is_ysa                               0\n",
       "client_has_corporate_exchange               0\n",
       "client_hm_large_market_or_enterprise        0\n",
       "employment_status_rollup                    0\n",
       "coverage_category_rollup                    0\n",
       "source_system                               0\n",
       "enrollment_suggestion_source                0\n",
       "er_hsa_contribution_flag_new                0\n",
       "enrolled_option_bc_dg                       0\n",
       "person_expected_annual_base_salary_range    0\n",
       "dtype: int64"
      ]
     },
     "execution_count": 62,
     "metadata": {},
     "output_type": "execute_result"
    }
   ],
   "source": [
    "test_set[cat_columns] = test_set[cat_columns].fillna(\"Unknown\")\n",
    "\n",
    "test_set[cat_columns].isnull().sum()"
   ]
  },
  {
   "cell_type": "markdown",
   "metadata": {},
   "source": [
    "### Loading Training Data"
   ]
  },
  {
   "cell_type": "code",
   "execution_count": 63,
   "metadata": {},
   "outputs": [
    {
     "name": "stdout",
     "output_type": "stream",
     "text": [
      "CPU times: user 1.4 s, sys: 234 ms, total: 1.63 s\n",
      "Wall time: 4.87 s\n"
     ]
    },
    {
     "data": {
      "text/plain": [
       "(436719, 25)"
      ]
     },
     "execution_count": 63,
     "metadata": {},
     "output_type": "execute_result"
    }
   ],
   "source": [
    "%%time\n",
    "#importing raw dataset\n",
    "s3 = boto3.client('s3')\n",
    "key = f'{pre_processed_train_data_path}/data.csv'\n",
    "obj = s3.get_object(Bucket=bucket, Key=key)\n",
    "train_set = pd.read_csv(io.BytesIO(obj['Body'].read()))\n",
    "train_set.shape"
   ]
  },
  {
   "cell_type": "code",
   "execution_count": 64,
   "metadata": {},
   "outputs": [
    {
     "data": {
      "text/plain": [
       "(436719, 25)"
      ]
     },
     "execution_count": 64,
     "metadata": {},
     "output_type": "execute_result"
    }
   ],
   "source": [
    "train_set.shape"
   ]
  },
  {
   "cell_type": "code",
   "execution_count": 65,
   "metadata": {},
   "outputs": [
    {
     "data": {
      "text/html": [
       "<div>\n",
       "<style scoped>\n",
       "    .dataframe tbody tr th:only-of-type {\n",
       "        vertical-align: middle;\n",
       "    }\n",
       "\n",
       "    .dataframe tbody tr th {\n",
       "        vertical-align: top;\n",
       "    }\n",
       "\n",
       "    .dataframe thead th {\n",
       "        text-align: right;\n",
       "    }\n",
       "</style>\n",
       "<table border=\"1\" class=\"dataframe\">\n",
       "  <thead>\n",
       "    <tr style=\"text-align: right;\">\n",
       "      <th></th>\n",
       "      <th>platform_id</th>\n",
       "      <th>client_id</th>\n",
       "      <th>client_name</th>\n",
       "      <th>client_industry</th>\n",
       "      <th>platform_person_internal_id</th>\n",
       "      <th>enrolled_option_description</th>\n",
       "      <th>enrolled_plan_cost</th>\n",
       "      <th>enrolled_annual_paycheck_deduction</th>\n",
       "      <th>person_age</th>\n",
       "      <th>person_gender_description</th>\n",
       "      <th>marital_status_description</th>\n",
       "      <th>person_expected_annual_base_salary</th>\n",
       "      <th>client_is_ysa</th>\n",
       "      <th>client_has_corporate_exchange</th>\n",
       "      <th>client_hm_large_market_or_enterprise</th>\n",
       "      <th>number_of_people_covered</th>\n",
       "      <th>enrolled_er_annual_hsa_contribution</th>\n",
       "      <th>mapped_person_employment_status_standard_value</th>\n",
       "      <th>mapped_enrolled_coverage_category_standard_value</th>\n",
       "      <th>source_system</th>\n",
       "      <th>enrollment_suggestion_source</th>\n",
       "      <th>enrolled_option_brand_code</th>\n",
       "      <th>enrolled_option_description_group</th>\n",
       "      <th>er_hsa_contribution_flag_new</th>\n",
       "      <th>label</th>\n",
       "    </tr>\n",
       "  </thead>\n",
       "  <tbody>\n",
       "    <tr>\n",
       "      <th>0</th>\n",
       "      <td>10021</td>\n",
       "      <td>9264</td>\n",
       "      <td>Stericycle; Inc.</td>\n",
       "      <td>Utilities and Energy</td>\n",
       "      <td>10021/100070010</td>\n",
       "      <td>HSA Basic Choice Plus</td>\n",
       "      <td>843.0</td>\n",
       "      <td>843.36</td>\n",
       "      <td>19.0</td>\n",
       "      <td>Male</td>\n",
       "      <td>Single</td>\n",
       "      <td>47840.0</td>\n",
       "      <td>Y</td>\n",
       "      <td>N</td>\n",
       "      <td>EB</td>\n",
       "      <td>1.0</td>\n",
       "      <td>0.0</td>\n",
       "      <td>Active</td>\n",
       "      <td>Participant Only</td>\n",
       "      <td>TBA_4X</td>\n",
       "      <td>UPoint Reimagine</td>\n",
       "      <td>CDP-MDCL-SA-PPO</td>\n",
       "      <td>NaN</td>\n",
       "      <td>0</td>\n",
       "      <td>1</td>\n",
       "    </tr>\n",
       "    <tr>\n",
       "      <th>1</th>\n",
       "      <td>10021</td>\n",
       "      <td>10801</td>\n",
       "      <td>Expedia; Inc.</td>\n",
       "      <td>Entertainment;Travel and Leisure</td>\n",
       "      <td>10021/100390006</td>\n",
       "      <td>Aetna Health Savings Plan</td>\n",
       "      <td>2076.0</td>\n",
       "      <td>2076.00</td>\n",
       "      <td>28.0</td>\n",
       "      <td>Female</td>\n",
       "      <td>Single</td>\n",
       "      <td>57000.0</td>\n",
       "      <td>N</td>\n",
       "      <td>N</td>\n",
       "      <td>EB</td>\n",
       "      <td>2.0</td>\n",
       "      <td>1500.0</td>\n",
       "      <td>Active</td>\n",
       "      <td>Participant and Spouse</td>\n",
       "      <td>TBA_4X</td>\n",
       "      <td>Others</td>\n",
       "      <td>PPO</td>\n",
       "      <td>NaN</td>\n",
       "      <td>1</td>\n",
       "      <td>1</td>\n",
       "    </tr>\n",
       "  </tbody>\n",
       "</table>\n",
       "</div>"
      ],
      "text/plain": [
       "   platform_id  client_id       client_name                   client_industry  \\\n",
       "0        10021       9264  Stericycle; Inc.              Utilities and Energy   \n",
       "1        10021      10801     Expedia; Inc.  Entertainment;Travel and Leisure   \n",
       "\n",
       "  platform_person_internal_id enrolled_option_description  enrolled_plan_cost  \\\n",
       "0             10021/100070010       HSA Basic Choice Plus               843.0   \n",
       "1             10021/100390006   Aetna Health Savings Plan              2076.0   \n",
       "\n",
       "   enrolled_annual_paycheck_deduction  person_age person_gender_description  \\\n",
       "0                              843.36        19.0                      Male   \n",
       "1                             2076.00        28.0                    Female   \n",
       "\n",
       "  marital_status_description  person_expected_annual_base_salary  \\\n",
       "0                     Single                             47840.0   \n",
       "1                     Single                             57000.0   \n",
       "\n",
       "  client_is_ysa client_has_corporate_exchange  \\\n",
       "0             Y                             N   \n",
       "1             N                             N   \n",
       "\n",
       "  client_hm_large_market_or_enterprise  number_of_people_covered  \\\n",
       "0                                   EB                       1.0   \n",
       "1                                   EB                       2.0   \n",
       "\n",
       "   enrolled_er_annual_hsa_contribution  \\\n",
       "0                                  0.0   \n",
       "1                               1500.0   \n",
       "\n",
       "  mapped_person_employment_status_standard_value  \\\n",
       "0                                         Active   \n",
       "1                                         Active   \n",
       "\n",
       "  mapped_enrolled_coverage_category_standard_value source_system  \\\n",
       "0                                 Participant Only        TBA_4X   \n",
       "1                           Participant and Spouse        TBA_4X   \n",
       "\n",
       "  enrollment_suggestion_source enrolled_option_brand_code  \\\n",
       "0             UPoint Reimagine            CDP-MDCL-SA-PPO   \n",
       "1                       Others                        PPO   \n",
       "\n",
       "  enrolled_option_description_group  er_hsa_contribution_flag_new  label  \n",
       "0                               NaN                             0      1  \n",
       "1                               NaN                             1      1  "
      ]
     },
     "execution_count": 65,
     "metadata": {},
     "output_type": "execute_result"
    }
   ],
   "source": [
    "train_set.head(2)"
   ]
  },
  {
   "cell_type": "code",
   "execution_count": 66,
   "metadata": {},
   "outputs": [],
   "source": [
    "train_set.loc[train_set['client_industry'].isin(agriculture_and_mining), 'client_industry_rollup'] = 'agriculture_and_mining'\n",
    "train_set.loc[train_set['client_industry'].isin(banking_and_finance), 'client_industry_rollup'] = 'banking_and_finance'\n",
    "train_set.loc[train_set['client_industry'].isin(business_services), 'client_industry_rollup'] = 'business_services'\n",
    "train_set.loc[train_set['client_industry'].isin(computer_service_and_software), 'client_industry_rollup'] = 'computer_service_and_software'\n",
    "train_set.loc[train_set['client_industry'].isin(consumer_misc_product_and_manufacturing), 'client_industry_rollup'] = 'consumer_misc_product_and_manufacturing'\n",
    "train_set.loc[train_set['client_industry'].isin(diversified_manufacturing), 'client_industry_rollup'] = 'diversified_manufacturing'\n",
    "train_set.loc[train_set['client_industry'].isin(education), 'client_industry_rollup'] = 'education'\n",
    "train_set.loc[train_set['client_industry'].isin(food_and_beverage), 'client_industry_rollup'] = 'food_and_beverage'\n",
    "train_set.loc[train_set['client_industry'].isin(government), 'client_industry_rollup'] = 'government'\n",
    "train_set.loc[train_set['client_industry'].isin(healthcare_and_medical), 'client_industry_rollup'] = 'healthcare_and_medical'\n",
    "train_set.loc[train_set['client_industry'].isin(insurance), 'client_industry_rollup'] = 'insurance'\n",
    "train_set.loc[train_set['client_industry'].isin(retail), 'client_industry_rollup'] = 'retail'\n",
    "train_set.loc[train_set['client_industry'].isin(telecom), 'client_industry_rollup'] = 'telecom'\n",
    "train_set.loc[train_set['client_industry'].isin(transport_and_storage), 'client_industry_rollup'] = 'transport_and_storage'\n",
    "train_set.loc[train_set['client_industry'].isin(travel_recreation_and_leisure), 'client_industry_rollup'] = 'travel_recreation_and_leisure'\n",
    "train_set.loc[train_set['client_industry'].isin(utilities_and_energy), 'client_industry_rollup'] = 'utilities_and_energy'\n",
    "train_set.loc[train_set['client_industry'].isin(unknown), 'client_industry_rollup'] = 'Unknown'\n",
    "train_set.loc[train_set['client_industry'].isnull(), 'client_industry_rollup'] = 'Unknown'"
   ]
  },
  {
   "cell_type": "code",
   "execution_count": 67,
   "metadata": {},
   "outputs": [],
   "source": [
    "train_set.loc[train_set['marital_status_description'].isin(single_list), 'marital_status_rollup'] = 'Single'\n",
    "train_set.loc[train_set['marital_status_description'].isin(married_list), 'marital_status_rollup'] = 'Married'\n",
    "train_set.loc[train_set['marital_status_description'].isin(divorce_list), 'marital_status_rollup'] = 'Divorce'\n",
    "train_set.loc[train_set['marital_status_description'].isin(unknown_list), 'marital_status_rollup'] = 'Unknown'\n",
    "train_set.loc[train_set['marital_status_description'].isnull(), 'marital_status_rollup'] = 'Unknown'"
   ]
  },
  {
   "cell_type": "code",
   "execution_count": 68,
   "metadata": {},
   "outputs": [],
   "source": [
    "train_set.loc[train_set['mapped_person_employment_status_standard_value'].isin(active_list), 'employment_status_rollup'] = 'Active'\n",
    "train_set.loc[train_set['mapped_person_employment_status_standard_value'].isin(inactive_list), 'employment_status_rollup'] = 'Inactive'\n",
    "train_set.loc[train_set['mapped_person_employment_status_standard_value'].isin(non_employee_list), 'employment_status_rollup'] = 'Non-Employee'\n",
    "train_set.loc[train_set['mapped_person_employment_status_standard_value'].isnull(), 'employment_status_rollup'] = 'Unknown'"
   ]
  },
  {
   "cell_type": "code",
   "execution_count": 69,
   "metadata": {},
   "outputs": [],
   "source": [
    "train_set.loc[train_set['mapped_enrolled_coverage_category_standard_value'].isin(covering_self_list), 'coverage_category_rollup'] = 'Covering_Self'\n",
    "train_set.loc[train_set['mapped_enrolled_coverage_category_standard_value'].isin(covering_family_list), 'coverage_category_rollup'] = 'Covering_Family'\n",
    "train_set.loc[train_set['mapped_enrolled_coverage_category_standard_value'].isin(covering_others), 'coverage_category_rollup'] = 'Covering_Others'\n",
    "train_set.loc[train_set['mapped_enrolled_coverage_category_standard_value'].isnull(), 'coverage_category_rollup'] = 'Unknown'"
   ]
  },
  {
   "cell_type": "code",
   "execution_count": 70,
   "metadata": {},
   "outputs": [],
   "source": [
    "train_set.loc[\n",
    "    train_set['source_system']=='CBA'\n",
    "    ,'enrolled_option_bc_dg'\n",
    "] = train_set['enrolled_option_description_group']\n",
    "\n",
    "train_set.loc[\n",
    "    train_set['source_system']!='CBA'\n",
    "    ,'enrolled_option_bc_dg'\n",
    "] = train_set['enrolled_option_brand_code']"
   ]
  },
  {
   "cell_type": "code",
   "execution_count": 71,
   "metadata": {},
   "outputs": [],
   "source": [
    "train_set.loc[\n",
    "    train_set['person_age'] < 18,\n",
    "    'person_age'\n",
    "] = 18"
   ]
  },
  {
   "cell_type": "code",
   "execution_count": 72,
   "metadata": {},
   "outputs": [],
   "source": [
    "bins = [-1, 19999, 39999, 59999, 79999, 99999, 999999999999]\n",
    "labels = ['<20,000', '20,000 - 39,999', '40,000 - 59,999', '60,000 - 79,999', '80,000 - 99,999', '100,000+']\n",
    "train_set['person_expected_annual_base_salary_range'] = pd.cut(x=train_set['person_expected_annual_base_salary'], bins=bins, labels=labels)"
   ]
  },
  {
   "cell_type": "code",
   "execution_count": 73,
   "metadata": {},
   "outputs": [],
   "source": [
    "train_set['person_expected_annual_base_salary_range'] = train_set['person_expected_annual_base_salary_range'].astype(str)\n",
    "train_set['person_expected_annual_base_salary_range'].replace(to_replace='nan',value='Unknown', inplace=True)"
   ]
  },
  {
   "cell_type": "code",
   "execution_count": 74,
   "metadata": {},
   "outputs": [
    {
     "data": {
      "text/plain": [
       "(436719, 18)"
      ]
     },
     "execution_count": 74,
     "metadata": {},
     "output_type": "execute_result"
    }
   ],
   "source": [
    "drop_columns = ['platform_id','client_id','client_name','platform_person_internal_id','enrolled_option_description',\n",
    "                'enrolled_annual_paycheck_deduction','enrolled_option_brand_code','enrolled_option_description_group',\n",
    "                'client_industry','marital_status_description','person_expected_annual_base_salary',\n",
    "                 'mapped_person_employment_status_standard_value','mapped_enrolled_coverage_category_standard_value']\n",
    "\n",
    "train_set = train_set.drop(columns=drop_columns)\n",
    "train_set.shape"
   ]
  },
  {
   "cell_type": "code",
   "execution_count": 75,
   "metadata": {},
   "outputs": [
    {
     "data": {
      "text/plain": [
       "client_industry_rollup                      0\n",
       "person_gender_description                   0\n",
       "marital_status_rollup                       0\n",
       "client_is_ysa                               0\n",
       "client_has_corporate_exchange               0\n",
       "client_hm_large_market_or_enterprise        0\n",
       "employment_status_rollup                    0\n",
       "coverage_category_rollup                    0\n",
       "source_system                               0\n",
       "enrollment_suggestion_source                0\n",
       "er_hsa_contribution_flag_new                0\n",
       "enrolled_option_bc_dg                       0\n",
       "person_expected_annual_base_salary_range    0\n",
       "dtype: int64"
      ]
     },
     "execution_count": 75,
     "metadata": {},
     "output_type": "execute_result"
    }
   ],
   "source": [
    "train_set[cat_columns] = train_set[cat_columns].fillna(\"Unknown\")\n",
    "\n",
    "train_set[cat_columns].isnull().sum()"
   ]
  },
  {
   "cell_type": "code",
   "execution_count": 76,
   "metadata": {},
   "outputs": [],
   "source": [
    "# train_set, test_set = train_test_split(train_set, test_size=0.3, shuffle=True, random_state=42, stratify=train_set['label'])"
   ]
  },
  {
   "cell_type": "code",
   "execution_count": 77,
   "metadata": {},
   "outputs": [
    {
     "data": {
      "text/html": [
       "<div>\n",
       "<style scoped>\n",
       "    .dataframe tbody tr th:only-of-type {\n",
       "        vertical-align: middle;\n",
       "    }\n",
       "\n",
       "    .dataframe tbody tr th {\n",
       "        vertical-align: top;\n",
       "    }\n",
       "\n",
       "    .dataframe thead th {\n",
       "        text-align: right;\n",
       "    }\n",
       "</style>\n",
       "<table border=\"1\" class=\"dataframe\">\n",
       "  <thead>\n",
       "    <tr style=\"text-align: right;\">\n",
       "      <th></th>\n",
       "      <th>employment_status_rollup</th>\n",
       "      <th>upper_age_cap</th>\n",
       "    </tr>\n",
       "  </thead>\n",
       "  <tbody>\n",
       "    <tr>\n",
       "      <th>0</th>\n",
       "      <td>Active</td>\n",
       "      <td>60.0</td>\n",
       "    </tr>\n",
       "    <tr>\n",
       "      <th>1</th>\n",
       "      <td>Inactive</td>\n",
       "      <td>64.0</td>\n",
       "    </tr>\n",
       "    <tr>\n",
       "      <th>2</th>\n",
       "      <td>Non-Employee</td>\n",
       "      <td>66.2</td>\n",
       "    </tr>\n",
       "    <tr>\n",
       "      <th>3</th>\n",
       "      <td>Unknown</td>\n",
       "      <td>221.0</td>\n",
       "    </tr>\n",
       "  </tbody>\n",
       "</table>\n",
       "</div>"
      ],
      "text/plain": [
       "  employment_status_rollup  upper_age_cap\n",
       "0                   Active           60.0\n",
       "1                 Inactive           64.0\n",
       "2             Non-Employee           66.2\n",
       "3                  Unknown          221.0"
      ]
     },
     "execution_count": 77,
     "metadata": {},
     "output_type": "execute_result"
    }
   ],
   "source": [
    "age_upper_cap = train_set.groupby(['employment_status_rollup'])['person_age'].quantile(0.95).reset_index()\n",
    "age_upper_cap.rename(columns={'person_age':'upper_age_cap'},inplace=True)\n",
    "age_upper_cap"
   ]
  },
  {
   "cell_type": "code",
   "execution_count": 78,
   "metadata": {},
   "outputs": [
    {
     "data": {
      "text/plain": [
       "62.0"
      ]
     },
     "execution_count": 78,
     "metadata": {},
     "output_type": "execute_result"
    }
   ],
   "source": [
    "age_cap_unknon = train_set[train_set['employment_status_rollup']=='Unknown']['person_age'].quantile(0.75)\n",
    "age_cap_unknon"
   ]
  },
  {
   "cell_type": "code",
   "execution_count": 79,
   "metadata": {},
   "outputs": [
    {
     "data": {
      "text/html": [
       "<div>\n",
       "<style scoped>\n",
       "    .dataframe tbody tr th:only-of-type {\n",
       "        vertical-align: middle;\n",
       "    }\n",
       "\n",
       "    .dataframe tbody tr th {\n",
       "        vertical-align: top;\n",
       "    }\n",
       "\n",
       "    .dataframe thead th {\n",
       "        text-align: right;\n",
       "    }\n",
       "</style>\n",
       "<table border=\"1\" class=\"dataframe\">\n",
       "  <thead>\n",
       "    <tr style=\"text-align: right;\">\n",
       "      <th></th>\n",
       "      <th>employment_status_rollup</th>\n",
       "      <th>upper_age_cap</th>\n",
       "    </tr>\n",
       "  </thead>\n",
       "  <tbody>\n",
       "    <tr>\n",
       "      <th>0</th>\n",
       "      <td>Active</td>\n",
       "      <td>60.0</td>\n",
       "    </tr>\n",
       "    <tr>\n",
       "      <th>1</th>\n",
       "      <td>Inactive</td>\n",
       "      <td>64.0</td>\n",
       "    </tr>\n",
       "    <tr>\n",
       "      <th>2</th>\n",
       "      <td>Non-Employee</td>\n",
       "      <td>66.2</td>\n",
       "    </tr>\n",
       "    <tr>\n",
       "      <th>3</th>\n",
       "      <td>Unknown</td>\n",
       "      <td>62.0</td>\n",
       "    </tr>\n",
       "  </tbody>\n",
       "</table>\n",
       "</div>"
      ],
      "text/plain": [
       "  employment_status_rollup  upper_age_cap\n",
       "0                   Active           60.0\n",
       "1                 Inactive           64.0\n",
       "2             Non-Employee           66.2\n",
       "3                  Unknown           62.0"
      ]
     },
     "execution_count": 79,
     "metadata": {},
     "output_type": "execute_result"
    }
   ],
   "source": [
    "age_upper_cap.loc[age_upper_cap['employment_status_rollup']=='Unknown', 'upper_age_cap'] = age_cap_unknon\n",
    "age_upper_cap"
   ]
  },
  {
   "cell_type": "code",
   "execution_count": 80,
   "metadata": {},
   "outputs": [
    {
     "data": {
      "text/plain": [
       "(436719, 19)"
      ]
     },
     "execution_count": 80,
     "metadata": {},
     "output_type": "execute_result"
    }
   ],
   "source": [
    "train_set = train_set.merge(age_upper_cap, how='left', on='employment_status_rollup')\n",
    "train_set.shape"
   ]
  },
  {
   "cell_type": "code",
   "execution_count": 81,
   "metadata": {},
   "outputs": [
    {
     "data": {
      "text/html": [
       "<div>\n",
       "<style scoped>\n",
       "    .dataframe tbody tr th:only-of-type {\n",
       "        vertical-align: middle;\n",
       "    }\n",
       "\n",
       "    .dataframe tbody tr th {\n",
       "        vertical-align: top;\n",
       "    }\n",
       "\n",
       "    .dataframe thead th {\n",
       "        text-align: right;\n",
       "    }\n",
       "</style>\n",
       "<table border=\"1\" class=\"dataframe\">\n",
       "  <thead>\n",
       "    <tr style=\"text-align: right;\">\n",
       "      <th></th>\n",
       "      <th>enrolled_plan_cost</th>\n",
       "      <th>person_age</th>\n",
       "      <th>person_gender_description</th>\n",
       "      <th>client_is_ysa</th>\n",
       "      <th>client_has_corporate_exchange</th>\n",
       "      <th>client_hm_large_market_or_enterprise</th>\n",
       "      <th>number_of_people_covered</th>\n",
       "      <th>enrolled_er_annual_hsa_contribution</th>\n",
       "      <th>source_system</th>\n",
       "      <th>enrollment_suggestion_source</th>\n",
       "      <th>er_hsa_contribution_flag_new</th>\n",
       "      <th>label</th>\n",
       "      <th>client_industry_rollup</th>\n",
       "      <th>marital_status_rollup</th>\n",
       "      <th>employment_status_rollup</th>\n",
       "      <th>coverage_category_rollup</th>\n",
       "      <th>enrolled_option_bc_dg</th>\n",
       "      <th>person_expected_annual_base_salary_range</th>\n",
       "      <th>upper_age_cap</th>\n",
       "    </tr>\n",
       "  </thead>\n",
       "  <tbody>\n",
       "    <tr>\n",
       "      <th>0</th>\n",
       "      <td>843.0</td>\n",
       "      <td>19.0</td>\n",
       "      <td>Male</td>\n",
       "      <td>Y</td>\n",
       "      <td>N</td>\n",
       "      <td>EB</td>\n",
       "      <td>1.0</td>\n",
       "      <td>0.0</td>\n",
       "      <td>TBA_4X</td>\n",
       "      <td>UPoint Reimagine</td>\n",
       "      <td>0</td>\n",
       "      <td>1</td>\n",
       "      <td>utilities_and_energy</td>\n",
       "      <td>Single</td>\n",
       "      <td>Active</td>\n",
       "      <td>Covering_Self</td>\n",
       "      <td>CDP-MDCL-SA-PPO</td>\n",
       "      <td>40,000 - 59,999</td>\n",
       "      <td>60.0</td>\n",
       "    </tr>\n",
       "    <tr>\n",
       "      <th>1</th>\n",
       "      <td>2076.0</td>\n",
       "      <td>28.0</td>\n",
       "      <td>Female</td>\n",
       "      <td>N</td>\n",
       "      <td>N</td>\n",
       "      <td>EB</td>\n",
       "      <td>2.0</td>\n",
       "      <td>1500.0</td>\n",
       "      <td>TBA_4X</td>\n",
       "      <td>Others</td>\n",
       "      <td>1</td>\n",
       "      <td>1</td>\n",
       "      <td>travel_recreation_and_leisure</td>\n",
       "      <td>Single</td>\n",
       "      <td>Active</td>\n",
       "      <td>Covering_Family</td>\n",
       "      <td>PPO</td>\n",
       "      <td>40,000 - 59,999</td>\n",
       "      <td>60.0</td>\n",
       "    </tr>\n",
       "  </tbody>\n",
       "</table>\n",
       "</div>"
      ],
      "text/plain": [
       "   enrolled_plan_cost  person_age person_gender_description client_is_ysa  \\\n",
       "0               843.0        19.0                      Male             Y   \n",
       "1              2076.0        28.0                    Female             N   \n",
       "\n",
       "  client_has_corporate_exchange client_hm_large_market_or_enterprise  \\\n",
       "0                             N                                   EB   \n",
       "1                             N                                   EB   \n",
       "\n",
       "   number_of_people_covered  enrolled_er_annual_hsa_contribution  \\\n",
       "0                       1.0                                  0.0   \n",
       "1                       2.0                               1500.0   \n",
       "\n",
       "  source_system enrollment_suggestion_source  er_hsa_contribution_flag_new  \\\n",
       "0        TBA_4X             UPoint Reimagine                             0   \n",
       "1        TBA_4X                       Others                             1   \n",
       "\n",
       "   label         client_industry_rollup marital_status_rollup  \\\n",
       "0      1           utilities_and_energy                Single   \n",
       "1      1  travel_recreation_and_leisure                Single   \n",
       "\n",
       "  employment_status_rollup coverage_category_rollup enrolled_option_bc_dg  \\\n",
       "0                   Active            Covering_Self       CDP-MDCL-SA-PPO   \n",
       "1                   Active          Covering_Family                   PPO   \n",
       "\n",
       "  person_expected_annual_base_salary_range  upper_age_cap  \n",
       "0                          40,000 - 59,999           60.0  \n",
       "1                          40,000 - 59,999           60.0  "
      ]
     },
     "execution_count": 81,
     "metadata": {},
     "output_type": "execute_result"
    }
   ],
   "source": [
    "train_set.head(2)"
   ]
  },
  {
   "cell_type": "code",
   "execution_count": 82,
   "metadata": {},
   "outputs": [
    {
     "data": {
      "text/plain": [
       "(436719, 19)"
      ]
     },
     "execution_count": 82,
     "metadata": {},
     "output_type": "execute_result"
    }
   ],
   "source": [
    "train_set['person_age'] = np.where(train_set['person_age'] > train_set['upper_age_cap'], train_set['upper_age_cap'], train_set['person_age'])\n",
    "train_set.shape"
   ]
  },
  {
   "cell_type": "code",
   "execution_count": 83,
   "metadata": {},
   "outputs": [
    {
     "data": {
      "text/html": [
       "<div>\n",
       "<style scoped>\n",
       "    .dataframe tbody tr th:only-of-type {\n",
       "        vertical-align: middle;\n",
       "    }\n",
       "\n",
       "    .dataframe tbody tr th {\n",
       "        vertical-align: top;\n",
       "    }\n",
       "\n",
       "    .dataframe thead th {\n",
       "        text-align: right;\n",
       "    }\n",
       "</style>\n",
       "<table border=\"1\" class=\"dataframe\">\n",
       "  <thead>\n",
       "    <tr style=\"text-align: right;\">\n",
       "      <th></th>\n",
       "      <th>enrolled_plan_cost</th>\n",
       "      <th>person_age</th>\n",
       "      <th>person_gender_description</th>\n",
       "      <th>client_is_ysa</th>\n",
       "      <th>client_has_corporate_exchange</th>\n",
       "      <th>client_hm_large_market_or_enterprise</th>\n",
       "      <th>number_of_people_covered</th>\n",
       "      <th>enrolled_er_annual_hsa_contribution</th>\n",
       "      <th>source_system</th>\n",
       "      <th>enrollment_suggestion_source</th>\n",
       "      <th>er_hsa_contribution_flag_new</th>\n",
       "      <th>label</th>\n",
       "      <th>client_industry_rollup</th>\n",
       "      <th>marital_status_rollup</th>\n",
       "      <th>employment_status_rollup</th>\n",
       "      <th>coverage_category_rollup</th>\n",
       "      <th>enrolled_option_bc_dg</th>\n",
       "      <th>person_expected_annual_base_salary_range</th>\n",
       "      <th>upper_age_cap</th>\n",
       "    </tr>\n",
       "  </thead>\n",
       "  <tbody>\n",
       "    <tr>\n",
       "      <th>0</th>\n",
       "      <td>843.0</td>\n",
       "      <td>19.0</td>\n",
       "      <td>Male</td>\n",
       "      <td>Y</td>\n",
       "      <td>N</td>\n",
       "      <td>EB</td>\n",
       "      <td>1.0</td>\n",
       "      <td>0.0</td>\n",
       "      <td>TBA_4X</td>\n",
       "      <td>UPoint Reimagine</td>\n",
       "      <td>0</td>\n",
       "      <td>1</td>\n",
       "      <td>utilities_and_energy</td>\n",
       "      <td>Single</td>\n",
       "      <td>Active</td>\n",
       "      <td>Covering_Self</td>\n",
       "      <td>CDP-MDCL-SA-PPO</td>\n",
       "      <td>40,000 - 59,999</td>\n",
       "      <td>60.0</td>\n",
       "    </tr>\n",
       "    <tr>\n",
       "      <th>1</th>\n",
       "      <td>2076.0</td>\n",
       "      <td>28.0</td>\n",
       "      <td>Female</td>\n",
       "      <td>N</td>\n",
       "      <td>N</td>\n",
       "      <td>EB</td>\n",
       "      <td>2.0</td>\n",
       "      <td>1500.0</td>\n",
       "      <td>TBA_4X</td>\n",
       "      <td>Others</td>\n",
       "      <td>1</td>\n",
       "      <td>1</td>\n",
       "      <td>travel_recreation_and_leisure</td>\n",
       "      <td>Single</td>\n",
       "      <td>Active</td>\n",
       "      <td>Covering_Family</td>\n",
       "      <td>PPO</td>\n",
       "      <td>40,000 - 59,999</td>\n",
       "      <td>60.0</td>\n",
       "    </tr>\n",
       "  </tbody>\n",
       "</table>\n",
       "</div>"
      ],
      "text/plain": [
       "   enrolled_plan_cost  person_age person_gender_description client_is_ysa  \\\n",
       "0               843.0        19.0                      Male             Y   \n",
       "1              2076.0        28.0                    Female             N   \n",
       "\n",
       "  client_has_corporate_exchange client_hm_large_market_or_enterprise  \\\n",
       "0                             N                                   EB   \n",
       "1                             N                                   EB   \n",
       "\n",
       "   number_of_people_covered  enrolled_er_annual_hsa_contribution  \\\n",
       "0                       1.0                                  0.0   \n",
       "1                       2.0                               1500.0   \n",
       "\n",
       "  source_system enrollment_suggestion_source  er_hsa_contribution_flag_new  \\\n",
       "0        TBA_4X             UPoint Reimagine                             0   \n",
       "1        TBA_4X                       Others                             1   \n",
       "\n",
       "   label         client_industry_rollup marital_status_rollup  \\\n",
       "0      1           utilities_and_energy                Single   \n",
       "1      1  travel_recreation_and_leisure                Single   \n",
       "\n",
       "  employment_status_rollup coverage_category_rollup enrolled_option_bc_dg  \\\n",
       "0                   Active            Covering_Self       CDP-MDCL-SA-PPO   \n",
       "1                   Active          Covering_Family                   PPO   \n",
       "\n",
       "  person_expected_annual_base_salary_range  upper_age_cap  \n",
       "0                          40,000 - 59,999           60.0  \n",
       "1                          40,000 - 59,999           60.0  "
      ]
     },
     "execution_count": 83,
     "metadata": {},
     "output_type": "execute_result"
    }
   ],
   "source": [
    "train_set.head(2)"
   ]
  },
  {
   "cell_type": "code",
   "execution_count": 84,
   "metadata": {},
   "outputs": [],
   "source": [
    "train_set.drop(columns='upper_age_cap', inplace=True)"
   ]
  },
  {
   "cell_type": "code",
   "execution_count": 85,
   "metadata": {},
   "outputs": [],
   "source": [
    "class CustomNumericImputer:\n",
    "    \n",
    "    def __init__(self):\n",
    "        return None\n",
    "    \n",
    "    def fit(self, X, impute_cols, using_cols, method='median'):\n",
    "        self.using_cols = using_cols\n",
    "        self.impute_cols = impute_cols\n",
    "        self.method = method\n",
    "        cols = self.using_cols + self.impute_cols\n",
    "        X_ = X[cols]\n",
    "        \n",
    "        if self.method == 'median':\n",
    "            self.fit_values = X_.groupby(using_cols)[impute_cols].median().reset_index()\n",
    "            impute_cols_rename_dict = dict([(x,x+'_median') for x in self.impute_cols])\n",
    "            self.fit_values.rename(columns=impute_cols_rename_dict, inplace=True)\n",
    "            self.fit_values.fillna(self.fit_values.median(), inplace=True)\n",
    "        elif self.method == 'mean':\n",
    "            self.fit_values = X_.groupby(using_cols)[impute_cols].mean().reset_index()\n",
    "            impute_cols_rename_dict = dict([(x,x+'_mean') for x in self.impute_cols])\n",
    "            self.fit_values.rename(columns=impute_cols_rename_dict, inplace=True)\n",
    "            self.fit_values.fillna(self.fit_values.mean(), inplace=True)\n",
    "        else: print('Method can be \"median\" or \"mean\"')\n",
    "        self.new_cols = list(impute_cols_rename_dict.values())\n",
    "        return self\n",
    "    \n",
    "    def fit_transform(self, X, impute_cols, using_cols, method='median'):\n",
    "        self.fit(X, impute_cols, using_cols, method)\n",
    "        \n",
    "        cols = self.using_cols + self.impute_cols\n",
    "        X_ = X[cols]\n",
    "        X_ = X_.merge(self.fit_values, how='left', on=self.using_cols)\n",
    "        for col, ncol in zip(self.impute_cols, self.new_cols):\n",
    "            X_[col] = np.where(X_[col].isnull(), X_[ncol], X_[col])\n",
    "            \n",
    "        if self.method == 'median':\n",
    "            return X_[self.impute_cols].fillna(X_[self.impute_cols].median())\n",
    "        elif self.method == 'mean':\n",
    "            return X_[self.impute_cols].fillna(X_[self.impute_cols].mean())\n",
    "    \n",
    "    def transform(self, X, impute_cols):\n",
    "        cols = self.using_cols + impute_cols\n",
    "        X_ = X[cols]\n",
    "        X_ = X_.merge(self.fit_values, how='left', on=self.using_cols)\n",
    "        for col, ncol in zip(self.impute_cols,self.new_cols):\n",
    "            X_[col] = np.where(X_[col].isnull(), X_[ncol], X_[col])\n",
    "            \n",
    "        if self.method == 'median':\n",
    "            return X_[self.impute_cols].fillna(X_[self.impute_cols].median())\n",
    "        elif self.method == 'mean':\n",
    "            return X_[self.impute_cols].fillna(X_[self.impute_cols].mean())\n",
    "         "
   ]
  },
  {
   "cell_type": "code",
   "execution_count": 86,
   "metadata": {},
   "outputs": [],
   "source": [
    "custom_numeric_imputer = CustomNumericImputer()"
   ]
  },
  {
   "cell_type": "code",
   "execution_count": 87,
   "metadata": {},
   "outputs": [
    {
     "data": {
      "text/html": [
       "<div>\n",
       "<style scoped>\n",
       "    .dataframe tbody tr th:only-of-type {\n",
       "        vertical-align: middle;\n",
       "    }\n",
       "\n",
       "    .dataframe tbody tr th {\n",
       "        vertical-align: top;\n",
       "    }\n",
       "\n",
       "    .dataframe thead th {\n",
       "        text-align: right;\n",
       "    }\n",
       "</style>\n",
       "<table border=\"1\" class=\"dataframe\">\n",
       "  <thead>\n",
       "    <tr style=\"text-align: right;\">\n",
       "      <th></th>\n",
       "      <th>person_age</th>\n",
       "      <th>number_of_people_covered</th>\n",
       "      <th>enrolled_plan_cost</th>\n",
       "      <th>enrolled_er_annual_hsa_contribution</th>\n",
       "    </tr>\n",
       "  </thead>\n",
       "  <tbody>\n",
       "    <tr>\n",
       "      <th>count</th>\n",
       "      <td>429748.000000</td>\n",
       "      <td>436715.000000</td>\n",
       "      <td>436719.000000</td>\n",
       "      <td>401435.00000</td>\n",
       "    </tr>\n",
       "    <tr>\n",
       "      <th>mean</th>\n",
       "      <td>37.557513</td>\n",
       "      <td>1.685864</td>\n",
       "      <td>1813.861533</td>\n",
       "      <td>261.56663</td>\n",
       "    </tr>\n",
       "    <tr>\n",
       "      <th>std</th>\n",
       "      <td>11.869776</td>\n",
       "      <td>1.189819</td>\n",
       "      <td>2150.274618</td>\n",
       "      <td>384.43929</td>\n",
       "    </tr>\n",
       "    <tr>\n",
       "      <th>min</th>\n",
       "      <td>18.000000</td>\n",
       "      <td>0.000000</td>\n",
       "      <td>0.000000</td>\n",
       "      <td>0.00000</td>\n",
       "    </tr>\n",
       "    <tr>\n",
       "      <th>25%</th>\n",
       "      <td>28.000000</td>\n",
       "      <td>1.000000</td>\n",
       "      <td>663.000000</td>\n",
       "      <td>0.00000</td>\n",
       "    </tr>\n",
       "    <tr>\n",
       "      <th>50%</th>\n",
       "      <td>35.000000</td>\n",
       "      <td>1.000000</td>\n",
       "      <td>1194.000000</td>\n",
       "      <td>50.00000</td>\n",
       "    </tr>\n",
       "    <tr>\n",
       "      <th>75%</th>\n",
       "      <td>46.000000</td>\n",
       "      <td>2.000000</td>\n",
       "      <td>2249.000000</td>\n",
       "      <td>424.00000</td>\n",
       "    </tr>\n",
       "    <tr>\n",
       "      <th>max</th>\n",
       "      <td>66.200000</td>\n",
       "      <td>15.000000</td>\n",
       "      <td>86720.000000</td>\n",
       "      <td>9750.00000</td>\n",
       "    </tr>\n",
       "  </tbody>\n",
       "</table>\n",
       "</div>"
      ],
      "text/plain": [
       "          person_age  number_of_people_covered  enrolled_plan_cost  \\\n",
       "count  429748.000000             436715.000000       436719.000000   \n",
       "mean       37.557513                  1.685864         1813.861533   \n",
       "std        11.869776                  1.189819         2150.274618   \n",
       "min        18.000000                  0.000000            0.000000   \n",
       "25%        28.000000                  1.000000          663.000000   \n",
       "50%        35.000000                  1.000000         1194.000000   \n",
       "75%        46.000000                  2.000000         2249.000000   \n",
       "max        66.200000                 15.000000        86720.000000   \n",
       "\n",
       "       enrolled_er_annual_hsa_contribution  \n",
       "count                         401435.00000  \n",
       "mean                             261.56663  \n",
       "std                              384.43929  \n",
       "min                                0.00000  \n",
       "25%                                0.00000  \n",
       "50%                               50.00000  \n",
       "75%                              424.00000  \n",
       "max                             9750.00000  "
      ]
     },
     "execution_count": 87,
     "metadata": {},
     "output_type": "execute_result"
    }
   ],
   "source": [
    "train_set[num_columns].describe()"
   ]
  },
  {
   "cell_type": "code",
   "execution_count": 88,
   "metadata": {},
   "outputs": [],
   "source": [
    "train_set[num_columns] = custom_numeric_imputer.fit_transform(X=train_set, impute_cols=num_columns,\n",
    "                                                              using_cols=['employment_status_rollup'], method='median')"
   ]
  },
  {
   "cell_type": "code",
   "execution_count": 89,
   "metadata": {},
   "outputs": [
    {
     "data": {
      "text/html": [
       "<div>\n",
       "<style scoped>\n",
       "    .dataframe tbody tr th:only-of-type {\n",
       "        vertical-align: middle;\n",
       "    }\n",
       "\n",
       "    .dataframe tbody tr th {\n",
       "        vertical-align: top;\n",
       "    }\n",
       "\n",
       "    .dataframe thead th {\n",
       "        text-align: right;\n",
       "    }\n",
       "</style>\n",
       "<table border=\"1\" class=\"dataframe\">\n",
       "  <thead>\n",
       "    <tr style=\"text-align: right;\">\n",
       "      <th></th>\n",
       "      <th>person_age</th>\n",
       "      <th>number_of_people_covered</th>\n",
       "      <th>enrolled_plan_cost</th>\n",
       "      <th>enrolled_er_annual_hsa_contribution</th>\n",
       "    </tr>\n",
       "  </thead>\n",
       "  <tbody>\n",
       "    <tr>\n",
       "      <th>count</th>\n",
       "      <td>436719.000000</td>\n",
       "      <td>436719.000000</td>\n",
       "      <td>436719.000000</td>\n",
       "      <td>436719.000000</td>\n",
       "    </tr>\n",
       "    <tr>\n",
       "      <th>mean</th>\n",
       "      <td>37.524252</td>\n",
       "      <td>1.685857</td>\n",
       "      <td>1813.861533</td>\n",
       "      <td>243.126141</td>\n",
       "    </tr>\n",
       "    <tr>\n",
       "      <th>std</th>\n",
       "      <td>11.781094</td>\n",
       "      <td>1.189815</td>\n",
       "      <td>2150.274618</td>\n",
       "      <td>373.843505</td>\n",
       "    </tr>\n",
       "    <tr>\n",
       "      <th>min</th>\n",
       "      <td>18.000000</td>\n",
       "      <td>0.000000</td>\n",
       "      <td>0.000000</td>\n",
       "      <td>0.000000</td>\n",
       "    </tr>\n",
       "    <tr>\n",
       "      <th>25%</th>\n",
       "      <td>28.000000</td>\n",
       "      <td>1.000000</td>\n",
       "      <td>663.000000</td>\n",
       "      <td>0.000000</td>\n",
       "    </tr>\n",
       "    <tr>\n",
       "      <th>50%</th>\n",
       "      <td>35.000000</td>\n",
       "      <td>1.000000</td>\n",
       "      <td>1194.000000</td>\n",
       "      <td>41.000000</td>\n",
       "    </tr>\n",
       "    <tr>\n",
       "      <th>75%</th>\n",
       "      <td>46.000000</td>\n",
       "      <td>2.000000</td>\n",
       "      <td>2249.000000</td>\n",
       "      <td>400.000000</td>\n",
       "    </tr>\n",
       "    <tr>\n",
       "      <th>max</th>\n",
       "      <td>66.200000</td>\n",
       "      <td>15.000000</td>\n",
       "      <td>86720.000000</td>\n",
       "      <td>9750.000000</td>\n",
       "    </tr>\n",
       "  </tbody>\n",
       "</table>\n",
       "</div>"
      ],
      "text/plain": [
       "          person_age  number_of_people_covered  enrolled_plan_cost  \\\n",
       "count  436719.000000             436719.000000       436719.000000   \n",
       "mean       37.524252                  1.685857         1813.861533   \n",
       "std        11.781094                  1.189815         2150.274618   \n",
       "min        18.000000                  0.000000            0.000000   \n",
       "25%        28.000000                  1.000000          663.000000   \n",
       "50%        35.000000                  1.000000         1194.000000   \n",
       "75%        46.000000                  2.000000         2249.000000   \n",
       "max        66.200000                 15.000000        86720.000000   \n",
       "\n",
       "       enrolled_er_annual_hsa_contribution  \n",
       "count                        436719.000000  \n",
       "mean                            243.126141  \n",
       "std                             373.843505  \n",
       "min                               0.000000  \n",
       "25%                               0.000000  \n",
       "50%                              41.000000  \n",
       "75%                             400.000000  \n",
       "max                            9750.000000  "
      ]
     },
     "execution_count": 89,
     "metadata": {},
     "output_type": "execute_result"
    }
   ],
   "source": [
    "train_set[num_columns].describe()"
   ]
  },
  {
   "cell_type": "code",
   "execution_count": 90,
   "metadata": {},
   "outputs": [
    {
     "data": {
      "text/plain": [
       "person_age                             0\n",
       "number_of_people_covered               0\n",
       "enrolled_plan_cost                     0\n",
       "enrolled_er_annual_hsa_contribution    0\n",
       "dtype: int64"
      ]
     },
     "execution_count": 90,
     "metadata": {},
     "output_type": "execute_result"
    }
   ],
   "source": [
    "train_set[num_columns].isnull().sum()"
   ]
  },
  {
   "cell_type": "code",
   "execution_count": 91,
   "metadata": {},
   "outputs": [
    {
     "data": {
      "text/html": [
       "<div>\n",
       "<style scoped>\n",
       "    .dataframe tbody tr th:only-of-type {\n",
       "        vertical-align: middle;\n",
       "    }\n",
       "\n",
       "    .dataframe tbody tr th {\n",
       "        vertical-align: top;\n",
       "    }\n",
       "\n",
       "    .dataframe thead th {\n",
       "        text-align: right;\n",
       "    }\n",
       "</style>\n",
       "<table border=\"1\" class=\"dataframe\">\n",
       "  <thead>\n",
       "    <tr style=\"text-align: right;\">\n",
       "      <th></th>\n",
       "      <th>employment_status_rollup</th>\n",
       "      <th>person_age_median</th>\n",
       "      <th>number_of_people_covered_median</th>\n",
       "      <th>enrolled_plan_cost_median</th>\n",
       "      <th>enrolled_er_annual_hsa_contribution_median</th>\n",
       "    </tr>\n",
       "  </thead>\n",
       "  <tbody>\n",
       "    <tr>\n",
       "      <th>0</th>\n",
       "      <td>Active</td>\n",
       "      <td>34.0</td>\n",
       "      <td>1.0</td>\n",
       "      <td>1196.0</td>\n",
       "      <td>41.00</td>\n",
       "    </tr>\n",
       "    <tr>\n",
       "      <th>1</th>\n",
       "      <td>Inactive</td>\n",
       "      <td>46.0</td>\n",
       "      <td>1.0</td>\n",
       "      <td>1842.0</td>\n",
       "      <td>3.12</td>\n",
       "    </tr>\n",
       "    <tr>\n",
       "      <th>2</th>\n",
       "      <td>Non-Employee</td>\n",
       "      <td>55.0</td>\n",
       "      <td>1.0</td>\n",
       "      <td>510.0</td>\n",
       "      <td>0.00</td>\n",
       "    </tr>\n",
       "    <tr>\n",
       "      <th>3</th>\n",
       "      <td>Unknown</td>\n",
       "      <td>39.0</td>\n",
       "      <td>1.0</td>\n",
       "      <td>832.0</td>\n",
       "      <td>200.00</td>\n",
       "    </tr>\n",
       "  </tbody>\n",
       "</table>\n",
       "</div>"
      ],
      "text/plain": [
       "  employment_status_rollup  person_age_median  \\\n",
       "0                   Active               34.0   \n",
       "1                 Inactive               46.0   \n",
       "2             Non-Employee               55.0   \n",
       "3                  Unknown               39.0   \n",
       "\n",
       "   number_of_people_covered_median  enrolled_plan_cost_median  \\\n",
       "0                              1.0                     1196.0   \n",
       "1                              1.0                     1842.0   \n",
       "2                              1.0                      510.0   \n",
       "3                              1.0                      832.0   \n",
       "\n",
       "   enrolled_er_annual_hsa_contribution_median  \n",
       "0                                       41.00  \n",
       "1                                        3.12  \n",
       "2                                        0.00  \n",
       "3                                      200.00  "
      ]
     },
     "execution_count": 91,
     "metadata": {},
     "output_type": "execute_result"
    }
   ],
   "source": [
    "custom_numeric_imputer.fit_values"
   ]
  },
  {
   "cell_type": "code",
   "execution_count": 92,
   "metadata": {},
   "outputs": [
    {
     "data": {
      "text/plain": [
       "(436719, 18)"
      ]
     },
     "execution_count": 92,
     "metadata": {},
     "output_type": "execute_result"
    }
   ],
   "source": [
    "train_set.shape"
   ]
  },
  {
   "cell_type": "code",
   "execution_count": 93,
   "metadata": {},
   "outputs": [
    {
     "data": {
      "text/plain": [
       "(436719, 59)"
      ]
     },
     "execution_count": 93,
     "metadata": {},
     "output_type": "execute_result"
    }
   ],
   "source": [
    "train_set = pd.concat([pd.get_dummies(data=train_set.drop(columns='label'), columns=cat_columns, drop_first=True), train_set[['label']]], axis=1)\n",
    "train_set.shape"
   ]
  },
  {
   "cell_type": "markdown",
   "metadata": {},
   "source": [
    "### Imputing missing values, handling outlier and encoding categorical variables (Testing Set)"
   ]
  },
  {
   "cell_type": "code",
   "execution_count": 94,
   "metadata": {},
   "outputs": [
    {
     "data": {
      "text/plain": [
       "(276612, 19)"
      ]
     },
     "execution_count": 94,
     "metadata": {},
     "output_type": "execute_result"
    }
   ],
   "source": [
    "test_set = test_set.merge(age_upper_cap, how='left', on='employment_status_rollup')\n",
    "test_set.shape"
   ]
  },
  {
   "cell_type": "code",
   "execution_count": 95,
   "metadata": {},
   "outputs": [
    {
     "data": {
      "text/html": [
       "<div>\n",
       "<style scoped>\n",
       "    .dataframe tbody tr th:only-of-type {\n",
       "        vertical-align: middle;\n",
       "    }\n",
       "\n",
       "    .dataframe tbody tr th {\n",
       "        vertical-align: top;\n",
       "    }\n",
       "\n",
       "    .dataframe thead th {\n",
       "        text-align: right;\n",
       "    }\n",
       "</style>\n",
       "<table border=\"1\" class=\"dataframe\">\n",
       "  <thead>\n",
       "    <tr style=\"text-align: right;\">\n",
       "      <th></th>\n",
       "      <th>enrolled_plan_cost</th>\n",
       "      <th>person_age</th>\n",
       "      <th>person_gender_description</th>\n",
       "      <th>client_is_ysa</th>\n",
       "      <th>client_has_corporate_exchange</th>\n",
       "      <th>client_hm_large_market_or_enterprise</th>\n",
       "      <th>number_of_people_covered</th>\n",
       "      <th>enrolled_er_annual_hsa_contribution</th>\n",
       "      <th>source_system</th>\n",
       "      <th>enrollment_suggestion_source</th>\n",
       "      <th>er_hsa_contribution_flag_new</th>\n",
       "      <th>label</th>\n",
       "      <th>client_industry_rollup</th>\n",
       "      <th>marital_status_rollup</th>\n",
       "      <th>employment_status_rollup</th>\n",
       "      <th>coverage_category_rollup</th>\n",
       "      <th>enrolled_option_bc_dg</th>\n",
       "      <th>person_expected_annual_base_salary_range</th>\n",
       "      <th>upper_age_cap</th>\n",
       "    </tr>\n",
       "  </thead>\n",
       "  <tbody>\n",
       "    <tr>\n",
       "      <th>0</th>\n",
       "      <td>4394.0</td>\n",
       "      <td>44.0</td>\n",
       "      <td>Male</td>\n",
       "      <td>Y</td>\n",
       "      <td>N</td>\n",
       "      <td>EB</td>\n",
       "      <td>4.0</td>\n",
       "      <td>0.0</td>\n",
       "      <td>TBA_4X</td>\n",
       "      <td>Others</td>\n",
       "      <td>0</td>\n",
       "      <td>0</td>\n",
       "      <td>retail</td>\n",
       "      <td>Single</td>\n",
       "      <td>Active</td>\n",
       "      <td>Covering_Family</td>\n",
       "      <td>CDP-MDCL-SA-POS</td>\n",
       "      <td>60,000 - 79,999</td>\n",
       "      <td>60.0</td>\n",
       "    </tr>\n",
       "    <tr>\n",
       "      <th>1</th>\n",
       "      <td>420.0</td>\n",
       "      <td>22.0</td>\n",
       "      <td>Male</td>\n",
       "      <td>N</td>\n",
       "      <td>N</td>\n",
       "      <td>EB</td>\n",
       "      <td>1.0</td>\n",
       "      <td>750.0</td>\n",
       "      <td>TBA_4X</td>\n",
       "      <td>UPoint Reimagine</td>\n",
       "      <td>1</td>\n",
       "      <td>0</td>\n",
       "      <td>travel_recreation_and_leisure</td>\n",
       "      <td>Single</td>\n",
       "      <td>Unknown</td>\n",
       "      <td>Covering_Self</td>\n",
       "      <td>PPO</td>\n",
       "      <td>Unknown</td>\n",
       "      <td>62.0</td>\n",
       "    </tr>\n",
       "  </tbody>\n",
       "</table>\n",
       "</div>"
      ],
      "text/plain": [
       "   enrolled_plan_cost  person_age person_gender_description client_is_ysa  \\\n",
       "0              4394.0        44.0                      Male             Y   \n",
       "1               420.0        22.0                      Male             N   \n",
       "\n",
       "  client_has_corporate_exchange client_hm_large_market_or_enterprise  \\\n",
       "0                             N                                   EB   \n",
       "1                             N                                   EB   \n",
       "\n",
       "   number_of_people_covered  enrolled_er_annual_hsa_contribution  \\\n",
       "0                       4.0                                  0.0   \n",
       "1                       1.0                                750.0   \n",
       "\n",
       "  source_system enrollment_suggestion_source  er_hsa_contribution_flag_new  \\\n",
       "0        TBA_4X                       Others                             0   \n",
       "1        TBA_4X             UPoint Reimagine                             1   \n",
       "\n",
       "   label         client_industry_rollup marital_status_rollup  \\\n",
       "0      0                         retail                Single   \n",
       "1      0  travel_recreation_and_leisure                Single   \n",
       "\n",
       "  employment_status_rollup coverage_category_rollup enrolled_option_bc_dg  \\\n",
       "0                   Active          Covering_Family       CDP-MDCL-SA-POS   \n",
       "1                  Unknown            Covering_Self                   PPO   \n",
       "\n",
       "  person_expected_annual_base_salary_range  upper_age_cap  \n",
       "0                          60,000 - 79,999           60.0  \n",
       "1                                  Unknown           62.0  "
      ]
     },
     "execution_count": 95,
     "metadata": {},
     "output_type": "execute_result"
    }
   ],
   "source": [
    "test_set.head(2)"
   ]
  },
  {
   "cell_type": "code",
   "execution_count": 96,
   "metadata": {},
   "outputs": [
    {
     "data": {
      "text/plain": [
       "(276612, 19)"
      ]
     },
     "execution_count": 96,
     "metadata": {},
     "output_type": "execute_result"
    }
   ],
   "source": [
    "test_set['person_age'] = np.where(test_set['person_age'] > test_set['upper_age_cap'], test_set['upper_age_cap'], test_set['person_age'])\n",
    "test_set.shape"
   ]
  },
  {
   "cell_type": "code",
   "execution_count": 97,
   "metadata": {},
   "outputs": [
    {
     "data": {
      "text/plain": [
       "(276612, 18)"
      ]
     },
     "execution_count": 97,
     "metadata": {},
     "output_type": "execute_result"
    }
   ],
   "source": [
    "test_set.drop(columns='upper_age_cap', inplace=True)\n",
    "test_set.shape"
   ]
  },
  {
   "cell_type": "code",
   "execution_count": 98,
   "metadata": {},
   "outputs": [
    {
     "data": {
      "text/plain": [
       "(276612, 18)"
      ]
     },
     "execution_count": 98,
     "metadata": {},
     "output_type": "execute_result"
    }
   ],
   "source": [
    "test_set[num_columns] = custom_numeric_imputer.transform(X=test_set, impute_cols=num_columns)\n",
    "test_set.shape"
   ]
  },
  {
   "cell_type": "code",
   "execution_count": 99,
   "metadata": {},
   "outputs": [
    {
     "data": {
      "text/plain": [
       "person_age                             0\n",
       "number_of_people_covered               0\n",
       "enrolled_plan_cost                     0\n",
       "enrolled_er_annual_hsa_contribution    0\n",
       "dtype: int64"
      ]
     },
     "execution_count": 99,
     "metadata": {},
     "output_type": "execute_result"
    }
   ],
   "source": [
    "test_set[num_columns].isnull().sum()"
   ]
  },
  {
   "cell_type": "code",
   "execution_count": 100,
   "metadata": {},
   "outputs": [
    {
     "data": {
      "text/html": [
       "<div>\n",
       "<style scoped>\n",
       "    .dataframe tbody tr th:only-of-type {\n",
       "        vertical-align: middle;\n",
       "    }\n",
       "\n",
       "    .dataframe tbody tr th {\n",
       "        vertical-align: top;\n",
       "    }\n",
       "\n",
       "    .dataframe thead th {\n",
       "        text-align: right;\n",
       "    }\n",
       "</style>\n",
       "<table border=\"1\" class=\"dataframe\">\n",
       "  <thead>\n",
       "    <tr style=\"text-align: right;\">\n",
       "      <th></th>\n",
       "      <th>person_age</th>\n",
       "      <th>number_of_people_covered</th>\n",
       "      <th>enrolled_plan_cost</th>\n",
       "      <th>enrolled_er_annual_hsa_contribution</th>\n",
       "    </tr>\n",
       "  </thead>\n",
       "  <tbody>\n",
       "    <tr>\n",
       "      <th>count</th>\n",
       "      <td>276612.000000</td>\n",
       "      <td>276612.000000</td>\n",
       "      <td>276612.000000</td>\n",
       "      <td>276612.000000</td>\n",
       "    </tr>\n",
       "    <tr>\n",
       "      <th>mean</th>\n",
       "      <td>37.832614</td>\n",
       "      <td>1.670202</td>\n",
       "      <td>1967.654672</td>\n",
       "      <td>299.107965</td>\n",
       "    </tr>\n",
       "    <tr>\n",
       "      <th>std</th>\n",
       "      <td>11.659325</td>\n",
       "      <td>1.172335</td>\n",
       "      <td>2699.769803</td>\n",
       "      <td>395.953092</td>\n",
       "    </tr>\n",
       "    <tr>\n",
       "      <th>min</th>\n",
       "      <td>18.000000</td>\n",
       "      <td>0.000000</td>\n",
       "      <td>0.000000</td>\n",
       "      <td>0.000000</td>\n",
       "    </tr>\n",
       "    <tr>\n",
       "      <th>25%</th>\n",
       "      <td>28.000000</td>\n",
       "      <td>1.000000</td>\n",
       "      <td>694.000000</td>\n",
       "      <td>0.000000</td>\n",
       "    </tr>\n",
       "    <tr>\n",
       "      <th>50%</th>\n",
       "      <td>35.000000</td>\n",
       "      <td>1.000000</td>\n",
       "      <td>1268.000000</td>\n",
       "      <td>41.000000</td>\n",
       "    </tr>\n",
       "    <tr>\n",
       "      <th>75%</th>\n",
       "      <td>46.000000</td>\n",
       "      <td>2.000000</td>\n",
       "      <td>2372.000000</td>\n",
       "      <td>500.000000</td>\n",
       "    </tr>\n",
       "    <tr>\n",
       "      <th>max</th>\n",
       "      <td>65.000000</td>\n",
       "      <td>14.000000</td>\n",
       "      <td>619457.000000</td>\n",
       "      <td>7383.480000</td>\n",
       "    </tr>\n",
       "  </tbody>\n",
       "</table>\n",
       "</div>"
      ],
      "text/plain": [
       "          person_age  number_of_people_covered  enrolled_plan_cost  \\\n",
       "count  276612.000000             276612.000000       276612.000000   \n",
       "mean       37.832614                  1.670202         1967.654672   \n",
       "std        11.659325                  1.172335         2699.769803   \n",
       "min        18.000000                  0.000000            0.000000   \n",
       "25%        28.000000                  1.000000          694.000000   \n",
       "50%        35.000000                  1.000000         1268.000000   \n",
       "75%        46.000000                  2.000000         2372.000000   \n",
       "max        65.000000                 14.000000       619457.000000   \n",
       "\n",
       "       enrolled_er_annual_hsa_contribution  \n",
       "count                        276612.000000  \n",
       "mean                            299.107965  \n",
       "std                             395.953092  \n",
       "min                               0.000000  \n",
       "25%                               0.000000  \n",
       "50%                              41.000000  \n",
       "75%                             500.000000  \n",
       "max                            7383.480000  "
      ]
     },
     "execution_count": 100,
     "metadata": {},
     "output_type": "execute_result"
    }
   ],
   "source": [
    "test_set[num_columns].describe()"
   ]
  },
  {
   "cell_type": "code",
   "execution_count": 101,
   "metadata": {},
   "outputs": [
    {
     "data": {
      "text/plain": [
       "(276612, 58)"
      ]
     },
     "execution_count": 101,
     "metadata": {},
     "output_type": "execute_result"
    }
   ],
   "source": [
    "test_set = pd.concat([pd.get_dummies(data=test_set.drop(columns='label'), columns=cat_columns, drop_first=True), test_set[['label']]], axis=1)\n",
    "test_set.shape"
   ]
  },
  {
   "cell_type": "code",
   "execution_count": 104,
   "metadata": {},
   "outputs": [
    {
     "data": {
      "text/plain": [
       "(276612, 59)"
      ]
     },
     "execution_count": 104,
     "metadata": {},
     "output_type": "execute_result"
    }
   ],
   "source": [
    "test_set.reindex(columns=train_set.columns, fill_value=0).shape"
   ]
  },
  {
   "cell_type": "code",
   "execution_count": 106,
   "metadata": {},
   "outputs": [
    {
     "data": {
      "text/plain": [
       "(276612, 59)"
      ]
     },
     "execution_count": 106,
     "metadata": {},
     "output_type": "execute_result"
    }
   ],
   "source": [
    "test_set = test_set.reindex(columns=train_set.columns, fill_value=0)\n",
    "test_set.shape"
   ]
  },
  {
   "cell_type": "code",
   "execution_count": 107,
   "metadata": {},
   "outputs": [
    {
     "data": {
      "text/html": [
       "<div>\n",
       "<style scoped>\n",
       "    .dataframe tbody tr th:only-of-type {\n",
       "        vertical-align: middle;\n",
       "    }\n",
       "\n",
       "    .dataframe tbody tr th {\n",
       "        vertical-align: top;\n",
       "    }\n",
       "\n",
       "    .dataframe thead th {\n",
       "        text-align: right;\n",
       "    }\n",
       "</style>\n",
       "<table border=\"1\" class=\"dataframe\">\n",
       "  <thead>\n",
       "    <tr style=\"text-align: right;\">\n",
       "      <th></th>\n",
       "      <th>enrolled_plan_cost</th>\n",
       "      <th>person_age</th>\n",
       "      <th>number_of_people_covered</th>\n",
       "      <th>enrolled_er_annual_hsa_contribution</th>\n",
       "      <th>client_industry_rollup_agriculture_and_mining</th>\n",
       "      <th>client_industry_rollup_banking_and_finance</th>\n",
       "      <th>client_industry_rollup_business_services</th>\n",
       "      <th>client_industry_rollup_computer_service_and_software</th>\n",
       "      <th>client_industry_rollup_consumer_misc_product_and_manufacturing</th>\n",
       "      <th>client_industry_rollup_diversified_manufacturing</th>\n",
       "      <th>client_industry_rollup_education</th>\n",
       "      <th>client_industry_rollup_food_and_beverage</th>\n",
       "      <th>client_industry_rollup_government</th>\n",
       "      <th>client_industry_rollup_healthcare_and_medical</th>\n",
       "      <th>client_industry_rollup_insurance</th>\n",
       "      <th>client_industry_rollup_retail</th>\n",
       "      <th>client_industry_rollup_telecom</th>\n",
       "      <th>client_industry_rollup_transport_and_storage</th>\n",
       "      <th>client_industry_rollup_travel_recreation_and_leisure</th>\n",
       "      <th>client_industry_rollup_utilities_and_energy</th>\n",
       "      <th>person_gender_description_Male</th>\n",
       "      <th>person_gender_description_Unknown</th>\n",
       "      <th>marital_status_rollup_Married</th>\n",
       "      <th>marital_status_rollup_Single</th>\n",
       "      <th>marital_status_rollup_Unknown</th>\n",
       "      <th>client_is_ysa_Unknown</th>\n",
       "      <th>client_is_ysa_Y</th>\n",
       "      <th>client_has_corporate_exchange_Unknown</th>\n",
       "      <th>client_has_corporate_exchange_Y</th>\n",
       "      <th>client_hm_large_market_or_enterprise_Enterprise</th>\n",
       "      <th>client_hm_large_market_or_enterprise_LM</th>\n",
       "      <th>employment_status_rollup_Inactive</th>\n",
       "      <th>employment_status_rollup_Non-Employee</th>\n",
       "      <th>employment_status_rollup_Unknown</th>\n",
       "      <th>coverage_category_rollup_Covering_Others</th>\n",
       "      <th>coverage_category_rollup_Covering_Self</th>\n",
       "      <th>coverage_category_rollup_Unknown</th>\n",
       "      <th>source_system_TBA_3X</th>\n",
       "      <th>source_system_TBA_4X</th>\n",
       "      <th>enrollment_suggestion_source_UPoint Reimagine</th>\n",
       "      <th>enrollment_suggestion_source_Unknown</th>\n",
       "      <th>er_hsa_contribution_flag_new_1</th>\n",
       "      <th>enrolled_option_bc_dg_CDP-MDCL-SA-POS</th>\n",
       "      <th>enrolled_option_bc_dg_CDP-MDCL-SA-PPO</th>\n",
       "      <th>enrolled_option_bc_dg_EPO</th>\n",
       "      <th>enrolled_option_bc_dg_HDHP</th>\n",
       "      <th>enrolled_option_bc_dg_HDHP w/HSA</th>\n",
       "      <th>enrolled_option_bc_dg_HMO</th>\n",
       "      <th>enrolled_option_bc_dg_IND</th>\n",
       "      <th>enrolled_option_bc_dg_POS</th>\n",
       "      <th>enrolled_option_bc_dg_PPO</th>\n",
       "      <th>enrolled_option_bc_dg_Unknown</th>\n",
       "      <th>person_expected_annual_base_salary_range_20,000 - 39,999</th>\n",
       "      <th>person_expected_annual_base_salary_range_40,000 - 59,999</th>\n",
       "      <th>person_expected_annual_base_salary_range_60,000 - 79,999</th>\n",
       "      <th>person_expected_annual_base_salary_range_80,000 - 99,999</th>\n",
       "      <th>person_expected_annual_base_salary_range_&lt;20,000</th>\n",
       "      <th>person_expected_annual_base_salary_range_Unknown</th>\n",
       "      <th>label</th>\n",
       "    </tr>\n",
       "  </thead>\n",
       "  <tbody>\n",
       "    <tr>\n",
       "      <th>0</th>\n",
       "      <td>4394.0</td>\n",
       "      <td>44.0</td>\n",
       "      <td>4.0</td>\n",
       "      <td>0.0</td>\n",
       "      <td>0</td>\n",
       "      <td>0</td>\n",
       "      <td>0</td>\n",
       "      <td>0</td>\n",
       "      <td>0</td>\n",
       "      <td>0</td>\n",
       "      <td>0</td>\n",
       "      <td>0</td>\n",
       "      <td>0</td>\n",
       "      <td>0</td>\n",
       "      <td>0</td>\n",
       "      <td>1</td>\n",
       "      <td>0</td>\n",
       "      <td>0</td>\n",
       "      <td>0</td>\n",
       "      <td>0</td>\n",
       "      <td>1</td>\n",
       "      <td>0</td>\n",
       "      <td>0</td>\n",
       "      <td>1</td>\n",
       "      <td>0</td>\n",
       "      <td>0</td>\n",
       "      <td>1</td>\n",
       "      <td>0</td>\n",
       "      <td>0</td>\n",
       "      <td>0</td>\n",
       "      <td>0</td>\n",
       "      <td>0</td>\n",
       "      <td>0</td>\n",
       "      <td>0</td>\n",
       "      <td>0</td>\n",
       "      <td>0</td>\n",
       "      <td>0</td>\n",
       "      <td>0</td>\n",
       "      <td>1</td>\n",
       "      <td>0</td>\n",
       "      <td>0</td>\n",
       "      <td>0</td>\n",
       "      <td>0</td>\n",
       "      <td>0</td>\n",
       "      <td>0</td>\n",
       "      <td>0</td>\n",
       "      <td>0</td>\n",
       "      <td>0</td>\n",
       "      <td>0</td>\n",
       "      <td>0</td>\n",
       "      <td>0</td>\n",
       "      <td>0</td>\n",
       "      <td>0</td>\n",
       "      <td>0</td>\n",
       "      <td>1</td>\n",
       "      <td>0</td>\n",
       "      <td>0</td>\n",
       "      <td>0</td>\n",
       "      <td>0</td>\n",
       "    </tr>\n",
       "    <tr>\n",
       "      <th>1</th>\n",
       "      <td>420.0</td>\n",
       "      <td>22.0</td>\n",
       "      <td>1.0</td>\n",
       "      <td>750.0</td>\n",
       "      <td>0</td>\n",
       "      <td>0</td>\n",
       "      <td>0</td>\n",
       "      <td>0</td>\n",
       "      <td>0</td>\n",
       "      <td>0</td>\n",
       "      <td>0</td>\n",
       "      <td>0</td>\n",
       "      <td>0</td>\n",
       "      <td>0</td>\n",
       "      <td>0</td>\n",
       "      <td>0</td>\n",
       "      <td>0</td>\n",
       "      <td>0</td>\n",
       "      <td>1</td>\n",
       "      <td>0</td>\n",
       "      <td>1</td>\n",
       "      <td>0</td>\n",
       "      <td>0</td>\n",
       "      <td>1</td>\n",
       "      <td>0</td>\n",
       "      <td>0</td>\n",
       "      <td>0</td>\n",
       "      <td>0</td>\n",
       "      <td>0</td>\n",
       "      <td>0</td>\n",
       "      <td>0</td>\n",
       "      <td>0</td>\n",
       "      <td>0</td>\n",
       "      <td>1</td>\n",
       "      <td>0</td>\n",
       "      <td>1</td>\n",
       "      <td>0</td>\n",
       "      <td>0</td>\n",
       "      <td>1</td>\n",
       "      <td>1</td>\n",
       "      <td>0</td>\n",
       "      <td>1</td>\n",
       "      <td>0</td>\n",
       "      <td>0</td>\n",
       "      <td>0</td>\n",
       "      <td>0</td>\n",
       "      <td>0</td>\n",
       "      <td>0</td>\n",
       "      <td>0</td>\n",
       "      <td>0</td>\n",
       "      <td>1</td>\n",
       "      <td>0</td>\n",
       "      <td>0</td>\n",
       "      <td>0</td>\n",
       "      <td>0</td>\n",
       "      <td>0</td>\n",
       "      <td>0</td>\n",
       "      <td>1</td>\n",
       "      <td>0</td>\n",
       "    </tr>\n",
       "  </tbody>\n",
       "</table>\n",
       "</div>"
      ],
      "text/plain": [
       "   enrolled_plan_cost  person_age  number_of_people_covered  \\\n",
       "0              4394.0        44.0                       4.0   \n",
       "1               420.0        22.0                       1.0   \n",
       "\n",
       "   enrolled_er_annual_hsa_contribution  \\\n",
       "0                                  0.0   \n",
       "1                                750.0   \n",
       "\n",
       "   client_industry_rollup_agriculture_and_mining  \\\n",
       "0                                              0   \n",
       "1                                              0   \n",
       "\n",
       "   client_industry_rollup_banking_and_finance  \\\n",
       "0                                           0   \n",
       "1                                           0   \n",
       "\n",
       "   client_industry_rollup_business_services  \\\n",
       "0                                         0   \n",
       "1                                         0   \n",
       "\n",
       "   client_industry_rollup_computer_service_and_software  \\\n",
       "0                                                  0      \n",
       "1                                                  0      \n",
       "\n",
       "   client_industry_rollup_consumer_misc_product_and_manufacturing  \\\n",
       "0                                                  0                \n",
       "1                                                  0                \n",
       "\n",
       "   client_industry_rollup_diversified_manufacturing  \\\n",
       "0                                                 0   \n",
       "1                                                 0   \n",
       "\n",
       "   client_industry_rollup_education  client_industry_rollup_food_and_beverage  \\\n",
       "0                                 0                                         0   \n",
       "1                                 0                                         0   \n",
       "\n",
       "   client_industry_rollup_government  \\\n",
       "0                                  0   \n",
       "1                                  0   \n",
       "\n",
       "   client_industry_rollup_healthcare_and_medical  \\\n",
       "0                                              0   \n",
       "1                                              0   \n",
       "\n",
       "   client_industry_rollup_insurance  client_industry_rollup_retail  \\\n",
       "0                                 0                              1   \n",
       "1                                 0                              0   \n",
       "\n",
       "   client_industry_rollup_telecom  \\\n",
       "0                               0   \n",
       "1                               0   \n",
       "\n",
       "   client_industry_rollup_transport_and_storage  \\\n",
       "0                                             0   \n",
       "1                                             0   \n",
       "\n",
       "   client_industry_rollup_travel_recreation_and_leisure  \\\n",
       "0                                                  0      \n",
       "1                                                  1      \n",
       "\n",
       "   client_industry_rollup_utilities_and_energy  \\\n",
       "0                                            0   \n",
       "1                                            0   \n",
       "\n",
       "   person_gender_description_Male  person_gender_description_Unknown  \\\n",
       "0                               1                                  0   \n",
       "1                               1                                  0   \n",
       "\n",
       "   marital_status_rollup_Married  marital_status_rollup_Single  \\\n",
       "0                              0                             1   \n",
       "1                              0                             1   \n",
       "\n",
       "   marital_status_rollup_Unknown  client_is_ysa_Unknown  client_is_ysa_Y  \\\n",
       "0                              0                      0                1   \n",
       "1                              0                      0                0   \n",
       "\n",
       "   client_has_corporate_exchange_Unknown  client_has_corporate_exchange_Y  \\\n",
       "0                                      0                                0   \n",
       "1                                      0                                0   \n",
       "\n",
       "   client_hm_large_market_or_enterprise_Enterprise  \\\n",
       "0                                                0   \n",
       "1                                                0   \n",
       "\n",
       "   client_hm_large_market_or_enterprise_LM  employment_status_rollup_Inactive  \\\n",
       "0                                        0                                  0   \n",
       "1                                        0                                  0   \n",
       "\n",
       "   employment_status_rollup_Non-Employee  employment_status_rollup_Unknown  \\\n",
       "0                                      0                                 0   \n",
       "1                                      0                                 1   \n",
       "\n",
       "   coverage_category_rollup_Covering_Others  \\\n",
       "0                                         0   \n",
       "1                                         0   \n",
       "\n",
       "   coverage_category_rollup_Covering_Self  coverage_category_rollup_Unknown  \\\n",
       "0                                       0                                 0   \n",
       "1                                       1                                 0   \n",
       "\n",
       "   source_system_TBA_3X  source_system_TBA_4X  \\\n",
       "0                     0                     1   \n",
       "1                     0                     1   \n",
       "\n",
       "   enrollment_suggestion_source_UPoint Reimagine  \\\n",
       "0                                              0   \n",
       "1                                              1   \n",
       "\n",
       "   enrollment_suggestion_source_Unknown  er_hsa_contribution_flag_new_1  \\\n",
       "0                                     0                               0   \n",
       "1                                     0                               1   \n",
       "\n",
       "   enrolled_option_bc_dg_CDP-MDCL-SA-POS  \\\n",
       "0                                      0   \n",
       "1                                      0   \n",
       "\n",
       "   enrolled_option_bc_dg_CDP-MDCL-SA-PPO  enrolled_option_bc_dg_EPO  \\\n",
       "0                                      0                          0   \n",
       "1                                      0                          0   \n",
       "\n",
       "   enrolled_option_bc_dg_HDHP  enrolled_option_bc_dg_HDHP w/HSA  \\\n",
       "0                           0                                 0   \n",
       "1                           0                                 0   \n",
       "\n",
       "   enrolled_option_bc_dg_HMO  enrolled_option_bc_dg_IND  \\\n",
       "0                          0                          0   \n",
       "1                          0                          0   \n",
       "\n",
       "   enrolled_option_bc_dg_POS  enrolled_option_bc_dg_PPO  \\\n",
       "0                          0                          0   \n",
       "1                          0                          1   \n",
       "\n",
       "   enrolled_option_bc_dg_Unknown  \\\n",
       "0                              0   \n",
       "1                              0   \n",
       "\n",
       "   person_expected_annual_base_salary_range_20,000 - 39,999  \\\n",
       "0                                                  0          \n",
       "1                                                  0          \n",
       "\n",
       "   person_expected_annual_base_salary_range_40,000 - 59,999  \\\n",
       "0                                                  0          \n",
       "1                                                  0          \n",
       "\n",
       "   person_expected_annual_base_salary_range_60,000 - 79,999  \\\n",
       "0                                                  1          \n",
       "1                                                  0          \n",
       "\n",
       "   person_expected_annual_base_salary_range_80,000 - 99,999  \\\n",
       "0                                                  0          \n",
       "1                                                  0          \n",
       "\n",
       "   person_expected_annual_base_salary_range_<20,000  \\\n",
       "0                                                 0   \n",
       "1                                                 0   \n",
       "\n",
       "   person_expected_annual_base_salary_range_Unknown  label  \n",
       "0                                                 0      0  \n",
       "1                                                 1      0  "
      ]
     },
     "execution_count": 107,
     "metadata": {},
     "output_type": "execute_result"
    }
   ],
   "source": [
    "test_set.head(2)"
   ]
  },
  {
   "cell_type": "code",
   "execution_count": 110,
   "metadata": {},
   "outputs": [
    {
     "data": {
      "text/plain": [
       "0"
      ]
     },
     "execution_count": 110,
     "metadata": {},
     "output_type": "execute_result"
    }
   ],
   "source": [
    "train_set.isnull().sum().sum()"
   ]
  },
  {
   "cell_type": "code",
   "execution_count": 111,
   "metadata": {},
   "outputs": [
    {
     "data": {
      "text/plain": [
       "0"
      ]
     },
     "execution_count": 111,
     "metadata": {},
     "output_type": "execute_result"
    }
   ],
   "source": [
    "test_set.isnull().sum().sum()"
   ]
  },
  {
   "cell_type": "code",
   "execution_count": 112,
   "metadata": {},
   "outputs": [
    {
     "data": {
      "text/plain": [
       "(436719, 59)"
      ]
     },
     "execution_count": 112,
     "metadata": {},
     "output_type": "execute_result"
    }
   ],
   "source": [
    "train_set.shape"
   ]
  },
  {
   "cell_type": "code",
   "execution_count": 113,
   "metadata": {},
   "outputs": [
    {
     "data": {
      "text/plain": [
       "(276612, 59)"
      ]
     },
     "execution_count": 113,
     "metadata": {},
     "output_type": "execute_result"
    }
   ],
   "source": [
    "test_set.shape"
   ]
  },
  {
   "cell_type": "markdown",
   "metadata": {},
   "source": [
    "### Exporting transformed data to S3"
   ]
  },
  {
   "cell_type": "code",
   "execution_count": 114,
   "metadata": {},
   "outputs": [
    {
     "name": "stdout",
     "output_type": "stream",
     "text": [
      "Uploading transformed data here -> s3://adl-core-dev-sagemaker-studio/external/amitmittal/HSA/test-data/output/version-1/transformed-data/dpp0/data2022.csv\n"
     ]
    }
   ],
   "source": [
    "print(f'Uploading transformed data here -> s3://{bucket}/{transformed_data_path_with_fname}')\n",
    "\n",
    "test_set.to_csv(f's3://{bucket}/{transformed_data_path_with_fname}', index=False)"
   ]
  },
  {
   "cell_type": "markdown",
   "metadata": {},
   "source": [
    "----\n",
    "## Making Predictions on Test Set"
   ]
  },
  {
   "cell_type": "code",
   "execution_count": 41,
   "metadata": {},
   "outputs": [
    {
     "name": "stdout",
     "output_type": "stream",
     "text": [
      "CPU times: user 584 ms, sys: 129 ms, total: 713 ms\n",
      "Wall time: 2.6 s\n"
     ]
    },
    {
     "data": {
      "text/plain": [
       "(276612, 59)"
      ]
     },
     "execution_count": 41,
     "metadata": {},
     "output_type": "execute_result"
    }
   ],
   "source": [
    "%%time\n",
    "#importing raw dataset\n",
    "s3 = boto3.client('s3')\n",
    "key = f'{transformed_data_path_with_fname}'\n",
    "obj = s3.get_object(Bucket=bucket, Key=key)\n",
    "inference_data = pd.read_csv(io.BytesIO(obj['Body'].read()))\n",
    "inference_data.shape"
   ]
  },
  {
   "cell_type": "code",
   "execution_count": 42,
   "metadata": {},
   "outputs": [
    {
     "data": {
      "text/plain": [
       "(276612, 58)"
      ]
     },
     "execution_count": 42,
     "metadata": {},
     "output_type": "execute_result"
    }
   ],
   "source": [
    "test_X = inference_data.drop(columns='label')\n",
    "\n",
    "test_X.shape"
   ]
  },
  {
   "cell_type": "code",
   "execution_count": 43,
   "metadata": {},
   "outputs": [
    {
     "data": {
      "text/plain": [
       "(276612, 1)"
      ]
     },
     "execution_count": 43,
     "metadata": {},
     "output_type": "execute_result"
    }
   ],
   "source": [
    "test_y = inference_data[['label']]\n",
    "\n",
    "test_y.shape"
   ]
  },
  {
   "cell_type": "code",
   "execution_count": 44,
   "metadata": {},
   "outputs": [
    {
     "data": {
      "text/plain": [
       "label\n",
       "0        0.526441\n",
       "1        0.473559\n",
       "dtype: float64"
      ]
     },
     "execution_count": 44,
     "metadata": {},
     "output_type": "execute_result"
    }
   ],
   "source": [
    "test_y.value_counts(normalize=True)"
   ]
  },
  {
   "cell_type": "code",
   "execution_count": 45,
   "metadata": {},
   "outputs": [
    {
     "data": {
      "image/png": "[encoded data removed]",
      "text/plain": [
       "<Figure size 432x288 with 1 Axes>"
      ]
     },
     "metadata": {
      "needs_background": "light"
     },
     "output_type": "display_data"
    }
   ],
   "source": [
    "#checking distribution of target feature\n",
    "sns.countplot(data=test_y, x='label')\n",
    "plt.show()"
   ]
  },
  {
   "cell_type": "markdown",
   "metadata": {},
   "source": [
    "### Loading Trained Model"
   ]
  },
  {
   "cell_type": "code",
   "execution_count": 46,
   "metadata": {},
   "outputs": [],
   "source": [
    "# READ\n",
    "s3_client = boto3.client('s3')\n",
    "\n",
    "with tempfile.TemporaryFile() as fp:\n",
    "    s3_client.download_fileobj(Fileobj=fp, Bucket=bucket, Key=model_path_with_fname)\n",
    "    fp.seek(0)\n",
    "    model = joblib.load(fp)"
   ]
  },
  {
   "cell_type": "code",
   "execution_count": 47,
   "metadata": {},
   "outputs": [
    {
     "name": "stdout",
     "output_type": "stream",
     "text": [
      "XGBClassifier:\n",
      "               precision    recall  f1-score   support\n",
      "\n",
      "           0       0.72      0.71      0.72    145620\n",
      "           1       0.68      0.70      0.69    130992\n",
      "\n",
      "    accuracy                           0.71    276612\n",
      "   macro avg       0.70      0.71      0.70    276612\n",
      "weighted avg       0.71      0.71      0.71    276612\n",
      "\n",
      "ROC AUC score for data:  0.7830798545103437\n"
     ]
    }
   ],
   "source": [
    "pred = model.predict(test_X)\n",
    "print(\"XGBClassifier:\\n\", classification_report(test_y, pred))\n",
    "print(\"ROC AUC score for data: \", roc_auc_score(test_y, model.predict_proba(test_X)[:,1], average='weighted'))"
   ]
  },
  {
   "cell_type": "code",
   "execution_count": 52,
   "metadata": {},
   "outputs": [
    {
     "name": "stdout",
     "output_type": "stream",
     "text": [
      "XGBClassifier:\n",
      "               precision    recall  f1-score   support\n",
      "\n",
      "           0       0.72      0.71      0.72    145620\n",
      "           1       0.68      0.70      0.69    130992\n",
      "\n",
      "    accuracy                           0.71    276612\n",
      "   macro avg       0.70      0.71      0.70    276612\n",
      "weighted avg       0.71      0.71      0.71    276612\n",
      "\n",
      "ROC AUC score for data:  0.7830798545103437\n"
     ]
    }
   ],
   "source": [
    "print(\"XGBClassifier:\\n\", classification_report(test_y, nn['prediction']))\n",
    "print(\"ROC AUC score for data: \", roc_auc_score(test_y, model.predict_proba(test_X)[:,1], average='weighted'))"
   ]
  },
  {
   "cell_type": "code",
   "execution_count": 122,
   "metadata": {},
   "outputs": [
    {
     "name": "stdout",
     "output_type": "stream",
     "text": [
      "Metrics Score on best XGBoost model on Testing Set\n",
      "Recall:              0.7054285425071942\n",
      "Precision:           0.7058667076756684\n",
      "F1:                  0.7055636768829139\n",
      "Simple Accuracy:     0.7054285425071942\n",
      "ROC AUC:             0.7830798545103437\n",
      "AUPRC:               0.7742254691987969\n"
     ]
    }
   ],
   "source": [
    "print('Metrics Score on best XGBoost model on Testing Set')\n",
    "print('Recall:'.ljust(20, \" \"),recall_score(test_y, pred, average='weighted'))\n",
    "print('Precision: '.ljust(20, \" \"),precision_score(test_y, pred, average='weighted'))\n",
    "print('F1: '.ljust(20, \" \"),f1_score(test_y, pred, average='weighted'))\n",
    "print('Simple Accuracy: '.ljust(20, \" \"),accuracy_score(test_y, pred))\n",
    "print('ROC AUC: '.ljust(20, \" \"),roc_auc_score(test_y, model.predict_proba(test_X)[:,1], average='weighted'))\n",
    "print('AUPRC: '.ljust(20, \" \"),average_precision_score(test_y, model.predict_proba(test_X)[:,1], average='weighted'))"
   ]
  },
  {
   "cell_type": "code",
   "execution_count": 123,
   "metadata": {},
   "outputs": [
    {
     "data": {
      "image/png": "[encoded data removed]",
      "text/plain": [
       "<Figure size 432x288 with 1 Axes>"
      ]
     },
     "metadata": {
      "needs_background": "light"
     },
     "output_type": "display_data"
    }
   ],
   "source": [
    "plot_precision_recall_curve(estimator=model, X=test_X, y=test_y, response_method='predict_proba', name='XGBoost')\n",
    "plt.title('Precision Recall Curve', size=15)\n",
    "plt.savefig('Precision Recall Curve - XGBoost.png')\n",
    "plt.show()"
   ]
  },
  {
   "cell_type": "code",
   "execution_count": 124,
   "metadata": {},
   "outputs": [
    {
     "data": {
      "image/png": "[encoded data removed]",
      "text/plain": [
       "<Figure size 432x288 with 1 Axes>"
      ]
     },
     "metadata": {
      "needs_background": "light"
     },
     "output_type": "display_data"
    }
   ],
   "source": [
    "plot_roc_curve(estimator=model, X=test_X, y=test_y, response_method='predict_proba', name='XGBoost')\n",
    "plt.title('Receiver Operating Characteristic (ROC) Curve', size=15)\n",
    "plt.savefig('Receiver Operating Characteristic (ROC) Curve.png')\n",
    "plt.show()"
   ]
  },
  {
   "cell_type": "code",
   "execution_count": 125,
   "metadata": {},
   "outputs": [
    {
     "data": {
      "image/png": "[encoded data removed]",
      "text/plain": [
       "<Figure size 432x288 with 2 Axes>"
      ]
     },
     "metadata": {
      "needs_background": "light"
     },
     "output_type": "display_data"
    }
   ],
   "source": [
    "plot_confusion_matrix(estimator=model, X=test_X, y_true=test_y, cmap='Blues',values_format='.0f')\n",
    "plt.title('Confusion Matrix', size=15)\n",
    "plt.savefig('Confusion Matrix.png')\n",
    "plt.show()"
   ]
  }
 ],
 "metadata": {
  "instance_type": "ml.t3.medium",
  "kernelspec": {
   "display_name": "Python 3 (Data Science)",
   "language": "python",
   "name": "python3__SAGEMAKER_INTERNAL__arn:aws:sagemaker:us-east-1:081325390199:image/datascience-1.0"
  },
  "language_info": {
   "codemirror_mode": {
    "name": "ipython",
    "version": 3
   },
   "file_extension": ".py",
   "mimetype": "text/x-python",
   "name": "python",
   "nbconvert_exporter": "python",
   "pygments_lexer": "ipython3",
   "version": "3.7.10"
  }
 },
 "nbformat": 4,
 "nbformat_minor": 4
}
