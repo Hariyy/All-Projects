{
 "cells": [
  {
   "cell_type": "code",
   "execution_count": 1,
   "metadata": {},
   "outputs": [
    {
     "name": "stdout",
     "output_type": "stream",
     "text": [
      "Looking in indexes: https://artifactory.alight.com/artifactory/api/pypi/python-pypi-remote/simple\n",
      "Requirement already satisfied: pip in /opt/conda/lib/python3.7/site-packages (22.2.2)\n",
      "\u001b[33mWARNING: Running pip as the 'root' user can result in broken permissions and conflicting behaviour with the system package manager. It is recommended to use a virtual environment instead: https://pip.pypa.io/warnings/venv\u001b[0m\u001b[33m\n",
      "\u001b[0m"
     ]
    }
   ],
   "source": [
    "!pip install --upgrade pip --index-url https://artifactory.alight.com/artifactory/api/pypi/python-pypi-remote/simple"
   ]
  },
  {
   "cell_type": "code",
   "execution_count": 2,
   "metadata": {},
   "outputs": [
    {
     "name": "stdout",
     "output_type": "stream",
     "text": [
      "Looking in indexes: https://artifactory.alight.com/artifactory/api/pypi/python-pypi-remote/simple\n",
      "Requirement already satisfied: pandas in /opt/conda/lib/python3.7/site-packages (1.3.5)\n",
      "Requirement already satisfied: python-dateutil>=2.7.3 in /opt/conda/lib/python3.7/site-packages (from pandas) (2.8.1)\n",
      "Requirement already satisfied: pytz>=2017.3 in /opt/conda/lib/python3.7/site-packages (from pandas) (2019.3)\n",
      "Requirement already satisfied: numpy>=1.17.3 in /opt/conda/lib/python3.7/site-packages (from pandas) (1.21.6)\n",
      "Requirement already satisfied: six>=1.5 in /opt/conda/lib/python3.7/site-packages (from python-dateutil>=2.7.3->pandas) (1.14.0)\n",
      "\u001b[33mWARNING: Running pip as the 'root' user can result in broken permissions and conflicting behaviour with the system package manager. It is recommended to use a virtual environment instead: https://pip.pypa.io/warnings/venv\u001b[0m\u001b[33m\n",
      "\u001b[0m"
     ]
    }
   ],
   "source": [
    "!pip install --upgrade pandas --index-url https://artifactory.alight.com/artifactory/api/pypi/python-pypi-remote/simple"
   ]
  },
  {
   "cell_type": "code",
   "execution_count": 3,
   "metadata": {},
   "outputs": [
    {
     "name": "stdout",
     "output_type": "stream",
     "text": [
      "Looking in indexes: https://artifactory.alight.com/artifactory/api/pypi/python-pypi-remote/simple\n",
      "Requirement already satisfied: numpy in /opt/conda/lib/python3.7/site-packages (1.21.6)\n",
      "\u001b[33mWARNING: Running pip as the 'root' user can result in broken permissions and conflicting behaviour with the system package manager. It is recommended to use a virtual environment instead: https://pip.pypa.io/warnings/venv\u001b[0m\u001b[33m\n",
      "\u001b[0m"
     ]
    }
   ],
   "source": [
    "!pip install --upgrade numpy --index-url https://artifactory.alight.com/artifactory/api/pypi/python-pypi-remote/simple"
   ]
  },
  {
   "cell_type": "code",
   "execution_count": 4,
   "metadata": {},
   "outputs": [],
   "source": [
    "# Mention all file names as string in the below list which are available at \"raw_data_path\" directory\n",
    "data_path = data_path_save = f'external/artichauhan/STD/Data'\n",
    "\n",
    "raw_data_path = f'{data_path}/raw_data'\n",
    "\n",
    "preprocessed_data_fnames = ['preprocessed_raw_data.csv']\n",
    "\n",
    "# Mention the bucket name where pre-processed data will be stored. Usually there will no change in bucket name\n",
    "bucket='adl-core-sagemaker-studio'"
   ]
  },
  {
   "cell_type": "code",
   "execution_count": 5,
   "metadata": {},
   "outputs": [],
   "source": [
    "#importing librarires\n",
    "import pandas as pd\n",
    "import numpy as np\n",
    "import seaborn as sns\n",
    "import matplotlib.pyplot as plt\n",
    "import warnings\n",
    "import boto3\n",
    "import io\n",
    "import time\n",
    "import tempfile\n",
    "import boto3\n",
    "import joblib\n",
    "\n",
    "%matplotlib inline\n",
    "pd.set_option('display.max_columns',None)\n",
    "warnings.filterwarnings('ignore')\n",
    "s3 = boto3.client('s3')"
   ]
  },
  {
   "cell_type": "code",
   "execution_count": 6,
   "metadata": {},
   "outputs": [],
   "source": [
    "def load_data_from_s3(bucket,raw_data_path,raw_data_fnames):\n",
    "    s3 = boto3.client('s3')\n",
    "    dataset_nrows = []\n",
    "    for i, fname in enumerate(raw_data_fnames):\n",
    "        if i==0:\n",
    "            print(f'Reading file: {fname}')\n",
    "            key = f'{raw_data_path}/{fname}'\n",
    "            obj = s3.get_object(Bucket=bucket, Key=key)\n",
    "            data = pd.read_csv(io.BytesIO(obj['Body'].read()))\n",
    "            dataset_nrows.append(data.shape[0])\n",
    "            print(f'\\tFile read successfully | Shape: {data.shape}')\n",
    "        else:\n",
    "            print(f'Reading file: {fname}')\n",
    "            key = f'{raw_data_path}/{fname}'\n",
    "            obj = s3.get_object(Bucket=bucket, Key=key)\n",
    "            data2 = pd.read_csv(io.BytesIO(obj['Body'].read()))\n",
    "            data = data.append(data2,ignore_index=True)\n",
    "            dataset_nrows.append(data2.shape[0])\n",
    "            print(f'\\tFile read successfully | Shape: {data2.shape}')\n",
    "\n",
    "    if sum(dataset_nrows) == data.shape[0]:\n",
    "        print(f'Data from all files loaded successfully | Final Shape: {data.shape}')\n",
    "        return data.copy()\n",
    "    else:\n",
    "        print('There is discrepency in numbers')\n",
    "        print(f'\\tTotal number of rows combined in all files: {sum(dataset_nrows)}')\n",
    "        print(f'\\tAfter combining all files total number of rows are: {data.shape[0]}')\n",
    "        return None"
   ]
  },
  {
   "cell_type": "code",
   "execution_count": 7,
   "metadata": {},
   "outputs": [
    {
     "name": "stdout",
     "output_type": "stream",
     "text": [
      "Reading file: preprocessed_raw_data.csv\n",
      "\tFile read successfully | Shape: (1345841, 33)\n",
      "Data from all files loaded successfully | Final Shape: (1345841, 33)\n"
     ]
    }
   ],
   "source": [
    "Hype_LOA_Active = load_data_from_s3(bucket,raw_data_path,preprocessed_data_fnames)"
   ]
  },
  {
   "cell_type": "code",
   "execution_count": 8,
   "metadata": {},
   "outputs": [
    {
     "data": {
      "text/plain": [
       "mapped_employment_status_code  mapped_employment_status_description\n",
       "ACTIVE                         Active                                  766290\n",
       "Active                         Active                                  232087\n",
       "LOA_WITH_PAY                   LOA - With Pay                           81270\n",
       "LOA_NO_PAY                     LOA - No Pay                             68672\n",
       "STD                            Disability - Short Term                  59512\n",
       "LTD                            Disability - Long Term                   42083\n",
       "LOA - Unpaid Leave             LOA - no Pay                             36486\n",
       "LOA_FM                         LOA - Family Medical                     17784\n",
       "LOA - Paid Leave               LOA - with Pay                           13755\n",
       "LOA - STD                      Disability - Short Term                   8869\n",
       "LOA - Unpaid w/ Benefits       LOA - no Pay                              5730\n",
       "LOA_WC                         LOA - Workers Compensation                4908\n",
       "LOA_MLTR                       LOA - Military                            3986\n",
       "LOA - LTD                      Disability - Long Term or Perm            2522\n",
       "Temporary                      Active                                    1465\n",
       "LOA - Workers Comp             LOA - Worker's Compensation                422\n",
       "dtype: int64"
      ]
     },
     "execution_count": 8,
     "metadata": {},
     "output_type": "execute_result"
    }
   ],
   "source": [
    "Hype_LOA_Active[['mapped_employment_status_code','mapped_employment_status_description']].value_counts()"
   ]
  },
  {
   "cell_type": "code",
   "execution_count": 9,
   "metadata": {},
   "outputs": [
    {
     "data": {
      "text/plain": [
       "array(['R3', 'R4', 'HM', nan, 'HWE4', 'DBE', 'DCE'], dtype=object)"
      ]
     },
     "execution_count": 9,
     "metadata": {},
     "output_type": "execute_result"
    }
   ],
   "source": [
    "Hype_LOA_Active['platform_indicator_code'].unique()"
   ]
  },
  {
   "cell_type": "code",
   "execution_count": 10,
   "metadata": {},
   "outputs": [],
   "source": [
    "Hype_LOA_Active['mapped_employment_status_code'] = Hype_LOA_Active['mapped_employment_status_code'].replace(['LOA - Workers Comp'], ['LOA_WC'])"
   ]
  },
  {
   "cell_type": "code",
   "execution_count": 11,
   "metadata": {},
   "outputs": [],
   "source": [
    "Hype_LOA_Active['mapped_employment_status_code'] = Hype_LOA_Active['mapped_employment_status_code'].replace(['LOA_NO_PAY'], ['LOA - Unpaid Leave'])"
   ]
  },
  {
   "cell_type": "code",
   "execution_count": 12,
   "metadata": {},
   "outputs": [],
   "source": [
    "Hype_LOA_Active['mapped_employment_status_code'] = Hype_LOA_Active['mapped_employment_status_code'].replace(['LOA_WITH_PAY'], ['LOA - Paid Leave'])"
   ]
  },
  {
   "cell_type": "code",
   "execution_count": 13,
   "metadata": {},
   "outputs": [],
   "source": [
    "Hype_LOA_Active['mapped_employment_status_code'] = Hype_LOA_Active['mapped_employment_status_code'].replace(['LTD'], ['LOA - LTD'])"
   ]
  },
  {
   "cell_type": "code",
   "execution_count": 14,
   "metadata": {},
   "outputs": [],
   "source": [
    "Hype_LOA_Active['mapped_employment_status_code'] = Hype_LOA_Active['mapped_employment_status_code'].replace(['STD'], ['LOA - STD'])"
   ]
  },
  {
   "cell_type": "code",
   "execution_count": 15,
   "metadata": {},
   "outputs": [],
   "source": [
    "Hype_LOA_Active['mapped_employment_status_code'] = Hype_LOA_Active['mapped_employment_status_code'].replace(['ACTIVE'], ['Active'])"
   ]
  },
  {
   "cell_type": "code",
   "execution_count": 16,
   "metadata": {},
   "outputs": [
    {
     "data": {
      "text/plain": [
       "mapped_employment_status_code\n",
       "Active                           998377\n",
       "LOA - Unpaid Leave               105158\n",
       "LOA - Paid Leave                  95025\n",
       "LOA - STD                         68381\n",
       "LOA - LTD                         44605\n",
       "LOA_FM                            17784\n",
       "LOA - Unpaid w/ Benefits           5730\n",
       "LOA_WC                             5330\n",
       "LOA_MLTR                           3986\n",
       "Temporary                          1465\n",
       "dtype: int64"
      ]
     },
     "execution_count": 16,
     "metadata": {},
     "output_type": "execute_result"
    }
   ],
   "source": [
    "Hype_LOA_Active[['mapped_employment_status_code']].value_counts()"
   ]
  },
  {
   "cell_type": "markdown",
   "metadata": {},
   "source": [
    "Creating the Label(target column):"
   ]
  },
  {
   "cell_type": "code",
   "execution_count": 17,
   "metadata": {},
   "outputs": [],
   "source": [
    "# create Lable column from mapped_employment_status_code\n",
    "Other_list = ['Active', 'Temporary','LOA - Unpaid Leave', 'LOA_FM', 'LOA - Paid Leave',\n",
    "               'LOA - Unpaid w/ Benefits', 'LOA_MLTR', 'LOA_WC', 'LOA - LTD']\n",
    "STD_list = ['LOA - STD']"
   ]
  },
  {
   "cell_type": "code",
   "execution_count": 18,
   "metadata": {},
   "outputs": [],
   "source": [
    "# Creating an empty column\n",
    "Hype_LOA_Active['mapped_employment_status_code_label']=''"
   ]
  },
  {
   "cell_type": "code",
   "execution_count": 19,
   "metadata": {},
   "outputs": [],
   "source": [
    "# Label Column\n",
    "Hype_LOA_Active.loc[Hype_LOA_Active['mapped_employment_status_code'].isin(Other_list), 'mapped_employment_status_code_label'] = 0\n",
    "Hype_LOA_Active.loc[Hype_LOA_Active['mapped_employment_status_code'].isin(STD_list), 'mapped_employment_status_code_label'] = 1"
   ]
  },
  {
   "cell_type": "code",
   "execution_count": 20,
   "metadata": {},
   "outputs": [
    {
     "data": {
      "text/plain": [
       "array([0, 1], dtype=object)"
      ]
     },
     "execution_count": 20,
     "metadata": {},
     "output_type": "execute_result"
    }
   ],
   "source": [
    "Hype_LOA_Active['mapped_employment_status_code_label'].unique()"
   ]
  },
  {
   "cell_type": "code",
   "execution_count": 21,
   "metadata": {},
   "outputs": [
    {
     "data": {
      "text/plain": [
       "0    1277460\n",
       "1      68381\n",
       "Name: mapped_employment_status_code_label, dtype: int64"
      ]
     },
     "execution_count": 21,
     "metadata": {},
     "output_type": "execute_result"
    }
   ],
   "source": [
    "Hype_LOA_Active['mapped_employment_status_code_label'].value_counts()"
   ]
  },
  {
   "cell_type": "code",
   "execution_count": 22,
   "metadata": {},
   "outputs": [],
   "source": [
    "Hype_LOA_Active['mapped_employment_status_code_label'] = Hype_LOA_Active['mapped_employment_status_code_label'].astype('int64')"
   ]
  },
  {
   "cell_type": "code",
   "execution_count": 23,
   "metadata": {},
   "outputs": [
    {
     "data": {
      "text/plain": [
       "(1345841, 34)"
      ]
     },
     "execution_count": 23,
     "metadata": {},
     "output_type": "execute_result"
    }
   ],
   "source": [
    "Hype_LOA_Active.shape"
   ]
  },
  {
   "cell_type": "code",
   "execution_count": 24,
   "metadata": {},
   "outputs": [
    {
     "name": "stdout",
     "output_type": "stream",
     "text": [
      "<class 'pandas.core.frame.DataFrame'>\n",
      "RangeIndex: 1345841 entries, 0 to 1345840\n",
      "Data columns (total 34 columns):\n",
      " #   Column                                       Non-Null Count    Dtype  \n",
      "---  ------                                       --------------    -----  \n",
      " 0   person_internal_id                           1345840 non-null  object \n",
      " 1   client_id                                    1345841 non-null  int64  \n",
      " 2   udp_global_id                                1345841 non-null  object \n",
      " 3   age                                          1344842 non-null  float64\n",
      " 4   gender                                       1340681 non-null  object \n",
      " 5   marital_status                               967801 non-null   object \n",
      " 6   is_union                                     1345841 non-null  object \n",
      " 7   primary_language_code                        340219 non-null   object \n",
      " 8   country_description                          1261252 non-null  object \n",
      " 9   state                                        1246212 non-null  object \n",
      " 10  platform_indicator_code                      1269086 non-null  object \n",
      " 11  mapped_employment_status_code                1345841 non-null  object \n",
      " 12  mapped_employment_status_description         1345841 non-null  object \n",
      " 13  mapped_fullpart_code                         1035500 non-null  object \n",
      " 14  mapped_fullpart_description                  1030586 non-null  object \n",
      " 15  mapped_permanent_temporary_code              580351 non-null   object \n",
      " 16  mapped_permanent_temporary_description       561921 non-null   object \n",
      " 17  mapped_hourly_salary_code                    923709 non-null   object \n",
      " 18  mapped_hourly_salary_description             919055 non-null   object \n",
      " 19  subsidiary_code                              131002 non-null   object \n",
      " 20  subsidiary_description                       131000 non-null   object \n",
      " 21  mapped_flex_status_code                      629322 non-null   object \n",
      " 22  mapped_flex_status_description               585439 non-null   object \n",
      " 23  original_hire_date                           898880 non-null   object \n",
      " 24  rehire_date                                  456578 non-null   object \n",
      " 25  is_rehire                                    1345841 non-null  object \n",
      " 26  termination_date                             1345841 non-null  object \n",
      " 27  base_pay_regular_payrate_amount              786574 non-null   float64\n",
      " 28  base_pay_regular_frequency_code              1063968 non-null  object \n",
      " 29  base_pay_regular_frequency_description       1063195 non-null  object \n",
      " 30  base_pay_regular_expectedannualsalary        1063787 non-null  float64\n",
      " 31  base_pay_regular_expectedannualsalary_range  1063970 non-null  object \n",
      " 32  annual_benefits_base_rate                    200435 non-null   float64\n",
      " 33  mapped_employment_status_code_label          1345841 non-null  int64  \n",
      "dtypes: float64(4), int64(2), object(28)\n",
      "memory usage: 349.1+ MB\n"
     ]
    }
   ],
   "source": [
    "Hype_LOA_Active.info()"
   ]
  },
  {
   "cell_type": "code",
   "execution_count": 25,
   "metadata": {},
   "outputs": [],
   "source": [
    "col1 = Hype_LOA_Active.columns"
   ]
  },
  {
   "cell_type": "markdown",
   "metadata": {},
   "source": [
    "Removing columns with more than 70% null values:"
   ]
  },
  {
   "cell_type": "code",
   "execution_count": 26,
   "metadata": {},
   "outputs": [],
   "source": [
    "perc = 70.0\n",
    "min_count =  int(((100-perc)/100)*Hype_LOA_Active.shape[0] + 1)\n",
    "Hype_LOA_Active = Hype_LOA_Active.dropna( axis=1, \n",
    "                thresh=min_count)"
   ]
  },
  {
   "cell_type": "code",
   "execution_count": 27,
   "metadata": {},
   "outputs": [
    {
     "data": {
      "text/plain": [
       "(1345841, 30)"
      ]
     },
     "execution_count": 27,
     "metadata": {},
     "output_type": "execute_result"
    }
   ],
   "source": [
    "Hype_LOA_Active.shape"
   ]
  },
  {
   "cell_type": "code",
   "execution_count": 28,
   "metadata": {},
   "outputs": [],
   "source": [
    "col2 = Hype_LOA_Active.columns"
   ]
  },
  {
   "cell_type": "code",
   "execution_count": 29,
   "metadata": {},
   "outputs": [],
   "source": [
    "tf = col1.isin(col2)"
   ]
  },
  {
   "cell_type": "code",
   "execution_count": 30,
   "metadata": {},
   "outputs": [],
   "source": [
    "df = pd.DataFrame({'col1':col1,'TF':tf})"
   ]
  },
  {
   "cell_type": "code",
   "execution_count": 31,
   "metadata": {},
   "outputs": [
    {
     "data": {
      "text/html": [
       "<div>\n",
       "<style scoped>\n",
       "    .dataframe tbody tr th:only-of-type {\n",
       "        vertical-align: middle;\n",
       "    }\n",
       "\n",
       "    .dataframe tbody tr th {\n",
       "        vertical-align: top;\n",
       "    }\n",
       "\n",
       "    .dataframe thead th {\n",
       "        text-align: right;\n",
       "    }\n",
       "</style>\n",
       "<table border=\"1\" class=\"dataframe\">\n",
       "  <thead>\n",
       "    <tr style=\"text-align: right;\">\n",
       "      <th></th>\n",
       "      <th>col1</th>\n",
       "      <th>TF</th>\n",
       "    </tr>\n",
       "  </thead>\n",
       "  <tbody>\n",
       "    <tr>\n",
       "      <th>7</th>\n",
       "      <td>primary_language_code</td>\n",
       "      <td>False</td>\n",
       "    </tr>\n",
       "    <tr>\n",
       "      <th>19</th>\n",
       "      <td>subsidiary_code</td>\n",
       "      <td>False</td>\n",
       "    </tr>\n",
       "    <tr>\n",
       "      <th>20</th>\n",
       "      <td>subsidiary_description</td>\n",
       "      <td>False</td>\n",
       "    </tr>\n",
       "    <tr>\n",
       "      <th>32</th>\n",
       "      <td>annual_benefits_base_rate</td>\n",
       "      <td>False</td>\n",
       "    </tr>\n",
       "  </tbody>\n",
       "</table>\n",
       "</div>"
      ],
      "text/plain": [
       "                         col1     TF\n",
       "7       primary_language_code  False\n",
       "19            subsidiary_code  False\n",
       "20     subsidiary_description  False\n",
       "32  annual_benefits_base_rate  False"
      ]
     },
     "execution_count": 31,
     "metadata": {},
     "output_type": "execute_result"
    }
   ],
   "source": [
    "# These columns have been removed where they had more then 30% null values\n",
    "df[df['TF']==False]"
   ]
  },
  {
   "cell_type": "markdown",
   "metadata": {},
   "source": [
    "Data cleaning: columns are having mutiple entries for a same text, hence reducing them to individual entries:"
   ]
  },
  {
   "cell_type": "code",
   "execution_count": 32,
   "metadata": {},
   "outputs": [],
   "source": [
    "Divorce_list = ['Divorced', 'Divorced_United_States_of_America', 'Separated_United_States_of_America', \\\n",
    "                           'Divorced_USA', 'USA_Divorced', 'USA_Separated', 'Separated_USA', 'Separated USA', 'Divorced USA', \\\n",
    "                           'Legally_Separated_United_States_of_America', 'USA-Divorced', 'Widowed_United_States_of_America', 'USA-Separated','Widowed_USA','PR_Divorced']\n",
    "Single_list = ['S', 'Single', 'Single_United_States_of_America', 'Single_USA', 'USA-Single', 'USA_Single', 'Single USA',\\\n",
    "                                           'S-USA', 'USA-Single, PR_Single', 'PR_Single']   \n",
    "Unknown_list = ['Unknown_USA', 'Unknown_United_States_of_America', 'Not_Indicated_United_States_of_America', \\\n",
    "                  'PR_Living Together','USA_Living together','USA_Not Disclosed', 'USA_Not Disclosed','Living_Together_United_States_of_America',\n",
    "                'Domestic_Partner _United_States_America', 'Civil P_United_States_of_America']\n",
    "Married_list = ['M','Married_United_States_of_America','Married_USA','Married USA','Married','M_USA','M-USA','USA-Married','USA_Married','Married_USA','Maried','USA-Married/ Civil Partnership','Domestic_Partner_United_States_of_America','Partnered_United_States_of_America','Co-Habiting_United_States_of_America','Partnered USA','D-USA']\n",
    "values = ['Single_Canada','Single_MEX', 'Single_DEU','Head_of_Household_USA','DE_FACTO','O-USA','MI_NOT_DISCLOSED','Domestic Partner', 'MARITAL_STATUS-3-321', 'Single_COL', 'PR_Partnered','Divorced_United_Kingdom','Single_MEX','MARITAL_STATUS-6-321','Unknown_United_States_of_America','Not_Indicated_United_States_of_America','Not_Disclosed_United_States_of_America','IN_Single',\n",
    "          'Unknown_USA','MARITAL_STATUS-3-321','Married_MEX', 'S-HKG',\n",
    "       'Unknown_New_Zealand', 'Unknown_Korea_Republic_of',\n",
    "       'Married_Saudi_Arabia', 'Single_United Kingdom', 'Single_Thailand',\n",
    "       'Unknown_United Kingdom', 'Unknown_India', 'Married_Taiwan',\n",
    "       'Single_Taiwan', 'Single_Hong_Kong', 'Single_Korea_Republic_of', 'P-USA', 'Married_BRA', 'Married_DEU',\n",
    "       'Unknown_SWE','Single_DOM',\n",
    "       'Married_CHN', 'Married_ESP', 'Single_THA',\n",
    "       'Married_Kenya', 'Unknown_Taiwan', 'Married_China',\n",
    "       'Married_New_Zealand', 'Single0_Indonesia', 'Single_Spain',\n",
    "       'Unknown_Thailand', 'Unknown_Spain', 'Married_Malaysia',\n",
    "       'Married2_Indonesia', 'Married_Thailand','MARITAL_STATUS-3-40', 'Married_United_Kingdom',\n",
    "       'Unknown_Puerto Rico','Single_United Arab Emirates', 'Divorced_Hong_Kong',\n",
    "       'Civil_Partnership_MEX', 'Married_SGP', 'Unknown_AUS',\n",
    "        'Single_SGP', 'Married_Spain',\n",
    "       'Divorced_Singapore', 'Divorced_Canada', 'Married_Italy',\n",
    "       'Married_MEX', 'Married_AUS', 'Single_ESP', 'Unknown_JPN',\n",
    "       'PR_Married', 'M-GBR', 'Married_Switzerland', 'Domestic Partner',\n",
    "       'W-USA', 'DE_FACTO', 'PR_Widowed', 'MI_NOT_DISCLOSED',\n",
    "       'Married_CAN', 'Divorced_DEU', 'Dissolved_Civil_Partnership_MEX',\n",
    "       'Single_FRA', 'Single_COL', 'Single_Puerto Rico', 'MARITAL_STATUS-6-301', 'MARITAL_STATUS-6-322', 'Hd Hsehld_United_States_of_America',\n",
    "       'Common_Law_United_States_of_America', 'Married_Ireland',\n",
    "       'Common_law_Canada', 'Married_Canada','Domestic_Partner_Canada',\n",
    "       'U-USA','MARITAL_STATUS-3-323', 'USA-Cohabit', 'Married0_Indonesia', 'Married_Korea_Republic_of', 'Single_China',\n",
    "       'Married1_Indonesia', 'Single_CAN', 'Married_SWE',\n",
    "       'Single_Belgium', 'Married_United Kingdom', 'Married_Puerto Rico',\n",
    "       'Married_ITA', 'Single_BEL', 'Married_BEL', 'Single_Lebanon',\n",
    "       'Unknown_Kenya', 'M-DEU', 'Unknown_GBR', 'Civil Partner_Belgium',\n",
    "       'Married_IRL', 'USA-Civil Partnership', 'Married_Hong_Kong',\n",
    "       'Domestic Partner Civil Union_United Kingdom',\n",
    "       'Civil_Partnership_COL', 'Unknown_Canada', 'Civil_Partnership_USA',\n",
    "       'Single_JPN', 'Married_MYS', 'Single_IRL', 'Single_New_Zealand',\n",
    "       'Married_Belgium', 'Civil_Partnership_United_States_of_America',\n",
    "       'Married_COL', 'Common_Law_COL', 'Married_Austria', 'Single_GBR',\n",
    "       'Married_GBR', 'Single_SWE', 'Married_JPN', 'Unknown_MLT',\n",
    "       'Married_NZL', 'Unknown_CHN', 'PR_Not Disclosed', 'R-USA', 'RDP',\n",
    "       'S-GBR', 'Married_Puerto_Rico', 'Married_Singapore', 'S-CHN',\n",
    "       'Married_United Arab Emirates', 'M-SGP', 'Single_Singapore',\n",
    "       'Separated_MLT', 'USA_Common-law', 'C-USA', 'S-ARE', 'S-SGP',\n",
    "       'Single_CHN', 'Single_United_Kingdom', 'M-CAN', 'M-IND',\n",
    "       'Single_BRA', 'Divorced_ESP', 'M-AUS', 'USA-Widowed',\n",
    "       'PRI-Married', 'Single_Argentina', 'Unspecified_United_Kingdom',\n",
    "       'Domestic_Partnered_United_States_of_America',\n",
    "       'Co-Habiting_United_Kingdom', 'Married_Turkey',\n",
    "       'Registered_Partnership_United_States_of_America',\n",
    "       'Unknown_Malaysia', 'USA-Unknown', 'USA_Widowed', 'M-HKG']"
   ]
  },
  {
   "cell_type": "code",
   "execution_count": 33,
   "metadata": {},
   "outputs": [],
   "source": [
    "Hype_LOA_Active.loc[Hype_LOA_Active['marital_status'].isin(Divorce_list), 'marital_status'] = 'Divorced'\n",
    "Hype_LOA_Active.loc[Hype_LOA_Active['marital_status'].isin(Single_list), 'marital_status'] = 'Single'\n",
    "Hype_LOA_Active.loc[Hype_LOA_Active['marital_status'].isin(Married_list), 'marital_status'] = 'Married'\n",
    "Hype_LOA_Active.loc[Hype_LOA_Active['marital_status'].isin(Unknown_list), 'marital_status'] = 'unknown'"
   ]
  },
  {
   "cell_type": "code",
   "execution_count": 34,
   "metadata": {},
   "outputs": [],
   "source": [
    "Hype_LOA_Active = Hype_LOA_Active[Hype_LOA_Active.marital_status.isin(values) == False]"
   ]
  },
  {
   "cell_type": "code",
   "execution_count": 35,
   "metadata": {},
   "outputs": [],
   "source": [
    "Hype_LOA_Active['mapped_fullpart_code'] = Hype_LOA_Active['mapped_fullpart_code'].replace(['FT','PT'],['FLTM', 'PRTM'])\n",
    "fullpart_code_remove_list = ['DNM', 'ERROR']\n",
    "Hype_LOA_Active = Hype_LOA_Active[Hype_LOA_Active.mapped_fullpart_code.isin(fullpart_code_remove_list) == False]"
   ]
  },
  {
   "cell_type": "code",
   "execution_count": 36,
   "metadata": {},
   "outputs": [],
   "source": [
    "Hype_LOA_Active['mapped_hourly_salary_code'] = Hype_LOA_Active['mapped_hourly_salary_code'].replace(['S', 'H'],['SLRY', 'HRLY'])\n",
    "hr_code_remove_list = ['DNM', 'A', 'E', '1', 'L', 'N']\n",
    "Hype_LOA_Active = Hype_LOA_Active[Hype_LOA_Active['mapped_hourly_salary_code'].isin(hr_code_remove_list) == False]"
   ]
  },
  {
   "cell_type": "code",
   "execution_count": 37,
   "metadata": {},
   "outputs": [],
   "source": [
    "male = ['M', 'Male', 'male', 'Gender_Male']\n",
    "female = ['F', 'Female', 'female', 'Gender_Female']\n",
    "unknown = ['U', 'Unknown', 'Not_declared', 'D', 'Decline to answer', 'Undeclared',\n",
    "           'Not specified', 'Declined to State', 'N', 'O', 'Not Declared','X','I do not wish to provide this information']"
   ]
  },
  {
   "cell_type": "code",
   "execution_count": 38,
   "metadata": {},
   "outputs": [],
   "source": [
    "Hype_LOA_Active.loc[Hype_LOA_Active['gender'].isin(male), 'gender'] = 'male'\n",
    "Hype_LOA_Active.loc[Hype_LOA_Active['gender'].isin(female), 'gender'] = 'female'\n",
    "Hype_LOA_Active.loc[Hype_LOA_Active['gender'].isin(unknown), 'gender'] = 'unknown'"
   ]
  },
  {
   "cell_type": "code",
   "execution_count": 39,
   "metadata": {},
   "outputs": [],
   "source": [
    "# #Saving the Rollup data for EDA\n",
    "# Hype_LOA_Active.to_csv('Hype_LOA_Active.csv')"
   ]
  },
  {
   "cell_type": "code",
   "execution_count": 40,
   "metadata": {},
   "outputs": [],
   "source": [
    "#Let's drop some columns which are not required\n",
    "# Removing some id columns, state , date and description columns\n",
    "# mapped_permanent_temporary_code and mapped_flex_status_code is having around 50% of null values hence dropping (EDA)\n",
    "# country_description having only single value, won't  make much diff\n",
    "# base_pay_regular_payrate_amount is highly correlated with base_pay_regular_expectedannualsalary, hence dropping base_pay_regular_payrate_amount\n",
    "# base_pay_regular_expectedannualsalary_range - will create another range col and use that\n",
    "# mapped_employment_status_description as we have label column created from this\n",
    "\n",
    "drop_list = ['udp_global_id', 'state', 'mapped_fullpart_description', \\\n",
    "             'mapped_permanent_temporary_description', 'mapped_hourly_salary_description', 'mapped_flex_status_description', \n",
    "             'original_hire_date', 'rehire_date', 'termination_date','base_pay_regular_frequency_description',\n",
    "             'base_pay_regular_expectedannualsalary_range','mapped_employment_status_description',\n",
    "             'base_pay_regular_payrate_amount','country_description','mapped_flex_status_code',\n",
    "             'mapped_permanent_temporary_code','base_pay_regular_frequency_code']\n",
    "\n"
   ]
  },
  {
   "cell_type": "code",
   "execution_count": 41,
   "metadata": {},
   "outputs": [],
   "source": [
    "Hype_LOA_Active.drop(columns = drop_list, axis=1, inplace = True)"
   ]
  },
  {
   "cell_type": "markdown",
   "metadata": {},
   "source": [
    "#### Categorical columns missing value imputation"
   ]
  },
  {
   "cell_type": "code",
   "execution_count": 42,
   "metadata": {},
   "outputs": [],
   "source": [
    "#extract object columns and fill missing values\n",
    "def fill_na_object(Data):\n",
    "    object_col = Data.select_dtypes('object').columns\n",
    "    for i in object_col:\n",
    "        Data[i].fillna('unknown',inplace=True)\n",
    "    return Data"
   ]
  },
  {
   "cell_type": "code",
   "execution_count": 43,
   "metadata": {},
   "outputs": [],
   "source": [
    "#imputing missing values\n",
    "Hype_LOA_Active = fill_na_object(Hype_LOA_Active)"
   ]
  },
  {
   "cell_type": "code",
   "execution_count": 44,
   "metadata": {},
   "outputs": [
    {
     "data": {
      "text/plain": [
       "person_internal_id                            0\n",
       "client_id                                     0\n",
       "age                                         998\n",
       "gender                                        0\n",
       "marital_status                                0\n",
       "is_union                                      0\n",
       "platform_indicator_code                       0\n",
       "mapped_employment_status_code                 0\n",
       "mapped_fullpart_code                          0\n",
       "mapped_hourly_salary_code                     0\n",
       "is_rehire                                     0\n",
       "base_pay_regular_expectedannualsalary    278611\n",
       "mapped_employment_status_code_label           0\n",
       "dtype: int64"
      ]
     },
     "execution_count": 44,
     "metadata": {},
     "output_type": "execute_result"
    }
   ],
   "source": [
    "# checking if missing values in categorical columns got imputed\n",
    "Hype_LOA_Active.isna().sum()"
   ]
  },
  {
   "cell_type": "code",
   "execution_count": 45,
   "metadata": {},
   "outputs": [
    {
     "data": {
      "text/plain": [
       "0    1267435\n",
       "1      67605\n",
       "Name: mapped_employment_status_code_label, dtype: int64"
      ]
     },
     "execution_count": 45,
     "metadata": {},
     "output_type": "execute_result"
    }
   ],
   "source": [
    "Hype_LOA_Active['mapped_employment_status_code_label'].value_counts()"
   ]
  },
  {
   "cell_type": "code",
   "execution_count": 46,
   "metadata": {},
   "outputs": [
    {
     "data": {
      "text/plain": [
       "(1335040, 13)"
      ]
     },
     "execution_count": 46,
     "metadata": {},
     "output_type": "execute_result"
    }
   ],
   "source": [
    "Hype_LOA_Active.shape"
   ]
  },
  {
   "cell_type": "markdown",
   "metadata": {},
   "source": [
    "#### Splitting data set into train and test split"
   ]
  },
  {
   "cell_type": "code",
   "execution_count": 47,
   "metadata": {},
   "outputs": [],
   "source": [
    "# # Separating the independent variables from dependent variables\n",
    "# X = Hype_LOA_Active.drop(columns=['mapped_employment_status_code_label'], axis=1)\n",
    "# y = Hype_LOA_Active['mapped_employment_status_code_label']\n",
    "\n",
    "# #Split train-test data\n",
    "# from sklearn.model_selection import train_test_split\n",
    "\n",
    "# X_train, X_test, y_train, y_test = train_test_split(X, y, test_size = 0.20, stratify=y,shuffle=True, random_state=42)\n"
   ]
  },
  {
   "cell_type": "code",
   "execution_count": 48,
   "metadata": {},
   "outputs": [],
   "source": [
    "# print('X_train: ',X_train.shape)\n",
    "# print('X_test: ',X_test.shape)\n",
    "# print('y_train: ',y_train.shape)\n",
    "# print('y_test: ',y_test.shape)"
   ]
  },
  {
   "cell_type": "code",
   "execution_count": 49,
   "metadata": {},
   "outputs": [],
   "source": [
    "#Split train-test data\n",
    "from sklearn.model_selection import train_test_split\n",
    "\n",
    "train_set,test_set = train_test_split(Hype_LOA_Active, test_size = 0.20, \n",
    "                                   stratify=Hype_LOA_Active['mapped_employment_status_code_label'],shuffle=True, random_state=42)\n"
   ]
  },
  {
   "cell_type": "code",
   "execution_count": 50,
   "metadata": {},
   "outputs": [
    {
     "name": "stdout",
     "output_type": "stream",
     "text": [
      "train_set: (1068032, 13)\n",
      "test_set: (267008, 13)\n"
     ]
    }
   ],
   "source": [
    "print('train_set:',train_set.shape)\n",
    "print('test_set:',test_set.shape)"
   ]
  },
  {
   "cell_type": "markdown",
   "metadata": {},
   "source": [
    "#### Uploading test set to s3"
   ]
  },
  {
   "cell_type": "code",
   "execution_count": 51,
   "metadata": {},
   "outputs": [],
   "source": [
    "# test_set = pd.concat([X_test,y_test],axis=1)"
   ]
  },
  {
   "cell_type": "code",
   "execution_count": 52,
   "metadata": {},
   "outputs": [
    {
     "name": "stdout",
     "output_type": "stream",
     "text": [
      "Uploading pre-processed data here -> s3://adl-core-sagemaker-studio/external/artichauhan/STD/Data\n"
     ]
    }
   ],
   "source": [
    "print(f'Uploading pre-processed data here -> s3://{bucket}/{data_path}')\n",
    "\n",
    "test_set.to_csv(f's3://{bucket}/{data_path}/test_data/test_set.csv', index=False)"
   ]
  },
  {
   "cell_type": "code",
   "execution_count": 53,
   "metadata": {},
   "outputs": [],
   "source": [
    "X_test = test_set.drop(['mapped_employment_status_code_label'],axis=1)\n",
    "y_test = test_set['mapped_employment_status_code_label']"
   ]
  },
  {
   "cell_type": "code",
   "execution_count": 54,
   "metadata": {},
   "outputs": [
    {
     "name": "stdout",
     "output_type": "stream",
     "text": [
      "Uploading pre-processed data here -> s3://adl-core-sagemaker-studio/external/artichauhan/STD/Data\n"
     ]
    }
   ],
   "source": [
    "print(f'Uploading pre-processed data here -> s3://{bucket}/{data_path}')\n",
    "\n",
    "X_test.to_csv(f's3://{bucket}/{data_path}/test_data/rolledup_x_test.csv', index=False)"
   ]
  },
  {
   "cell_type": "code",
   "execution_count": 55,
   "metadata": {},
   "outputs": [
    {
     "name": "stdout",
     "output_type": "stream",
     "text": [
      "Uploading pre-processed data here -> s3://adl-core-sagemaker-studio/external/artichauhan/STD/Data\n"
     ]
    }
   ],
   "source": [
    "print(f'Uploading pre-processed data here -> s3://{bucket}/{data_path}')\n",
    "\n",
    "y_test.to_csv(f's3://{bucket}/{data_path}/test_data/y_test.csv', index=False)"
   ]
  },
  {
   "cell_type": "markdown",
   "metadata": {},
   "source": [
    "#### Uploading train set to s3"
   ]
  },
  {
   "cell_type": "code",
   "execution_count": 56,
   "metadata": {},
   "outputs": [],
   "source": [
    "# train_set = pd.concat([X_train,y_train],axis=1)"
   ]
  },
  {
   "cell_type": "code",
   "execution_count": 57,
   "metadata": {},
   "outputs": [
    {
     "name": "stdout",
     "output_type": "stream",
     "text": [
      "Uploading pre-processed data here -> s3://adl-core-sagemaker-studio/external/artichauhan/STD/Data/\n"
     ]
    }
   ],
   "source": [
    "print(f'Uploading pre-processed data here -> s3://{bucket}/{data_path}/')\n",
    "\n",
    "train_set.to_csv(f's3://{bucket}/{data_path}/train_data/half_cleaned_train_set.csv', index=False)"
   ]
  },
  {
   "cell_type": "markdown",
   "metadata": {},
   "source": [
    "#### Imputing outliers"
   ]
  },
  {
   "cell_type": "code",
   "execution_count": 58,
   "metadata": {},
   "outputs": [
    {
     "data": {
      "text/plain": [
       "Index(['person_internal_id', 'client_id', 'age', 'gender', 'marital_status',\n",
       "       'is_union', 'platform_indicator_code', 'mapped_employment_status_code',\n",
       "       'mapped_fullpart_code', 'mapped_hourly_salary_code', 'is_rehire',\n",
       "       'base_pay_regular_expectedannualsalary',\n",
       "       'mapped_employment_status_code_label'],\n",
       "      dtype='object')"
      ]
     },
     "execution_count": 58,
     "metadata": {},
     "output_type": "execute_result"
    }
   ],
   "source": [
    "train_set.columns"
   ]
  },
  {
   "cell_type": "code",
   "execution_count": 59,
   "metadata": {},
   "outputs": [
    {
     "data": {
      "text/html": [
       "<div>\n",
       "<style scoped>\n",
       "    .dataframe tbody tr th:only-of-type {\n",
       "        vertical-align: middle;\n",
       "    }\n",
       "\n",
       "    .dataframe tbody tr th {\n",
       "        vertical-align: top;\n",
       "    }\n",
       "\n",
       "    .dataframe thead th {\n",
       "        text-align: right;\n",
       "    }\n",
       "</style>\n",
       "<table border=\"1\" class=\"dataframe\">\n",
       "  <thead>\n",
       "    <tr style=\"text-align: right;\">\n",
       "      <th></th>\n",
       "      <th>mapped_employment_status_code</th>\n",
       "      <th>0.01</th>\n",
       "      <th>0.99</th>\n",
       "    </tr>\n",
       "  </thead>\n",
       "  <tbody>\n",
       "    <tr>\n",
       "      <th>0</th>\n",
       "      <td>Active</td>\n",
       "      <td>18.00</td>\n",
       "      <td>75.0</td>\n",
       "    </tr>\n",
       "    <tr>\n",
       "      <th>1</th>\n",
       "      <td>LOA - LTD</td>\n",
       "      <td>29.00</td>\n",
       "      <td>89.0</td>\n",
       "    </tr>\n",
       "    <tr>\n",
       "      <th>2</th>\n",
       "      <td>LOA - Paid Leave</td>\n",
       "      <td>19.00</td>\n",
       "      <td>76.0</td>\n",
       "    </tr>\n",
       "    <tr>\n",
       "      <th>3</th>\n",
       "      <td>LOA - STD</td>\n",
       "      <td>22.00</td>\n",
       "      <td>75.0</td>\n",
       "    </tr>\n",
       "    <tr>\n",
       "      <th>4</th>\n",
       "      <td>LOA - Unpaid Leave</td>\n",
       "      <td>19.00</td>\n",
       "      <td>78.0</td>\n",
       "    </tr>\n",
       "    <tr>\n",
       "      <th>5</th>\n",
       "      <td>LOA - Unpaid w/ Benefits</td>\n",
       "      <td>17.00</td>\n",
       "      <td>73.0</td>\n",
       "    </tr>\n",
       "    <tr>\n",
       "      <th>6</th>\n",
       "      <td>LOA_FM</td>\n",
       "      <td>23.00</td>\n",
       "      <td>74.0</td>\n",
       "    </tr>\n",
       "    <tr>\n",
       "      <th>7</th>\n",
       "      <td>LOA_MLTR</td>\n",
       "      <td>20.00</td>\n",
       "      <td>64.0</td>\n",
       "    </tr>\n",
       "    <tr>\n",
       "      <th>8</th>\n",
       "      <td>LOA_WC</td>\n",
       "      <td>20.41</td>\n",
       "      <td>73.0</td>\n",
       "    </tr>\n",
       "    <tr>\n",
       "      <th>9</th>\n",
       "      <td>Temporary</td>\n",
       "      <td>18.00</td>\n",
       "      <td>75.0</td>\n",
       "    </tr>\n",
       "  </tbody>\n",
       "</table>\n",
       "</div>"
      ],
      "text/plain": [
       "  mapped_employment_status_code   0.01  0.99\n",
       "0                        Active  18.00  75.0\n",
       "1                     LOA - LTD  29.00  89.0\n",
       "2              LOA - Paid Leave  19.00  76.0\n",
       "3                     LOA - STD  22.00  75.0\n",
       "4            LOA - Unpaid Leave  19.00  78.0\n",
       "5      LOA - Unpaid w/ Benefits  17.00  73.0\n",
       "6                        LOA_FM  23.00  74.0\n",
       "7                      LOA_MLTR  20.00  64.0\n",
       "8                        LOA_WC  20.41  73.0\n",
       "9                     Temporary  18.00  75.0"
      ]
     },
     "execution_count": 59,
     "metadata": {},
     "output_type": "execute_result"
    }
   ],
   "source": [
    "x = train_set.groupby(['mapped_employment_status_code'])['age'].quantile([0.01, 0.99]).unstack()\n",
    "capping=x.reset_index()\n",
    "capping"
   ]
  },
  {
   "cell_type": "code",
   "execution_count": 60,
   "metadata": {},
   "outputs": [
    {
     "data": {
      "text/plain": [
       "(1068032, 15)"
      ]
     },
     "execution_count": 60,
     "metadata": {},
     "output_type": "execute_result"
    }
   ],
   "source": [
    "train_set = train_set.merge(capping, how='left', on='mapped_employment_status_code')\n",
    "train_set.shape"
   ]
  },
  {
   "cell_type": "code",
   "execution_count": 61,
   "metadata": {},
   "outputs": [],
   "source": [
    "train_set.rename(columns={0.01:'lower_age_cap',0.99:'upper_age_cap'},inplace=True)"
   ]
  },
  {
   "cell_type": "code",
   "execution_count": 62,
   "metadata": {},
   "outputs": [
    {
     "data": {
      "text/html": [
       "<div>\n",
       "<style scoped>\n",
       "    .dataframe tbody tr th:only-of-type {\n",
       "        vertical-align: middle;\n",
       "    }\n",
       "\n",
       "    .dataframe tbody tr th {\n",
       "        vertical-align: top;\n",
       "    }\n",
       "\n",
       "    .dataframe thead th {\n",
       "        text-align: right;\n",
       "    }\n",
       "</style>\n",
       "<table border=\"1\" class=\"dataframe\">\n",
       "  <thead>\n",
       "    <tr style=\"text-align: right;\">\n",
       "      <th></th>\n",
       "      <th>age</th>\n",
       "      <th>lower_age_cap</th>\n",
       "      <th>upper_age_cap</th>\n",
       "    </tr>\n",
       "  </thead>\n",
       "  <tbody>\n",
       "    <tr>\n",
       "      <th>0</th>\n",
       "      <td>52.0</td>\n",
       "      <td>18.0</td>\n",
       "      <td>75.0</td>\n",
       "    </tr>\n",
       "    <tr>\n",
       "      <th>1</th>\n",
       "      <td>39.0</td>\n",
       "      <td>18.0</td>\n",
       "      <td>75.0</td>\n",
       "    </tr>\n",
       "    <tr>\n",
       "      <th>2</th>\n",
       "      <td>28.0</td>\n",
       "      <td>18.0</td>\n",
       "      <td>75.0</td>\n",
       "    </tr>\n",
       "    <tr>\n",
       "      <th>3</th>\n",
       "      <td>39.0</td>\n",
       "      <td>18.0</td>\n",
       "      <td>75.0</td>\n",
       "    </tr>\n",
       "    <tr>\n",
       "      <th>4</th>\n",
       "      <td>55.0</td>\n",
       "      <td>18.0</td>\n",
       "      <td>75.0</td>\n",
       "    </tr>\n",
       "    <tr>\n",
       "      <th>...</th>\n",
       "      <td>...</td>\n",
       "      <td>...</td>\n",
       "      <td>...</td>\n",
       "    </tr>\n",
       "    <tr>\n",
       "      <th>1068027</th>\n",
       "      <td>64.0</td>\n",
       "      <td>18.0</td>\n",
       "      <td>75.0</td>\n",
       "    </tr>\n",
       "    <tr>\n",
       "      <th>1068028</th>\n",
       "      <td>62.0</td>\n",
       "      <td>19.0</td>\n",
       "      <td>76.0</td>\n",
       "    </tr>\n",
       "    <tr>\n",
       "      <th>1068029</th>\n",
       "      <td>25.0</td>\n",
       "      <td>20.0</td>\n",
       "      <td>64.0</td>\n",
       "    </tr>\n",
       "    <tr>\n",
       "      <th>1068030</th>\n",
       "      <td>29.0</td>\n",
       "      <td>18.0</td>\n",
       "      <td>75.0</td>\n",
       "    </tr>\n",
       "    <tr>\n",
       "      <th>1068031</th>\n",
       "      <td>55.0</td>\n",
       "      <td>18.0</td>\n",
       "      <td>75.0</td>\n",
       "    </tr>\n",
       "  </tbody>\n",
       "</table>\n",
       "<p>1068032 rows × 3 columns</p>\n",
       "</div>"
      ],
      "text/plain": [
       "          age  lower_age_cap  upper_age_cap\n",
       "0        52.0           18.0           75.0\n",
       "1        39.0           18.0           75.0\n",
       "2        28.0           18.0           75.0\n",
       "3        39.0           18.0           75.0\n",
       "4        55.0           18.0           75.0\n",
       "...       ...            ...            ...\n",
       "1068027  64.0           18.0           75.0\n",
       "1068028  62.0           19.0           76.0\n",
       "1068029  25.0           20.0           64.0\n",
       "1068030  29.0           18.0           75.0\n",
       "1068031  55.0           18.0           75.0\n",
       "\n",
       "[1068032 rows x 3 columns]"
      ]
     },
     "execution_count": 62,
     "metadata": {},
     "output_type": "execute_result"
    }
   ],
   "source": [
    "train_set[['age','lower_age_cap','upper_age_cap']]"
   ]
  },
  {
   "cell_type": "code",
   "execution_count": 63,
   "metadata": {},
   "outputs": [],
   "source": [
    "train_set['age'] = np.where(train_set['age'] > train_set['upper_age_cap'], train_set['upper_age_cap'], train_set['age'])"
   ]
  },
  {
   "cell_type": "code",
   "execution_count": 64,
   "metadata": {},
   "outputs": [],
   "source": [
    "train_set['age'] = np.where(train_set['age'] < train_set['lower_age_cap'], train_set['lower_age_cap'], train_set['age'])"
   ]
  },
  {
   "cell_type": "code",
   "execution_count": 65,
   "metadata": {},
   "outputs": [],
   "source": [
    "# drop newly creating columns\n",
    "col=['lower_age_cap','upper_age_cap']\n",
    "train_set.drop(columns=col,axis=1,inplace=True)"
   ]
  },
  {
   "cell_type": "code",
   "execution_count": 66,
   "metadata": {},
   "outputs": [],
   "source": [
    "train_cat_columns = train_set.select_dtypes(include=['object']).columns\n",
    "train_num_columns = train_set.select_dtypes(include=['int']).columns\n",
    "train_float_columns = train_set.select_dtypes(include=['float']).columns"
   ]
  },
  {
   "cell_type": "code",
   "execution_count": 67,
   "metadata": {},
   "outputs": [
    {
     "name": "stdout",
     "output_type": "stream",
     "text": [
      "Index(['person_internal_id', 'gender', 'marital_status', 'is_union',\n",
      "       'platform_indicator_code', 'mapped_employment_status_code',\n",
      "       'mapped_fullpart_code', 'mapped_hourly_salary_code', 'is_rehire'],\n",
      "      dtype='object')\n",
      "Index(['client_id', 'mapped_employment_status_code_label'], dtype='object')\n",
      "Index(['age', 'base_pay_regular_expectedannualsalary'], dtype='object')\n"
     ]
    }
   ],
   "source": [
    "print(train_cat_columns)\n",
    "print(train_num_columns)\n",
    "print(train_float_columns)"
   ]
  },
  {
   "cell_type": "markdown",
   "metadata": {},
   "source": [
    "#### Numeric Imputer for missing values"
   ]
  },
  {
   "cell_type": "code",
   "execution_count": 68,
   "metadata": {},
   "outputs": [],
   "source": [
    "class CustomNumericImputer:\n",
    "    \n",
    "    def __init__(self):\n",
    "        return None\n",
    "    \n",
    "    def fit(self, X, impute_cols, using_cols, method='median'):\n",
    "        self.using_cols = using_cols\n",
    "        self.impute_cols = impute_cols\n",
    "        self.method = method\n",
    "        cols = self.using_cols + self.impute_cols\n",
    "        X_ = X[cols]\n",
    "        \n",
    "        if self.method == 'median':\n",
    "            self.fit_values = X_.groupby(using_cols)[impute_cols].median().reset_index()\n",
    "            impute_cols_rename_dict = dict([(x,x+'_median') for x in self.impute_cols])\n",
    "            self.fit_values.rename(columns=impute_cols_rename_dict, inplace=True)\n",
    "            self.fit_values.fillna(self.fit_values.median(), inplace=True)\n",
    "        elif self.method == 'mean':\n",
    "            self.fit_values = X_.groupby(using_cols)[impute_cols].mean().reset_index()\n",
    "            impute_cols_rename_dict = dict([(x,x+'_mean') for x in self.impute_cols])\n",
    "            self.fit_values.rename(columns=impute_cols_rename_dict, inplace=True)\n",
    "            self.fit_values.fillna(self.fit_values.mean(), inplace=True)\n",
    "        else: print('Method can be \"median\" or \"mean\"')\n",
    "        self.new_cols = list(impute_cols_rename_dict.values())\n",
    "        return self\n",
    "    \n",
    "    def fit_transform(self, X, impute_cols, using_cols, method='median'):\n",
    "        self.fit(X, impute_cols, using_cols, method)\n",
    "        \n",
    "        cols = self.using_cols + self.impute_cols\n",
    "        X_ = X[cols]\n",
    "        X_ = X_.merge(self.fit_values, how='left', on=self.using_cols)\n",
    "        for col, ncol in zip(self.impute_cols, self.new_cols):\n",
    "            X_[col] = np.where(X_[col].isnull(), X_[ncol], X_[col])\n",
    "            \n",
    "        if self.method == 'median':\n",
    "            return X_[self.impute_cols].fillna(X_[self.impute_cols].median())\n",
    "        elif self.method == 'mean':\n",
    "            return X_[self.impute_cols].fillna(X_[self.impute_cols].mean())\n",
    "    \n",
    "    def transform(self, X, impute_cols):\n",
    "        cols = self.using_cols + self.impute_cols\n",
    "        X_ = X[cols]\n",
    "        X_ = X_.merge(self.fit_values, how='left', on=self.using_cols)\n",
    "        for col, ncol in zip(self.impute_cols,self.new_cols):\n",
    "            X_[col] = np.where(X_[col].isnull(), X_[ncol], X_[col])\n",
    "            \n",
    "        if self.method == 'median':\n",
    "            return X_[self.impute_cols].fillna(X_[self.impute_cols].median())\n",
    "        elif self.method == 'mean':\n",
    "            return X_[self.impute_cols].fillna(X_[self.impute_cols].mean())\n",
    "         "
   ]
  },
  {
   "cell_type": "code",
   "execution_count": 69,
   "metadata": {},
   "outputs": [],
   "source": [
    "custom_numeric_imputer = CustomNumericImputer()"
   ]
  },
  {
   "cell_type": "code",
   "execution_count": 70,
   "metadata": {},
   "outputs": [
    {
     "data": {
      "text/html": [
       "<div>\n",
       "<style scoped>\n",
       "    .dataframe tbody tr th:only-of-type {\n",
       "        vertical-align: middle;\n",
       "    }\n",
       "\n",
       "    .dataframe tbody tr th {\n",
       "        vertical-align: top;\n",
       "    }\n",
       "\n",
       "    .dataframe thead th {\n",
       "        text-align: right;\n",
       "    }\n",
       "</style>\n",
       "<table border=\"1\" class=\"dataframe\">\n",
       "  <thead>\n",
       "    <tr style=\"text-align: right;\">\n",
       "      <th></th>\n",
       "      <th>client_id</th>\n",
       "      <th>mapped_employment_status_code_label</th>\n",
       "    </tr>\n",
       "  </thead>\n",
       "  <tbody>\n",
       "    <tr>\n",
       "      <th>count</th>\n",
       "      <td>1.068032e+06</td>\n",
       "      <td>1.068032e+06</td>\n",
       "    </tr>\n",
       "    <tr>\n",
       "      <th>mean</th>\n",
       "      <td>6.541099e+03</td>\n",
       "      <td>5.063893e-02</td>\n",
       "    </tr>\n",
       "    <tr>\n",
       "      <th>std</th>\n",
       "      <td>6.193052e+03</td>\n",
       "      <td>2.192594e-01</td>\n",
       "    </tr>\n",
       "    <tr>\n",
       "      <th>min</th>\n",
       "      <td>9.500000e+01</td>\n",
       "      <td>0.000000e+00</td>\n",
       "    </tr>\n",
       "    <tr>\n",
       "      <th>25%</th>\n",
       "      <td>1.762000e+03</td>\n",
       "      <td>0.000000e+00</td>\n",
       "    </tr>\n",
       "    <tr>\n",
       "      <th>50%</th>\n",
       "      <td>4.508000e+03</td>\n",
       "      <td>0.000000e+00</td>\n",
       "    </tr>\n",
       "    <tr>\n",
       "      <th>75%</th>\n",
       "      <td>8.673000e+03</td>\n",
       "      <td>0.000000e+00</td>\n",
       "    </tr>\n",
       "    <tr>\n",
       "      <th>max</th>\n",
       "      <td>9.999500e+04</td>\n",
       "      <td>1.000000e+00</td>\n",
       "    </tr>\n",
       "  </tbody>\n",
       "</table>\n",
       "</div>"
      ],
      "text/plain": [
       "          client_id  mapped_employment_status_code_label\n",
       "count  1.068032e+06                         1.068032e+06\n",
       "mean   6.541099e+03                         5.063893e-02\n",
       "std    6.193052e+03                         2.192594e-01\n",
       "min    9.500000e+01                         0.000000e+00\n",
       "25%    1.762000e+03                         0.000000e+00\n",
       "50%    4.508000e+03                         0.000000e+00\n",
       "75%    8.673000e+03                         0.000000e+00\n",
       "max    9.999500e+04                         1.000000e+00"
      ]
     },
     "execution_count": 70,
     "metadata": {},
     "output_type": "execute_result"
    }
   ],
   "source": [
    "train_set[train_num_columns].describe()"
   ]
  },
  {
   "cell_type": "code",
   "execution_count": 71,
   "metadata": {},
   "outputs": [
    {
     "data": {
      "text/html": [
       "<div>\n",
       "<style scoped>\n",
       "    .dataframe tbody tr th:only-of-type {\n",
       "        vertical-align: middle;\n",
       "    }\n",
       "\n",
       "    .dataframe tbody tr th {\n",
       "        vertical-align: top;\n",
       "    }\n",
       "\n",
       "    .dataframe thead th {\n",
       "        text-align: right;\n",
       "    }\n",
       "</style>\n",
       "<table border=\"1\" class=\"dataframe\">\n",
       "  <thead>\n",
       "    <tr style=\"text-align: right;\">\n",
       "      <th></th>\n",
       "      <th>age</th>\n",
       "      <th>base_pay_regular_expectedannualsalary</th>\n",
       "    </tr>\n",
       "  </thead>\n",
       "  <tbody>\n",
       "    <tr>\n",
       "      <th>count</th>\n",
       "      <td>1.067228e+06</td>\n",
       "      <td>8.446420e+05</td>\n",
       "    </tr>\n",
       "    <tr>\n",
       "      <th>mean</th>\n",
       "      <td>4.292981e+01</td>\n",
       "      <td>6.670844e+04</td>\n",
       "    </tr>\n",
       "    <tr>\n",
       "      <th>std</th>\n",
       "      <td>1.455649e+01</td>\n",
       "      <td>4.609199e+05</td>\n",
       "    </tr>\n",
       "    <tr>\n",
       "      <th>min</th>\n",
       "      <td>1.700000e+01</td>\n",
       "      <td>0.000000e+00</td>\n",
       "    </tr>\n",
       "    <tr>\n",
       "      <th>25%</th>\n",
       "      <td>3.100000e+01</td>\n",
       "      <td>2.614560e+04</td>\n",
       "    </tr>\n",
       "    <tr>\n",
       "      <th>50%</th>\n",
       "      <td>4.200000e+01</td>\n",
       "      <td>4.567500e+04</td>\n",
       "    </tr>\n",
       "    <tr>\n",
       "      <th>75%</th>\n",
       "      <td>5.500000e+01</td>\n",
       "      <td>8.064160e+04</td>\n",
       "    </tr>\n",
       "    <tr>\n",
       "      <th>max</th>\n",
       "      <td>8.900000e+01</td>\n",
       "      <td>2.050000e+08</td>\n",
       "    </tr>\n",
       "  </tbody>\n",
       "</table>\n",
       "</div>"
      ],
      "text/plain": [
       "                age  base_pay_regular_expectedannualsalary\n",
       "count  1.067228e+06                           8.446420e+05\n",
       "mean   4.292981e+01                           6.670844e+04\n",
       "std    1.455649e+01                           4.609199e+05\n",
       "min    1.700000e+01                           0.000000e+00\n",
       "25%    3.100000e+01                           2.614560e+04\n",
       "50%    4.200000e+01                           4.567500e+04\n",
       "75%    5.500000e+01                           8.064160e+04\n",
       "max    8.900000e+01                           2.050000e+08"
      ]
     },
     "execution_count": 71,
     "metadata": {},
     "output_type": "execute_result"
    }
   ],
   "source": [
    "train_set[train_float_columns].describe()"
   ]
  },
  {
   "cell_type": "code",
   "execution_count": 72,
   "metadata": {},
   "outputs": [],
   "source": [
    "train_set[train_float_columns] = custom_numeric_imputer.fit_transform(X=train_set, impute_cols=train_float_columns.tolist(),\n",
    "                                                              using_cols=['mapped_employment_status_code'], method='median')"
   ]
  },
  {
   "cell_type": "code",
   "execution_count": 73,
   "metadata": {},
   "outputs": [
    {
     "data": {
      "text/html": [
       "<div>\n",
       "<style scoped>\n",
       "    .dataframe tbody tr th:only-of-type {\n",
       "        vertical-align: middle;\n",
       "    }\n",
       "\n",
       "    .dataframe tbody tr th {\n",
       "        vertical-align: top;\n",
       "    }\n",
       "\n",
       "    .dataframe thead th {\n",
       "        text-align: right;\n",
       "    }\n",
       "</style>\n",
       "<table border=\"1\" class=\"dataframe\">\n",
       "  <thead>\n",
       "    <tr style=\"text-align: right;\">\n",
       "      <th></th>\n",
       "      <th>mapped_employment_status_code</th>\n",
       "      <th>age_median</th>\n",
       "      <th>base_pay_regular_expectedannualsalary_median</th>\n",
       "    </tr>\n",
       "  </thead>\n",
       "  <tbody>\n",
       "    <tr>\n",
       "      <th>0</th>\n",
       "      <td>Active</td>\n",
       "      <td>41.0</td>\n",
       "      <td>48672.00</td>\n",
       "    </tr>\n",
       "    <tr>\n",
       "      <th>1</th>\n",
       "      <td>LOA - LTD</td>\n",
       "      <td>61.0</td>\n",
       "      <td>47777.60</td>\n",
       "    </tr>\n",
       "    <tr>\n",
       "      <th>2</th>\n",
       "      <td>LOA - Paid Leave</td>\n",
       "      <td>37.0</td>\n",
       "      <td>29120.00</td>\n",
       "    </tr>\n",
       "    <tr>\n",
       "      <th>3</th>\n",
       "      <td>LOA - STD</td>\n",
       "      <td>47.0</td>\n",
       "      <td>52936.00</td>\n",
       "    </tr>\n",
       "    <tr>\n",
       "      <th>4</th>\n",
       "      <td>LOA - Unpaid Leave</td>\n",
       "      <td>40.0</td>\n",
       "      <td>36910.95</td>\n",
       "    </tr>\n",
       "    <tr>\n",
       "      <th>5</th>\n",
       "      <td>LOA - Unpaid w/ Benefits</td>\n",
       "      <td>39.0</td>\n",
       "      <td>14586.00</td>\n",
       "    </tr>\n",
       "    <tr>\n",
       "      <th>6</th>\n",
       "      <td>LOA_FM</td>\n",
       "      <td>40.0</td>\n",
       "      <td>49836.80</td>\n",
       "    </tr>\n",
       "    <tr>\n",
       "      <th>7</th>\n",
       "      <td>LOA_MLTR</td>\n",
       "      <td>31.0</td>\n",
       "      <td>42660.80</td>\n",
       "    </tr>\n",
       "    <tr>\n",
       "      <th>8</th>\n",
       "      <td>LOA_WC</td>\n",
       "      <td>49.0</td>\n",
       "      <td>58635.20</td>\n",
       "    </tr>\n",
       "    <tr>\n",
       "      <th>9</th>\n",
       "      <td>Temporary</td>\n",
       "      <td>32.0</td>\n",
       "      <td>16526.58</td>\n",
       "    </tr>\n",
       "  </tbody>\n",
       "</table>\n",
       "</div>"
      ],
      "text/plain": [
       "  mapped_employment_status_code  age_median  \\\n",
       "0                        Active        41.0   \n",
       "1                     LOA - LTD        61.0   \n",
       "2              LOA - Paid Leave        37.0   \n",
       "3                     LOA - STD        47.0   \n",
       "4            LOA - Unpaid Leave        40.0   \n",
       "5      LOA - Unpaid w/ Benefits        39.0   \n",
       "6                        LOA_FM        40.0   \n",
       "7                      LOA_MLTR        31.0   \n",
       "8                        LOA_WC        49.0   \n",
       "9                     Temporary        32.0   \n",
       "\n",
       "   base_pay_regular_expectedannualsalary_median  \n",
       "0                                      48672.00  \n",
       "1                                      47777.60  \n",
       "2                                      29120.00  \n",
       "3                                      52936.00  \n",
       "4                                      36910.95  \n",
       "5                                      14586.00  \n",
       "6                                      49836.80  \n",
       "7                                      42660.80  \n",
       "8                                      58635.20  \n",
       "9                                      16526.58  "
      ]
     },
     "execution_count": 73,
     "metadata": {},
     "output_type": "execute_result"
    }
   ],
   "source": [
    "custom_numeric_imputer.fit_values"
   ]
  },
  {
   "cell_type": "code",
   "execution_count": 74,
   "metadata": {},
   "outputs": [],
   "source": [
    "# train_set.isna().sum()"
   ]
  },
  {
   "cell_type": "code",
   "execution_count": 75,
   "metadata": {},
   "outputs": [],
   "source": [
    "# creating bins on the column base_pay_regular_expectedannualsalary and converting it into a range\n",
    "bins = [-1, 19999, 39999, 59999, 79999, 99999, 174999,249999, 999999999999]\n",
    "labels = ['<20,000', '20,000 - 39,999', '40,000 - 59,999', '60,000 - 79,999', '80,000 - 99,999', '100,000-174999', '175000-249999', '>250000']\n",
    "train_set['base_pay_regular_expected_annual_salary_range'] = pd.cut(x=train_set['base_pay_regular_expectedannualsalary'], bins=bins, labels=labels)"
   ]
  },
  {
   "cell_type": "code",
   "execution_count": 76,
   "metadata": {},
   "outputs": [
    {
     "name": "stdout",
     "output_type": "stream",
     "text": [
      "<class 'pandas.core.frame.DataFrame'>\n",
      "Int64Index: 1068032 entries, 0 to 1068031\n",
      "Data columns (total 14 columns):\n",
      " #   Column                                         Non-Null Count    Dtype   \n",
      "---  ------                                         --------------    -----   \n",
      " 0   person_internal_id                             1068032 non-null  object  \n",
      " 1   client_id                                      1068032 non-null  int64   \n",
      " 2   age                                            1068032 non-null  float64 \n",
      " 3   gender                                         1068032 non-null  object  \n",
      " 4   marital_status                                 1068032 non-null  object  \n",
      " 5   is_union                                       1068032 non-null  object  \n",
      " 6   platform_indicator_code                        1068032 non-null  object  \n",
      " 7   mapped_employment_status_code                  1068032 non-null  object  \n",
      " 8   mapped_fullpart_code                           1068032 non-null  object  \n",
      " 9   mapped_hourly_salary_code                      1068032 non-null  object  \n",
      " 10  is_rehire                                      1068032 non-null  object  \n",
      " 11  base_pay_regular_expectedannualsalary          1068032 non-null  float64 \n",
      " 12  mapped_employment_status_code_label            1068032 non-null  int64   \n",
      " 13  base_pay_regular_expected_annual_salary_range  1068032 non-null  category\n",
      "dtypes: category(1), float64(2), int64(2), object(9)\n",
      "memory usage: 115.1+ MB\n"
     ]
    }
   ],
   "source": [
    "train_set.info()"
   ]
  },
  {
   "cell_type": "code",
   "execution_count": 77,
   "metadata": {},
   "outputs": [],
   "source": [
    "#Let's drop some columns which are not required\n",
    "col = ['base_pay_regular_expectedannualsalary','mapped_employment_status_code']\n",
    "train_set.drop(columns=col,axis=1,inplace=True)"
   ]
  },
  {
   "cell_type": "code",
   "execution_count": 78,
   "metadata": {},
   "outputs": [
    {
     "data": {
      "text/plain": [
       "(1068032, 12)"
      ]
     },
     "execution_count": 78,
     "metadata": {},
     "output_type": "execute_result"
    }
   ],
   "source": [
    "train_set.shape"
   ]
  },
  {
   "cell_type": "code",
   "execution_count": 79,
   "metadata": {},
   "outputs": [],
   "source": [
    "train_set['age'] =train_set['age'].astype('int')"
   ]
  },
  {
   "cell_type": "code",
   "execution_count": 80,
   "metadata": {},
   "outputs": [],
   "source": [
    "train_set['base_pay_regular_expected_annual_salary_range'] =train_set['base_pay_regular_expected_annual_salary_range'].astype('object')"
   ]
  },
  {
   "cell_type": "markdown",
   "metadata": {},
   "source": [
    "### Exporting pre-processed train data to S3"
   ]
  },
  {
   "cell_type": "code",
   "execution_count": 81,
   "metadata": {},
   "outputs": [
    {
     "name": "stdout",
     "output_type": "stream",
     "text": [
      "Uploading pre-processed data here -> s3://adl-core-sagemaker-studio/external/artichauhan/STD/Data\n"
     ]
    }
   ],
   "source": [
    "print(f'Uploading pre-processed data here -> s3://{bucket}/{data_path}')\n",
    "\n",
    "train_set.to_csv(f's3://{bucket}/{data_path}/train_data/transformed_train_data.csv', index=False)"
   ]
  },
  {
   "cell_type": "markdown",
   "metadata": {},
   "source": [
    "### Reading Test Data"
   ]
  },
  {
   "cell_type": "code",
   "execution_count": 82,
   "metadata": {},
   "outputs": [
    {
     "name": "stdout",
     "output_type": "stream",
     "text": [
      "Reading file: test_set.csv\n",
      "\tFile read successfully | Shape: (267008, 13)\n",
      "Data from all files loaded successfully | Final Shape: (267008, 13)\n"
     ]
    }
   ],
   "source": [
    "test_data_path = f'{data_path}/test_data'\n",
    "file_name = ['test_set.csv']\n",
    "test_set_s3 = load_data_from_s3(bucket,test_data_path,file_name)"
   ]
  },
  {
   "cell_type": "markdown",
   "metadata": {},
   "source": [
    "#### Preprocessing of the Test Set"
   ]
  },
  {
   "cell_type": "code",
   "execution_count": 83,
   "metadata": {},
   "outputs": [],
   "source": [
    "# seprating label column from the test set\n",
    "test_set = test_set_s3.drop(['mapped_employment_status_code_label'],axis=1)\n",
    "test_label = test_set_s3['mapped_employment_status_code_label']"
   ]
  },
  {
   "cell_type": "code",
   "execution_count": 84,
   "metadata": {},
   "outputs": [
    {
     "data": {
      "text/plain": [
       "Index(['person_internal_id', 'client_id', 'age', 'gender', 'marital_status',\n",
       "       'is_union', 'platform_indicator_code', 'mapped_employment_status_code',\n",
       "       'mapped_fullpart_code', 'mapped_hourly_salary_code', 'is_rehire',\n",
       "       'base_pay_regular_expectedannualsalary'],\n",
       "      dtype='object')"
      ]
     },
     "execution_count": 84,
     "metadata": {},
     "output_type": "execute_result"
    }
   ],
   "source": [
    "test_set.columns"
   ]
  },
  {
   "cell_type": "code",
   "execution_count": 85,
   "metadata": {},
   "outputs": [
    {
     "data": {
      "text/plain": [
       "(267008, 14)"
      ]
     },
     "execution_count": 85,
     "metadata": {},
     "output_type": "execute_result"
    }
   ],
   "source": [
    "test_set = test_set.merge(capping, how='left', on='mapped_employment_status_code')\n",
    "test_set.shape"
   ]
  },
  {
   "cell_type": "code",
   "execution_count": 86,
   "metadata": {},
   "outputs": [],
   "source": [
    "test_set.rename(columns={0.01:'lower_age_cap',0.99:'upper_age_cap'},inplace=True)"
   ]
  },
  {
   "cell_type": "code",
   "execution_count": 87,
   "metadata": {},
   "outputs": [],
   "source": [
    "test_set['age'] = np.where(test_set['age'] > test_set['upper_age_cap'], test_set['upper_age_cap'], test_set['age'])"
   ]
  },
  {
   "cell_type": "code",
   "execution_count": 88,
   "metadata": {},
   "outputs": [],
   "source": [
    "test_set['age'] = np.where(test_set['age'] < test_set['lower_age_cap'], test_set['lower_age_cap'], test_set['age'])"
   ]
  },
  {
   "cell_type": "code",
   "execution_count": 89,
   "metadata": {},
   "outputs": [],
   "source": [
    "col=['lower_age_cap','upper_age_cap']\n",
    "test_set.drop(columns=col,axis=1,inplace=True)"
   ]
  },
  {
   "cell_type": "code",
   "execution_count": 90,
   "metadata": {},
   "outputs": [],
   "source": [
    "test_cat_columns = test_set.select_dtypes(include=['object']).columns\n",
    "test_num_columns = test_set.select_dtypes(include=['int']).columns\n",
    "test_float_columns = test_set.select_dtypes(include=['float']).columns"
   ]
  },
  {
   "cell_type": "code",
   "execution_count": 91,
   "metadata": {},
   "outputs": [
    {
     "name": "stdout",
     "output_type": "stream",
     "text": [
      "Index(['person_internal_id', 'gender', 'marital_status', 'is_union',\n",
      "       'platform_indicator_code', 'mapped_employment_status_code',\n",
      "       'mapped_fullpart_code', 'mapped_hourly_salary_code', 'is_rehire'],\n",
      "      dtype='object')\n",
      "Index(['client_id'], dtype='object')\n",
      "Index(['age', 'base_pay_regular_expectedannualsalary'], dtype='object')\n"
     ]
    }
   ],
   "source": [
    "print(test_cat_columns)\n",
    "print(test_num_columns)\n",
    "print(test_float_columns)"
   ]
  },
  {
   "cell_type": "markdown",
   "metadata": {},
   "source": [
    "#### Numeric Imputer"
   ]
  },
  {
   "cell_type": "code",
   "execution_count": 92,
   "metadata": {},
   "outputs": [
    {
     "data": {
      "text/plain": [
       "(267008, 12)"
      ]
     },
     "execution_count": 92,
     "metadata": {},
     "output_type": "execute_result"
    }
   ],
   "source": [
    "test_set[test_float_columns] = custom_numeric_imputer.transform(X=test_set, impute_cols=test_float_columns)\n",
    "test_set.shape"
   ]
  },
  {
   "cell_type": "code",
   "execution_count": 93,
   "metadata": {},
   "outputs": [
    {
     "data": {
      "text/plain": [
       "age                                      0\n",
       "base_pay_regular_expectedannualsalary    0\n",
       "dtype: int64"
      ]
     },
     "execution_count": 93,
     "metadata": {},
     "output_type": "execute_result"
    }
   ],
   "source": [
    "test_set[test_float_columns].isna().sum()"
   ]
  },
  {
   "cell_type": "code",
   "execution_count": 94,
   "metadata": {},
   "outputs": [],
   "source": [
    "# creating bins on the column base_pay_regular_expectedannualsalary and converting it into a range\n",
    "bins = [-1, 19999, 39999, 59999, 79999, 99999, 174999,249999, 999999999999]\n",
    "labels = ['<20,000', '20,000 - 39,999', '40,000 - 59,999', '60,000 - 79,999', '80,000 - 99,999', '100,000-174999', '175000-249999', '>250000']\n",
    "test_set['base_pay_regular_expected_annual_salary_range'] = pd.cut(x=test_set['base_pay_regular_expectedannualsalary'], bins=bins, labels=labels)"
   ]
  },
  {
   "cell_type": "code",
   "execution_count": 95,
   "metadata": {},
   "outputs": [],
   "source": [
    "test_set['age'] = test_set['age'].astype(int)"
   ]
  },
  {
   "cell_type": "code",
   "execution_count": 96,
   "metadata": {},
   "outputs": [],
   "source": [
    "test_set['base_pay_regular_expected_annual_salary_range'] = test_set['base_pay_regular_expected_annual_salary_range'].astype('object')"
   ]
  },
  {
   "cell_type": "code",
   "execution_count": 97,
   "metadata": {},
   "outputs": [
    {
     "data": {
      "text/plain": [
       "(267008, 13)"
      ]
     },
     "execution_count": 97,
     "metadata": {},
     "output_type": "execute_result"
    }
   ],
   "source": [
    "test_set.shape"
   ]
  },
  {
   "cell_type": "code",
   "execution_count": 98,
   "metadata": {},
   "outputs": [
    {
     "data": {
      "text/plain": [
       "person_internal_id                               0\n",
       "client_id                                        0\n",
       "age                                              0\n",
       "gender                                           0\n",
       "marital_status                                   0\n",
       "is_union                                         0\n",
       "platform_indicator_code                          0\n",
       "mapped_employment_status_code                    0\n",
       "mapped_fullpart_code                             0\n",
       "mapped_hourly_salary_code                        0\n",
       "is_rehire                                        0\n",
       "base_pay_regular_expectedannualsalary            0\n",
       "base_pay_regular_expected_annual_salary_range    0\n",
       "dtype: int64"
      ]
     },
     "execution_count": 98,
     "metadata": {},
     "output_type": "execute_result"
    }
   ],
   "source": [
    "test_set.isna().sum()"
   ]
  },
  {
   "cell_type": "code",
   "execution_count": 99,
   "metadata": {},
   "outputs": [],
   "source": [
    "col = ['base_pay_regular_expectedannualsalary','mapped_employment_status_code']\n",
    "test_set=test_set.drop(columns=col,axis=1)"
   ]
  },
  {
   "cell_type": "code",
   "execution_count": 100,
   "metadata": {},
   "outputs": [
    {
     "data": {
      "text/plain": [
       "(267008, 11)"
      ]
     },
     "execution_count": 100,
     "metadata": {},
     "output_type": "execute_result"
    }
   ],
   "source": [
    "test_set.shape"
   ]
  },
  {
   "cell_type": "markdown",
   "metadata": {},
   "source": [
    "### Exporting transformed test data to S3"
   ]
  },
  {
   "cell_type": "code",
   "execution_count": 101,
   "metadata": {},
   "outputs": [
    {
     "name": "stdout",
     "output_type": "stream",
     "text": [
      "Uploading pre-processed data here -> s3://adl-core-sagemaker-studio/external/artichauhan/STD/Data/test_data\n"
     ]
    }
   ],
   "source": [
    "print(f'Uploading pre-processed data here -> s3://{bucket}/{data_path}/test_data')\n",
    "test_set.to_csv(f's3://{bucket}/{data_path}/test_data/transformed_test_data.csv', index=False)"
   ]
  }
 ],
 "metadata": {
  "instance_type": "ml.t3.medium",
  "kernelspec": {
   "display_name": "Python 3 (Data Science)",
   "language": "python",
   "name": "python3__SAGEMAKER_INTERNAL__arn:aws:sagemaker:us-east-1:081325390199:image/datascience-1.0"
  },
  "language_info": {
   "codemirror_mode": {
    "name": "ipython",
    "version": 3
   },
   "file_extension": ".py",
   "mimetype": "text/x-python",
   "name": "python",
   "nbconvert_exporter": "python",
   "pygments_lexer": "ipython3",
   "version": "3.7.10"
  }
 },
 "nbformat": 4,
 "nbformat_minor": 4
}
